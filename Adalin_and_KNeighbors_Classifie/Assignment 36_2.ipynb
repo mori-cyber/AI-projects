{
 "cells": [
  {
   "cell_type": "code",
   "execution_count": 129,
   "id": "50a8a2e6",
   "metadata": {},
   "outputs": [],
   "source": [
    "import numpy as np\n",
    "import pandas as pd\n",
    "import matplotlib.pyplot as plt\n",
    "from sklearn.datasets import load_iris\n",
    "from numpy.linalg import inv\n",
    "from mlxtend.classifier import Adaline\n",
    "from sklearn.model_selection import train_test_split\n",
    "from sklearn.metrics import mean_squared_error"
   ]
  },
  {
   "cell_type": "code",
   "execution_count": 130,
   "id": "c081f19f-46bc-4cb3-b20e-3d306728c6db",
   "metadata": {},
   "outputs": [],
   "source": [
    "iris =load_iris()"
   ]
  },
  {
   "cell_type": "code",
   "execution_count": 131,
   "id": "349971a1-568c-4e5c-a09f-d508d3c883fc",
   "metadata": {},
   "outputs": [],
   "source": [
    "X=iris.data\n",
    "Y=iris.target"
   ]
  },
  {
   "cell_type": "code",
   "execution_count": 148,
   "id": "36d021d0-60bc-4de8-9d91-f5cc7b4940f1",
   "metadata": {},
   "outputs": [],
   "source": [
    "class Adaline:\n",
    "    def __init__(self):\n",
    "        pass\n",
    "    \n",
    "    def fit(self, X_train, Y_train):\n",
    "        self.m = np.matmul(inv(np.matmul(X_train.T, X_train)), np.matmul(X_train.T, Y_train))\n",
    "        \n",
    "    def predict(self, X_test):\n",
    "        Y_pred = np.matmul(X_test, self.m)\n",
    "        return Y_pred\n",
    "    \n",
    "    def evaluate_adaline(self,X_test,Y_test):\n",
    "        Y_pred = np.matmul(X_test,self.m)\n",
    "        MAE = np.abs(Y_test-Y_pred).mean()\n",
    "        return MAE"
   ]
  },
  {
   "cell_type": "code",
   "execution_count": 149,
   "id": "4914f696-d819-43f8-b874-8579af157f0b",
   "metadata": {},
   "outputs": [],
   "source": [
    "model = Adaline()\n",
    "X_train, X_test, Y_train, Y_test = train_test_split(X,Y, test_size=0.3,random_state=4)\n",
    "model.fit(X_train, Y_train)\n",
    "y_pred = model.predict(X_test)\n",
    "dim = model.m"
   ]
  },
  {
   "cell_type": "code",
   "execution_count": 150,
   "id": "409b7d9e-aa7e-415c-85e7-19dc67a9e78f",
   "metadata": {},
   "outputs": [],
   "source": [
    "class KNeighborsClassifier:\n",
    "    def __init__(self, k):\n",
    "        self.k = k\n",
    "        \n",
    "    def fit(self, X_train, Y_train):\n",
    "        self.X_train = X_train\n",
    "        self.Y_train = Y_train\n",
    "        self.number_class = len(np.unique(Y_train))\n",
    "        \n",
    "    def nearestNeighbors(self, X_test):\n",
    "        distance = np.sqrt(np.sum((X_test - self.X_train)**2, axis = 1))\n",
    "        near_neighbor = np.argsort(distance)[0:self.k]\n",
    "        return near_neighbor\n",
    "    \n",
    "    def predict(self, X_test):\n",
    "        near_neighbor = self.nearestNeighbors(X_test)\n",
    "        y = np.argmax(np.bincount(self.Y_train[near_neighbor]))\n",
    "        return y\n",
    "    \n",
    "    def evaluate_knn(self, X_test, Y_test):\n",
    "        self.X_test = X_test\n",
    "        self.Y_test = Y_test\n",
    "        Y_predic=np.zeros(len(self.X_test))\n",
    "        for i, test in enumerate(self.X_test):\n",
    "            Y_predic[i] = self.predict(test)\n",
    "        MAE = np.absolute(np.subtract(Y_test, Y_predic)).mean()\n",
    "        return MAE\n",
    "      "
   ]
  },
  {
   "cell_type": "code",
   "execution_count": 151,
   "id": "6aaf094a-953b-4070-9ffd-2598c783257e",
   "metadata": {},
   "outputs": [
    {
     "name": "stdout",
     "output_type": "stream",
     "text": [
      "adaline loss is: 0.14789624054469336\n"
     ]
    }
   ],
   "source": [
    "adaline_loss = model.evaluate_adaline(X_test,Y_test)\n",
    "print('adaline loss is:',adaline_loss)"
   ]
  },
  {
   "cell_type": "code",
   "execution_count": 152,
   "id": "41a2e30d-364e-4587-ab2d-a55032abffa8",
   "metadata": {},
   "outputs": [
    {
     "name": "stdout",
     "output_type": "stream",
     "text": [
      "knn loss is: 0.022222222222222223\n"
     ]
    }
   ],
   "source": [
    "knn = KNeighborsClassifier(k=8)\n",
    "knn.fit(X_train,Y_train)\n",
    "knn_loss = knn.evaluate_knn(X_test,Y_test)\n",
    "print('knn loss is:',knn_loss)"
   ]
  },
  {
   "cell_type": "code",
   "execution_count": null,
   "id": "a9e01e2a-daaf-42b9-9839-0c239b5b463a",
   "metadata": {},
   "outputs": [],
   "source": []
  },
  {
   "cell_type": "code",
   "execution_count": null,
   "id": "8617b73c-1b64-4f67-a634-72b71c4bbafc",
   "metadata": {},
   "outputs": [],
   "source": []
  },
  {
   "cell_type": "code",
   "execution_count": null,
   "id": "2e6792b7-521b-42c8-ba3d-85f36cde7ddb",
   "metadata": {},
   "outputs": [],
   "source": []
  }
 ],
 "metadata": {
  "kernelspec": {
   "display_name": "Python 3",
   "language": "python",
   "name": "python3"
  },
  "language_info": {
   "codemirror_mode": {
    "name": "ipython",
    "version": 3
   },
   "file_extension": ".py",
   "mimetype": "text/x-python",
   "name": "python",
   "nbconvert_exporter": "python",
   "pygments_lexer": "ipython3",
   "version": "3.6.9"
  }
 },
 "nbformat": 4,
 "nbformat_minor": 5
}
