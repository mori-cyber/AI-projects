{
  "nbformat": 4,
  "nbformat_minor": 0,
  "metadata": {
    "colab": {
      "name": "HousingPrice.ipynb",
      "provenance": [],
      "collapsed_sections": []
    },
    "kernelspec": {
      "display_name": "Python 3",
      "name": "python3"
    },
    "language_info": {
      "name": "python"
    }
  },
  "cells": [
    {
      "cell_type": "code",
      "metadata": {
        "id": "EVPDl6WN5Pw-"
      },
      "source": [
        "!pip install -q kaggle"
      ],
      "execution_count": 550,
      "outputs": []
    },
    {
      "cell_type": "code",
      "metadata": {
        "colab": {
          "resources": {
            "http://localhost:8080/nbextensions/google.colab/files.js": {
              "data": "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",
              "ok": true,
              "headers": [
                [
                  "content-type",
                  "application/javascript"
                ]
              ],
              "status": 200,
              "status_text": ""
            }
          },
          "base_uri": "https://localhost:8080/",
          "height": 89
        },
        "id": "R91mTGOO5qoM",
        "outputId": "80630652-1705-40ab-f940-3179f068e92f"
      },
      "source": [
        "from google.colab import files\n",
        "files.upload()"
      ],
      "execution_count": 551,
      "outputs": [
        {
          "output_type": "display_data",
          "data": {
            "text/html": [
              "\n",
              "     <input type=\"file\" id=\"files-5a677a63-5087-4363-8850-c64e54b07873\" name=\"files[]\" multiple disabled\n",
              "        style=\"border:none\" />\n",
              "     <output id=\"result-5a677a63-5087-4363-8850-c64e54b07873\">\n",
              "      Upload widget is only available when the cell has been executed in the\n",
              "      current browser session. Please rerun this cell to enable.\n",
              "      </output>\n",
              "      <script src=\"/nbextensions/google.colab/files.js\"></script> "
            ],
            "text/plain": [
              "<IPython.core.display.HTML object>"
            ]
          },
          "metadata": {}
        },
        {
          "output_type": "stream",
          "name": "stdout",
          "text": [
            "Saving kaggle.json to kaggle (5).json\n"
          ]
        },
        {
          "output_type": "execute_result",
          "data": {
            "text/plain": [
              "{'kaggle.json': b'{\"username\":\"taban123456\",\"key\":\"0e301cbc4b47db5ed837878cdfc1c469\"}'}"
            ]
          },
          "metadata": {},
          "execution_count": 551
        }
      ]
    },
    {
      "cell_type": "code",
      "metadata": {
        "id": "hzMXd2ym5urF"
      },
      "source": [
        "!mkdir -p ~/.kaggle"
      ],
      "execution_count": 552,
      "outputs": []
    },
    {
      "cell_type": "code",
      "metadata": {
        "id": "X3aTPXkC5w-R"
      },
      "source": [
        "!cp kaggle.json ~/.kaggle/"
      ],
      "execution_count": 553,
      "outputs": []
    },
    {
      "cell_type": "code",
      "metadata": {
        "id": "-3iji_9RX5N0"
      },
      "source": [
        "!chmod 600 ~/.kaggle/kaggle.json"
      ],
      "execution_count": 554,
      "outputs": []
    },
    {
      "cell_type": "code",
      "metadata": {
        "colab": {
          "base_uri": "https://localhost:8080/"
        },
        "id": "dlzLim775zGr",
        "outputId": "455d2ffa-2df7-4e42-fcaa-dc590d386387"
      },
      "source": [
        "!kaggle competitions download -c house-prices-advanced-regression-techniques"
      ],
      "execution_count": 555,
      "outputs": [
        {
          "output_type": "stream",
          "name": "stdout",
          "text": [
            "Warning: Looks like you're using an outdated API Version, please consider updating (server 1.5.12 / client 1.5.4)\n",
            "data_description.txt: Skipping, found more recently modified local copy (use --force to force download)\n",
            "train.csv: Skipping, found more recently modified local copy (use --force to force download)\n",
            "sample_submission.csv: Skipping, found more recently modified local copy (use --force to force download)\n",
            "test.csv: Skipping, found more recently modified local copy (use --force to force download)\n"
          ]
        }
      ]
    },
    {
      "cell_type": "code",
      "metadata": {
        "id": "ww2QTJtG57HL"
      },
      "source": [
        "# !unzip house-prices-advanced-regression-techniques.zip"
      ],
      "execution_count": 556,
      "outputs": []
    },
    {
      "cell_type": "code",
      "metadata": {
        "colab": {
          "base_uri": "https://localhost:8080/"
        },
        "id": "tMy0lIY4gD5J",
        "outputId": "70bd8ef1-16c2-4a5f-ee55-61e1cd0284e4"
      },
      "source": [
        "!kaggle competitions submit -c house-prices-advanced-regression-techniques -f submission.csv -m \"Message\""
      ],
      "execution_count": 557,
      "outputs": [
        {
          "output_type": "stream",
          "name": "stdout",
          "text": [
            "Traceback (most recent call last):\n",
            "  File \"/usr/local/bin/kaggle\", line 8, in <module>\n",
            "    sys.exit(main())\n",
            "  File \"/usr/local/lib/python2.7/dist-packages/kaggle/cli.py\", line 51, in main\n",
            "    out = args.func(**command_args)\n",
            "  File \"/usr/local/lib/python2.7/dist-packages/kaggle/api/kaggle_api_extended.py\", line 544, in competition_submit_cli\n",
            "    competition, quiet)\n",
            "  File \"/usr/local/lib/python2.7/dist-packages/kaggle/api/kaggle_api_extended.py\", line 495, in competition_submit\n",
            "    content_length=os.path.getsize(file_name),\n",
            "  File \"/usr/lib/python2.7/genericpath.py\", line 57, in getsize\n",
            "    return os.stat(filename).st_size\n",
            "OSError: [Errno 2] No such file or directory: 'submission.csv'\n"
          ]
        }
      ]
    },
    {
      "cell_type": "code",
      "metadata": {
        "id": "TK91PNAQc51i"
      },
      "source": [
        "import numpy as np\n",
        "import pandas as pd\n",
        "import matplotlib.pyplot as plt\n",
        "import tensorflow\n",
        "from tensorflow.keras import models,layers,optimizers"
      ],
      "execution_count": 558,
      "outputs": []
    },
    {
      "cell_type": "markdown",
      "metadata": {
        "id": "jWM3OjD34oqM"
      },
      "source": [
        "SalePrice - قیمت فروش ملک به دلار. این متغیر هدف است که می خواهید پیش بینی کنید.\n",
        "MSSubClass: کلاس ساختمان\n",
        "MSZoning: طبقه بندی منطقه بندی عمومی\n",
        "LotFrontage: پای خطی خیابان متصل به ملک\n",
        "LotArea: اندازه قطعه در فوت مربع\n",
        "خیابان: نوع دسترسی به جاده\n",
        "کوچه: نوع دسترسی کوچه\n",
        "LotShape: شکل کلی ویژگی\n",
        "LandContour: مسطح بودن ملک\n",
        "آب و برق: نوع ابزارهای موجود\n",
        "LotConfig: پیکربندی لات\n",
        "LandSlope: شیب ملک\n",
        "محله: مکان های فیزیکی در محدوده شهر ایمز\n",
        "شرایط 1: نزدیکی به جاده اصلی یا راه آهن\n",
        "شرایط 2: نزدیکی به جاده اصلی یا راه آهن (در صورت وجود راه دوم)\n",
        "BldgType: نوع مسکن\n",
        "HouseStyle: سبک زندگی\n",
        "OverallQual: مواد کلی و کیفیت نهایی\n",
        "OverallCond: رتبه کلی وضعیت\n",
        "YearBuilt: تاریخ ساخت اصلی\n",
        "YearRemodAdd: تاریخ بازسازی\n",
        "RoofStyle: نوع سقف\n",
        "RoofMatl: مواد سقف\n",
        "External1st: پوشش بیرونی روی خانه\n",
        "Exterior2nd: پوشش بیرونی روی خانه (اگر بیش از یک ماده باشد)\n",
        "MasVnrType: نوع روکش بنایی\n",
        "MasVnrArea: ناحیه روکش بنایی در فوت مربع\n",
        "ExterQual: کیفیت مواد خارجی\n",
        "ExterCond: وضعیت فعلی مواد در نمای بیرونی\n",
        "فونداسیون: نوع فونداسیون\n",
        "BsmtQual: ارتفاع زیرزمین\n",
        "BsmtCond: وضعیت عمومی زیرزمین\n",
        "BsmtExposure: دیوارهای زیرزمین پیاده روی یا سطح باغ\n",
        "BsmtFinType1: کیفیت سطح زیرزمین تمام شده\n",
        "BsmtFinSF1: نوع 1 متر مربع تمام شده\n",
        "BsmtFinType2: کیفیت ناحیه تمام شده دوم (در صورت وجود)\n",
        "BsmtFinSF2: نوع 2 فوت مربع تمام شده\n",
        "BsmtUnfSF: فوت مربع ناتمام از زیرزمین\n",
        "TotalBsmtSF: کل فوت مربع مساحت زیرزمین\n",
        "گرمایش: نوع گرمایش\n",
        "Heating QC: کیفیت و وضعیت گرمایش\n",
        "CentralAir: تهویه مطبوع مرکزی\n",
        "برق: سیستم برق\n",
        "1stFlrSF: طبقه اول فوت مربع\n",
        "2ndFlrSF: طبقه دوم فوت مربع\n",
        "LowQualFinSF: پای مربع با کیفیت پایین (تمام طبقات)\n",
        "GrLivArea: مساحت بالای سطح (زمین) مساحت مربع\n",
        "BsmtFullBath: حمام کامل زیرزمین\n",
        "BsmtHalfBath: نیم حمام زیرزمین\n",
        "FullBath: حمام کامل بالاتر از درجه\n",
        "HalfBath: نصف حمام بالاتر از درجه\n",
        "اتاق خواب: تعداد اتاق خوابهای بالاتر از سطح زیرزمین\n",
        "آشپزخانه: تعداد آشپزخانه\n",
        "KitchenQual: کیفیت آشپزخانه\n",
        "TotRmsAbvGrd: مجموع اتاقهای بالاتر از درجه (حمام را شامل نمی شود)\n",
        "عملکردی: رتبه عملکرد خانه\n",
        "شومینه: تعداد شومینه\n",
        "FireplaceQu: کیفیت شومینه\n",
        "GarageType: محل گاراژ\n",
        "GarageYrBlt: گاراژ سالی ساخته شد\n",
        "GarageFinish: اتمام داخلی گاراژ\n",
        "GarageCars: اندازه گاراژ در ظرفیت ماشین\n",
        "GarageArea: اندازه گاراژ در فوت مربع\n",
        "GarageQual: کیفیت گاراژ\n",
        "GarageCond: شرایط گاراژ\n",
        "PavedDrive: مسیر پیاده رو شده\n",
        "WoodDeckSF: مساحت عرشه چوبی در فوت مربع\n",
        "OpenPorchSF: ناحیه ایوان را به فوت مربع باز کنید\n",
        "EnclosedPorch: محوطه ایوان محصور در فوت مربع\n",
        "3SsnPorch: منطقه ایوان سه فصل در فوت مربع\n",
        "ScreenPorch: منطقه ایوان صفحه نمایش در فوت مربع\n",
        "PoolArea: منطقه استخر در فوت مربع\n",
        "PoolQC: کیفیت استخر\n",
        "حصار: کیفیت حصار\n",
        "ویژگی متفرقه: ویژگی های متفاوتی که در دسته های دیگر پوشش داده نمی شوند\n",
        "MiscVal: $ ارزش ویژگی های مختلف\n",
        "MoSold: ماه فروخته شد\n",
        "YrSold: سال فروخته شد\n",
        "SaleType: نوع فروش\n",
        "وضعیت: شرایط فروش"
      ]
    },
    {
      "cell_type": "code",
      "metadata": {
        "id": "72QxdvnEdCgr"
      },
      "source": [
        "train_data  = pd.read_csv('/content/train.csv')"
      ],
      "execution_count": 559,
      "outputs": []
    },
    {
      "cell_type": "code",
      "metadata": {
        "id": "co63mah1dNpk"
      },
      "source": [
        "test_data = pd.read_csv('/content/test.csv')"
      ],
      "execution_count": 560,
      "outputs": []
    },
    {
      "cell_type": "code",
      "metadata": {
        "colab": {
          "base_uri": "https://localhost:8080/",
          "height": 253
        },
        "id": "f5MuBH5ZdWJ6",
        "outputId": "81255182-41f5-49e3-ee78-29d03c672c75"
      },
      "source": [
        "train_data.head()"
      ],
      "execution_count": 561,
      "outputs": [
        {
          "output_type": "execute_result",
          "data": {
            "text/html": [
              "<div>\n",
              "<style scoped>\n",
              "    .dataframe tbody tr th:only-of-type {\n",
              "        vertical-align: middle;\n",
              "    }\n",
              "\n",
              "    .dataframe tbody tr th {\n",
              "        vertical-align: top;\n",
              "    }\n",
              "\n",
              "    .dataframe thead th {\n",
              "        text-align: right;\n",
              "    }\n",
              "</style>\n",
              "<table border=\"1\" class=\"dataframe\">\n",
              "  <thead>\n",
              "    <tr style=\"text-align: right;\">\n",
              "      <th></th>\n",
              "      <th>Id</th>\n",
              "      <th>MSSubClass</th>\n",
              "      <th>MSZoning</th>\n",
              "      <th>LotFrontage</th>\n",
              "      <th>LotArea</th>\n",
              "      <th>Street</th>\n",
              "      <th>Alley</th>\n",
              "      <th>LotShape</th>\n",
              "      <th>LandContour</th>\n",
              "      <th>Utilities</th>\n",
              "      <th>LotConfig</th>\n",
              "      <th>LandSlope</th>\n",
              "      <th>Neighborhood</th>\n",
              "      <th>Condition1</th>\n",
              "      <th>Condition2</th>\n",
              "      <th>BldgType</th>\n",
              "      <th>HouseStyle</th>\n",
              "      <th>OverallQual</th>\n",
              "      <th>OverallCond</th>\n",
              "      <th>YearBuilt</th>\n",
              "      <th>YearRemodAdd</th>\n",
              "      <th>RoofStyle</th>\n",
              "      <th>RoofMatl</th>\n",
              "      <th>Exterior1st</th>\n",
              "      <th>Exterior2nd</th>\n",
              "      <th>MasVnrType</th>\n",
              "      <th>MasVnrArea</th>\n",
              "      <th>ExterQual</th>\n",
              "      <th>ExterCond</th>\n",
              "      <th>Foundation</th>\n",
              "      <th>BsmtQual</th>\n",
              "      <th>BsmtCond</th>\n",
              "      <th>BsmtExposure</th>\n",
              "      <th>BsmtFinType1</th>\n",
              "      <th>BsmtFinSF1</th>\n",
              "      <th>BsmtFinType2</th>\n",
              "      <th>BsmtFinSF2</th>\n",
              "      <th>BsmtUnfSF</th>\n",
              "      <th>TotalBsmtSF</th>\n",
              "      <th>Heating</th>\n",
              "      <th>...</th>\n",
              "      <th>CentralAir</th>\n",
              "      <th>Electrical</th>\n",
              "      <th>1stFlrSF</th>\n",
              "      <th>2ndFlrSF</th>\n",
              "      <th>LowQualFinSF</th>\n",
              "      <th>GrLivArea</th>\n",
              "      <th>BsmtFullBath</th>\n",
              "      <th>BsmtHalfBath</th>\n",
              "      <th>FullBath</th>\n",
              "      <th>HalfBath</th>\n",
              "      <th>BedroomAbvGr</th>\n",
              "      <th>KitchenAbvGr</th>\n",
              "      <th>KitchenQual</th>\n",
              "      <th>TotRmsAbvGrd</th>\n",
              "      <th>Functional</th>\n",
              "      <th>Fireplaces</th>\n",
              "      <th>FireplaceQu</th>\n",
              "      <th>GarageType</th>\n",
              "      <th>GarageYrBlt</th>\n",
              "      <th>GarageFinish</th>\n",
              "      <th>GarageCars</th>\n",
              "      <th>GarageArea</th>\n",
              "      <th>GarageQual</th>\n",
              "      <th>GarageCond</th>\n",
              "      <th>PavedDrive</th>\n",
              "      <th>WoodDeckSF</th>\n",
              "      <th>OpenPorchSF</th>\n",
              "      <th>EnclosedPorch</th>\n",
              "      <th>3SsnPorch</th>\n",
              "      <th>ScreenPorch</th>\n",
              "      <th>PoolArea</th>\n",
              "      <th>PoolQC</th>\n",
              "      <th>Fence</th>\n",
              "      <th>MiscFeature</th>\n",
              "      <th>MiscVal</th>\n",
              "      <th>MoSold</th>\n",
              "      <th>YrSold</th>\n",
              "      <th>SaleType</th>\n",
              "      <th>SaleCondition</th>\n",
              "      <th>SalePrice</th>\n",
              "    </tr>\n",
              "  </thead>\n",
              "  <tbody>\n",
              "    <tr>\n",
              "      <th>0</th>\n",
              "      <td>1</td>\n",
              "      <td>60</td>\n",
              "      <td>RL</td>\n",
              "      <td>65.0</td>\n",
              "      <td>8450</td>\n",
              "      <td>Pave</td>\n",
              "      <td>NaN</td>\n",
              "      <td>Reg</td>\n",
              "      <td>Lvl</td>\n",
              "      <td>AllPub</td>\n",
              "      <td>Inside</td>\n",
              "      <td>Gtl</td>\n",
              "      <td>CollgCr</td>\n",
              "      <td>Norm</td>\n",
              "      <td>Norm</td>\n",
              "      <td>1Fam</td>\n",
              "      <td>2Story</td>\n",
              "      <td>7</td>\n",
              "      <td>5</td>\n",
              "      <td>2003</td>\n",
              "      <td>2003</td>\n",
              "      <td>Gable</td>\n",
              "      <td>CompShg</td>\n",
              "      <td>VinylSd</td>\n",
              "      <td>VinylSd</td>\n",
              "      <td>BrkFace</td>\n",
              "      <td>196.0</td>\n",
              "      <td>Gd</td>\n",
              "      <td>TA</td>\n",
              "      <td>PConc</td>\n",
              "      <td>Gd</td>\n",
              "      <td>TA</td>\n",
              "      <td>No</td>\n",
              "      <td>GLQ</td>\n",
              "      <td>706</td>\n",
              "      <td>Unf</td>\n",
              "      <td>0</td>\n",
              "      <td>150</td>\n",
              "      <td>856</td>\n",
              "      <td>GasA</td>\n",
              "      <td>...</td>\n",
              "      <td>Y</td>\n",
              "      <td>SBrkr</td>\n",
              "      <td>856</td>\n",
              "      <td>854</td>\n",
              "      <td>0</td>\n",
              "      <td>1710</td>\n",
              "      <td>1</td>\n",
              "      <td>0</td>\n",
              "      <td>2</td>\n",
              "      <td>1</td>\n",
              "      <td>3</td>\n",
              "      <td>1</td>\n",
              "      <td>Gd</td>\n",
              "      <td>8</td>\n",
              "      <td>Typ</td>\n",
              "      <td>0</td>\n",
              "      <td>NaN</td>\n",
              "      <td>Attchd</td>\n",
              "      <td>2003.0</td>\n",
              "      <td>RFn</td>\n",
              "      <td>2</td>\n",
              "      <td>548</td>\n",
              "      <td>TA</td>\n",
              "      <td>TA</td>\n",
              "      <td>Y</td>\n",
              "      <td>0</td>\n",
              "      <td>61</td>\n",
              "      <td>0</td>\n",
              "      <td>0</td>\n",
              "      <td>0</td>\n",
              "      <td>0</td>\n",
              "      <td>NaN</td>\n",
              "      <td>NaN</td>\n",
              "      <td>NaN</td>\n",
              "      <td>0</td>\n",
              "      <td>2</td>\n",
              "      <td>2008</td>\n",
              "      <td>WD</td>\n",
              "      <td>Normal</td>\n",
              "      <td>208500</td>\n",
              "    </tr>\n",
              "    <tr>\n",
              "      <th>1</th>\n",
              "      <td>2</td>\n",
              "      <td>20</td>\n",
              "      <td>RL</td>\n",
              "      <td>80.0</td>\n",
              "      <td>9600</td>\n",
              "      <td>Pave</td>\n",
              "      <td>NaN</td>\n",
              "      <td>Reg</td>\n",
              "      <td>Lvl</td>\n",
              "      <td>AllPub</td>\n",
              "      <td>FR2</td>\n",
              "      <td>Gtl</td>\n",
              "      <td>Veenker</td>\n",
              "      <td>Feedr</td>\n",
              "      <td>Norm</td>\n",
              "      <td>1Fam</td>\n",
              "      <td>1Story</td>\n",
              "      <td>6</td>\n",
              "      <td>8</td>\n",
              "      <td>1976</td>\n",
              "      <td>1976</td>\n",
              "      <td>Gable</td>\n",
              "      <td>CompShg</td>\n",
              "      <td>MetalSd</td>\n",
              "      <td>MetalSd</td>\n",
              "      <td>None</td>\n",
              "      <td>0.0</td>\n",
              "      <td>TA</td>\n",
              "      <td>TA</td>\n",
              "      <td>CBlock</td>\n",
              "      <td>Gd</td>\n",
              "      <td>TA</td>\n",
              "      <td>Gd</td>\n",
              "      <td>ALQ</td>\n",
              "      <td>978</td>\n",
              "      <td>Unf</td>\n",
              "      <td>0</td>\n",
              "      <td>284</td>\n",
              "      <td>1262</td>\n",
              "      <td>GasA</td>\n",
              "      <td>...</td>\n",
              "      <td>Y</td>\n",
              "      <td>SBrkr</td>\n",
              "      <td>1262</td>\n",
              "      <td>0</td>\n",
              "      <td>0</td>\n",
              "      <td>1262</td>\n",
              "      <td>0</td>\n",
              "      <td>1</td>\n",
              "      <td>2</td>\n",
              "      <td>0</td>\n",
              "      <td>3</td>\n",
              "      <td>1</td>\n",
              "      <td>TA</td>\n",
              "      <td>6</td>\n",
              "      <td>Typ</td>\n",
              "      <td>1</td>\n",
              "      <td>TA</td>\n",
              "      <td>Attchd</td>\n",
              "      <td>1976.0</td>\n",
              "      <td>RFn</td>\n",
              "      <td>2</td>\n",
              "      <td>460</td>\n",
              "      <td>TA</td>\n",
              "      <td>TA</td>\n",
              "      <td>Y</td>\n",
              "      <td>298</td>\n",
              "      <td>0</td>\n",
              "      <td>0</td>\n",
              "      <td>0</td>\n",
              "      <td>0</td>\n",
              "      <td>0</td>\n",
              "      <td>NaN</td>\n",
              "      <td>NaN</td>\n",
              "      <td>NaN</td>\n",
              "      <td>0</td>\n",
              "      <td>5</td>\n",
              "      <td>2007</td>\n",
              "      <td>WD</td>\n",
              "      <td>Normal</td>\n",
              "      <td>181500</td>\n",
              "    </tr>\n",
              "    <tr>\n",
              "      <th>2</th>\n",
              "      <td>3</td>\n",
              "      <td>60</td>\n",
              "      <td>RL</td>\n",
              "      <td>68.0</td>\n",
              "      <td>11250</td>\n",
              "      <td>Pave</td>\n",
              "      <td>NaN</td>\n",
              "      <td>IR1</td>\n",
              "      <td>Lvl</td>\n",
              "      <td>AllPub</td>\n",
              "      <td>Inside</td>\n",
              "      <td>Gtl</td>\n",
              "      <td>CollgCr</td>\n",
              "      <td>Norm</td>\n",
              "      <td>Norm</td>\n",
              "      <td>1Fam</td>\n",
              "      <td>2Story</td>\n",
              "      <td>7</td>\n",
              "      <td>5</td>\n",
              "      <td>2001</td>\n",
              "      <td>2002</td>\n",
              "      <td>Gable</td>\n",
              "      <td>CompShg</td>\n",
              "      <td>VinylSd</td>\n",
              "      <td>VinylSd</td>\n",
              "      <td>BrkFace</td>\n",
              "      <td>162.0</td>\n",
              "      <td>Gd</td>\n",
              "      <td>TA</td>\n",
              "      <td>PConc</td>\n",
              "      <td>Gd</td>\n",
              "      <td>TA</td>\n",
              "      <td>Mn</td>\n",
              "      <td>GLQ</td>\n",
              "      <td>486</td>\n",
              "      <td>Unf</td>\n",
              "      <td>0</td>\n",
              "      <td>434</td>\n",
              "      <td>920</td>\n",
              "      <td>GasA</td>\n",
              "      <td>...</td>\n",
              "      <td>Y</td>\n",
              "      <td>SBrkr</td>\n",
              "      <td>920</td>\n",
              "      <td>866</td>\n",
              "      <td>0</td>\n",
              "      <td>1786</td>\n",
              "      <td>1</td>\n",
              "      <td>0</td>\n",
              "      <td>2</td>\n",
              "      <td>1</td>\n",
              "      <td>3</td>\n",
              "      <td>1</td>\n",
              "      <td>Gd</td>\n",
              "      <td>6</td>\n",
              "      <td>Typ</td>\n",
              "      <td>1</td>\n",
              "      <td>TA</td>\n",
              "      <td>Attchd</td>\n",
              "      <td>2001.0</td>\n",
              "      <td>RFn</td>\n",
              "      <td>2</td>\n",
              "      <td>608</td>\n",
              "      <td>TA</td>\n",
              "      <td>TA</td>\n",
              "      <td>Y</td>\n",
              "      <td>0</td>\n",
              "      <td>42</td>\n",
              "      <td>0</td>\n",
              "      <td>0</td>\n",
              "      <td>0</td>\n",
              "      <td>0</td>\n",
              "      <td>NaN</td>\n",
              "      <td>NaN</td>\n",
              "      <td>NaN</td>\n",
              "      <td>0</td>\n",
              "      <td>9</td>\n",
              "      <td>2008</td>\n",
              "      <td>WD</td>\n",
              "      <td>Normal</td>\n",
              "      <td>223500</td>\n",
              "    </tr>\n",
              "    <tr>\n",
              "      <th>3</th>\n",
              "      <td>4</td>\n",
              "      <td>70</td>\n",
              "      <td>RL</td>\n",
              "      <td>60.0</td>\n",
              "      <td>9550</td>\n",
              "      <td>Pave</td>\n",
              "      <td>NaN</td>\n",
              "      <td>IR1</td>\n",
              "      <td>Lvl</td>\n",
              "      <td>AllPub</td>\n",
              "      <td>Corner</td>\n",
              "      <td>Gtl</td>\n",
              "      <td>Crawfor</td>\n",
              "      <td>Norm</td>\n",
              "      <td>Norm</td>\n",
              "      <td>1Fam</td>\n",
              "      <td>2Story</td>\n",
              "      <td>7</td>\n",
              "      <td>5</td>\n",
              "      <td>1915</td>\n",
              "      <td>1970</td>\n",
              "      <td>Gable</td>\n",
              "      <td>CompShg</td>\n",
              "      <td>Wd Sdng</td>\n",
              "      <td>Wd Shng</td>\n",
              "      <td>None</td>\n",
              "      <td>0.0</td>\n",
              "      <td>TA</td>\n",
              "      <td>TA</td>\n",
              "      <td>BrkTil</td>\n",
              "      <td>TA</td>\n",
              "      <td>Gd</td>\n",
              "      <td>No</td>\n",
              "      <td>ALQ</td>\n",
              "      <td>216</td>\n",
              "      <td>Unf</td>\n",
              "      <td>0</td>\n",
              "      <td>540</td>\n",
              "      <td>756</td>\n",
              "      <td>GasA</td>\n",
              "      <td>...</td>\n",
              "      <td>Y</td>\n",
              "      <td>SBrkr</td>\n",
              "      <td>961</td>\n",
              "      <td>756</td>\n",
              "      <td>0</td>\n",
              "      <td>1717</td>\n",
              "      <td>1</td>\n",
              "      <td>0</td>\n",
              "      <td>1</td>\n",
              "      <td>0</td>\n",
              "      <td>3</td>\n",
              "      <td>1</td>\n",
              "      <td>Gd</td>\n",
              "      <td>7</td>\n",
              "      <td>Typ</td>\n",
              "      <td>1</td>\n",
              "      <td>Gd</td>\n",
              "      <td>Detchd</td>\n",
              "      <td>1998.0</td>\n",
              "      <td>Unf</td>\n",
              "      <td>3</td>\n",
              "      <td>642</td>\n",
              "      <td>TA</td>\n",
              "      <td>TA</td>\n",
              "      <td>Y</td>\n",
              "      <td>0</td>\n",
              "      <td>35</td>\n",
              "      <td>272</td>\n",
              "      <td>0</td>\n",
              "      <td>0</td>\n",
              "      <td>0</td>\n",
              "      <td>NaN</td>\n",
              "      <td>NaN</td>\n",
              "      <td>NaN</td>\n",
              "      <td>0</td>\n",
              "      <td>2</td>\n",
              "      <td>2006</td>\n",
              "      <td>WD</td>\n",
              "      <td>Abnorml</td>\n",
              "      <td>140000</td>\n",
              "    </tr>\n",
              "    <tr>\n",
              "      <th>4</th>\n",
              "      <td>5</td>\n",
              "      <td>60</td>\n",
              "      <td>RL</td>\n",
              "      <td>84.0</td>\n",
              "      <td>14260</td>\n",
              "      <td>Pave</td>\n",
              "      <td>NaN</td>\n",
              "      <td>IR1</td>\n",
              "      <td>Lvl</td>\n",
              "      <td>AllPub</td>\n",
              "      <td>FR2</td>\n",
              "      <td>Gtl</td>\n",
              "      <td>NoRidge</td>\n",
              "      <td>Norm</td>\n",
              "      <td>Norm</td>\n",
              "      <td>1Fam</td>\n",
              "      <td>2Story</td>\n",
              "      <td>8</td>\n",
              "      <td>5</td>\n",
              "      <td>2000</td>\n",
              "      <td>2000</td>\n",
              "      <td>Gable</td>\n",
              "      <td>CompShg</td>\n",
              "      <td>VinylSd</td>\n",
              "      <td>VinylSd</td>\n",
              "      <td>BrkFace</td>\n",
              "      <td>350.0</td>\n",
              "      <td>Gd</td>\n",
              "      <td>TA</td>\n",
              "      <td>PConc</td>\n",
              "      <td>Gd</td>\n",
              "      <td>TA</td>\n",
              "      <td>Av</td>\n",
              "      <td>GLQ</td>\n",
              "      <td>655</td>\n",
              "      <td>Unf</td>\n",
              "      <td>0</td>\n",
              "      <td>490</td>\n",
              "      <td>1145</td>\n",
              "      <td>GasA</td>\n",
              "      <td>...</td>\n",
              "      <td>Y</td>\n",
              "      <td>SBrkr</td>\n",
              "      <td>1145</td>\n",
              "      <td>1053</td>\n",
              "      <td>0</td>\n",
              "      <td>2198</td>\n",
              "      <td>1</td>\n",
              "      <td>0</td>\n",
              "      <td>2</td>\n",
              "      <td>1</td>\n",
              "      <td>4</td>\n",
              "      <td>1</td>\n",
              "      <td>Gd</td>\n",
              "      <td>9</td>\n",
              "      <td>Typ</td>\n",
              "      <td>1</td>\n",
              "      <td>TA</td>\n",
              "      <td>Attchd</td>\n",
              "      <td>2000.0</td>\n",
              "      <td>RFn</td>\n",
              "      <td>3</td>\n",
              "      <td>836</td>\n",
              "      <td>TA</td>\n",
              "      <td>TA</td>\n",
              "      <td>Y</td>\n",
              "      <td>192</td>\n",
              "      <td>84</td>\n",
              "      <td>0</td>\n",
              "      <td>0</td>\n",
              "      <td>0</td>\n",
              "      <td>0</td>\n",
              "      <td>NaN</td>\n",
              "      <td>NaN</td>\n",
              "      <td>NaN</td>\n",
              "      <td>0</td>\n",
              "      <td>12</td>\n",
              "      <td>2008</td>\n",
              "      <td>WD</td>\n",
              "      <td>Normal</td>\n",
              "      <td>250000</td>\n",
              "    </tr>\n",
              "  </tbody>\n",
              "</table>\n",
              "<p>5 rows × 81 columns</p>\n",
              "</div>"
            ],
            "text/plain": [
              "   Id  MSSubClass MSZoning  ...  SaleType  SaleCondition SalePrice\n",
              "0   1          60       RL  ...        WD         Normal    208500\n",
              "1   2          20       RL  ...        WD         Normal    181500\n",
              "2   3          60       RL  ...        WD         Normal    223500\n",
              "3   4          70       RL  ...        WD        Abnorml    140000\n",
              "4   5          60       RL  ...        WD         Normal    250000\n",
              "\n",
              "[5 rows x 81 columns]"
            ]
          },
          "metadata": {},
          "execution_count": 561
        }
      ]
    },
    {
      "cell_type": "code",
      "metadata": {
        "colab": {
          "base_uri": "https://localhost:8080/",
          "height": 817
        },
        "id": "1FynY6p3daN6",
        "outputId": "bc355dfa-6b5e-46ac-88db-5230327c3d61"
      },
      "source": [
        "corr_matrix = train_data.corr()[['SalePrice']].sort_values(by = ['SalePrice'], ascending = False).drop(['SalePrice'])\n",
        "corr_matrix.style.background_gradient(cmap = 'coolwarm').set_precision(2)"
      ],
      "execution_count": 562,
      "outputs": [
        {
          "output_type": "execute_result",
          "data": {
            "text/html": [
              "<style  type=\"text/css\" >\n",
              "#T_dda10d28_0a8a_11ec_8690_0242ac1c0002row0_col0{\n",
              "            background-color:  #b40426;\n",
              "            color:  #f1f1f1;\n",
              "        }#T_dda10d28_0a8a_11ec_8690_0242ac1c0002row1_col0{\n",
              "            background-color:  #d24b40;\n",
              "            color:  #f1f1f1;\n",
              "        }#T_dda10d28_0a8a_11ec_8690_0242ac1c0002row2_col0{\n",
              "            background-color:  #e67259;\n",
              "            color:  #000000;\n",
              "        }#T_dda10d28_0a8a_11ec_8690_0242ac1c0002row3_col0{\n",
              "            background-color:  #ea7b60;\n",
              "            color:  #000000;\n",
              "        }#T_dda10d28_0a8a_11ec_8690_0242ac1c0002row4_col0{\n",
              "            background-color:  #ec7f63;\n",
              "            color:  #000000;\n",
              "        }#T_dda10d28_0a8a_11ec_8690_0242ac1c0002row5_col0{\n",
              "            background-color:  #ee8468;\n",
              "            color:  #000000;\n",
              "        }#T_dda10d28_0a8a_11ec_8690_0242ac1c0002row6_col0{\n",
              "            background-color:  #f4987a;\n",
              "            color:  #000000;\n",
              "        }#T_dda10d28_0a8a_11ec_8690_0242ac1c0002row7_col0{\n",
              "            background-color:  #f6a586;\n",
              "            color:  #000000;\n",
              "        }#T_dda10d28_0a8a_11ec_8690_0242ac1c0002row8_col0{\n",
              "            background-color:  #f7a98b;\n",
              "            color:  #000000;\n",
              "        }#T_dda10d28_0a8a_11ec_8690_0242ac1c0002row9_col0{\n",
              "            background-color:  #f7af91;\n",
              "            color:  #000000;\n",
              "        }#T_dda10d28_0a8a_11ec_8690_0242ac1c0002row10_col0{\n",
              "            background-color:  #f7b79b;\n",
              "            color:  #000000;\n",
              "        }#T_dda10d28_0a8a_11ec_8690_0242ac1c0002row11_col0{\n",
              "            background-color:  #f7b99e;\n",
              "            color:  #000000;\n",
              "        }#T_dda10d28_0a8a_11ec_8690_0242ac1c0002row12_col0{\n",
              "            background-color:  #f6bda2;\n",
              "            color:  #000000;\n",
              "        }#T_dda10d28_0a8a_11ec_8690_0242ac1c0002row13_col0{\n",
              "            background-color:  #ecd3c5;\n",
              "            color:  #000000;\n",
              "        }#T_dda10d28_0a8a_11ec_8690_0242ac1c0002row14_col0{\n",
              "            background-color:  #e3d9d3;\n",
              "            color:  #000000;\n",
              "        }#T_dda10d28_0a8a_11ec_8690_0242ac1c0002row15_col0{\n",
              "            background-color:  #dcdddd;\n",
              "            color:  #000000;\n",
              "        }#T_dda10d28_0a8a_11ec_8690_0242ac1c0002row16_col0{\n",
              "            background-color:  #dadce0;\n",
              "            color:  #000000;\n",
              "        }#T_dda10d28_0a8a_11ec_8690_0242ac1c0002row17_col0{\n",
              "            background-color:  #d9dce1;\n",
              "            color:  #000000;\n",
              "        }#T_dda10d28_0a8a_11ec_8690_0242ac1c0002row18_col0{\n",
              "            background-color:  #d1dae9;\n",
              "            color:  #000000;\n",
              "        }#T_dda10d28_0a8a_11ec_8690_0242ac1c0002row19_col0{\n",
              "            background-color:  #cad8ef;\n",
              "            color:  #000000;\n",
              "        }#T_dda10d28_0a8a_11ec_8690_0242ac1c0002row20_col0{\n",
              "            background-color:  #bed2f6;\n",
              "            color:  #000000;\n",
              "        }#T_dda10d28_0a8a_11ec_8690_0242ac1c0002row21_col0{\n",
              "            background-color:  #b9d0f9;\n",
              "            color:  #000000;\n",
              "        }#T_dda10d28_0a8a_11ec_8690_0242ac1c0002row22_col0{\n",
              "            background-color:  #a7c5fe;\n",
              "            color:  #000000;\n",
              "        }#T_dda10d28_0a8a_11ec_8690_0242ac1c0002row23_col0{\n",
              "            background-color:  #93b5fe;\n",
              "            color:  #000000;\n",
              "        }#T_dda10d28_0a8a_11ec_8690_0242ac1c0002row24_col0{\n",
              "            background-color:  #8caffe;\n",
              "            color:  #000000;\n",
              "        }#T_dda10d28_0a8a_11ec_8690_0242ac1c0002row25_col0{\n",
              "            background-color:  #7a9df8;\n",
              "            color:  #000000;\n",
              "        }#T_dda10d28_0a8a_11ec_8690_0242ac1c0002row26_col0{\n",
              "            background-color:  #799cf8;\n",
              "            color:  #000000;\n",
              "        }#T_dda10d28_0a8a_11ec_8690_0242ac1c0002row27_col0{\n",
              "            background-color:  #6485ec;\n",
              "            color:  #000000;\n",
              "        }#T_dda10d28_0a8a_11ec_8690_0242ac1c0002row28_col0{\n",
              "            background-color:  #6282ea;\n",
              "            color:  #000000;\n",
              "        }#T_dda10d28_0a8a_11ec_8690_0242ac1c0002row29_col0,#T_dda10d28_0a8a_11ec_8690_0242ac1c0002row30_col0{\n",
              "            background-color:  #6180e9;\n",
              "            color:  #000000;\n",
              "        }#T_dda10d28_0a8a_11ec_8690_0242ac1c0002row31_col0{\n",
              "            background-color:  #5f7fe8;\n",
              "            color:  #000000;\n",
              "        }#T_dda10d28_0a8a_11ec_8690_0242ac1c0002row32_col0{\n",
              "            background-color:  #5e7de7;\n",
              "            color:  #000000;\n",
              "        }#T_dda10d28_0a8a_11ec_8690_0242ac1c0002row33_col0{\n",
              "            background-color:  #4e68d8;\n",
              "            color:  #000000;\n",
              "        }#T_dda10d28_0a8a_11ec_8690_0242ac1c0002row34_col0{\n",
              "            background-color:  #4b64d5;\n",
              "            color:  #f1f1f1;\n",
              "        }#T_dda10d28_0a8a_11ec_8690_0242ac1c0002row35_col0{\n",
              "            background-color:  #3d50c3;\n",
              "            color:  #f1f1f1;\n",
              "        }#T_dda10d28_0a8a_11ec_8690_0242ac1c0002row36_col0{\n",
              "            background-color:  #3b4cc0;\n",
              "            color:  #f1f1f1;\n",
              "        }</style><table id=\"T_dda10d28_0a8a_11ec_8690_0242ac1c0002\" ><thead>    <tr>        <th class=\"blank level0\" ></th>        <th class=\"col_heading level0 col0\" >SalePrice</th>    </tr></thead><tbody>\n",
              "                <tr>\n",
              "                        <th id=\"T_dda10d28_0a8a_11ec_8690_0242ac1c0002level0_row0\" class=\"row_heading level0 row0\" >OverallQual</th>\n",
              "                        <td id=\"T_dda10d28_0a8a_11ec_8690_0242ac1c0002row0_col0\" class=\"data row0 col0\" >0.79</td>\n",
              "            </tr>\n",
              "            <tr>\n",
              "                        <th id=\"T_dda10d28_0a8a_11ec_8690_0242ac1c0002level0_row1\" class=\"row_heading level0 row1\" >GrLivArea</th>\n",
              "                        <td id=\"T_dda10d28_0a8a_11ec_8690_0242ac1c0002row1_col0\" class=\"data row1 col0\" >0.71</td>\n",
              "            </tr>\n",
              "            <tr>\n",
              "                        <th id=\"T_dda10d28_0a8a_11ec_8690_0242ac1c0002level0_row2\" class=\"row_heading level0 row2\" >GarageCars</th>\n",
              "                        <td id=\"T_dda10d28_0a8a_11ec_8690_0242ac1c0002row2_col0\" class=\"data row2 col0\" >0.64</td>\n",
              "            </tr>\n",
              "            <tr>\n",
              "                        <th id=\"T_dda10d28_0a8a_11ec_8690_0242ac1c0002level0_row3\" class=\"row_heading level0 row3\" >GarageArea</th>\n",
              "                        <td id=\"T_dda10d28_0a8a_11ec_8690_0242ac1c0002row3_col0\" class=\"data row3 col0\" >0.62</td>\n",
              "            </tr>\n",
              "            <tr>\n",
              "                        <th id=\"T_dda10d28_0a8a_11ec_8690_0242ac1c0002level0_row4\" class=\"row_heading level0 row4\" >TotalBsmtSF</th>\n",
              "                        <td id=\"T_dda10d28_0a8a_11ec_8690_0242ac1c0002row4_col0\" class=\"data row4 col0\" >0.61</td>\n",
              "            </tr>\n",
              "            <tr>\n",
              "                        <th id=\"T_dda10d28_0a8a_11ec_8690_0242ac1c0002level0_row5\" class=\"row_heading level0 row5\" >1stFlrSF</th>\n",
              "                        <td id=\"T_dda10d28_0a8a_11ec_8690_0242ac1c0002row5_col0\" class=\"data row5 col0\" >0.61</td>\n",
              "            </tr>\n",
              "            <tr>\n",
              "                        <th id=\"T_dda10d28_0a8a_11ec_8690_0242ac1c0002level0_row6\" class=\"row_heading level0 row6\" >FullBath</th>\n",
              "                        <td id=\"T_dda10d28_0a8a_11ec_8690_0242ac1c0002row6_col0\" class=\"data row6 col0\" >0.56</td>\n",
              "            </tr>\n",
              "            <tr>\n",
              "                        <th id=\"T_dda10d28_0a8a_11ec_8690_0242ac1c0002level0_row7\" class=\"row_heading level0 row7\" >TotRmsAbvGrd</th>\n",
              "                        <td id=\"T_dda10d28_0a8a_11ec_8690_0242ac1c0002row7_col0\" class=\"data row7 col0\" >0.53</td>\n",
              "            </tr>\n",
              "            <tr>\n",
              "                        <th id=\"T_dda10d28_0a8a_11ec_8690_0242ac1c0002level0_row8\" class=\"row_heading level0 row8\" >YearBuilt</th>\n",
              "                        <td id=\"T_dda10d28_0a8a_11ec_8690_0242ac1c0002row8_col0\" class=\"data row8 col0\" >0.52</td>\n",
              "            </tr>\n",
              "            <tr>\n",
              "                        <th id=\"T_dda10d28_0a8a_11ec_8690_0242ac1c0002level0_row9\" class=\"row_heading level0 row9\" >YearRemodAdd</th>\n",
              "                        <td id=\"T_dda10d28_0a8a_11ec_8690_0242ac1c0002row9_col0\" class=\"data row9 col0\" >0.51</td>\n",
              "            </tr>\n",
              "            <tr>\n",
              "                        <th id=\"T_dda10d28_0a8a_11ec_8690_0242ac1c0002level0_row10\" class=\"row_heading level0 row10\" >GarageYrBlt</th>\n",
              "                        <td id=\"T_dda10d28_0a8a_11ec_8690_0242ac1c0002row10_col0\" class=\"data row10 col0\" >0.49</td>\n",
              "            </tr>\n",
              "            <tr>\n",
              "                        <th id=\"T_dda10d28_0a8a_11ec_8690_0242ac1c0002level0_row11\" class=\"row_heading level0 row11\" >MasVnrArea</th>\n",
              "                        <td id=\"T_dda10d28_0a8a_11ec_8690_0242ac1c0002row11_col0\" class=\"data row11 col0\" >0.48</td>\n",
              "            </tr>\n",
              "            <tr>\n",
              "                        <th id=\"T_dda10d28_0a8a_11ec_8690_0242ac1c0002level0_row12\" class=\"row_heading level0 row12\" >Fireplaces</th>\n",
              "                        <td id=\"T_dda10d28_0a8a_11ec_8690_0242ac1c0002row12_col0\" class=\"data row12 col0\" >0.47</td>\n",
              "            </tr>\n",
              "            <tr>\n",
              "                        <th id=\"T_dda10d28_0a8a_11ec_8690_0242ac1c0002level0_row13\" class=\"row_heading level0 row13\" >BsmtFinSF1</th>\n",
              "                        <td id=\"T_dda10d28_0a8a_11ec_8690_0242ac1c0002row13_col0\" class=\"data row13 col0\" >0.39</td>\n",
              "            </tr>\n",
              "            <tr>\n",
              "                        <th id=\"T_dda10d28_0a8a_11ec_8690_0242ac1c0002level0_row14\" class=\"row_heading level0 row14\" >LotFrontage</th>\n",
              "                        <td id=\"T_dda10d28_0a8a_11ec_8690_0242ac1c0002row14_col0\" class=\"data row14 col0\" >0.35</td>\n",
              "            </tr>\n",
              "            <tr>\n",
              "                        <th id=\"T_dda10d28_0a8a_11ec_8690_0242ac1c0002level0_row15\" class=\"row_heading level0 row15\" >WoodDeckSF</th>\n",
              "                        <td id=\"T_dda10d28_0a8a_11ec_8690_0242ac1c0002row15_col0\" class=\"data row15 col0\" >0.32</td>\n",
              "            </tr>\n",
              "            <tr>\n",
              "                        <th id=\"T_dda10d28_0a8a_11ec_8690_0242ac1c0002level0_row16\" class=\"row_heading level0 row16\" >2ndFlrSF</th>\n",
              "                        <td id=\"T_dda10d28_0a8a_11ec_8690_0242ac1c0002row16_col0\" class=\"data row16 col0\" >0.32</td>\n",
              "            </tr>\n",
              "            <tr>\n",
              "                        <th id=\"T_dda10d28_0a8a_11ec_8690_0242ac1c0002level0_row17\" class=\"row_heading level0 row17\" >OpenPorchSF</th>\n",
              "                        <td id=\"T_dda10d28_0a8a_11ec_8690_0242ac1c0002row17_col0\" class=\"data row17 col0\" >0.32</td>\n",
              "            </tr>\n",
              "            <tr>\n",
              "                        <th id=\"T_dda10d28_0a8a_11ec_8690_0242ac1c0002level0_row18\" class=\"row_heading level0 row18\" >HalfBath</th>\n",
              "                        <td id=\"T_dda10d28_0a8a_11ec_8690_0242ac1c0002row18_col0\" class=\"data row18 col0\" >0.28</td>\n",
              "            </tr>\n",
              "            <tr>\n",
              "                        <th id=\"T_dda10d28_0a8a_11ec_8690_0242ac1c0002level0_row19\" class=\"row_heading level0 row19\" >LotArea</th>\n",
              "                        <td id=\"T_dda10d28_0a8a_11ec_8690_0242ac1c0002row19_col0\" class=\"data row19 col0\" >0.26</td>\n",
              "            </tr>\n",
              "            <tr>\n",
              "                        <th id=\"T_dda10d28_0a8a_11ec_8690_0242ac1c0002level0_row20\" class=\"row_heading level0 row20\" >BsmtFullBath</th>\n",
              "                        <td id=\"T_dda10d28_0a8a_11ec_8690_0242ac1c0002row20_col0\" class=\"data row20 col0\" >0.23</td>\n",
              "            </tr>\n",
              "            <tr>\n",
              "                        <th id=\"T_dda10d28_0a8a_11ec_8690_0242ac1c0002level0_row21\" class=\"row_heading level0 row21\" >BsmtUnfSF</th>\n",
              "                        <td id=\"T_dda10d28_0a8a_11ec_8690_0242ac1c0002row21_col0\" class=\"data row21 col0\" >0.21</td>\n",
              "            </tr>\n",
              "            <tr>\n",
              "                        <th id=\"T_dda10d28_0a8a_11ec_8690_0242ac1c0002level0_row22\" class=\"row_heading level0 row22\" >BedroomAbvGr</th>\n",
              "                        <td id=\"T_dda10d28_0a8a_11ec_8690_0242ac1c0002row22_col0\" class=\"data row22 col0\" >0.17</td>\n",
              "            </tr>\n",
              "            <tr>\n",
              "                        <th id=\"T_dda10d28_0a8a_11ec_8690_0242ac1c0002level0_row23\" class=\"row_heading level0 row23\" >ScreenPorch</th>\n",
              "                        <td id=\"T_dda10d28_0a8a_11ec_8690_0242ac1c0002row23_col0\" class=\"data row23 col0\" >0.11</td>\n",
              "            </tr>\n",
              "            <tr>\n",
              "                        <th id=\"T_dda10d28_0a8a_11ec_8690_0242ac1c0002level0_row24\" class=\"row_heading level0 row24\" >PoolArea</th>\n",
              "                        <td id=\"T_dda10d28_0a8a_11ec_8690_0242ac1c0002row24_col0\" class=\"data row24 col0\" >0.09</td>\n",
              "            </tr>\n",
              "            <tr>\n",
              "                        <th id=\"T_dda10d28_0a8a_11ec_8690_0242ac1c0002level0_row25\" class=\"row_heading level0 row25\" >MoSold</th>\n",
              "                        <td id=\"T_dda10d28_0a8a_11ec_8690_0242ac1c0002row25_col0\" class=\"data row25 col0\" >0.05</td>\n",
              "            </tr>\n",
              "            <tr>\n",
              "                        <th id=\"T_dda10d28_0a8a_11ec_8690_0242ac1c0002level0_row26\" class=\"row_heading level0 row26\" >3SsnPorch</th>\n",
              "                        <td id=\"T_dda10d28_0a8a_11ec_8690_0242ac1c0002row26_col0\" class=\"data row26 col0\" >0.04</td>\n",
              "            </tr>\n",
              "            <tr>\n",
              "                        <th id=\"T_dda10d28_0a8a_11ec_8690_0242ac1c0002level0_row27\" class=\"row_heading level0 row27\" >BsmtFinSF2</th>\n",
              "                        <td id=\"T_dda10d28_0a8a_11ec_8690_0242ac1c0002row27_col0\" class=\"data row27 col0\" >-0.01</td>\n",
              "            </tr>\n",
              "            <tr>\n",
              "                        <th id=\"T_dda10d28_0a8a_11ec_8690_0242ac1c0002level0_row28\" class=\"row_heading level0 row28\" >BsmtHalfBath</th>\n",
              "                        <td id=\"T_dda10d28_0a8a_11ec_8690_0242ac1c0002row28_col0\" class=\"data row28 col0\" >-0.02</td>\n",
              "            </tr>\n",
              "            <tr>\n",
              "                        <th id=\"T_dda10d28_0a8a_11ec_8690_0242ac1c0002level0_row29\" class=\"row_heading level0 row29\" >MiscVal</th>\n",
              "                        <td id=\"T_dda10d28_0a8a_11ec_8690_0242ac1c0002row29_col0\" class=\"data row29 col0\" >-0.02</td>\n",
              "            </tr>\n",
              "            <tr>\n",
              "                        <th id=\"T_dda10d28_0a8a_11ec_8690_0242ac1c0002level0_row30\" class=\"row_heading level0 row30\" >Id</th>\n",
              "                        <td id=\"T_dda10d28_0a8a_11ec_8690_0242ac1c0002row30_col0\" class=\"data row30 col0\" >-0.02</td>\n",
              "            </tr>\n",
              "            <tr>\n",
              "                        <th id=\"T_dda10d28_0a8a_11ec_8690_0242ac1c0002level0_row31\" class=\"row_heading level0 row31\" >LowQualFinSF</th>\n",
              "                        <td id=\"T_dda10d28_0a8a_11ec_8690_0242ac1c0002row31_col0\" class=\"data row31 col0\" >-0.03</td>\n",
              "            </tr>\n",
              "            <tr>\n",
              "                        <th id=\"T_dda10d28_0a8a_11ec_8690_0242ac1c0002level0_row32\" class=\"row_heading level0 row32\" >YrSold</th>\n",
              "                        <td id=\"T_dda10d28_0a8a_11ec_8690_0242ac1c0002row32_col0\" class=\"data row32 col0\" >-0.03</td>\n",
              "            </tr>\n",
              "            <tr>\n",
              "                        <th id=\"T_dda10d28_0a8a_11ec_8690_0242ac1c0002level0_row33\" class=\"row_heading level0 row33\" >OverallCond</th>\n",
              "                        <td id=\"T_dda10d28_0a8a_11ec_8690_0242ac1c0002row33_col0\" class=\"data row33 col0\" >-0.08</td>\n",
              "            </tr>\n",
              "            <tr>\n",
              "                        <th id=\"T_dda10d28_0a8a_11ec_8690_0242ac1c0002level0_row34\" class=\"row_heading level0 row34\" >MSSubClass</th>\n",
              "                        <td id=\"T_dda10d28_0a8a_11ec_8690_0242ac1c0002row34_col0\" class=\"data row34 col0\" >-0.08</td>\n",
              "            </tr>\n",
              "            <tr>\n",
              "                        <th id=\"T_dda10d28_0a8a_11ec_8690_0242ac1c0002level0_row35\" class=\"row_heading level0 row35\" >EnclosedPorch</th>\n",
              "                        <td id=\"T_dda10d28_0a8a_11ec_8690_0242ac1c0002row35_col0\" class=\"data row35 col0\" >-0.13</td>\n",
              "            </tr>\n",
              "            <tr>\n",
              "                        <th id=\"T_dda10d28_0a8a_11ec_8690_0242ac1c0002level0_row36\" class=\"row_heading level0 row36\" >KitchenAbvGr</th>\n",
              "                        <td id=\"T_dda10d28_0a8a_11ec_8690_0242ac1c0002row36_col0\" class=\"data row36 col0\" >-0.14</td>\n",
              "            </tr>\n",
              "    </tbody></table>"
            ],
            "text/plain": [
              "<pandas.io.formats.style.Styler at 0x7f4690cf65d0>"
            ]
          },
          "metadata": {},
          "execution_count": 562
        }
      ]
    },
    {
      "cell_type": "code",
      "metadata": {
        "colab": {
          "base_uri": "https://localhost:8080/",
          "height": 638
        },
        "id": "p-v67axmmqxs",
        "outputId": "6f071c32-80d2-4b0f-88ac-16f4f1894f89"
      },
      "source": [
        "missing = pd.concat([train_data.isna().sum().sort_values(ascending = False), train_data.dtypes], axis=1, keys=['Total', 'Type'])\n",
        "missing[missing['Total'] > 0]"
      ],
      "execution_count": 563,
      "outputs": [
        {
          "output_type": "execute_result",
          "data": {
            "text/html": [
              "<div>\n",
              "<style scoped>\n",
              "    .dataframe tbody tr th:only-of-type {\n",
              "        vertical-align: middle;\n",
              "    }\n",
              "\n",
              "    .dataframe tbody tr th {\n",
              "        vertical-align: top;\n",
              "    }\n",
              "\n",
              "    .dataframe thead th {\n",
              "        text-align: right;\n",
              "    }\n",
              "</style>\n",
              "<table border=\"1\" class=\"dataframe\">\n",
              "  <thead>\n",
              "    <tr style=\"text-align: right;\">\n",
              "      <th></th>\n",
              "      <th>Total</th>\n",
              "      <th>Type</th>\n",
              "    </tr>\n",
              "  </thead>\n",
              "  <tbody>\n",
              "    <tr>\n",
              "      <th>PoolQC</th>\n",
              "      <td>1453</td>\n",
              "      <td>object</td>\n",
              "    </tr>\n",
              "    <tr>\n",
              "      <th>MiscFeature</th>\n",
              "      <td>1406</td>\n",
              "      <td>object</td>\n",
              "    </tr>\n",
              "    <tr>\n",
              "      <th>Alley</th>\n",
              "      <td>1369</td>\n",
              "      <td>object</td>\n",
              "    </tr>\n",
              "    <tr>\n",
              "      <th>Fence</th>\n",
              "      <td>1179</td>\n",
              "      <td>object</td>\n",
              "    </tr>\n",
              "    <tr>\n",
              "      <th>FireplaceQu</th>\n",
              "      <td>690</td>\n",
              "      <td>object</td>\n",
              "    </tr>\n",
              "    <tr>\n",
              "      <th>LotFrontage</th>\n",
              "      <td>259</td>\n",
              "      <td>float64</td>\n",
              "    </tr>\n",
              "    <tr>\n",
              "      <th>GarageCond</th>\n",
              "      <td>81</td>\n",
              "      <td>object</td>\n",
              "    </tr>\n",
              "    <tr>\n",
              "      <th>GarageType</th>\n",
              "      <td>81</td>\n",
              "      <td>object</td>\n",
              "    </tr>\n",
              "    <tr>\n",
              "      <th>GarageYrBlt</th>\n",
              "      <td>81</td>\n",
              "      <td>float64</td>\n",
              "    </tr>\n",
              "    <tr>\n",
              "      <th>GarageFinish</th>\n",
              "      <td>81</td>\n",
              "      <td>object</td>\n",
              "    </tr>\n",
              "    <tr>\n",
              "      <th>GarageQual</th>\n",
              "      <td>81</td>\n",
              "      <td>object</td>\n",
              "    </tr>\n",
              "    <tr>\n",
              "      <th>BsmtExposure</th>\n",
              "      <td>38</td>\n",
              "      <td>object</td>\n",
              "    </tr>\n",
              "    <tr>\n",
              "      <th>BsmtFinType2</th>\n",
              "      <td>38</td>\n",
              "      <td>object</td>\n",
              "    </tr>\n",
              "    <tr>\n",
              "      <th>BsmtFinType1</th>\n",
              "      <td>37</td>\n",
              "      <td>object</td>\n",
              "    </tr>\n",
              "    <tr>\n",
              "      <th>BsmtCond</th>\n",
              "      <td>37</td>\n",
              "      <td>object</td>\n",
              "    </tr>\n",
              "    <tr>\n",
              "      <th>BsmtQual</th>\n",
              "      <td>37</td>\n",
              "      <td>object</td>\n",
              "    </tr>\n",
              "    <tr>\n",
              "      <th>MasVnrArea</th>\n",
              "      <td>8</td>\n",
              "      <td>float64</td>\n",
              "    </tr>\n",
              "    <tr>\n",
              "      <th>MasVnrType</th>\n",
              "      <td>8</td>\n",
              "      <td>object</td>\n",
              "    </tr>\n",
              "    <tr>\n",
              "      <th>Electrical</th>\n",
              "      <td>1</td>\n",
              "      <td>object</td>\n",
              "    </tr>\n",
              "  </tbody>\n",
              "</table>\n",
              "</div>"
            ],
            "text/plain": [
              "              Total     Type\n",
              "PoolQC         1453   object\n",
              "MiscFeature    1406   object\n",
              "Alley          1369   object\n",
              "Fence          1179   object\n",
              "FireplaceQu     690   object\n",
              "LotFrontage     259  float64\n",
              "GarageCond       81   object\n",
              "GarageType       81   object\n",
              "GarageYrBlt      81  float64\n",
              "GarageFinish     81   object\n",
              "GarageQual       81   object\n",
              "BsmtExposure     38   object\n",
              "BsmtFinType2     38   object\n",
              "BsmtFinType1     37   object\n",
              "BsmtCond         37   object\n",
              "BsmtQual         37   object\n",
              "MasVnrArea        8  float64\n",
              "MasVnrType        8   object\n",
              "Electrical        1   object"
            ]
          },
          "metadata": {},
          "execution_count": 563
        }
      ]
    },
    {
      "cell_type": "markdown",
      "metadata": {
        "id": "tfmPiRBcnndE"
      },
      "source": [
        "شناسایی و حذف نقاط \n",
        "outliers\n",
        "\n",
        "\n"
      ]
    },
    {
      "cell_type": "code",
      "metadata": {
        "colab": {
          "base_uri": "https://localhost:8080/",
          "height": 1000
        },
        "id": "vKYpTw-_oCrn",
        "outputId": "f82021d6-fdfb-4d2c-dd9a-dd31fd8626f1"
      },
      "source": [
        "train_data.describe().transpose()"
      ],
      "execution_count": 564,
      "outputs": [
        {
          "output_type": "execute_result",
          "data": {
            "text/html": [
              "<div>\n",
              "<style scoped>\n",
              "    .dataframe tbody tr th:only-of-type {\n",
              "        vertical-align: middle;\n",
              "    }\n",
              "\n",
              "    .dataframe tbody tr th {\n",
              "        vertical-align: top;\n",
              "    }\n",
              "\n",
              "    .dataframe thead th {\n",
              "        text-align: right;\n",
              "    }\n",
              "</style>\n",
              "<table border=\"1\" class=\"dataframe\">\n",
              "  <thead>\n",
              "    <tr style=\"text-align: right;\">\n",
              "      <th></th>\n",
              "      <th>count</th>\n",
              "      <th>mean</th>\n",
              "      <th>std</th>\n",
              "      <th>min</th>\n",
              "      <th>25%</th>\n",
              "      <th>50%</th>\n",
              "      <th>75%</th>\n",
              "      <th>max</th>\n",
              "    </tr>\n",
              "  </thead>\n",
              "  <tbody>\n",
              "    <tr>\n",
              "      <th>Id</th>\n",
              "      <td>1460.0</td>\n",
              "      <td>730.500000</td>\n",
              "      <td>421.610009</td>\n",
              "      <td>1.0</td>\n",
              "      <td>365.75</td>\n",
              "      <td>730.5</td>\n",
              "      <td>1095.25</td>\n",
              "      <td>1460.0</td>\n",
              "    </tr>\n",
              "    <tr>\n",
              "      <th>MSSubClass</th>\n",
              "      <td>1460.0</td>\n",
              "      <td>56.897260</td>\n",
              "      <td>42.300571</td>\n",
              "      <td>20.0</td>\n",
              "      <td>20.00</td>\n",
              "      <td>50.0</td>\n",
              "      <td>70.00</td>\n",
              "      <td>190.0</td>\n",
              "    </tr>\n",
              "    <tr>\n",
              "      <th>LotFrontage</th>\n",
              "      <td>1201.0</td>\n",
              "      <td>70.049958</td>\n",
              "      <td>24.284752</td>\n",
              "      <td>21.0</td>\n",
              "      <td>59.00</td>\n",
              "      <td>69.0</td>\n",
              "      <td>80.00</td>\n",
              "      <td>313.0</td>\n",
              "    </tr>\n",
              "    <tr>\n",
              "      <th>LotArea</th>\n",
              "      <td>1460.0</td>\n",
              "      <td>10516.828082</td>\n",
              "      <td>9981.264932</td>\n",
              "      <td>1300.0</td>\n",
              "      <td>7553.50</td>\n",
              "      <td>9478.5</td>\n",
              "      <td>11601.50</td>\n",
              "      <td>215245.0</td>\n",
              "    </tr>\n",
              "    <tr>\n",
              "      <th>OverallQual</th>\n",
              "      <td>1460.0</td>\n",
              "      <td>6.099315</td>\n",
              "      <td>1.382997</td>\n",
              "      <td>1.0</td>\n",
              "      <td>5.00</td>\n",
              "      <td>6.0</td>\n",
              "      <td>7.00</td>\n",
              "      <td>10.0</td>\n",
              "    </tr>\n",
              "    <tr>\n",
              "      <th>OverallCond</th>\n",
              "      <td>1460.0</td>\n",
              "      <td>5.575342</td>\n",
              "      <td>1.112799</td>\n",
              "      <td>1.0</td>\n",
              "      <td>5.00</td>\n",
              "      <td>5.0</td>\n",
              "      <td>6.00</td>\n",
              "      <td>9.0</td>\n",
              "    </tr>\n",
              "    <tr>\n",
              "      <th>YearBuilt</th>\n",
              "      <td>1460.0</td>\n",
              "      <td>1971.267808</td>\n",
              "      <td>30.202904</td>\n",
              "      <td>1872.0</td>\n",
              "      <td>1954.00</td>\n",
              "      <td>1973.0</td>\n",
              "      <td>2000.00</td>\n",
              "      <td>2010.0</td>\n",
              "    </tr>\n",
              "    <tr>\n",
              "      <th>YearRemodAdd</th>\n",
              "      <td>1460.0</td>\n",
              "      <td>1984.865753</td>\n",
              "      <td>20.645407</td>\n",
              "      <td>1950.0</td>\n",
              "      <td>1967.00</td>\n",
              "      <td>1994.0</td>\n",
              "      <td>2004.00</td>\n",
              "      <td>2010.0</td>\n",
              "    </tr>\n",
              "    <tr>\n",
              "      <th>MasVnrArea</th>\n",
              "      <td>1452.0</td>\n",
              "      <td>103.685262</td>\n",
              "      <td>181.066207</td>\n",
              "      <td>0.0</td>\n",
              "      <td>0.00</td>\n",
              "      <td>0.0</td>\n",
              "      <td>166.00</td>\n",
              "      <td>1600.0</td>\n",
              "    </tr>\n",
              "    <tr>\n",
              "      <th>BsmtFinSF1</th>\n",
              "      <td>1460.0</td>\n",
              "      <td>443.639726</td>\n",
              "      <td>456.098091</td>\n",
              "      <td>0.0</td>\n",
              "      <td>0.00</td>\n",
              "      <td>383.5</td>\n",
              "      <td>712.25</td>\n",
              "      <td>5644.0</td>\n",
              "    </tr>\n",
              "    <tr>\n",
              "      <th>BsmtFinSF2</th>\n",
              "      <td>1460.0</td>\n",
              "      <td>46.549315</td>\n",
              "      <td>161.319273</td>\n",
              "      <td>0.0</td>\n",
              "      <td>0.00</td>\n",
              "      <td>0.0</td>\n",
              "      <td>0.00</td>\n",
              "      <td>1474.0</td>\n",
              "    </tr>\n",
              "    <tr>\n",
              "      <th>BsmtUnfSF</th>\n",
              "      <td>1460.0</td>\n",
              "      <td>567.240411</td>\n",
              "      <td>441.866955</td>\n",
              "      <td>0.0</td>\n",
              "      <td>223.00</td>\n",
              "      <td>477.5</td>\n",
              "      <td>808.00</td>\n",
              "      <td>2336.0</td>\n",
              "    </tr>\n",
              "    <tr>\n",
              "      <th>TotalBsmtSF</th>\n",
              "      <td>1460.0</td>\n",
              "      <td>1057.429452</td>\n",
              "      <td>438.705324</td>\n",
              "      <td>0.0</td>\n",
              "      <td>795.75</td>\n",
              "      <td>991.5</td>\n",
              "      <td>1298.25</td>\n",
              "      <td>6110.0</td>\n",
              "    </tr>\n",
              "    <tr>\n",
              "      <th>1stFlrSF</th>\n",
              "      <td>1460.0</td>\n",
              "      <td>1162.626712</td>\n",
              "      <td>386.587738</td>\n",
              "      <td>334.0</td>\n",
              "      <td>882.00</td>\n",
              "      <td>1087.0</td>\n",
              "      <td>1391.25</td>\n",
              "      <td>4692.0</td>\n",
              "    </tr>\n",
              "    <tr>\n",
              "      <th>2ndFlrSF</th>\n",
              "      <td>1460.0</td>\n",
              "      <td>346.992466</td>\n",
              "      <td>436.528436</td>\n",
              "      <td>0.0</td>\n",
              "      <td>0.00</td>\n",
              "      <td>0.0</td>\n",
              "      <td>728.00</td>\n",
              "      <td>2065.0</td>\n",
              "    </tr>\n",
              "    <tr>\n",
              "      <th>LowQualFinSF</th>\n",
              "      <td>1460.0</td>\n",
              "      <td>5.844521</td>\n",
              "      <td>48.623081</td>\n",
              "      <td>0.0</td>\n",
              "      <td>0.00</td>\n",
              "      <td>0.0</td>\n",
              "      <td>0.00</td>\n",
              "      <td>572.0</td>\n",
              "    </tr>\n",
              "    <tr>\n",
              "      <th>GrLivArea</th>\n",
              "      <td>1460.0</td>\n",
              "      <td>1515.463699</td>\n",
              "      <td>525.480383</td>\n",
              "      <td>334.0</td>\n",
              "      <td>1129.50</td>\n",
              "      <td>1464.0</td>\n",
              "      <td>1776.75</td>\n",
              "      <td>5642.0</td>\n",
              "    </tr>\n",
              "    <tr>\n",
              "      <th>BsmtFullBath</th>\n",
              "      <td>1460.0</td>\n",
              "      <td>0.425342</td>\n",
              "      <td>0.518911</td>\n",
              "      <td>0.0</td>\n",
              "      <td>0.00</td>\n",
              "      <td>0.0</td>\n",
              "      <td>1.00</td>\n",
              "      <td>3.0</td>\n",
              "    </tr>\n",
              "    <tr>\n",
              "      <th>BsmtHalfBath</th>\n",
              "      <td>1460.0</td>\n",
              "      <td>0.057534</td>\n",
              "      <td>0.238753</td>\n",
              "      <td>0.0</td>\n",
              "      <td>0.00</td>\n",
              "      <td>0.0</td>\n",
              "      <td>0.00</td>\n",
              "      <td>2.0</td>\n",
              "    </tr>\n",
              "    <tr>\n",
              "      <th>FullBath</th>\n",
              "      <td>1460.0</td>\n",
              "      <td>1.565068</td>\n",
              "      <td>0.550916</td>\n",
              "      <td>0.0</td>\n",
              "      <td>1.00</td>\n",
              "      <td>2.0</td>\n",
              "      <td>2.00</td>\n",
              "      <td>3.0</td>\n",
              "    </tr>\n",
              "    <tr>\n",
              "      <th>HalfBath</th>\n",
              "      <td>1460.0</td>\n",
              "      <td>0.382877</td>\n",
              "      <td>0.502885</td>\n",
              "      <td>0.0</td>\n",
              "      <td>0.00</td>\n",
              "      <td>0.0</td>\n",
              "      <td>1.00</td>\n",
              "      <td>2.0</td>\n",
              "    </tr>\n",
              "    <tr>\n",
              "      <th>BedroomAbvGr</th>\n",
              "      <td>1460.0</td>\n",
              "      <td>2.866438</td>\n",
              "      <td>0.815778</td>\n",
              "      <td>0.0</td>\n",
              "      <td>2.00</td>\n",
              "      <td>3.0</td>\n",
              "      <td>3.00</td>\n",
              "      <td>8.0</td>\n",
              "    </tr>\n",
              "    <tr>\n",
              "      <th>KitchenAbvGr</th>\n",
              "      <td>1460.0</td>\n",
              "      <td>1.046575</td>\n",
              "      <td>0.220338</td>\n",
              "      <td>0.0</td>\n",
              "      <td>1.00</td>\n",
              "      <td>1.0</td>\n",
              "      <td>1.00</td>\n",
              "      <td>3.0</td>\n",
              "    </tr>\n",
              "    <tr>\n",
              "      <th>TotRmsAbvGrd</th>\n",
              "      <td>1460.0</td>\n",
              "      <td>6.517808</td>\n",
              "      <td>1.625393</td>\n",
              "      <td>2.0</td>\n",
              "      <td>5.00</td>\n",
              "      <td>6.0</td>\n",
              "      <td>7.00</td>\n",
              "      <td>14.0</td>\n",
              "    </tr>\n",
              "    <tr>\n",
              "      <th>Fireplaces</th>\n",
              "      <td>1460.0</td>\n",
              "      <td>0.613014</td>\n",
              "      <td>0.644666</td>\n",
              "      <td>0.0</td>\n",
              "      <td>0.00</td>\n",
              "      <td>1.0</td>\n",
              "      <td>1.00</td>\n",
              "      <td>3.0</td>\n",
              "    </tr>\n",
              "    <tr>\n",
              "      <th>GarageYrBlt</th>\n",
              "      <td>1379.0</td>\n",
              "      <td>1978.506164</td>\n",
              "      <td>24.689725</td>\n",
              "      <td>1900.0</td>\n",
              "      <td>1961.00</td>\n",
              "      <td>1980.0</td>\n",
              "      <td>2002.00</td>\n",
              "      <td>2010.0</td>\n",
              "    </tr>\n",
              "    <tr>\n",
              "      <th>GarageCars</th>\n",
              "      <td>1460.0</td>\n",
              "      <td>1.767123</td>\n",
              "      <td>0.747315</td>\n",
              "      <td>0.0</td>\n",
              "      <td>1.00</td>\n",
              "      <td>2.0</td>\n",
              "      <td>2.00</td>\n",
              "      <td>4.0</td>\n",
              "    </tr>\n",
              "    <tr>\n",
              "      <th>GarageArea</th>\n",
              "      <td>1460.0</td>\n",
              "      <td>472.980137</td>\n",
              "      <td>213.804841</td>\n",
              "      <td>0.0</td>\n",
              "      <td>334.50</td>\n",
              "      <td>480.0</td>\n",
              "      <td>576.00</td>\n",
              "      <td>1418.0</td>\n",
              "    </tr>\n",
              "    <tr>\n",
              "      <th>WoodDeckSF</th>\n",
              "      <td>1460.0</td>\n",
              "      <td>94.244521</td>\n",
              "      <td>125.338794</td>\n",
              "      <td>0.0</td>\n",
              "      <td>0.00</td>\n",
              "      <td>0.0</td>\n",
              "      <td>168.00</td>\n",
              "      <td>857.0</td>\n",
              "    </tr>\n",
              "    <tr>\n",
              "      <th>OpenPorchSF</th>\n",
              "      <td>1460.0</td>\n",
              "      <td>46.660274</td>\n",
              "      <td>66.256028</td>\n",
              "      <td>0.0</td>\n",
              "      <td>0.00</td>\n",
              "      <td>25.0</td>\n",
              "      <td>68.00</td>\n",
              "      <td>547.0</td>\n",
              "    </tr>\n",
              "    <tr>\n",
              "      <th>EnclosedPorch</th>\n",
              "      <td>1460.0</td>\n",
              "      <td>21.954110</td>\n",
              "      <td>61.119149</td>\n",
              "      <td>0.0</td>\n",
              "      <td>0.00</td>\n",
              "      <td>0.0</td>\n",
              "      <td>0.00</td>\n",
              "      <td>552.0</td>\n",
              "    </tr>\n",
              "    <tr>\n",
              "      <th>3SsnPorch</th>\n",
              "      <td>1460.0</td>\n",
              "      <td>3.409589</td>\n",
              "      <td>29.317331</td>\n",
              "      <td>0.0</td>\n",
              "      <td>0.00</td>\n",
              "      <td>0.0</td>\n",
              "      <td>0.00</td>\n",
              "      <td>508.0</td>\n",
              "    </tr>\n",
              "    <tr>\n",
              "      <th>ScreenPorch</th>\n",
              "      <td>1460.0</td>\n",
              "      <td>15.060959</td>\n",
              "      <td>55.757415</td>\n",
              "      <td>0.0</td>\n",
              "      <td>0.00</td>\n",
              "      <td>0.0</td>\n",
              "      <td>0.00</td>\n",
              "      <td>480.0</td>\n",
              "    </tr>\n",
              "    <tr>\n",
              "      <th>PoolArea</th>\n",
              "      <td>1460.0</td>\n",
              "      <td>2.758904</td>\n",
              "      <td>40.177307</td>\n",
              "      <td>0.0</td>\n",
              "      <td>0.00</td>\n",
              "      <td>0.0</td>\n",
              "      <td>0.00</td>\n",
              "      <td>738.0</td>\n",
              "    </tr>\n",
              "    <tr>\n",
              "      <th>MiscVal</th>\n",
              "      <td>1460.0</td>\n",
              "      <td>43.489041</td>\n",
              "      <td>496.123024</td>\n",
              "      <td>0.0</td>\n",
              "      <td>0.00</td>\n",
              "      <td>0.0</td>\n",
              "      <td>0.00</td>\n",
              "      <td>15500.0</td>\n",
              "    </tr>\n",
              "    <tr>\n",
              "      <th>MoSold</th>\n",
              "      <td>1460.0</td>\n",
              "      <td>6.321918</td>\n",
              "      <td>2.703626</td>\n",
              "      <td>1.0</td>\n",
              "      <td>5.00</td>\n",
              "      <td>6.0</td>\n",
              "      <td>8.00</td>\n",
              "      <td>12.0</td>\n",
              "    </tr>\n",
              "    <tr>\n",
              "      <th>YrSold</th>\n",
              "      <td>1460.0</td>\n",
              "      <td>2007.815753</td>\n",
              "      <td>1.328095</td>\n",
              "      <td>2006.0</td>\n",
              "      <td>2007.00</td>\n",
              "      <td>2008.0</td>\n",
              "      <td>2009.00</td>\n",
              "      <td>2010.0</td>\n",
              "    </tr>\n",
              "    <tr>\n",
              "      <th>SalePrice</th>\n",
              "      <td>1460.0</td>\n",
              "      <td>180921.195890</td>\n",
              "      <td>79442.502883</td>\n",
              "      <td>34900.0</td>\n",
              "      <td>129975.00</td>\n",
              "      <td>163000.0</td>\n",
              "      <td>214000.00</td>\n",
              "      <td>755000.0</td>\n",
              "    </tr>\n",
              "  </tbody>\n",
              "</table>\n",
              "</div>"
            ],
            "text/plain": [
              "                count           mean  ...        75%       max\n",
              "Id             1460.0     730.500000  ...    1095.25    1460.0\n",
              "MSSubClass     1460.0      56.897260  ...      70.00     190.0\n",
              "LotFrontage    1201.0      70.049958  ...      80.00     313.0\n",
              "LotArea        1460.0   10516.828082  ...   11601.50  215245.0\n",
              "OverallQual    1460.0       6.099315  ...       7.00      10.0\n",
              "OverallCond    1460.0       5.575342  ...       6.00       9.0\n",
              "YearBuilt      1460.0    1971.267808  ...    2000.00    2010.0\n",
              "YearRemodAdd   1460.0    1984.865753  ...    2004.00    2010.0\n",
              "MasVnrArea     1452.0     103.685262  ...     166.00    1600.0\n",
              "BsmtFinSF1     1460.0     443.639726  ...     712.25    5644.0\n",
              "BsmtFinSF2     1460.0      46.549315  ...       0.00    1474.0\n",
              "BsmtUnfSF      1460.0     567.240411  ...     808.00    2336.0\n",
              "TotalBsmtSF    1460.0    1057.429452  ...    1298.25    6110.0\n",
              "1stFlrSF       1460.0    1162.626712  ...    1391.25    4692.0\n",
              "2ndFlrSF       1460.0     346.992466  ...     728.00    2065.0\n",
              "LowQualFinSF   1460.0       5.844521  ...       0.00     572.0\n",
              "GrLivArea      1460.0    1515.463699  ...    1776.75    5642.0\n",
              "BsmtFullBath   1460.0       0.425342  ...       1.00       3.0\n",
              "BsmtHalfBath   1460.0       0.057534  ...       0.00       2.0\n",
              "FullBath       1460.0       1.565068  ...       2.00       3.0\n",
              "HalfBath       1460.0       0.382877  ...       1.00       2.0\n",
              "BedroomAbvGr   1460.0       2.866438  ...       3.00       8.0\n",
              "KitchenAbvGr   1460.0       1.046575  ...       1.00       3.0\n",
              "TotRmsAbvGrd   1460.0       6.517808  ...       7.00      14.0\n",
              "Fireplaces     1460.0       0.613014  ...       1.00       3.0\n",
              "GarageYrBlt    1379.0    1978.506164  ...    2002.00    2010.0\n",
              "GarageCars     1460.0       1.767123  ...       2.00       4.0\n",
              "GarageArea     1460.0     472.980137  ...     576.00    1418.0\n",
              "WoodDeckSF     1460.0      94.244521  ...     168.00     857.0\n",
              "OpenPorchSF    1460.0      46.660274  ...      68.00     547.0\n",
              "EnclosedPorch  1460.0      21.954110  ...       0.00     552.0\n",
              "3SsnPorch      1460.0       3.409589  ...       0.00     508.0\n",
              "ScreenPorch    1460.0      15.060959  ...       0.00     480.0\n",
              "PoolArea       1460.0       2.758904  ...       0.00     738.0\n",
              "MiscVal        1460.0      43.489041  ...       0.00   15500.0\n",
              "MoSold         1460.0       6.321918  ...       8.00      12.0\n",
              "YrSold         1460.0    2007.815753  ...    2009.00    2010.0\n",
              "SalePrice      1460.0  180921.195890  ...  214000.00  755000.0\n",
              "\n",
              "[38 rows x 8 columns]"
            ]
          },
          "metadata": {},
          "execution_count": 564
        }
      ]
    },
    {
      "cell_type": "markdown",
      "metadata": {
        "id": "yd5KqsCK5fMI"
      },
      "source": [
        "LotFrontage: خیابان متصل به ملک"
      ]
    },
    {
      "cell_type": "code",
      "metadata": {
        "colab": {
          "base_uri": "https://localhost:8080/",
          "height": 282
        },
        "id": "TpQul0FPn22v",
        "outputId": "c2923de6-e611-420a-fb75-81f675d6dc7e"
      },
      "source": [
        "import seaborn as sns\n",
        "sns.boxplot(data = train_data['LotFrontage'], orient = 'h')"
      ],
      "execution_count": 565,
      "outputs": [
        {
          "output_type": "execute_result",
          "data": {
            "text/plain": [
              "<matplotlib.axes._subplots.AxesSubplot at 0x7f468fe8d910>"
            ]
          },
          "metadata": {},
          "execution_count": 565
        },
        {
          "output_type": "display_data",
          "data": {
            "image/png": "[encoded data removed]",
            "text/plain": [
              "<Figure size 432x288 with 1 Axes>"
            ]
          },
          "metadata": {
            "needs_background": "light"
          }
        }
      ]
    },
    {
      "cell_type": "code",
      "metadata": {
        "colab": {
          "base_uri": "https://localhost:8080/"
        },
        "id": "3Npmj3ZKnUX8",
        "outputId": "d6549691-da43-4007-8b3c-8c7631f43f2a"
      },
      "source": [
        "train_data['LotFrontage'].sort_values(ascending = False)"
      ],
      "execution_count": 566,
      "outputs": [
        {
          "output_type": "execute_result",
          "data": {
            "text/plain": [
              "1298    313.0\n",
              "934     313.0\n",
              "1127    182.0\n",
              "197     174.0\n",
              "231     174.0\n",
              "        ...  \n",
              "1429      NaN\n",
              "1431      NaN\n",
              "1441      NaN\n",
              "1443      NaN\n",
              "1446      NaN\n",
              "Name: LotFrontage, Length: 1460, dtype: float64"
            ]
          },
          "metadata": {},
          "execution_count": 566
        }
      ]
    },
    {
      "cell_type": "markdown",
      "metadata": {
        "id": "zxrppbix6ECD"
      },
      "source": [
        "LotArea: اندازه قطعه در فوت مربع\n",
        "خیابان: نوع دسترسی به جاده\n",
        "کوچه: نوع دسترسی کوچه"
      ]
    },
    {
      "cell_type": "code",
      "metadata": {
        "colab": {
          "base_uri": "https://localhost:8080/",
          "height": 282
        },
        "id": "qr31I4cTrEJ5",
        "outputId": "26d0ffff-e8b8-4632-a0b3-e76f35c66214"
      },
      "source": [
        "sns.boxplot(data = train_data['LotArea'], orient = 'h')"
      ],
      "execution_count": 567,
      "outputs": [
        {
          "output_type": "execute_result",
          "data": {
            "text/plain": [
              "<matplotlib.axes._subplots.AxesSubplot at 0x7f468e5d9450>"
            ]
          },
          "metadata": {},
          "execution_count": 567
        },
        {
          "output_type": "display_data",
          "data": {
            "image/png": "[encoded data removed]",
            "text/plain": [
              "<Figure size 432x288 with 1 Axes>"
            ]
          },
          "metadata": {
            "needs_background": "light"
          }
        }
      ]
    },
    {
      "cell_type": "code",
      "metadata": {
        "colab": {
          "base_uri": "https://localhost:8080/"
        },
        "id": "FY5zC29Rrup1",
        "outputId": "c87062bb-2b72-4e66-ca8e-f3bf076a326f"
      },
      "source": [
        "train_data['LotArea'].sort_values(ascending = False)"
      ],
      "execution_count": 568,
      "outputs": [
        {
          "output_type": "execute_result",
          "data": {
            "text/plain": [
              "313     215245\n",
              "335     164660\n",
              "249     159000\n",
              "706     115149\n",
              "451      70761\n",
              "         ...  \n",
              "1449      1533\n",
              "489       1526\n",
              "614       1491\n",
              "1039      1477\n",
              "956       1300\n",
              "Name: LotArea, Length: 1460, dtype: int64"
            ]
          },
          "metadata": {},
          "execution_count": 568
        }
      ]
    },
    {
      "cell_type": "markdown",
      "metadata": {
        "id": "QI32Pvch6Y4n"
      },
      "source": [
        "MasVnrArea: ناحیه روکش بنایی در فوت مربع"
      ]
    },
    {
      "cell_type": "code",
      "metadata": {
        "colab": {
          "base_uri": "https://localhost:8080/",
          "height": 282
        },
        "id": "Foz9--tDr8OE",
        "outputId": "20c60495-66cf-4c96-df85-a0ca2827e568"
      },
      "source": [
        "sns.boxplot(data = train_data['MasVnrArea'], orient = 'h')"
      ],
      "execution_count": 569,
      "outputs": [
        {
          "output_type": "execute_result",
          "data": {
            "text/plain": [
              "<matplotlib.axes._subplots.AxesSubplot at 0x7f468e7c8e50>"
            ]
          },
          "metadata": {},
          "execution_count": 569
        },
        {
          "output_type": "display_data",
          "data": {
            "image/png": "[encoded data removed]",
            "text/plain": [
              "<Figure size 432x288 with 1 Axes>"
            ]
          },
          "metadata": {
            "needs_background": "light"
          }
        }
      ]
    },
    {
      "cell_type": "code",
      "metadata": {
        "colab": {
          "base_uri": "https://localhost:8080/"
        },
        "id": "-cNT8W-jsbCl",
        "outputId": "64a2c962-19af-4e19-b582-cb713f49fd39"
      },
      "source": [
        "train_data['MasVnrArea'].sort_values(ascending = False)"
      ],
      "execution_count": 570,
      "outputs": [
        {
          "output_type": "execute_result",
          "data": {
            "text/plain": [
              "297     1600.0\n",
              "1169    1378.0\n",
              "691     1170.0\n",
              "115     1129.0\n",
              "70      1115.0\n",
              "         ...  \n",
              "936        NaN\n",
              "973        NaN\n",
              "977        NaN\n",
              "1243       NaN\n",
              "1278       NaN\n",
              "Name: MasVnrArea, Length: 1460, dtype: float64"
            ]
          },
          "metadata": {},
          "execution_count": 570
        }
      ]
    },
    {
      "cell_type": "code",
      "metadata": {
        "colab": {
          "base_uri": "https://localhost:8080/"
        },
        "id": "XazS4Ovyu0Ek",
        "outputId": "45a84310-8907-409b-af0e-2246b8d246e6"
      },
      "source": [
        "train_data['BsmtFinSF1'].sort_values(ascending = False)"
      ],
      "execution_count": 571,
      "outputs": [
        {
          "output_type": "execute_result",
          "data": {
            "text/plain": [
              "1298    5644\n",
              "523     2260\n",
              "898     2188\n",
              "1182    2096\n",
              "178     1904\n",
              "        ... \n",
              "710        0\n",
              "709        0\n",
              "1337       0\n",
              "708        0\n",
              "1090       0\n",
              "Name: BsmtFinSF1, Length: 1460, dtype: int64"
            ]
          },
          "metadata": {},
          "execution_count": 571
        }
      ]
    },
    {
      "cell_type": "code",
      "metadata": {
        "colab": {
          "base_uri": "https://localhost:8080/",
          "height": 282
        },
        "id": "Y6gdLMp_vgal",
        "outputId": "449df91a-44e6-4cd6-bf49-99218aff689d"
      },
      "source": [
        "sns.boxplot(data = train_data['BsmtFinSF2'], orient = 'h')"
      ],
      "execution_count": 572,
      "outputs": [
        {
          "output_type": "execute_result",
          "data": {
            "text/plain": [
              "<matplotlib.axes._subplots.AxesSubplot at 0x7f468e97ef90>"
            ]
          },
          "metadata": {},
          "execution_count": 572
        },
        {
          "output_type": "display_data",
          "data": {
            "image/png": "[encoded data removed]",
            "text/plain": [
              "<Figure size 432x288 with 1 Axes>"
            ]
          },
          "metadata": {
            "needs_background": "light"
          }
        }
      ]
    },
    {
      "cell_type": "code",
      "metadata": {
        "colab": {
          "base_uri": "https://localhost:8080/"
        },
        "id": "HDg6hD8fwjzq",
        "outputId": "f7cd8511-d331-4f98-a09e-3a14a1817a91"
      },
      "source": [
        "train_data['BsmtFinSF2'].sort_values(ascending = False)"
      ],
      "execution_count": 573,
      "outputs": [
        {
          "output_type": "execute_result",
          "data": {
            "text/plain": [
              "322    1474\n",
              "542    1127\n",
              "470    1120\n",
              "854    1085\n",
              "153    1080\n",
              "       ... \n",
              "952       0\n",
              "954       0\n",
              "955       0\n",
              "956       0\n",
              "0         0\n",
              "Name: BsmtFinSF2, Length: 1460, dtype: int64"
            ]
          },
          "metadata": {},
          "execution_count": 573
        }
      ]
    },
    {
      "cell_type": "code",
      "metadata": {
        "colab": {
          "base_uri": "https://localhost:8080/",
          "height": 282
        },
        "id": "9KCUs6FWwuej",
        "outputId": "705c6124-9bc5-4d6c-a050-55e26f484c0e"
      },
      "source": [
        "sns.boxplot(data = train_data['BsmtUnfSF'], orient = 'h')"
      ],
      "execution_count": 574,
      "outputs": [
        {
          "output_type": "execute_result",
          "data": {
            "text/plain": [
              "<matplotlib.axes._subplots.AxesSubplot at 0x7f468e8fec90>"
            ]
          },
          "metadata": {},
          "execution_count": 574
        },
        {
          "output_type": "display_data",
          "data": {
            "image/png": "[encoded data removed]",
            "text/plain": [
              "<Figure size 432x288 with 1 Axes>"
            ]
          },
          "metadata": {
            "needs_background": "light"
          }
        }
      ]
    },
    {
      "cell_type": "code",
      "metadata": {
        "colab": {
          "base_uri": "https://localhost:8080/"
        },
        "id": "acEWl7k4wpUO",
        "outputId": "baed5aa3-b8fd-4f94-99f3-144138be54b6"
      },
      "source": [
        "train_data['BsmtUnfSF'].sort_values(ascending = False)"
      ],
      "execution_count": 575,
      "outputs": [
        {
          "output_type": "execute_result",
          "data": {
            "text/plain": [
              "224    2336\n",
              "477    2153\n",
              "278    2121\n",
              "678    2046\n",
              "581    2042\n",
              "       ... \n",
              "828       0\n",
              "845       0\n",
              "856       0\n",
              "260       0\n",
              "259       0\n",
              "Name: BsmtUnfSF, Length: 1460, dtype: int64"
            ]
          },
          "metadata": {},
          "execution_count": 575
        }
      ]
    },
    {
      "cell_type": "code",
      "metadata": {
        "colab": {
          "base_uri": "https://localhost:8080/",
          "height": 282
        },
        "id": "PfRnjTAjxCRM",
        "outputId": "0c826572-21ad-4f86-b23d-3d8580f23feb"
      },
      "source": [
        "sns.boxplot(data = train_data['TotalBsmtSF'], orient = 'h')"
      ],
      "execution_count": 576,
      "outputs": [
        {
          "output_type": "execute_result",
          "data": {
            "text/plain": [
              "<matplotlib.axes._subplots.AxesSubplot at 0x7f468f28d090>"
            ]
          },
          "metadata": {},
          "execution_count": 576
        },
        {
          "output_type": "display_data",
          "data": {
            "image/png": "[encoded data removed]",
            "text/plain": [
              "<Figure size 432x288 with 1 Axes>"
            ]
          },
          "metadata": {
            "needs_background": "light"
          }
        }
      ]
    },
    {
      "cell_type": "code",
      "metadata": {
        "colab": {
          "base_uri": "https://localhost:8080/",
          "height": 282
        },
        "id": "vqFnGBz3xUta",
        "outputId": "76c2837b-1ff3-4ce5-9c74-0ce3d61c9274"
      },
      "source": [
        "sns.boxplot(data = train_data['1stFlrSF'], orient = 'h')"
      ],
      "execution_count": 577,
      "outputs": [
        {
          "output_type": "execute_result",
          "data": {
            "text/plain": [
              "<matplotlib.axes._subplots.AxesSubplot at 0x7f468ea3ba50>"
            ]
          },
          "metadata": {},
          "execution_count": 577
        },
        {
          "output_type": "display_data",
          "data": {
            "image/png": "[encoded data removed]",
            "text/plain": [
              "<Figure size 432x288 with 1 Axes>"
            ]
          },
          "metadata": {
            "needs_background": "light"
          }
        }
      ]
    },
    {
      "cell_type": "code",
      "metadata": {
        "colab": {
          "base_uri": "https://localhost:8080/",
          "height": 282
        },
        "id": "2JTq3jFTxgzh",
        "outputId": "3155e316-0211-45c2-dec2-7be653724616"
      },
      "source": [
        "sns.boxplot(data = train_data['2ndFlrSF'], orient = 'h')"
      ],
      "execution_count": 578,
      "outputs": [
        {
          "output_type": "execute_result",
          "data": {
            "text/plain": [
              "<matplotlib.axes._subplots.AxesSubplot at 0x7f468fb5ba10>"
            ]
          },
          "metadata": {},
          "execution_count": 578
        },
        {
          "output_type": "display_data",
          "data": {
            "image/png": "[encoded data removed]",
            "text/plain": [
              "<Figure size 432x288 with 1 Axes>"
            ]
          },
          "metadata": {
            "needs_background": "light"
          }
        }
      ]
    },
    {
      "cell_type": "code",
      "metadata": {
        "colab": {
          "base_uri": "https://localhost:8080/",
          "height": 282
        },
        "id": "oWfcKXx82gHx",
        "outputId": "18313eee-7f48-477c-be92-13ab033f9b7c"
      },
      "source": [
        "sns.boxplot(data = train_data['LowQualFinSF'], orient = 'h')"
      ],
      "execution_count": 579,
      "outputs": [
        {
          "output_type": "execute_result",
          "data": {
            "text/plain": [
              "<matplotlib.axes._subplots.AxesSubplot at 0x7f468fb01e10>"
            ]
          },
          "metadata": {},
          "execution_count": 579
        },
        {
          "output_type": "display_data",
          "data": {
            "image/png": "[encoded data removed]",
            "text/plain": [
              "<Figure size 432x288 with 1 Axes>"
            ]
          },
          "metadata": {
            "needs_background": "light"
          }
        }
      ]
    },
    {
      "cell_type": "code",
      "metadata": {
        "colab": {
          "base_uri": "https://localhost:8080/",
          "height": 282
        },
        "id": "RWx3ZrTs3C7N",
        "outputId": "823327a0-5be6-48c0-dcab-af6f276c1690"
      },
      "source": [
        "sns.boxplot(data = train_data['GrLivArea'], orient = 'h')"
      ],
      "execution_count": 580,
      "outputs": [
        {
          "output_type": "execute_result",
          "data": {
            "text/plain": [
              "<matplotlib.axes._subplots.AxesSubplot at 0x7f46904d89d0>"
            ]
          },
          "metadata": {},
          "execution_count": 580
        },
        {
          "output_type": "display_data",
          "data": {
            "image/png": "[encoded data removed]",
            "text/plain": [
              "<Figure size 432x288 with 1 Axes>"
            ]
          },
          "metadata": {
            "needs_background": "light"
          }
        }
      ]
    },
    {
      "cell_type": "code",
      "metadata": {
        "colab": {
          "base_uri": "https://localhost:8080/"
        },
        "id": "1vxUJjK53Lkh",
        "outputId": "9bc46111-f019-4b99-a2e2-d64dee05b148"
      },
      "source": [
        "train_data['GrLivArea'].sort_values()"
      ],
      "execution_count": 581,
      "outputs": [
        {
          "output_type": "execute_result",
          "data": {
            "text/plain": [
              "533      334\n",
              "1100     438\n",
              "916      480\n",
              "29       520\n",
              "528      605\n",
              "        ... \n",
              "1169    3627\n",
              "691     4316\n",
              "1182    4476\n",
              "523     4676\n",
              "1298    5642\n",
              "Name: GrLivArea, Length: 1460, dtype: int64"
            ]
          },
          "metadata": {},
          "execution_count": 581
        }
      ]
    },
    {
      "cell_type": "markdown",
      "metadata": {
        "id": "NPclasKv63QP"
      },
      "source": [
        "حمام کامل زیرزمین"
      ]
    },
    {
      "cell_type": "code",
      "metadata": {
        "colab": {
          "base_uri": "https://localhost:8080/",
          "height": 282
        },
        "id": "t8zhdx583PW0",
        "outputId": "15bf48ed-a8f0-4ea9-e9e4-28247aba74f3"
      },
      "source": [
        "sns.boxplot(data = train_data['BsmtFullBath'], orient = 'h')"
      ],
      "execution_count": 582,
      "outputs": [
        {
          "output_type": "execute_result",
          "data": {
            "text/plain": [
              "<matplotlib.axes._subplots.AxesSubplot at 0x7f468fffad50>"
            ]
          },
          "metadata": {},
          "execution_count": 582
        },
        {
          "output_type": "display_data",
          "data": {
            "image/png": "[encoded data removed]",
            "text/plain": [
              "<Figure size 432x288 with 1 Axes>"
            ]
          },
          "metadata": {
            "needs_background": "light"
          }
        }
      ]
    },
    {
      "cell_type": "code",
      "metadata": {
        "colab": {
          "base_uri": "https://localhost:8080/"
        },
        "id": "ThnjjPgx3dBU",
        "outputId": "2690d982-d05e-4a3e-ffd8-77ccd9c61389"
      },
      "source": [
        "train_data['BsmtFullBath'].sort_values()"
      ],
      "execution_count": 583,
      "outputs": [
        {
          "output_type": "execute_result",
          "data": {
            "text/plain": [
              "729     0\n",
              "647     0\n",
              "648     0\n",
              "650     0\n",
              "652     0\n",
              "       ..\n",
              "588     2\n",
              "921     2\n",
              "634     2\n",
              "1163    2\n",
              "738     3\n",
              "Name: BsmtFullBath, Length: 1460, dtype: int64"
            ]
          },
          "metadata": {},
          "execution_count": 583
        }
      ]
    },
    {
      "cell_type": "markdown",
      "metadata": {
        "id": "PhQDN3qu7LHD"
      },
      "source": [
        ""
      ]
    },
    {
      "cell_type": "code",
      "metadata": {
        "colab": {
          "base_uri": "https://localhost:8080/",
          "height": 282
        },
        "id": "sw62x5JP7J1Q",
        "outputId": "73c9d439-2800-4c09-9575-f01e1b44df56"
      },
      "source": [
        "sns.boxplot(data = train_data['BsmtHalfBath'], orient = 'h')"
      ],
      "execution_count": 584,
      "outputs": [
        {
          "output_type": "execute_result",
          "data": {
            "text/plain": [
              "<matplotlib.axes._subplots.AxesSubplot at 0x7f46901ce6d0>"
            ]
          },
          "metadata": {},
          "execution_count": 584
        },
        {
          "output_type": "display_data",
          "data": {
            "image/png": "[encoded data removed]",
            "text/plain": [
              "<Figure size 432x288 with 1 Axes>"
            ]
          },
          "metadata": {
            "needs_background": "light"
          }
        }
      ]
    },
    {
      "cell_type": "code",
      "metadata": {
        "colab": {
          "base_uri": "https://localhost:8080/",
          "height": 282
        },
        "id": "D5sw2ifV7ZGm",
        "outputId": "0439debe-8835-4813-d971-7057421d7c4b"
      },
      "source": [
        "sns.boxplot(data = train_data['FullBath'], orient = 'h')"
      ],
      "execution_count": 585,
      "outputs": [
        {
          "output_type": "execute_result",
          "data": {
            "text/plain": [
              "<matplotlib.axes._subplots.AxesSubplot at 0x7f4692914550>"
            ]
          },
          "metadata": {},
          "execution_count": 585
        },
        {
          "output_type": "display_data",
          "data": {
            "image/png": "[encoded data removed]",
            "text/plain": [
              "<Figure size 432x288 with 1 Axes>"
            ]
          },
          "metadata": {
            "needs_background": "light"
          }
        }
      ]
    },
    {
      "cell_type": "code",
      "metadata": {
        "colab": {
          "base_uri": "https://localhost:8080/",
          "height": 282
        },
        "id": "i8BdcAi07i95",
        "outputId": "788dabdd-f7b0-4d29-ab15-caf77c0065a2"
      },
      "source": [
        "sns.boxplot(data = train_data['HalfBath'], orient = 'h')"
      ],
      "execution_count": 586,
      "outputs": [
        {
          "output_type": "execute_result",
          "data": {
            "text/plain": [
              "<matplotlib.axes._subplots.AxesSubplot at 0x7f469039be10>"
            ]
          },
          "metadata": {},
          "execution_count": 586
        },
        {
          "output_type": "display_data",
          "data": {
            "image/png": "[encoded data removed]",
            "text/plain": [
              "<Figure size 432x288 with 1 Axes>"
            ]
          },
          "metadata": {
            "needs_background": "light"
          }
        }
      ]
    },
    {
      "cell_type": "code",
      "metadata": {
        "colab": {
          "base_uri": "https://localhost:8080/",
          "height": 282
        },
        "id": "3ROEG0Wu727z",
        "outputId": "933b2877-ae7b-408b-d77b-9d0b7ce701f2"
      },
      "source": [
        "sns.boxplot(data = train_data['BedroomAbvGr'], orient = 'h')"
      ],
      "execution_count": 587,
      "outputs": [
        {
          "output_type": "execute_result",
          "data": {
            "text/plain": [
              "<matplotlib.axes._subplots.AxesSubplot at 0x7f468ebcc5d0>"
            ]
          },
          "metadata": {},
          "execution_count": 587
        },
        {
          "output_type": "display_data",
          "data": {
            "image/png": "[encoded data removed]",
            "text/plain": [
              "<Figure size 432x288 with 1 Axes>"
            ]
          },
          "metadata": {
            "needs_background": "light"
          }
        }
      ]
    },
    {
      "cell_type": "code",
      "metadata": {
        "colab": {
          "base_uri": "https://localhost:8080/"
        },
        "id": "PVzhx2C78ATT",
        "outputId": "e3229b10-c3be-4d9b-a1a4-259fc299f0c0"
      },
      "source": [
        "train_data['BedroomAbvGr'].sort_values()"
      ],
      "execution_count": 588,
      "outputs": [
        {
          "output_type": "execute_result",
          "data": {
            "text/plain": [
              "1163    0\n",
              "1213    0\n",
              "634     0\n",
              "1270    0\n",
              "53      0\n",
              "       ..\n",
              "144     6\n",
              "291     6\n",
              "897     6\n",
              "330     6\n",
              "635     8\n",
              "Name: BedroomAbvGr, Length: 1460, dtype: int64"
            ]
          },
          "metadata": {},
          "execution_count": 588
        }
      ]
    },
    {
      "cell_type": "markdown",
      "metadata": {
        "id": "WqZpworT8bzF"
      },
      "source": [
        "نوع مسکن مربوط به فروش را مشخص می کند"
      ]
    },
    {
      "cell_type": "code",
      "metadata": {
        "colab": {
          "base_uri": "https://localhost:8080/"
        },
        "id": "N0RHyvZf8bAK",
        "outputId": "c99fd418-202a-486a-87b0-093155cf15b3"
      },
      "source": [
        "train_data['MSSubClass'].value_counts()"
      ],
      "execution_count": 589,
      "outputs": [
        {
          "output_type": "execute_result",
          "data": {
            "text/plain": [
              "20     536\n",
              "60     299\n",
              "50     144\n",
              "120     87\n",
              "30      69\n",
              "160     63\n",
              "70      60\n",
              "80      58\n",
              "90      52\n",
              "190     30\n",
              "85      20\n",
              "75      16\n",
              "45      12\n",
              "180     10\n",
              "40       4\n",
              "Name: MSSubClass, dtype: int64"
            ]
          },
          "metadata": {},
          "execution_count": 589
        }
      ]
    },
    {
      "cell_type": "code",
      "metadata": {
        "colab": {
          "base_uri": "https://localhost:8080/",
          "height": 80
        },
        "id": "Iyb7YvEA8sak",
        "outputId": "7e597e48-b220-4909-b09c-820dccda1609"
      },
      "source": [
        "corr_matrix.loc[['MSSubClass']]"
      ],
      "execution_count": 590,
      "outputs": [
        {
          "output_type": "execute_result",
          "data": {
            "text/html": [
              "<div>\n",
              "<style scoped>\n",
              "    .dataframe tbody tr th:only-of-type {\n",
              "        vertical-align: middle;\n",
              "    }\n",
              "\n",
              "    .dataframe tbody tr th {\n",
              "        vertical-align: top;\n",
              "    }\n",
              "\n",
              "    .dataframe thead th {\n",
              "        text-align: right;\n",
              "    }\n",
              "</style>\n",
              "<table border=\"1\" class=\"dataframe\">\n",
              "  <thead>\n",
              "    <tr style=\"text-align: right;\">\n",
              "      <th></th>\n",
              "      <th>SalePrice</th>\n",
              "    </tr>\n",
              "  </thead>\n",
              "  <tbody>\n",
              "    <tr>\n",
              "      <th>MSSubClass</th>\n",
              "      <td>-0.084284</td>\n",
              "    </tr>\n",
              "  </tbody>\n",
              "</table>\n",
              "</div>"
            ],
            "text/plain": [
              "            SalePrice\n",
              "MSSubClass  -0.084284"
            ]
          },
          "metadata": {},
          "execution_count": 590
        }
      ]
    },
    {
      "cell_type": "markdown",
      "metadata": {
        "id": "cZ_FAZKa9U3B"
      },
      "source": [
        "همبستگی با قیمت منفی است.   این ستون بی فایده به نظر می رسد - ما سالی دیگر قیمتی دیگر را داریم بنابراین  من آن را حذف می کنم."
      ]
    },
    {
      "cell_type": "code",
      "metadata": {
        "id": "8g4CVocm8_KA"
      },
      "source": [
        "train_data = train_data.drop('MSSubClass', 1)"
      ],
      "execution_count": 591,
      "outputs": []
    },
    {
      "cell_type": "markdown",
      "metadata": {
        "id": "j2E_Xguj-Lz5"
      },
      "source": [
        "MSZoning\n",
        "طبقه بندی فروش منطقه ای  را مشخص می کند\n",
        "\n"
      ]
    },
    {
      "cell_type": "code",
      "metadata": {
        "colab": {
          "base_uri": "https://localhost:8080/"
        },
        "id": "PkVSC2Jk-EfD",
        "outputId": "fda2dd69-6ba4-49cf-d4b7-0ab09594754f"
      },
      "source": [
        "train_data['MSZoning'].value_counts()"
      ],
      "execution_count": 592,
      "outputs": [
        {
          "output_type": "execute_result",
          "data": {
            "text/plain": [
              "RL         1151\n",
              "RM          218\n",
              "FV           65\n",
              "RH           16\n",
              "C (all)      10\n",
              "Name: MSZoning, dtype: int64"
            ]
          },
          "metadata": {},
          "execution_count": 592
        }
      ]
    },
    {
      "cell_type": "markdown",
      "metadata": {
        "id": "9KVX_2lO-m62"
      },
      "source": [
        " این ستون در مورد چگالی است.  هرچه کمتر  بهتر."
      ]
    },
    {
      "cell_type": "markdown",
      "metadata": {
        "id": "NcN0PChJ_LdW"
      },
      "source": [
        "گروهبند ونرمالسازی وتبدیل نوع داده به \n",
        "float\n"
      ]
    },
    {
      "cell_type": "code",
      "metadata": {
        "id": "9fICD9bh_P84"
      },
      "source": [
        "msz = train_data.groupby('MSZoning', as_index = False)['SalePrice'].mean().sort_values(by = 'SalePrice', ascending = False)\n",
        "\n",
        "msz['normalized'] = round((msz['SalePrice'] - msz['SalePrice'].min()) / (msz['SalePrice'].max() - msz['SalePrice'].min()),3)\n",
        "\n",
        "train_data['MSZoning'] = train_data['MSZoning'].apply(lambda x: msz.loc[msz['MSZoning'] == x, 'normalized'].item())\n",
        "train_data['MSZoning'] = train_data['MSZoning'].astype(float)"
      ],
      "execution_count": 593,
      "outputs": []
    },
    {
      "cell_type": "code",
      "metadata": {
        "colab": {
          "base_uri": "https://localhost:8080/",
          "height": 80
        },
        "id": "iEQCqfKD-1eO",
        "outputId": "b04fbd84-9ca1-4076-a5e2-2991823819b6"
      },
      "source": [
        "train_data.corr()[['SalePrice']].sort_values(by = ['SalePrice'], \n",
        "ascending = False).drop(['SalePrice']).loc[['MSZoning']]\n"
      ],
      "execution_count": 594,
      "outputs": [
        {
          "output_type": "execute_result",
          "data": {
            "text/html": [
              "<div>\n",
              "<style scoped>\n",
              "    .dataframe tbody tr th:only-of-type {\n",
              "        vertical-align: middle;\n",
              "    }\n",
              "\n",
              "    .dataframe tbody tr th {\n",
              "        vertical-align: top;\n",
              "    }\n",
              "\n",
              "    .dataframe thead th {\n",
              "        text-align: right;\n",
              "    }\n",
              "</style>\n",
              "<table border=\"1\" class=\"dataframe\">\n",
              "  <thead>\n",
              "    <tr style=\"text-align: right;\">\n",
              "      <th></th>\n",
              "      <th>SalePrice</th>\n",
              "    </tr>\n",
              "  </thead>\n",
              "  <tbody>\n",
              "    <tr>\n",
              "      <th>MSZoning</th>\n",
              "      <td>0.327963</td>\n",
              "    </tr>\n",
              "  </tbody>\n",
              "</table>\n",
              "</div>"
            ],
            "text/plain": [
              "          SalePrice\n",
              "MSZoning   0.327963"
            ]
          },
          "metadata": {},
          "execution_count": 594
        }
      ]
    },
    {
      "cell_type": "markdown",
      "metadata": {
        "id": "DaxRo7opC0eP"
      },
      "source": [
        "\n",
        "LotFrontage: خیابان متصل به ملک\n",
        "\n",
        "در اینجا مقادیر گم شده را دریافت کرده اید من برای پر کردن آنها از \n",
        "mean \n",
        "استفاده خواهم کرد."
      ]
    },
    {
      "cell_type": "code",
      "metadata": {
        "colab": {
          "base_uri": "https://localhost:8080/"
        },
        "id": "G8OLAq0jC2aL",
        "outputId": "c09c2028-e3ce-4971-b96e-997c01dce05e"
      },
      "source": [
        "train_data['LotFrontage'].skew()"
      ],
      "execution_count": 595,
      "outputs": [
        {
          "output_type": "execute_result",
          "data": {
            "text/plain": [
              "2.163569142324884"
            ]
          },
          "metadata": {},
          "execution_count": 595
        }
      ]
    },
    {
      "cell_type": "code",
      "metadata": {
        "colab": {
          "base_uri": "https://localhost:8080/",
          "height": 282
        },
        "id": "CmQgChbEDSnV",
        "outputId": "bee29118-aa71-4935-c9fc-a13ce2e76f04"
      },
      "source": [
        "train_data['LotFrontage'].hist()"
      ],
      "execution_count": 596,
      "outputs": [
        {
          "output_type": "execute_result",
          "data": {
            "text/plain": [
              "<matplotlib.axes._subplots.AxesSubplot at 0x7f468fa92610>"
            ]
          },
          "metadata": {},
          "execution_count": 596
        },
        {
          "output_type": "display_data",
          "data": {
            "image/png": "[encoded data removed]",
            "text/plain": [
              "<Figure size 432x288 with 1 Axes>"
            ]
          },
          "metadata": {
            "needs_background": "light"
          }
        }
      ]
    },
    {
      "cell_type": "code",
      "metadata": {
        "id": "WdxMpgXkETiM"
      },
      "source": [
        "train_data['LotFrontage'].fillna(train_data['LotFrontage'].mean(), inplace = True)"
      ],
      "execution_count": 597,
      "outputs": []
    },
    {
      "cell_type": "markdown",
      "metadata": {
        "id": "0aDUNpEUErDt"
      },
      "source": [
        "LotArea: اندازه قطعه در فوت مربع"
      ]
    },
    {
      "cell_type": "code",
      "metadata": {
        "colab": {
          "base_uri": "https://localhost:8080/"
        },
        "id": "57KXDPVxEvTV",
        "outputId": "09a30afa-68c5-4492-a89f-9ffe3ce75b38"
      },
      "source": [
        "train_data['LotArea'].value_counts()"
      ],
      "execution_count": 598,
      "outputs": [
        {
          "output_type": "execute_result",
          "data": {
            "text/plain": [
              "7200     25\n",
              "9600     24\n",
              "6000     17\n",
              "10800    14\n",
              "9000     14\n",
              "         ..\n",
              "7094      1\n",
              "6130      1\n",
              "9337      1\n",
              "5232      1\n",
              "8190      1\n",
              "Name: LotArea, Length: 1073, dtype: int64"
            ]
          },
          "metadata": {},
          "execution_count": 598
        }
      ]
    },
    {
      "cell_type": "markdown",
      "metadata": {
        "id": "5MiznPhKFJXY"
      },
      "source": [
        "خیابان: نوع دسترسی جاده به ملک"
      ]
    },
    {
      "cell_type": "code",
      "metadata": {
        "colab": {
          "base_uri": "https://localhost:8080/"
        },
        "id": "QzMw6wL4FOk7",
        "outputId": "44236202-85a2-40bc-b31b-d449385a88be"
      },
      "source": [
        "train_data['Street'].value_counts()"
      ],
      "execution_count": 599,
      "outputs": [
        {
          "output_type": "execute_result",
          "data": {
            "text/plain": [
              "Pave    1454\n",
              "Grvl       6\n",
              "Name: Street, dtype: int64"
            ]
          },
          "metadata": {},
          "execution_count": 599
        }
      ]
    },
    {
      "cell_type": "markdown",
      "metadata": {
        "id": "d7T0wiwTGOUZ"
      },
      "source": [
        "این یکی بسیار اریب است .  به طور کلی می تواند روی قیمت تأثیرمنفی بگذارد."
      ]
    },
    {
      "cell_type": "code",
      "metadata": {
        "id": "7PV6PDo3GRAq"
      },
      "source": [
        "train = train_data.drop('Street', 1)"
      ],
      "execution_count": 600,
      "outputs": []
    },
    {
      "cell_type": "markdown",
      "metadata": {
        "id": "v_Tn-WHfGkyv"
      },
      "source": [
        "کوچه: نوع دسترسی کوچه به ملک"
      ]
    },
    {
      "cell_type": "markdown",
      "metadata": {
        "id": "0mA4ZOhyGxPl"
      },
      "source": [
        " وجود کوچه به صورت 1 ،  \n",
        "نبود آن به عنوان 0 کدگذاری می شود."
      ]
    },
    {
      "cell_type": "code",
      "metadata": {
        "id": "4tKJIH39GyZH"
      },
      "source": [
        "train_data['Alley'].fillna(0, inplace = True)\n",
        "train_data['Alley'] = train_data['Alley'].replace('Grvl', '1', regex = True)\n",
        "train_data['Alley'] = train_data['Alley'].replace('Pave', '1', regex = True)\n",
        "train_data['Alley'] = train_data['Alley'].astype(int)"
      ],
      "execution_count": 601,
      "outputs": []
    },
    {
      "cell_type": "markdown",
      "metadata": {
        "id": "GnhVvloQHili"
      },
      "source": [
        "LotShape: شکل کلی ویژگی"
      ]
    },
    {
      "cell_type": "code",
      "metadata": {
        "id": "QVW1himkHm8X"
      },
      "source": [
        "lshp = train_data.groupby('LotShape', as_index = False)['SalePrice'].mean().sort_values(by = 'SalePrice', ascending = False)\n",
        "lshp['normalized'] = round((lshp['SalePrice'] - lshp['SalePrice'].min()) / (lshp['SalePrice'].max() - lshp['SalePrice'].min()),3)\n",
        "train_data['LotShape'] = train_data['LotShape'].apply(lambda x: lshp.loc[lshp['LotShape'] == x, 'normalized'].item())\n",
        "train_data['LotShape'] = train_data['LotShape'].astype(float)"
      ],
      "execution_count": 602,
      "outputs": []
    },
    {
      "cell_type": "markdown",
      "metadata": {
        "id": "lbVFdDFIIQ-S"
      },
      "source": [
        "LandContour: مسطح بودن ملک"
      ]
    },
    {
      "cell_type": "code",
      "metadata": {
        "id": "F2uU7VwxIRtz"
      },
      "source": [
        "lctr = train_data.groupby('LandContour', as_index = False)['SalePrice'].mean().sort_values(by = 'SalePrice', ascending = False)\n",
        "lctr['normalized'] = round((lctr['SalePrice'] - lctr['SalePrice'].min()) / (lctr['SalePrice'].max() - lctr['SalePrice'].min()),3)\n",
        "train_data['LandContour'] = train_data['LandContour'].apply(lambda x: lctr.loc[lctr['LandContour'] == x, 'normalized'].item())\n",
        "train_data['LandContour'] = train_data['LandContour'].astype(float)"
      ],
      "execution_count": 603,
      "outputs": []
    },
    {
      "cell_type": "markdown",
      "metadata": {
        "id": "uTb8_LyPIr35"
      },
      "source": [
        "آب و برق: نوع ابزارهای موجود"
      ]
    },
    {
      "cell_type": "code",
      "metadata": {
        "colab": {
          "base_uri": "https://localhost:8080/"
        },
        "id": "JUeuPFfQI5Gj",
        "outputId": "e6630064-2485-41b6-8448-f2343b20ad10"
      },
      "source": [
        "train_data['Utilities'].value_counts()"
      ],
      "execution_count": 604,
      "outputs": [
        {
          "output_type": "execute_result",
          "data": {
            "text/plain": [
              "AllPub    1459\n",
              "NoSeWa       1\n",
              "Name: Utilities, dtype: int64"
            ]
          },
          "metadata": {},
          "execution_count": 604
        }
      ]
    },
    {
      "cell_type": "markdown",
      "metadata": {
        "id": "A-9Cy0DWJRQs"
      },
      "source": [
        ".فکر کنم هیچ تاثیری بر قیمت نداشته باشد."
      ]
    },
    {
      "cell_type": "code",
      "metadata": {
        "id": "F7Ajex1VJS_p"
      },
      "source": [
        "train_data = train_data.drop('Utilities', 1)"
      ],
      "execution_count": 605,
      "outputs": []
    },
    {
      "cell_type": "markdown",
      "metadata": {
        "id": "rxmiQTZlJms9"
      },
      "source": [
        "LotConfig: پیکربندی"
      ]
    },
    {
      "cell_type": "code",
      "metadata": {
        "id": "duQxTB7QJoZL"
      },
      "source": [
        "lcfg = train_data.groupby('LotConfig', as_index = False)['SalePrice'].mean().sort_values(by = 'SalePrice', ascending = False)\n",
        "lcfg['normalized'] = round((lcfg['SalePrice'] - lcfg['SalePrice'].min()) / (lcfg['SalePrice'].max() - lcfg['SalePrice'].min()),3)\n",
        "train_data['LotConfig'] = train_data['LotConfig'].apply(lambda x: lcfg.loc[lcfg['LotConfig'] == x, 'normalized'].item())\n",
        "train_data['LotConfig'] = train_data['LotConfig'].astype(float)"
      ],
      "execution_count": 606,
      "outputs": []
    },
    {
      "cell_type": "markdown",
      "metadata": {
        "id": "Qoy-I7T6Kw_8"
      },
      "source": [
        "LandSlope: شیب ملک"
      ]
    },
    {
      "cell_type": "code",
      "metadata": {
        "id": "dqWGS6gDKx6Z"
      },
      "source": [
        "lslp = train_data.groupby('LandSlope', as_index = False)['SalePrice'].mean().sort_values(by = 'SalePrice', ascending = False)\n",
        "lslp['normalized'] = round((lslp['SalePrice'] - lslp['SalePrice'].min()) / (lslp['SalePrice'].max() - lslp['SalePrice'].min()),3)\n",
        "train_data['LandSlope'] = train_data['LandSlope'].apply(lambda x: lslp.loc[lslp['LandSlope'] == x, 'normalized'].item())\n",
        "train_data['LandSlope'] = train_data['LandSlope'].astype(float)"
      ],
      "execution_count": 607,
      "outputs": []
    },
    {
      "cell_type": "markdown",
      "metadata": {
        "id": "7j-_oS42LGvl"
      },
      "source": [
        "محله: مکان های فیزیکی در محدوده شهر ایمز"
      ]
    },
    {
      "cell_type": "code",
      "metadata": {
        "id": "uURVOLJ0F82f"
      },
      "source": [
        "ngbh = train_data.groupby('Neighborhood', as_index = False)['SalePrice'].mean().sort_values(by = 'SalePrice', ascending = False)\n",
        "ngbh['normalized'] = round((ngbh['SalePrice'] - ngbh['SalePrice'].min()) / (ngbh['SalePrice'].max() - ngbh['SalePrice'].min()),3)\n",
        "train_data['Neighborhood'] = train_data['Neighborhood'].apply(lambda x: ngbh.loc[ngbh['Neighborhood'] == x, 'normalized'].item())\n",
        "train_data['Neighborhood'] = train_data['Neighborhood'].astype(float)"
      ],
      "execution_count": 608,
      "outputs": []
    },
    {
      "cell_type": "code",
      "metadata": {
        "id": "majHiHykL7QP"
      },
      "source": [
        "cond1 = train_data.groupby('Condition1', as_index = False)['SalePrice'].mean().sort_values(by = 'SalePrice', ascending = False)\n",
        "cond1['normalized'] = round((cond1['SalePrice'] - cond1['SalePrice'].min()) / (cond1['SalePrice'].max() - cond1['SalePrice'].min()),3)\n",
        "train_data['Condition1'] = train_data['Condition1'].apply(lambda x: cond1.loc[cond1['Condition1'] == x, 'normalized'].item())\n",
        "train_data['Condition1'] = train_data['Condition1'].astype(float)\n",
        "train_data = train_data.drop('Condition2', 1)"
      ],
      "execution_count": 609,
      "outputs": []
    },
    {
      "cell_type": "markdown",
      "metadata": {
        "id": "CenMomhGMaIR"
      },
      "source": [
        "BldgType: نوع مسکن"
      ]
    },
    {
      "cell_type": "code",
      "metadata": {
        "id": "9jXobQ8AMl8a"
      },
      "source": [
        "bldg = train_data.groupby('BldgType', as_index = False)['SalePrice'].mean().sort_values(by = 'SalePrice', ascending = False)\n",
        "bldg['normalized'] = round((bldg['SalePrice'] - bldg['SalePrice'].min()) / (bldg['SalePrice'].max() - bldg['SalePrice'].min()),3)\n",
        "train_data['BldgType'] = train_data['BldgType'].apply(lambda x: bldg.loc[bldg['BldgType'] == x, 'normalized'].item())\n",
        "train_data['BldgType'] = train_data['BldgType'].astype(float)"
      ],
      "execution_count": 610,
      "outputs": []
    },
    {
      "cell_type": "markdown",
      "metadata": {
        "id": "WNn0v7-QM-rB"
      },
      "source": [
        "HouseStyle: سبک زندگی"
      ]
    },
    {
      "cell_type": "code",
      "metadata": {
        "id": "6tjwfk3fNAI8"
      },
      "source": [
        "hstl = train_data.groupby('HouseStyle', as_index = False)['SalePrice'].mean().sort_values(by = 'SalePrice', ascending = False)\n",
        "hstl['normalized'] = round((hstl['SalePrice'] - hstl['SalePrice'].min()) / (hstl['SalePrice'].max() - hstl['SalePrice'].min()),3)\n",
        "train_data['HouseStyle'] = train_data['HouseStyle'].apply(lambda x: hstl.loc[hstl['HouseStyle'] == x, 'normalized'].item())\n",
        "train_data['HouseStyle'] = train_data['HouseStyle'].astype(float)"
      ],
      "execution_count": 611,
      "outputs": []
    },
    {
      "cell_type": "markdown",
      "metadata": {
        "id": "3KYpBgKqNV13"
      },
      "source": [
        "OverallQual: مصالح کلی و پایان خانه را ارزیابی می کند"
      ]
    },
    {
      "cell_type": "markdown",
      "metadata": {
        "id": "fBOGcbUGNlwm"
      },
      "source": [
        "بیایید فقط بررسی کنیم که آیا تأثیر کیفیت بر قیمت مناسب است یا خیر"
      ]
    },
    {
      "cell_type": "code",
      "metadata": {
        "colab": {
          "base_uri": "https://localhost:8080/",
          "height": 359
        },
        "id": "BMqXgVk7NnCi",
        "outputId": "8453a98e-1f3c-434c-941d-3985b3dd7b91"
      },
      "source": [
        "train_data.groupby('OverallQual', as_index = False)['SalePrice'].mean().sort_values(by = 'SalePrice', ascending = False)"
      ],
      "execution_count": 612,
      "outputs": [
        {
          "output_type": "execute_result",
          "data": {
            "text/html": [
              "<div>\n",
              "<style scoped>\n",
              "    .dataframe tbody tr th:only-of-type {\n",
              "        vertical-align: middle;\n",
              "    }\n",
              "\n",
              "    .dataframe tbody tr th {\n",
              "        vertical-align: top;\n",
              "    }\n",
              "\n",
              "    .dataframe thead th {\n",
              "        text-align: right;\n",
              "    }\n",
              "</style>\n",
              "<table border=\"1\" class=\"dataframe\">\n",
              "  <thead>\n",
              "    <tr style=\"text-align: right;\">\n",
              "      <th></th>\n",
              "      <th>OverallQual</th>\n",
              "      <th>SalePrice</th>\n",
              "    </tr>\n",
              "  </thead>\n",
              "  <tbody>\n",
              "    <tr>\n",
              "      <th>9</th>\n",
              "      <td>10</td>\n",
              "      <td>438588.388889</td>\n",
              "    </tr>\n",
              "    <tr>\n",
              "      <th>8</th>\n",
              "      <td>9</td>\n",
              "      <td>367513.023256</td>\n",
              "    </tr>\n",
              "    <tr>\n",
              "      <th>7</th>\n",
              "      <td>8</td>\n",
              "      <td>274735.535714</td>\n",
              "    </tr>\n",
              "    <tr>\n",
              "      <th>6</th>\n",
              "      <td>7</td>\n",
              "      <td>207716.423197</td>\n",
              "    </tr>\n",
              "    <tr>\n",
              "      <th>5</th>\n",
              "      <td>6</td>\n",
              "      <td>161603.034759</td>\n",
              "    </tr>\n",
              "    <tr>\n",
              "      <th>4</th>\n",
              "      <td>5</td>\n",
              "      <td>133523.347607</td>\n",
              "    </tr>\n",
              "    <tr>\n",
              "      <th>3</th>\n",
              "      <td>4</td>\n",
              "      <td>108420.655172</td>\n",
              "    </tr>\n",
              "    <tr>\n",
              "      <th>2</th>\n",
              "      <td>3</td>\n",
              "      <td>87473.750000</td>\n",
              "    </tr>\n",
              "    <tr>\n",
              "      <th>1</th>\n",
              "      <td>2</td>\n",
              "      <td>51770.333333</td>\n",
              "    </tr>\n",
              "    <tr>\n",
              "      <th>0</th>\n",
              "      <td>1</td>\n",
              "      <td>50150.000000</td>\n",
              "    </tr>\n",
              "  </tbody>\n",
              "</table>\n",
              "</div>"
            ],
            "text/plain": [
              "   OverallQual      SalePrice\n",
              "9           10  438588.388889\n",
              "8            9  367513.023256\n",
              "7            8  274735.535714\n",
              "6            7  207716.423197\n",
              "5            6  161603.034759\n",
              "4            5  133523.347607\n",
              "3            4  108420.655172\n",
              "2            3   87473.750000\n",
              "1            2   51770.333333\n",
              "0            1   50150.000000"
            ]
          },
          "metadata": {},
          "execution_count": 612
        }
      ]
    },
    {
      "cell_type": "markdown",
      "metadata": {
        "id": "Gc2I1QrIOTbF"
      },
      "source": [
        "خوب. کیفیت بیشتر - قیمت بالاتر است."
      ]
    },
    {
      "cell_type": "markdown",
      "metadata": {
        "id": "TzTtQhlyOdfJ"
      },
      "source": [
        "OverallCond: وضعیت کلی خانه را ارزیابی می کند"
      ]
    },
    {
      "cell_type": "code",
      "metadata": {
        "colab": {
          "base_uri": "https://localhost:8080/",
          "height": 328
        },
        "id": "0P851jQHOepL",
        "outputId": "97ec274a-fc2f-4695-b124-5e602207f6bc"
      },
      "source": [
        "train_data.groupby('OverallCond', as_index = False)['SalePrice'].mean().sort_values(by = 'SalePrice', ascending = False)"
      ],
      "execution_count": 613,
      "outputs": [
        {
          "output_type": "execute_result",
          "data": {
            "text/html": [
              "<div>\n",
              "<style scoped>\n",
              "    .dataframe tbody tr th:only-of-type {\n",
              "        vertical-align: middle;\n",
              "    }\n",
              "\n",
              "    .dataframe tbody tr th {\n",
              "        vertical-align: top;\n",
              "    }\n",
              "\n",
              "    .dataframe thead th {\n",
              "        text-align: right;\n",
              "    }\n",
              "</style>\n",
              "<table border=\"1\" class=\"dataframe\">\n",
              "  <thead>\n",
              "    <tr style=\"text-align: right;\">\n",
              "      <th></th>\n",
              "      <th>OverallCond</th>\n",
              "      <th>SalePrice</th>\n",
              "    </tr>\n",
              "  </thead>\n",
              "  <tbody>\n",
              "    <tr>\n",
              "      <th>8</th>\n",
              "      <td>9</td>\n",
              "      <td>216004.545455</td>\n",
              "    </tr>\n",
              "    <tr>\n",
              "      <th>4</th>\n",
              "      <td>5</td>\n",
              "      <td>203146.914738</td>\n",
              "    </tr>\n",
              "    <tr>\n",
              "      <th>6</th>\n",
              "      <td>7</td>\n",
              "      <td>158145.487805</td>\n",
              "    </tr>\n",
              "    <tr>\n",
              "      <th>7</th>\n",
              "      <td>8</td>\n",
              "      <td>155651.736111</td>\n",
              "    </tr>\n",
              "    <tr>\n",
              "      <th>5</th>\n",
              "      <td>6</td>\n",
              "      <td>153961.591270</td>\n",
              "    </tr>\n",
              "    <tr>\n",
              "      <th>1</th>\n",
              "      <td>2</td>\n",
              "      <td>141986.400000</td>\n",
              "    </tr>\n",
              "    <tr>\n",
              "      <th>3</th>\n",
              "      <td>4</td>\n",
              "      <td>120438.438596</td>\n",
              "    </tr>\n",
              "    <tr>\n",
              "      <th>2</th>\n",
              "      <td>3</td>\n",
              "      <td>101929.400000</td>\n",
              "    </tr>\n",
              "    <tr>\n",
              "      <th>0</th>\n",
              "      <td>1</td>\n",
              "      <td>61000.000000</td>\n",
              "    </tr>\n",
              "  </tbody>\n",
              "</table>\n",
              "</div>"
            ],
            "text/plain": [
              "   OverallCond      SalePrice\n",
              "8            9  216004.545455\n",
              "4            5  203146.914738\n",
              "6            7  158145.487805\n",
              "7            8  155651.736111\n",
              "5            6  153961.591270\n",
              "1            2  141986.400000\n",
              "3            4  120438.438596\n",
              "2            3  101929.400000\n",
              "0            1   61000.000000"
            ]
          },
          "metadata": {},
          "execution_count": 613
        }
      ]
    },
    {
      "cell_type": "markdown",
      "metadata": {
        "id": "Y0lZDfvKOyX3"
      },
      "source": [
        "این بار مقیاس با قیمت رابطه منفی دارد. من فکر می کنم خانه هایی در منطقه معتبرتر وجود دارد ، اما در شرایط بدتری هستند - اما هنوز هم هزینه بیشتری دارند"
      ]
    },
    {
      "cell_type": "markdown",
      "metadata": {
        "id": "Wu7i9plIO-MJ"
      },
      "source": [
        "YearBuilt: تاریخ ساخت اصلی"
      ]
    },
    {
      "cell_type": "code",
      "metadata": {
        "colab": {
          "base_uri": "https://localhost:8080/",
          "height": 100
        },
        "id": "oK_T5E5gO4x9",
        "outputId": "a4d0fb8f-1066-47eb-fe7f-25637be1c564"
      },
      "source": [
        "with pd.option_context('display.max_columns', None): \n",
        "    display(train_data[train_data['YearBuilt'].isin([1872])])"
      ],
      "execution_count": 614,
      "outputs": [
        {
          "output_type": "display_data",
          "data": {
            "text/html": [
              "<div>\n",
              "<style scoped>\n",
              "    .dataframe tbody tr th:only-of-type {\n",
              "        vertical-align: middle;\n",
              "    }\n",
              "\n",
              "    .dataframe tbody tr th {\n",
              "        vertical-align: top;\n",
              "    }\n",
              "\n",
              "    .dataframe thead th {\n",
              "        text-align: right;\n",
              "    }\n",
              "</style>\n",
              "<table border=\"1\" class=\"dataframe\">\n",
              "  <thead>\n",
              "    <tr style=\"text-align: right;\">\n",
              "      <th></th>\n",
              "      <th>Id</th>\n",
              "      <th>MSZoning</th>\n",
              "      <th>LotFrontage</th>\n",
              "      <th>LotArea</th>\n",
              "      <th>Street</th>\n",
              "      <th>Alley</th>\n",
              "      <th>LotShape</th>\n",
              "      <th>LandContour</th>\n",
              "      <th>LotConfig</th>\n",
              "      <th>LandSlope</th>\n",
              "      <th>Neighborhood</th>\n",
              "      <th>Condition1</th>\n",
              "      <th>BldgType</th>\n",
              "      <th>HouseStyle</th>\n",
              "      <th>OverallQual</th>\n",
              "      <th>OverallCond</th>\n",
              "      <th>YearBuilt</th>\n",
              "      <th>YearRemodAdd</th>\n",
              "      <th>RoofStyle</th>\n",
              "      <th>RoofMatl</th>\n",
              "      <th>Exterior1st</th>\n",
              "      <th>Exterior2nd</th>\n",
              "      <th>MasVnrType</th>\n",
              "      <th>MasVnrArea</th>\n",
              "      <th>ExterQual</th>\n",
              "      <th>ExterCond</th>\n",
              "      <th>Foundation</th>\n",
              "      <th>BsmtQual</th>\n",
              "      <th>BsmtCond</th>\n",
              "      <th>BsmtExposure</th>\n",
              "      <th>BsmtFinType1</th>\n",
              "      <th>BsmtFinSF1</th>\n",
              "      <th>BsmtFinType2</th>\n",
              "      <th>BsmtFinSF2</th>\n",
              "      <th>BsmtUnfSF</th>\n",
              "      <th>TotalBsmtSF</th>\n",
              "      <th>Heating</th>\n",
              "      <th>HeatingQC</th>\n",
              "      <th>CentralAir</th>\n",
              "      <th>Electrical</th>\n",
              "      <th>1stFlrSF</th>\n",
              "      <th>2ndFlrSF</th>\n",
              "      <th>LowQualFinSF</th>\n",
              "      <th>GrLivArea</th>\n",
              "      <th>BsmtFullBath</th>\n",
              "      <th>BsmtHalfBath</th>\n",
              "      <th>FullBath</th>\n",
              "      <th>HalfBath</th>\n",
              "      <th>BedroomAbvGr</th>\n",
              "      <th>KitchenAbvGr</th>\n",
              "      <th>KitchenQual</th>\n",
              "      <th>TotRmsAbvGrd</th>\n",
              "      <th>Functional</th>\n",
              "      <th>Fireplaces</th>\n",
              "      <th>FireplaceQu</th>\n",
              "      <th>GarageType</th>\n",
              "      <th>GarageYrBlt</th>\n",
              "      <th>GarageFinish</th>\n",
              "      <th>GarageCars</th>\n",
              "      <th>GarageArea</th>\n",
              "      <th>GarageQual</th>\n",
              "      <th>GarageCond</th>\n",
              "      <th>PavedDrive</th>\n",
              "      <th>WoodDeckSF</th>\n",
              "      <th>OpenPorchSF</th>\n",
              "      <th>EnclosedPorch</th>\n",
              "      <th>3SsnPorch</th>\n",
              "      <th>ScreenPorch</th>\n",
              "      <th>PoolArea</th>\n",
              "      <th>PoolQC</th>\n",
              "      <th>Fence</th>\n",
              "      <th>MiscFeature</th>\n",
              "      <th>MiscVal</th>\n",
              "      <th>MoSold</th>\n",
              "      <th>YrSold</th>\n",
              "      <th>SaleType</th>\n",
              "      <th>SaleCondition</th>\n",
              "      <th>SalePrice</th>\n",
              "    </tr>\n",
              "  </thead>\n",
              "  <tbody>\n",
              "    <tr>\n",
              "      <th>1349</th>\n",
              "      <td>1350</td>\n",
              "      <td>0.371</td>\n",
              "      <td>50.0</td>\n",
              "      <td>5250</td>\n",
              "      <td>Pave</td>\n",
              "      <td>1</td>\n",
              "      <td>0.0</td>\n",
              "      <td>0.419</td>\n",
              "      <td>0.0</td>\n",
              "      <td>0.0</td>\n",
              "      <td>0.125</td>\n",
              "      <td>0.544</td>\n",
              "      <td>1.0</td>\n",
              "      <td>0.909</td>\n",
              "      <td>8</td>\n",
              "      <td>5</td>\n",
              "      <td>1872</td>\n",
              "      <td>1987</td>\n",
              "      <td>Gable</td>\n",
              "      <td>CompShg</td>\n",
              "      <td>MetalSd</td>\n",
              "      <td>MetalSd</td>\n",
              "      <td>None</td>\n",
              "      <td>0.0</td>\n",
              "      <td>TA</td>\n",
              "      <td>Gd</td>\n",
              "      <td>BrkTil</td>\n",
              "      <td>TA</td>\n",
              "      <td>Fa</td>\n",
              "      <td>No</td>\n",
              "      <td>LwQ</td>\n",
              "      <td>259</td>\n",
              "      <td>Unf</td>\n",
              "      <td>0</td>\n",
              "      <td>425</td>\n",
              "      <td>684</td>\n",
              "      <td>OthW</td>\n",
              "      <td>Fa</td>\n",
              "      <td>N</td>\n",
              "      <td>SBrkr</td>\n",
              "      <td>938</td>\n",
              "      <td>1215</td>\n",
              "      <td>205</td>\n",
              "      <td>2358</td>\n",
              "      <td>0</td>\n",
              "      <td>0</td>\n",
              "      <td>2</td>\n",
              "      <td>0</td>\n",
              "      <td>4</td>\n",
              "      <td>1</td>\n",
              "      <td>TA</td>\n",
              "      <td>8</td>\n",
              "      <td>Typ</td>\n",
              "      <td>0</td>\n",
              "      <td>NaN</td>\n",
              "      <td>NaN</td>\n",
              "      <td>NaN</td>\n",
              "      <td>NaN</td>\n",
              "      <td>0</td>\n",
              "      <td>0</td>\n",
              "      <td>NaN</td>\n",
              "      <td>NaN</td>\n",
              "      <td>Y</td>\n",
              "      <td>0</td>\n",
              "      <td>54</td>\n",
              "      <td>20</td>\n",
              "      <td>0</td>\n",
              "      <td>0</td>\n",
              "      <td>0</td>\n",
              "      <td>NaN</td>\n",
              "      <td>NaN</td>\n",
              "      <td>NaN</td>\n",
              "      <td>0</td>\n",
              "      <td>12</td>\n",
              "      <td>2008</td>\n",
              "      <td>WD</td>\n",
              "      <td>Normal</td>\n",
              "      <td>122000</td>\n",
              "    </tr>\n",
              "  </tbody>\n",
              "</table>\n",
              "</div>"
            ],
            "text/plain": [
              "        Id  MSZoning  LotFrontage  LotArea Street  Alley  LotShape  \\\n",
              "1349  1350     0.371         50.0     5250   Pave      1       0.0   \n",
              "\n",
              "      LandContour  LotConfig  LandSlope  Neighborhood  Condition1  BldgType  \\\n",
              "1349        0.419        0.0        0.0         0.125       0.544       1.0   \n",
              "\n",
              "      HouseStyle  OverallQual  OverallCond  YearBuilt  YearRemodAdd RoofStyle  \\\n",
              "1349       0.909            8            5       1872          1987     Gable   \n",
              "\n",
              "     RoofMatl Exterior1st Exterior2nd MasVnrType  MasVnrArea ExterQual  \\\n",
              "1349  CompShg     MetalSd     MetalSd       None         0.0        TA   \n",
              "\n",
              "     ExterCond Foundation BsmtQual BsmtCond BsmtExposure BsmtFinType1  \\\n",
              "1349        Gd     BrkTil       TA       Fa           No          LwQ   \n",
              "\n",
              "      BsmtFinSF1 BsmtFinType2  BsmtFinSF2  BsmtUnfSF  TotalBsmtSF Heating  \\\n",
              "1349         259          Unf           0        425          684    OthW   \n",
              "\n",
              "     HeatingQC CentralAir Electrical  1stFlrSF  2ndFlrSF  LowQualFinSF  \\\n",
              "1349        Fa          N      SBrkr       938      1215           205   \n",
              "\n",
              "      GrLivArea  BsmtFullBath  BsmtHalfBath  FullBath  HalfBath  BedroomAbvGr  \\\n",
              "1349       2358             0             0         2         0             4   \n",
              "\n",
              "      KitchenAbvGr KitchenQual  TotRmsAbvGrd Functional  Fireplaces  \\\n",
              "1349             1          TA             8        Typ           0   \n",
              "\n",
              "     FireplaceQu GarageType  GarageYrBlt GarageFinish  GarageCars  GarageArea  \\\n",
              "1349         NaN        NaN          NaN          NaN           0           0   \n",
              "\n",
              "     GarageQual GarageCond PavedDrive  WoodDeckSF  OpenPorchSF  EnclosedPorch  \\\n",
              "1349        NaN        NaN          Y           0           54             20   \n",
              "\n",
              "      3SsnPorch  ScreenPorch  PoolArea PoolQC Fence MiscFeature  MiscVal  \\\n",
              "1349          0            0         0    NaN   NaN         NaN        0   \n",
              "\n",
              "      MoSold  YrSold SaleType SaleCondition  SalePrice  \n",
              "1349      12    2008       WD        Normal     122000  "
            ]
          },
          "metadata": {}
        }
      ]
    },
    {
      "cell_type": "markdown",
      "metadata": {
        "id": "IPAnvqBoPnst"
      },
      "source": [
        "و تاثیر سال بر قیمت فروش"
      ]
    },
    {
      "cell_type": "code",
      "metadata": {
        "colab": {
          "base_uri": "https://localhost:8080/",
          "height": 290
        },
        "id": "odhZdFr8OUqB",
        "outputId": "b85cf842-ace8-4fac-e979-6ebc9f23b8a6"
      },
      "source": [
        "train_year_sp = train_data.groupby('YearBuilt', as_index = False)['SalePrice'].mean().sort_values(by = 'YearBuilt')\n",
        "ax = train_year_sp[['SalePrice']].plot(kind = 'line',\n",
        "                                       title = 'Impact of construction year on sale price',\n",
        "                                       figsize = (19,5),\n",
        "                                       legend = True,\n",
        "                                       fontsize = 12)\n",
        "ax.set_xlabel('YearBuilt', fontsize=12)\n",
        "ax.set_ylabel('SalePrice', fontsize=12)\n",
        "ax.set_xticks(range(len(train_year_sp)))\n",
        "ax.set_xticklabels(train_year_sp['YearBuilt'])\n",
        "plt.xticks(rotation = 90)\n",
        "plt.show()"
      ],
      "execution_count": 615,
      "outputs": [
        {
          "output_type": "display_data",
          "data": {
            "image/png": "[encoded data removed]",
            "text/plain": [
              "<Figure size 1368x360 with 1 Axes>"
            ]
          },
          "metadata": {
            "needs_background": "light"
          }
        }
      ]
    },
    {
      "cell_type": "markdown",
      "metadata": {
        "id": "TDkCEiTAQOQZ"
      },
      "source": [
        "YearRemodAdd: تاریخ بازسازی (همان تاریخ ساخت در صورت عدم بازسازی یا افزودنی)"
      ]
    },
    {
      "cell_type": "code",
      "metadata": {
        "colab": {
          "base_uri": "https://localhost:8080/",
          "height": 290
        },
        "id": "TIKEL6N8NVXt",
        "outputId": "9c52b738-bbec-4e94-8653-320727582910"
      },
      "source": [
        "train_year_rem_sp = train_data.groupby('YearRemodAdd', as_index = False)['SalePrice'].mean().sort_values(by = 'YearRemodAdd')\n",
        "ax = train_year_rem_sp[['SalePrice']].plot(kind = 'line',\n",
        "                                                   title = 'Impact of renovation year on sale price',\n",
        "                                                   figsize = (19,5),\n",
        "                                                   legend = True,\n",
        "                                                   fontsize = 12)\n",
        "ax.set_xlabel('YearRemodAdd', fontsize=12)\n",
        "ax.set_ylabel('SalePrice', fontsize=12)\n",
        "ax.set_xticks(range(len(train_year_rem_sp)))\n",
        "ax.set_xticklabels(train_year_rem_sp['YearRemodAdd'])\n",
        "plt.xticks(rotation=90)\n",
        "plt.show()"
      ],
      "execution_count": 616,
      "outputs": [
        {
          "output_type": "display_data",
          "data": {
            "image/png": "[encoded data removed]",
            "text/plain": [
              "<Figure size 1368x360 with 1 Axes>"
            ]
          },
          "metadata": {
            "needs_background": "light"
          }
        }
      ]
    },
    {
      "cell_type": "markdown",
      "metadata": {
        "id": "AbqIkvkyRPVp"
      },
      "source": [
        "RoofStyle: نوع سقف"
      ]
    },
    {
      "cell_type": "code",
      "metadata": {
        "id": "qBkTdacQLyXQ"
      },
      "source": [
        "rfst = train_data.groupby('RoofStyle', as_index = False)['SalePrice'].mean().sort_values(by = 'SalePrice', ascending = False)\n",
        "rfst['normalized'] = round((rfst['SalePrice'] - rfst['SalePrice'].min()) / (rfst['SalePrice'].max() - rfst['SalePrice'].min()),3)\n",
        "train_data['RoofStyle'] = train_data['RoofStyle'].apply(lambda x: rfst.loc[rfst['RoofStyle'] == x, 'normalized'].item())\n",
        "train_data['RoofStyle'] = train_data['RoofStyle'].astype(float)"
      ],
      "execution_count": 617,
      "outputs": []
    },
    {
      "cell_type": "markdown",
      "metadata": {
        "id": "Z19Zu6dGbRjb"
      },
      "source": [
        "RoofMart: مواد سقف"
      ]
    },
    {
      "cell_type": "code",
      "metadata": {
        "id": "R4LL6PlXbuLC"
      },
      "source": [
        "rfmt = train_data.groupby('RoofMatl', as_index = False)['SalePrice'].mean().sort_values(by = 'SalePrice', ascending = False)\n",
        "rfmt['normalized'] = round((rfmt['SalePrice'] - rfmt['SalePrice'].min()) / (rfmt['SalePrice'].max() - rfmt['SalePrice'].min()),3)\n",
        "train_data['RoofMatl'] = train_data['RoofMatl'].apply(lambda x: rfmt.loc[rfmt['RoofMatl'] == x, 'normalized'].item())\n",
        "train_data['RoofMatl'] = train_data['RoofMatl'].astype(float)"
      ],
      "execution_count": 618,
      "outputs": []
    },
    {
      "cell_type": "markdown",
      "metadata": {
        "id": "2RWmmsZLYd1S"
      },
      "source": [
        "External1st: پوشش بیرونی روی خانه"
      ]
    },
    {
      "cell_type": "code",
      "metadata": {
        "id": "X61TXN3xYWZG"
      },
      "source": [
        "ext1 = train_data.groupby('Exterior1st', as_index = False)['SalePrice'].mean().sort_values(by = 'SalePrice', ascending = False)\n",
        "ext1['normalized'] = round((ext1['SalePrice'] - ext1['SalePrice'].min()) / (ext1['SalePrice'].max() - ext1['SalePrice'].min()),3)\n",
        "train_data['Exterior1st'] = train_data['Exterior1st'].apply(lambda x: ext1.loc[ext1['Exterior1st'] == x, 'normalized'].item())\n",
        "train_data['Exterior1st'] = train_data['Exterior1st'].astype(float)"
      ],
      "execution_count": 619,
      "outputs": []
    },
    {
      "cell_type": "markdown",
      "metadata": {
        "id": "Qu_kbBPlYzbf"
      },
      "source": [
        "Exterior2nd: پوشش بیرونی روی خانه (اگر بیش از یک ماده باشد"
      ]
    },
    {
      "cell_type": "code",
      "metadata": {
        "id": "0i4S7EvhY8iw"
      },
      "source": [
        "ext2 = train_data.groupby('Exterior2nd', as_index = False)['SalePrice'].mean().sort_values(by = 'SalePrice', ascending = False)\n",
        "ext2['normalized'] = round((ext2['SalePrice'] - ext2['SalePrice'].min()) / (ext2['SalePrice'].max() - ext2['SalePrice'].min()),3)\n",
        "train_data['Exterior2nd'] = train_data['Exterior2nd'].apply(lambda x: ext2.loc[ext2['Exterior2nd'] == x, 'normalized'].item())\n",
        "train_data['Exterior2nd'] = train_data['Exterior2nd'].astype(float)"
      ],
      "execution_count": 620,
      "outputs": []
    },
    {
      "cell_type": "markdown",
      "metadata": {
        "id": "iHJEzxpnZlui"
      },
      "source": [
        "MasVnrType: نوع روکش بنایی"
      ]
    },
    {
      "cell_type": "code",
      "metadata": {
        "id": "BCv0ZfJHZnCQ"
      },
      "source": [
        "train_data['MasVnrType'].fillna('None', inplace = True)\n",
        "mvtp = train.groupby('MasVnrType', as_index = False)['SalePrice'].mean().sort_values(by = 'SalePrice', ascending = False)\n",
        "mvtp['normalized'] = round((mvtp['SalePrice'] - mvtp['SalePrice'].min()) / (mvtp['SalePrice'].max() - mvtp['SalePrice'].min()),3)\n",
        "train_data['MasVnrType'] = train_data['MasVnrType'].apply(lambda x: mvtp.loc[mvtp['MasVnrType'] == x, 'normalized'].item())\n",
        "train_data['MasVnrType'] = train_data['MasVnrType'].astype(float)"
      ],
      "execution_count": 621,
      "outputs": []
    },
    {
      "cell_type": "markdown",
      "metadata": {
        "id": "TuljSsMeaEjV"
      },
      "source": [
        "MasVnrArea: ناحیه روکش بنایی در فوت مربع"
      ]
    },
    {
      "cell_type": "code",
      "metadata": {
        "id": "xb6T7XlEZdmS"
      },
      "source": [
        "value = train_data[train_data['SalePrice'].between(train_data[train_data['MasVnrArea'].isna()]['SalePrice'].mean() - 1000, train[train['MasVnrArea'].isna()]['SalePrice'].mean() + 1000)]['MasVnrArea'].mean()\n",
        "train_data['MasVnrArea'].fillna(value, inplace = True)"
      ],
      "execution_count": 622,
      "outputs": []
    },
    {
      "cell_type": "markdown",
      "metadata": {
        "id": "9s6VgC3tavaX"
      },
      "source": [
        "ExterQual: کیفیت مواد خارجی را ارزیابی می کند"
      ]
    },
    {
      "cell_type": "code",
      "metadata": {
        "id": "VfR2BiZoaz4L"
      },
      "source": [
        "exql = train_data.groupby('ExterQual', as_index = False)['SalePrice'].mean().sort_values(by = 'SalePrice', ascending = False)\n",
        "exql['normalized'] = round((exql['SalePrice'] - exql['SalePrice'].min()) / (exql['SalePrice'].max() - exql['SalePrice'].min()),3)\n",
        "train_data['ExterQual'] = train_data['ExterQual'].apply(lambda x: exql.loc[exql['ExterQual'] == x, 'normalized'].item())\n",
        "train_data['ExterQual'] = train_data['ExterQual'].astype(float)"
      ],
      "execution_count": 623,
      "outputs": []
    },
    {
      "cell_type": "markdown",
      "metadata": {
        "id": "AQuGJqzubPOF"
      },
      "source": [
        "فونداسیون: نوع فونداسیون"
      ]
    },
    {
      "cell_type": "code",
      "metadata": {
        "id": "UffFf4G-bYyB"
      },
      "source": [
        "fndt = train_data.groupby('Foundation', as_index = False)['SalePrice'].mean().sort_values(by = 'SalePrice', ascending = False)\n",
        "fndt['normalized'] = round((fndt['SalePrice'] - fndt['SalePrice'].min()) / (fndt['SalePrice'].max() - fndt['SalePrice'].min()),3)\n",
        "train_data['Foundation'] = train_data['Foundation'].apply(lambda x: fndt.loc[fndt['Foundation'] == x, 'normalized'].item())\n",
        "train_data['Foundation'] = train_data['Foundation'].astype(float)"
      ],
      "execution_count": 624,
      "outputs": []
    },
    {
      "cell_type": "markdown",
      "metadata": {
        "id": "x6o7xu1mbvxb"
      },
      "source": [
        "گروه ستونهای زیرزمین\n"
      ]
    },
    {
      "cell_type": "markdown",
      "metadata": {
        "id": "dwjKRwsL7Sdy"
      },
      "source": [
        "گرمایش: نوع گرمایش"
      ]
    },
    {
      "cell_type": "code",
      "metadata": {
        "id": "ol-h5Bdy5SJA"
      },
      "source": [
        "heat = train_data.groupby('Heating', as_index = False)['SalePrice'].mean().sort_values(by = 'SalePrice', ascending = False)\n",
        "heat['normalized'] = round((heat['SalePrice'] - heat['SalePrice'].min()) / (heat['SalePrice'].max() - heat['SalePrice'].min()),3)\n",
        "train_data['Heating'] = train_data['Heating'].apply(lambda x: heat.loc[heat['Heating'] == x, 'normalized'].item())\n",
        "train_data['Heating'] = train_data['Heating'].astype(float)"
      ],
      "execution_count": 625,
      "outputs": []
    },
    {
      "cell_type": "markdown",
      "metadata": {
        "id": "BHkSe5Ir7i8V"
      },
      "source": [
        "Heating QC: کیفیت و وضعیت گرمایش"
      ]
    },
    {
      "cell_type": "code",
      "metadata": {
        "id": "1dYcVR928PeU"
      },
      "source": [
        "htqc = train_data.groupby('HeatingQC', as_index = False)['SalePrice'].mean().sort_values(by = 'SalePrice', ascending = False)\n",
        "htqc['normalized'] = round((htqc['SalePrice'] - htqc['SalePrice'].min()) / (htqc['SalePrice'].max() - htqc['SalePrice'].min()),3)\n",
        "train_data['HeatingQC'] = train_data['HeatingQC'].apply(lambda x: htqc.loc[htqc['HeatingQC'] == x, 'normalized'].item())\n",
        "train_data['HeatingQC'] = train_data['HeatingQC'].astype(float)"
      ],
      "execution_count": 626,
      "outputs": []
    },
    {
      "cell_type": "markdown",
      "metadata": {
        "id": "Ob9vGXGQ8r58"
      },
      "source": [
        "CentralAir: تهویه مطبوع مرکزی"
      ]
    },
    {
      "cell_type": "markdown",
      "metadata": {
        "id": "ikUc6C4I81vK"
      },
      "source": [
        "وی دارای 2 مقدار است - Y و N. به ترتیب به 1 و 0 تغییر دهید."
      ]
    },
    {
      "cell_type": "code",
      "metadata": {
        "id": "ZBS4GS4D82wh"
      },
      "source": [
        "train_data['CentralAir'] = train_data['CentralAir'].replace('Y', '1', regex = True)\n",
        "train_data['CentralAir'] = train_data['CentralAir'].replace('N', '0', regex = True)\n",
        "train_data['CentralAir'] = train_data['CentralAir'].astype(int)"
      ],
      "execution_count": 627,
      "outputs": []
    },
    {
      "cell_type": "markdown",
      "metadata": {
        "id": "JdTSKR_q9Qbl"
      },
      "source": [
        "برق: سیستم برق\n",
        "یک مقدار از دست رفته در این ستون وجود دارد"
      ]
    },
    {
      "cell_type": "code",
      "metadata": {
        "id": "7ge69wbt7iMB"
      },
      "source": [
        "train_data['Electrical'].fillna('None', inplace = True)\n",
        "elec = train_data.groupby('Electrical', as_index = False)['SalePrice'].mean().sort_values(by = 'SalePrice', ascending = False)\n",
        "elec['normalized'] = round((elec['SalePrice'] - elec['SalePrice'].min()) / (elec['SalePrice'].max() - elec['SalePrice'].min()),3)\n",
        "train_data['Electrical'] = train_data['Electrical'].apply(lambda x: elec.loc[elec['Electrical'] == x, 'normalized'].item())\n",
        "train_data['Electrical'] = train_data['Electrical'].astype(float)"
      ],
      "execution_count": 628,
      "outputs": []
    },
    {
      "cell_type": "markdown",
      "metadata": {
        "id": "tPL6BMj0-NaB"
      },
      "source": [
        "KitchenQual: کیفیت آشپزخانه"
      ]
    },
    {
      "cell_type": "code",
      "metadata": {
        "id": "3x_hJ4A--DhZ"
      },
      "source": [
        "kchq = train_data.groupby('KitchenQual', as_index = False)['SalePrice'].mean().sort_values(by = 'SalePrice', ascending = False)\n",
        "kchq['normalized'] = round((kchq['SalePrice'] - kchq['SalePrice'].min()) / (kchq['SalePrice'].max() - kchq['SalePrice'].min()),3)\n",
        "train_data['KitchenQual'] = train_data['KitchenQual'].apply(lambda x: kchq.loc[kchq['KitchenQual'] == x, 'normalized'].item())\n",
        "train_data['KitchenQual'] = train_data['KitchenQual'].astype(float)"
      ],
      "execution_count": 629,
      "outputs": []
    },
    {
      "cell_type": "markdown",
      "metadata": {
        "id": "OvEgONsO-kPU"
      },
      "source": [
        "عملکردی: عملکرد خانه (فرض کنید معمولی است مگر اینکه کسرهای لازم باشد)"
      ]
    },
    {
      "cell_type": "code",
      "metadata": {
        "id": "n4XuhOIV-KuT"
      },
      "source": [
        "func = train_data.groupby('Functional', as_index = False)['SalePrice'].mean().sort_values(by = 'SalePrice', ascending = False)\n",
        "func['normalized'] = round((func['SalePrice'] - func['SalePrice'].min()) / (func['SalePrice'].max() - func['SalePrice'].min()),3)\n",
        "train_data['Functional'] = train_data['Functional'].apply(lambda x: func.loc[func['Functional'] == x, 'normalized'].item())\n",
        "train_data['Functional'] = train_data['Functional'].astype(float)"
      ],
      "execution_count": 630,
      "outputs": []
    },
    {
      "cell_type": "markdown",
      "metadata": {
        "id": "_afcW84gAowA"
      },
      "source": [
        "شومینه: تعداد شومینه"
      ]
    },
    {
      "cell_type": "code",
      "metadata": {
        "colab": {
          "base_uri": "https://localhost:8080/"
        },
        "id": "egTK4ZvbAzbc",
        "outputId": "72443af6-0dfc-43aa-ed1c-13e282d85bf2"
      },
      "source": [
        "train_data['Fireplaces'].value_counts()"
      ],
      "execution_count": 631,
      "outputs": [
        {
          "output_type": "execute_result",
          "data": {
            "text/plain": [
              "0    690\n",
              "1    650\n",
              "2    115\n",
              "3      5\n",
              "Name: Fireplaces, dtype: int64"
            ]
          },
          "metadata": {},
          "execution_count": 631
        }
      ]
    },
    {
      "cell_type": "markdown",
      "metadata": {
        "id": "2NfiK577A-xs"
      },
      "source": [
        "FireplaceQu: کیفیت شومینه\n",
        "این مورد دارای 690 مقدار مفقود شده است. همان مقدار دارایی با 0 شومینه. آنها را به هیچکدام تغییر دهید."
      ]
    },
    {
      "cell_type": "code",
      "metadata": {
        "id": "gxxyN8l9BGHO"
      },
      "source": [
        "train_data['FireplaceQu'].fillna('None', inplace = True)\n",
        "frpq = train_data.groupby('FireplaceQu', as_index = False)['SalePrice'].mean().sort_values(by = 'SalePrice', ascending = False)\n",
        "frpq['normalized'] = round((frpq['SalePrice'] - frpq['SalePrice'].min()) / (frpq['SalePrice'].max() - frpq['SalePrice'].min()),3)\n",
        "train_data['FireplaceQu'] = train_data['FireplaceQu'].apply(lambda x: frpq.loc[frpq['FireplaceQu'] == x, 'normalized'].item())\n",
        "train_data['FireplaceQu'] = train_data['FireplaceQu'].astype(float)"
      ],
      "execution_count": 632,
      "outputs": []
    },
    {
      "cell_type": "markdown",
      "metadata": {
        "id": "fAwpwi6BBd_J"
      },
      "source": [
        "در اینجا گروه گاراژ می آید"
      ]
    },
    {
      "cell_type": "code",
      "metadata": {
        "colab": {
          "base_uri": "https://localhost:8080/"
        },
        "id": "o78EViTxA93p",
        "outputId": "3750acb5-5705-4ea8-d40c-fedc647f295a"
      },
      "source": [
        "garage_cols = [col for col in train_data if col.startswith('Garage')]\n",
        "train_data[train_data['GarageType'].isna()][garage_cols]['GarageArea'].sum()"
      ],
      "execution_count": 633,
      "outputs": [
        {
          "output_type": "execute_result",
          "data": {
            "text/plain": [
              "0"
            ]
          },
          "metadata": {},
          "execution_count": 633
        }
      ]
    },
    {
      "cell_type": "markdown",
      "metadata": {
        "id": "sWpA4tPJB8VG"
      },
      "source": [
        "خوب. بدون گاراژ - مشکلی نیست ، با هیچ کدام پر کنید ، تعدادی را به عددی تغییر دهید."
      ]
    },
    {
      "cell_type": "code",
      "metadata": {
        "id": "qhW68Cj2B9QV"
      },
      "source": [
        "for col in garage_cols:\n",
        "    train_data[col].fillna('None', inplace = True)\n",
        "train_data['GarageYrBlt'] = train_data['GarageYrBlt'].replace('None', 0, regex = True)\n",
        "train_data['GarageCars'] = train_data['GarageCars'].replace('None', 0, regex = True)\n",
        "train_data['GarageArea'] = train_data['GarageArea'].replace('None', 0, regex = True)"
      ],
      "execution_count": 634,
      "outputs": []
    },
    {
      "cell_type": "markdown",
      "metadata": {
        "id": "ZjSRmHIPCWMy"
      },
      "source": [
        "GarageType: محل گاراژ"
      ]
    },
    {
      "cell_type": "code",
      "metadata": {
        "id": "1JLnACBBCYCf"
      },
      "source": [
        "grtp = train_data.groupby('GarageType', as_index = False)['SalePrice'].mean().sort_values(by = 'SalePrice', ascending = False)\n",
        "grtp['normalized'] = round((grtp['SalePrice'] - grtp['SalePrice'].min()) / (grtp['SalePrice'].max() - grtp['SalePrice'].min()),3)\n",
        "train_data['GarageType'] = train_data['GarageType'].apply(lambda x: grtp.loc[grtp['GarageType'] == x, 'normalized'].item())\n",
        "train_data['GarageType'] = train_data['GarageType'].astype(float)"
      ],
      "execution_count": 635,
      "outputs": []
    },
    {
      "cell_type": "markdown",
      "metadata": {
        "id": "Bs0ZbL7pCuol"
      },
      "source": [
        "GarageYrBlt: سالی که گاراژ ساخته شد\n",
        "بیایید نقشه بکشیم"
      ]
    },
    {
      "cell_type": "code",
      "metadata": {
        "colab": {
          "base_uri": "https://localhost:8080/",
          "height": 299
        },
        "id": "OHQoTXpaC43r",
        "outputId": "2f2a8fec-5497-4ced-de01-d1be11e3352a"
      },
      "source": [
        "train_year_grg_blt = train_data.groupby('GarageYrBlt', as_index = False)['SalePrice'].mean().sort_values(by = 'GarageYrBlt')\n",
        "ax = train_year_grg_blt[['SalePrice']].plot(kind = 'line',\n",
        "                                                   title = 'Impact of garage construction year on sale price',\n",
        "                                                   figsize = (19,5),\n",
        "                                                   legend = True,\n",
        "                                                   fontsize = 12)\n",
        "ax.set_xlabel('GarageYrBlt', fontsize=12)\n",
        "ax.set_ylabel('SalePrice', fontsize=12)\n",
        "ax.set_xticks(range(len(train_year_grg_blt)))\n",
        "ax.set_xticklabels(train_year_grg_blt['GarageYrBlt'])\n",
        "plt.xticks(rotation=90)\n",
        "plt.show()"
      ],
      "execution_count": 636,
      "outputs": [
        {
          "output_type": "display_data",
          "data": {
            "image/png": "[encoded data removed]",
            "text/plain": [
              "<Figure size 1368x360 with 1 Axes>"
            ]
          },
          "metadata": {
            "needs_background": "light"
          }
        }
      ]
    },
    {
      "cell_type": "markdown",
      "metadata": {
        "id": "v_achyMNDD3Q"
      },
      "source": [
        "همان قله هایی که در قطعه سال ساخت وجود دارد."
      ]
    },
    {
      "cell_type": "markdown",
      "metadata": {
        "id": "JCSC0hLHDR77"
      },
      "source": [
        "گاراژ"
      ]
    },
    {
      "cell_type": "code",
      "metadata": {
        "id": "SS3Tb_4oDS8j"
      },
      "source": [
        "grfn = train_data.groupby('GarageFinish', as_index = False)['SalePrice'].mean().sort_values(by = 'SalePrice', ascending = False)\n",
        "grfn['normalized'] = round((grfn['SalePrice'] - grfn['SalePrice'].min()) / (grfn['SalePrice'].max() - grfn['SalePrice'].min()),3)\n",
        "train_data['GarageFinish'] = train_data['GarageFinish'].apply(lambda x: grfn.loc[grfn['GarageFinish'] == x, 'normalized'].item())\n",
        "train_data['GarageFinish'] = train_data['GarageFinish'].astype(float)"
      ],
      "execution_count": 637,
      "outputs": []
    },
    {
      "cell_type": "markdown",
      "metadata": {
        "id": "42Qy-rFqDwoD"
      },
      "source": [
        "GarageQual: کیفیت گاراژ"
      ]
    },
    {
      "cell_type": "code",
      "metadata": {
        "id": "NzBrf6HFDKm7"
      },
      "source": [
        "grqu = train_data.groupby('GarageQual', as_index = False)['SalePrice'].mean().sort_values(by = 'SalePrice', ascending = False)\n",
        "grqu['normalized'] = round((grqu['SalePrice'] - grqu['SalePrice'].min()) / (grqu['SalePrice'].max() - grqu['SalePrice'].min()),3)\n",
        "train_data['GarageQual'] = train_data['GarageQual'].apply(lambda x: grqu.loc[grqu['GarageQual'] == x, 'normalized'].item())\n",
        "train_data['GarageQual'] = train_data['GarageQual'].astype(float)"
      ],
      "execution_count": 638,
      "outputs": []
    },
    {
      "cell_type": "markdown",
      "metadata": {
        "id": "eWUP4UosEDSC"
      },
      "source": [
        "GarageCond: شرایط گاراژ"
      ]
    },
    {
      "cell_type": "code",
      "metadata": {
        "id": "sU1pnoCuEJfZ"
      },
      "source": [
        "grcn = train_data.groupby('GarageCond', as_index = False)['SalePrice'].mean().sort_values(by = 'SalePrice', ascending = False)\n",
        "grcn['normalized'] = round((grcn['SalePrice'] - grcn['SalePrice'].min()) / (grcn['SalePrice'].max() - grcn['SalePrice'].min()),3)\n",
        "train_data['GarageCond'] = train_data['GarageCond'].apply(lambda x: grcn.loc[grcn['GarageCond'] == x, 'normalized'].item())\n",
        "train_data['GarageCond'] = train_data['GarageCond'].astype(float)"
      ],
      "execution_count": 639,
      "outputs": []
    },
    {
      "cell_type": "markdown",
      "metadata": {
        "id": "WsCSlw7OEaua"
      },
      "source": [
        "PavedDrive: مسیر پیاده رو شده"
      ]
    },
    {
      "cell_type": "code",
      "metadata": {
        "id": "6n3LRsrEEje3"
      },
      "source": [
        "pvdr = train_data.groupby('PavedDrive', as_index = False)['SalePrice'].mean().sort_values(by = 'SalePrice', ascending = False)\n",
        "pvdr['normalized'] = round((pvdr['SalePrice'] - pvdr['SalePrice'].min()) / (pvdr['SalePrice'].max() - pvdr['SalePrice'].min()),3)\n",
        "train_data['PavedDrive'] = train_data['PavedDrive'].apply(lambda x: pvdr.loc[pvdr['PavedDrive'] == x, 'normalized'].item())\n",
        "train_data['PavedDrive'] = train_data['PavedDrive'].astype(float)"
      ],
      "execution_count": 640,
      "outputs": []
    },
    {
      "cell_type": "code",
      "metadata": {
        "colab": {
          "base_uri": "https://localhost:8080/",
          "height": 297
        },
        "id": "-APfCk6HFFT-",
        "outputId": "1457e8b3-78dd-4109-984b-5f655b7a7699"
      },
      "source": [
        "train_data[['WoodDeckSF', 'OpenPorchSF', 'EnclosedPorch', '3SsnPorch', 'ScreenPorch', 'PoolArea']].describe()"
      ],
      "execution_count": 641,
      "outputs": [
        {
          "output_type": "execute_result",
          "data": {
            "text/html": [
              "<div>\n",
              "<style scoped>\n",
              "    .dataframe tbody tr th:only-of-type {\n",
              "        vertical-align: middle;\n",
              "    }\n",
              "\n",
              "    .dataframe tbody tr th {\n",
              "        vertical-align: top;\n",
              "    }\n",
              "\n",
              "    .dataframe thead th {\n",
              "        text-align: right;\n",
              "    }\n",
              "</style>\n",
              "<table border=\"1\" class=\"dataframe\">\n",
              "  <thead>\n",
              "    <tr style=\"text-align: right;\">\n",
              "      <th></th>\n",
              "      <th>WoodDeckSF</th>\n",
              "      <th>OpenPorchSF</th>\n",
              "      <th>EnclosedPorch</th>\n",
              "      <th>3SsnPorch</th>\n",
              "      <th>ScreenPorch</th>\n",
              "      <th>PoolArea</th>\n",
              "    </tr>\n",
              "  </thead>\n",
              "  <tbody>\n",
              "    <tr>\n",
              "      <th>count</th>\n",
              "      <td>1460.000000</td>\n",
              "      <td>1460.000000</td>\n",
              "      <td>1460.000000</td>\n",
              "      <td>1460.000000</td>\n",
              "      <td>1460.000000</td>\n",
              "      <td>1460.000000</td>\n",
              "    </tr>\n",
              "    <tr>\n",
              "      <th>mean</th>\n",
              "      <td>94.244521</td>\n",
              "      <td>46.660274</td>\n",
              "      <td>21.954110</td>\n",
              "      <td>3.409589</td>\n",
              "      <td>15.060959</td>\n",
              "      <td>2.758904</td>\n",
              "    </tr>\n",
              "    <tr>\n",
              "      <th>std</th>\n",
              "      <td>125.338794</td>\n",
              "      <td>66.256028</td>\n",
              "      <td>61.119149</td>\n",
              "      <td>29.317331</td>\n",
              "      <td>55.757415</td>\n",
              "      <td>40.177307</td>\n",
              "    </tr>\n",
              "    <tr>\n",
              "      <th>min</th>\n",
              "      <td>0.000000</td>\n",
              "      <td>0.000000</td>\n",
              "      <td>0.000000</td>\n",
              "      <td>0.000000</td>\n",
              "      <td>0.000000</td>\n",
              "      <td>0.000000</td>\n",
              "    </tr>\n",
              "    <tr>\n",
              "      <th>25%</th>\n",
              "      <td>0.000000</td>\n",
              "      <td>0.000000</td>\n",
              "      <td>0.000000</td>\n",
              "      <td>0.000000</td>\n",
              "      <td>0.000000</td>\n",
              "      <td>0.000000</td>\n",
              "    </tr>\n",
              "    <tr>\n",
              "      <th>50%</th>\n",
              "      <td>0.000000</td>\n",
              "      <td>25.000000</td>\n",
              "      <td>0.000000</td>\n",
              "      <td>0.000000</td>\n",
              "      <td>0.000000</td>\n",
              "      <td>0.000000</td>\n",
              "    </tr>\n",
              "    <tr>\n",
              "      <th>75%</th>\n",
              "      <td>168.000000</td>\n",
              "      <td>68.000000</td>\n",
              "      <td>0.000000</td>\n",
              "      <td>0.000000</td>\n",
              "      <td>0.000000</td>\n",
              "      <td>0.000000</td>\n",
              "    </tr>\n",
              "    <tr>\n",
              "      <th>max</th>\n",
              "      <td>857.000000</td>\n",
              "      <td>547.000000</td>\n",
              "      <td>552.000000</td>\n",
              "      <td>508.000000</td>\n",
              "      <td>480.000000</td>\n",
              "      <td>738.000000</td>\n",
              "    </tr>\n",
              "  </tbody>\n",
              "</table>\n",
              "</div>"
            ],
            "text/plain": [
              "        WoodDeckSF  OpenPorchSF  ...  ScreenPorch     PoolArea\n",
              "count  1460.000000  1460.000000  ...  1460.000000  1460.000000\n",
              "mean     94.244521    46.660274  ...    15.060959     2.758904\n",
              "std     125.338794    66.256028  ...    55.757415    40.177307\n",
              "min       0.000000     0.000000  ...     0.000000     0.000000\n",
              "25%       0.000000     0.000000  ...     0.000000     0.000000\n",
              "50%       0.000000    25.000000  ...     0.000000     0.000000\n",
              "75%     168.000000    68.000000  ...     0.000000     0.000000\n",
              "max     857.000000   547.000000  ...   480.000000   738.000000\n",
              "\n",
              "[8 rows x 6 columns]"
            ]
          },
          "metadata": {},
          "execution_count": 641
        }
      ]
    },
    {
      "cell_type": "markdown",
      "metadata": {
        "id": "wmcTDHe9FOsu"
      },
      "source": [
        "PoolQC: کیفیت استخر"
      ]
    },
    {
      "cell_type": "code",
      "metadata": {
        "colab": {
          "base_uri": "https://localhost:8080/"
        },
        "id": "pjCs_GphFWqU",
        "outputId": "3869281c-bb92-4c30-98b6-0211d0cc11fb"
      },
      "source": [
        "train_data['PoolQC'].value_counts()"
      ],
      "execution_count": 642,
      "outputs": [
        {
          "output_type": "execute_result",
          "data": {
            "text/plain": [
              "Gd    3\n",
              "Fa    2\n",
              "Ex    2\n",
              "Name: PoolQC, dtype: int64"
            ]
          },
          "metadata": {},
          "execution_count": 642
        }
      ]
    },
    {
      "cell_type": "code",
      "metadata": {
        "colab": {
          "base_uri": "https://localhost:8080/"
        },
        "id": "Cp_kUy_EFnR2",
        "outputId": "c0963d43-717c-412c-d787-88930e0dbf99"
      },
      "source": [
        "train_data['PoolArea'].value_counts()"
      ],
      "execution_count": 643,
      "outputs": [
        {
          "output_type": "execute_result",
          "data": {
            "text/plain": [
              "0      1453\n",
              "738       1\n",
              "648       1\n",
              "576       1\n",
              "555       1\n",
              "519       1\n",
              "512       1\n",
              "480       1\n",
              "Name: PoolArea, dtype: int64"
            ]
          },
          "metadata": {},
          "execution_count": 643
        }
      ]
    },
    {
      "cell_type": "markdown",
      "metadata": {
        "id": "PAwDkR8pF1Dv"
      },
      "source": [
        "این دو مناسب است. گم شده را با هیچکدام پر کنید."
      ]
    },
    {
      "cell_type": "code",
      "metadata": {
        "id": "WXfph-bJF19U"
      },
      "source": [
        "train_data = train_data.drop('PoolQC',1)"
      ],
      "execution_count": 644,
      "outputs": []
    },
    {
      "cell_type": "code",
      "metadata": {
        "id": "Wz7HJf5WfVm8"
      },
      "source": [
        "excn = train_data.groupby('ExterCond', as_index = False)['SalePrice'].mean().sort_values(by = 'SalePrice', ascending = False)\n",
        "excn['normalized'] = round((excn['SalePrice'] - excn['SalePrice'].min()) / (excn['SalePrice'].max() - excn['SalePrice'].min()),3)\n",
        "train_data['ExterCond'] = train_data['ExterCond'].apply(lambda x: excn.loc[excn['ExterCond'] == x, 'normalized'].item())\n",
        "train_data['ExterCond'] = train_data['ExterCond'].astype(float)"
      ],
      "execution_count": 645,
      "outputs": []
    },
    {
      "cell_type": "markdown",
      "metadata": {
        "id": "G_JlX-vjGS2i"
      },
      "source": [
        "حصار: کیفیت حصار"
      ]
    },
    {
      "cell_type": "code",
      "metadata": {
        "id": "VDgixNQnGa65"
      },
      "source": [
        "train_data['Fence'].fillna('None', inplace = True)\n",
        "fenc = train_data.groupby('Fence', as_index = False)['SalePrice'].mean().sort_values(by = 'SalePrice', ascending = False)\n",
        "fenc['normalized'] = round((fenc['SalePrice'] - fenc['SalePrice'].min()) / (fenc['SalePrice'].max() - fenc['SalePrice'].min()),3)\n",
        "train_data['Fence'] = train_data['Fence'].apply(lambda x: fenc.loc[fenc['Fence'] == x, 'normalized'].item())\n",
        "train_data['Fence'] = train_data['Fence'].astype(float)"
      ],
      "execution_count": 646,
      "outputs": []
    },
    {
      "cell_type": "markdown",
      "metadata": {
        "id": "9-t8XjZQGx33"
      },
      "source": [
        "ویژگی متفرقه: ویژگی های متفاوتی که در دسته های دیگر پوشش داده نمی شوند"
      ]
    },
    {
      "cell_type": "code",
      "metadata": {
        "id": "RmGtWl0rG_yx"
      },
      "source": [
        "train_data['MiscFeature'].fillna('None', inplace = True)\n",
        "misc = train_data.groupby('MiscFeature', as_index = False)['SalePrice'].mean().sort_values(by = 'SalePrice', ascending = False)\n",
        "misc['normalized'] = round((misc['SalePrice'] - misc['SalePrice'].min()) / (misc['SalePrice'].max() - misc['SalePrice'].min()),3)\n",
        "train_data['MiscFeature'] = train_data['MiscFeature'].apply(lambda x: misc.loc[misc['MiscFeature'] == x, 'normalized'].item())\n",
        "train_data['MiscFeature'] = train_data['MiscFeature'].astype(float)"
      ],
      "execution_count": 647,
      "outputs": []
    },
    {
      "cell_type": "markdown",
      "metadata": {
        "id": "pZARyimfHZsF"
      },
      "source": [
        "MiscVal: $ ارزش ویژگی های متفرقه¶"
      ]
    },
    {
      "cell_type": "code",
      "metadata": {
        "colab": {
          "base_uri": "https://localhost:8080/",
          "height": 317
        },
        "id": "EBh5wBsJHa-l",
        "outputId": "18394e22-124b-46a7-8dec-4e85b9e6d5cc"
      },
      "source": [
        "train_data[['1stFlrSF', '2ndFlrSF', 'LowQualFinSF', 'GrLivArea', 'BsmtFullBath', 'BsmtHalfBath', 'FullBath', 'HalfBath', 'BedroomAbvGr', 'KitchenAbvGr', 'TotRmsAbvGrd']].describe()"
      ],
      "execution_count": 648,
      "outputs": [
        {
          "output_type": "execute_result",
          "data": {
            "text/html": [
              "<div>\n",
              "<style scoped>\n",
              "    .dataframe tbody tr th:only-of-type {\n",
              "        vertical-align: middle;\n",
              "    }\n",
              "\n",
              "    .dataframe tbody tr th {\n",
              "        vertical-align: top;\n",
              "    }\n",
              "\n",
              "    .dataframe thead th {\n",
              "        text-align: right;\n",
              "    }\n",
              "</style>\n",
              "<table border=\"1\" class=\"dataframe\">\n",
              "  <thead>\n",
              "    <tr style=\"text-align: right;\">\n",
              "      <th></th>\n",
              "      <th>1stFlrSF</th>\n",
              "      <th>2ndFlrSF</th>\n",
              "      <th>LowQualFinSF</th>\n",
              "      <th>GrLivArea</th>\n",
              "      <th>BsmtFullBath</th>\n",
              "      <th>BsmtHalfBath</th>\n",
              "      <th>FullBath</th>\n",
              "      <th>HalfBath</th>\n",
              "      <th>BedroomAbvGr</th>\n",
              "      <th>KitchenAbvGr</th>\n",
              "      <th>TotRmsAbvGrd</th>\n",
              "    </tr>\n",
              "  </thead>\n",
              "  <tbody>\n",
              "    <tr>\n",
              "      <th>count</th>\n",
              "      <td>1460.000000</td>\n",
              "      <td>1460.000000</td>\n",
              "      <td>1460.000000</td>\n",
              "      <td>1460.000000</td>\n",
              "      <td>1460.000000</td>\n",
              "      <td>1460.000000</td>\n",
              "      <td>1460.000000</td>\n",
              "      <td>1460.000000</td>\n",
              "      <td>1460.000000</td>\n",
              "      <td>1460.000000</td>\n",
              "      <td>1460.000000</td>\n",
              "    </tr>\n",
              "    <tr>\n",
              "      <th>mean</th>\n",
              "      <td>1162.626712</td>\n",
              "      <td>346.992466</td>\n",
              "      <td>5.844521</td>\n",
              "      <td>1515.463699</td>\n",
              "      <td>0.425342</td>\n",
              "      <td>0.057534</td>\n",
              "      <td>1.565068</td>\n",
              "      <td>0.382877</td>\n",
              "      <td>2.866438</td>\n",
              "      <td>1.046575</td>\n",
              "      <td>6.517808</td>\n",
              "    </tr>\n",
              "    <tr>\n",
              "      <th>std</th>\n",
              "      <td>386.587738</td>\n",
              "      <td>436.528436</td>\n",
              "      <td>48.623081</td>\n",
              "      <td>525.480383</td>\n",
              "      <td>0.518911</td>\n",
              "      <td>0.238753</td>\n",
              "      <td>0.550916</td>\n",
              "      <td>0.502885</td>\n",
              "      <td>0.815778</td>\n",
              "      <td>0.220338</td>\n",
              "      <td>1.625393</td>\n",
              "    </tr>\n",
              "    <tr>\n",
              "      <th>min</th>\n",
              "      <td>334.000000</td>\n",
              "      <td>0.000000</td>\n",
              "      <td>0.000000</td>\n",
              "      <td>334.000000</td>\n",
              "      <td>0.000000</td>\n",
              "      <td>0.000000</td>\n",
              "      <td>0.000000</td>\n",
              "      <td>0.000000</td>\n",
              "      <td>0.000000</td>\n",
              "      <td>0.000000</td>\n",
              "      <td>2.000000</td>\n",
              "    </tr>\n",
              "    <tr>\n",
              "      <th>25%</th>\n",
              "      <td>882.000000</td>\n",
              "      <td>0.000000</td>\n",
              "      <td>0.000000</td>\n",
              "      <td>1129.500000</td>\n",
              "      <td>0.000000</td>\n",
              "      <td>0.000000</td>\n",
              "      <td>1.000000</td>\n",
              "      <td>0.000000</td>\n",
              "      <td>2.000000</td>\n",
              "      <td>1.000000</td>\n",
              "      <td>5.000000</td>\n",
              "    </tr>\n",
              "    <tr>\n",
              "      <th>50%</th>\n",
              "      <td>1087.000000</td>\n",
              "      <td>0.000000</td>\n",
              "      <td>0.000000</td>\n",
              "      <td>1464.000000</td>\n",
              "      <td>0.000000</td>\n",
              "      <td>0.000000</td>\n",
              "      <td>2.000000</td>\n",
              "      <td>0.000000</td>\n",
              "      <td>3.000000</td>\n",
              "      <td>1.000000</td>\n",
              "      <td>6.000000</td>\n",
              "    </tr>\n",
              "    <tr>\n",
              "      <th>75%</th>\n",
              "      <td>1391.250000</td>\n",
              "      <td>728.000000</td>\n",
              "      <td>0.000000</td>\n",
              "      <td>1776.750000</td>\n",
              "      <td>1.000000</td>\n",
              "      <td>0.000000</td>\n",
              "      <td>2.000000</td>\n",
              "      <td>1.000000</td>\n",
              "      <td>3.000000</td>\n",
              "      <td>1.000000</td>\n",
              "      <td>7.000000</td>\n",
              "    </tr>\n",
              "    <tr>\n",
              "      <th>max</th>\n",
              "      <td>4692.000000</td>\n",
              "      <td>2065.000000</td>\n",
              "      <td>572.000000</td>\n",
              "      <td>5642.000000</td>\n",
              "      <td>3.000000</td>\n",
              "      <td>2.000000</td>\n",
              "      <td>3.000000</td>\n",
              "      <td>2.000000</td>\n",
              "      <td>8.000000</td>\n",
              "      <td>3.000000</td>\n",
              "      <td>14.000000</td>\n",
              "    </tr>\n",
              "  </tbody>\n",
              "</table>\n",
              "</div>"
            ],
            "text/plain": [
              "          1stFlrSF     2ndFlrSF  ...  KitchenAbvGr  TotRmsAbvGrd\n",
              "count  1460.000000  1460.000000  ...   1460.000000   1460.000000\n",
              "mean   1162.626712   346.992466  ...      1.046575      6.517808\n",
              "std     386.587738   436.528436  ...      0.220338      1.625393\n",
              "min     334.000000     0.000000  ...      0.000000      2.000000\n",
              "25%     882.000000     0.000000  ...      1.000000      5.000000\n",
              "50%    1087.000000     0.000000  ...      1.000000      6.000000\n",
              "75%    1391.250000   728.000000  ...      1.000000      7.000000\n",
              "max    4692.000000  2065.000000  ...      3.000000     14.000000\n",
              "\n",
              "[8 rows x 11 columns]"
            ]
          },
          "metadata": {},
          "execution_count": 648
        }
      ]
    },
    {
      "cell_type": "code",
      "metadata": {
        "colab": {
          "base_uri": "https://localhost:8080/",
          "height": 295
        },
        "id": "gN8PlGcKHsZf",
        "outputId": "22107cb9-7b09-4e63-dbf2-382d24222c17"
      },
      "source": [
        "train_misc_val = train_data.groupby('MiscVal', as_index = False)['SalePrice'].mean().sort_values(by = 'MiscVal')\n",
        "ax = train_misc_val[['SalePrice']].plot(kind = 'line',\n",
        "                                                   title = 'Impact of value of miscellaneous feature on sale price',\n",
        "                                                   figsize = (19,5),\n",
        "                                                   legend = True,\n",
        "                                                   fontsize = 12)\n",
        "ax.set_xlabel('MiscVal', fontsize=12)\n",
        "ax.set_ylabel('SalePrice', fontsize=12)\n",
        "ax.set_xticks(range(len(train_misc_val)))\n",
        "ax.set_xticklabels(train_misc_val['MiscVal'])\n",
        "plt.xticks(rotation=90)\n",
        "plt.show()"
      ],
      "execution_count": 649,
      "outputs": [
        {
          "output_type": "display_data",
          "data": {
            "image/png": "[encoded data removed]",
            "text/plain": [
              "<Figure size 1368x360 with 1 Axes>"
            ]
          },
          "metadata": {
            "needs_background": "light"
          }
        }
      ]
    },
    {
      "cell_type": "code",
      "metadata": {
        "id": "IC3XxXyhH8Gi"
      },
      "source": [
        "train_data = train_data.drop(['MoSold', 'YrSold', 'SaleType', 'SaleCondition'], 1)"
      ],
      "execution_count": 650,
      "outputs": []
    },
    {
      "cell_type": "markdown",
      "metadata": {
        "id": "0gT1LMlQINnl"
      },
      "source": [
        "همبستگی داده های تبدیل شده"
      ]
    },
    {
      "cell_type": "code",
      "metadata": {
        "colab": {
          "base_uri": "https://localhost:8080/",
          "height": 397
        },
        "id": "mGVx8BSOIOfL",
        "outputId": "55e059b2-55a9-405b-b91e-3ffce1fbbb98"
      },
      "source": [
        "corr_matrix = train_data.corr()[['SalePrice']].sort_values(by = ['SalePrice'], ascending = False) #Do not drop SalePrice this time!\n",
        "corr_matrix[corr_matrix['SalePrice'] > 0.5].style.background_gradient(cmap = 'coolwarm').set_precision(2)"
      ],
      "execution_count": 651,
      "outputs": [
        {
          "output_type": "execute_result",
          "data": {
            "text/html": [
              "<style  type=\"text/css\" >\n",
              "#T_e9366872_0a8a_11ec_8690_0242ac1c0002row0_col0{\n",
              "            background-color:  #b40426;\n",
              "            color:  #f1f1f1;\n",
              "        }#T_e9366872_0a8a_11ec_8690_0242ac1c0002row1_col0{\n",
              "            background-color:  #eed0c0;\n",
              "            color:  #000000;\n",
              "        }#T_e9366872_0a8a_11ec_8690_0242ac1c0002row2_col0{\n",
              "            background-color:  #d5dbe5;\n",
              "            color:  #000000;\n",
              "        }#T_e9366872_0a8a_11ec_8690_0242ac1c0002row3_col0{\n",
              "            background-color:  #c3d5f4;\n",
              "            color:  #000000;\n",
              "        }#T_e9366872_0a8a_11ec_8690_0242ac1c0002row4_col0{\n",
              "            background-color:  #b7cff9;\n",
              "            color:  #000000;\n",
              "        }#T_e9366872_0a8a_11ec_8690_0242ac1c0002row5_col0{\n",
              "            background-color:  #adc9fd;\n",
              "            color:  #000000;\n",
              "        }#T_e9366872_0a8a_11ec_8690_0242ac1c0002row6_col0{\n",
              "            background-color:  #94b6ff;\n",
              "            color:  #000000;\n",
              "        }#T_e9366872_0a8a_11ec_8690_0242ac1c0002row7_col0{\n",
              "            background-color:  #88abfd;\n",
              "            color:  #000000;\n",
              "        }#T_e9366872_0a8a_11ec_8690_0242ac1c0002row8_col0{\n",
              "            background-color:  #81a4fb;\n",
              "            color:  #000000;\n",
              "        }#T_e9366872_0a8a_11ec_8690_0242ac1c0002row9_col0{\n",
              "            background-color:  #7b9ff9;\n",
              "            color:  #000000;\n",
              "        }#T_e9366872_0a8a_11ec_8690_0242ac1c0002row10_col0{\n",
              "            background-color:  #5d7ce6;\n",
              "            color:  #000000;\n",
              "        }#T_e9366872_0a8a_11ec_8690_0242ac1c0002row11_col0{\n",
              "            background-color:  #5875e1;\n",
              "            color:  #000000;\n",
              "        }#T_e9366872_0a8a_11ec_8690_0242ac1c0002row12_col0{\n",
              "            background-color:  #506bda;\n",
              "            color:  #000000;\n",
              "        }#T_e9366872_0a8a_11ec_8690_0242ac1c0002row13_col0{\n",
              "            background-color:  #4b64d5;\n",
              "            color:  #f1f1f1;\n",
              "        }#T_e9366872_0a8a_11ec_8690_0242ac1c0002row14_col0{\n",
              "            background-color:  #445acc;\n",
              "            color:  #f1f1f1;\n",
              "        }#T_e9366872_0a8a_11ec_8690_0242ac1c0002row15_col0,#T_e9366872_0a8a_11ec_8690_0242ac1c0002row16_col0{\n",
              "            background-color:  #3b4cc0;\n",
              "            color:  #f1f1f1;\n",
              "        }</style><table id=\"T_e9366872_0a8a_11ec_8690_0242ac1c0002\" ><thead>    <tr>        <th class=\"blank level0\" ></th>        <th class=\"col_heading level0 col0\" >SalePrice</th>    </tr></thead><tbody>\n",
              "                <tr>\n",
              "                        <th id=\"T_e9366872_0a8a_11ec_8690_0242ac1c0002level0_row0\" class=\"row_heading level0 row0\" >SalePrice</th>\n",
              "                        <td id=\"T_e9366872_0a8a_11ec_8690_0242ac1c0002row0_col0\" class=\"data row0 col0\" >1.00</td>\n",
              "            </tr>\n",
              "            <tr>\n",
              "                        <th id=\"T_e9366872_0a8a_11ec_8690_0242ac1c0002level0_row1\" class=\"row_heading level0 row1\" >OverallQual</th>\n",
              "                        <td id=\"T_e9366872_0a8a_11ec_8690_0242ac1c0002row1_col0\" class=\"data row1 col0\" >0.79</td>\n",
              "            </tr>\n",
              "            <tr>\n",
              "                        <th id=\"T_e9366872_0a8a_11ec_8690_0242ac1c0002level0_row2\" class=\"row_heading level0 row2\" >Neighborhood</th>\n",
              "                        <td id=\"T_e9366872_0a8a_11ec_8690_0242ac1c0002row2_col0\" class=\"data row2 col0\" >0.74</td>\n",
              "            </tr>\n",
              "            <tr>\n",
              "                        <th id=\"T_e9366872_0a8a_11ec_8690_0242ac1c0002level0_row3\" class=\"row_heading level0 row3\" >GrLivArea</th>\n",
              "                        <td id=\"T_e9366872_0a8a_11ec_8690_0242ac1c0002row3_col0\" class=\"data row3 col0\" >0.71</td>\n",
              "            </tr>\n",
              "            <tr>\n",
              "                        <th id=\"T_e9366872_0a8a_11ec_8690_0242ac1c0002level0_row4\" class=\"row_heading level0 row4\" >ExterQual</th>\n",
              "                        <td id=\"T_e9366872_0a8a_11ec_8690_0242ac1c0002row4_col0\" class=\"data row4 col0\" >0.69</td>\n",
              "            </tr>\n",
              "            <tr>\n",
              "                        <th id=\"T_e9366872_0a8a_11ec_8690_0242ac1c0002level0_row5\" class=\"row_heading level0 row5\" >KitchenQual</th>\n",
              "                        <td id=\"T_e9366872_0a8a_11ec_8690_0242ac1c0002row5_col0\" class=\"data row5 col0\" >0.68</td>\n",
              "            </tr>\n",
              "            <tr>\n",
              "                        <th id=\"T_e9366872_0a8a_11ec_8690_0242ac1c0002level0_row6\" class=\"row_heading level0 row6\" >GarageCars</th>\n",
              "                        <td id=\"T_e9366872_0a8a_11ec_8690_0242ac1c0002row6_col0\" class=\"data row6 col0\" >0.64</td>\n",
              "            </tr>\n",
              "            <tr>\n",
              "                        <th id=\"T_e9366872_0a8a_11ec_8690_0242ac1c0002level0_row7\" class=\"row_heading level0 row7\" >GarageArea</th>\n",
              "                        <td id=\"T_e9366872_0a8a_11ec_8690_0242ac1c0002row7_col0\" class=\"data row7 col0\" >0.62</td>\n",
              "            </tr>\n",
              "            <tr>\n",
              "                        <th id=\"T_e9366872_0a8a_11ec_8690_0242ac1c0002level0_row8\" class=\"row_heading level0 row8\" >TotalBsmtSF</th>\n",
              "                        <td id=\"T_e9366872_0a8a_11ec_8690_0242ac1c0002row8_col0\" class=\"data row8 col0\" >0.61</td>\n",
              "            </tr>\n",
              "            <tr>\n",
              "                        <th id=\"T_e9366872_0a8a_11ec_8690_0242ac1c0002level0_row9\" class=\"row_heading level0 row9\" >1stFlrSF</th>\n",
              "                        <td id=\"T_e9366872_0a8a_11ec_8690_0242ac1c0002row9_col0\" class=\"data row9 col0\" >0.61</td>\n",
              "            </tr>\n",
              "            <tr>\n",
              "                        <th id=\"T_e9366872_0a8a_11ec_8690_0242ac1c0002level0_row10\" class=\"row_heading level0 row10\" >FullBath</th>\n",
              "                        <td id=\"T_e9366872_0a8a_11ec_8690_0242ac1c0002row10_col0\" class=\"data row10 col0\" >0.56</td>\n",
              "            </tr>\n",
              "            <tr>\n",
              "                        <th id=\"T_e9366872_0a8a_11ec_8690_0242ac1c0002level0_row11\" class=\"row_heading level0 row11\" >GarageFinish</th>\n",
              "                        <td id=\"T_e9366872_0a8a_11ec_8690_0242ac1c0002row11_col0\" class=\"data row11 col0\" >0.55</td>\n",
              "            </tr>\n",
              "            <tr>\n",
              "                        <th id=\"T_e9366872_0a8a_11ec_8690_0242ac1c0002level0_row12\" class=\"row_heading level0 row12\" >FireplaceQu</th>\n",
              "                        <td id=\"T_e9366872_0a8a_11ec_8690_0242ac1c0002row12_col0\" class=\"data row12 col0\" >0.54</td>\n",
              "            </tr>\n",
              "            <tr>\n",
              "                        <th id=\"T_e9366872_0a8a_11ec_8690_0242ac1c0002level0_row13\" class=\"row_heading level0 row13\" >TotRmsAbvGrd</th>\n",
              "                        <td id=\"T_e9366872_0a8a_11ec_8690_0242ac1c0002row13_col0\" class=\"data row13 col0\" >0.53</td>\n",
              "            </tr>\n",
              "            <tr>\n",
              "                        <th id=\"T_e9366872_0a8a_11ec_8690_0242ac1c0002level0_row14\" class=\"row_heading level0 row14\" >YearBuilt</th>\n",
              "                        <td id=\"T_e9366872_0a8a_11ec_8690_0242ac1c0002row14_col0\" class=\"data row14 col0\" >0.52</td>\n",
              "            </tr>\n",
              "            <tr>\n",
              "                        <th id=\"T_e9366872_0a8a_11ec_8690_0242ac1c0002level0_row15\" class=\"row_heading level0 row15\" >YearRemodAdd</th>\n",
              "                        <td id=\"T_e9366872_0a8a_11ec_8690_0242ac1c0002row15_col0\" class=\"data row15 col0\" >0.51</td>\n",
              "            </tr>\n",
              "            <tr>\n",
              "                        <th id=\"T_e9366872_0a8a_11ec_8690_0242ac1c0002level0_row16\" class=\"row_heading level0 row16\" >Foundation</th>\n",
              "                        <td id=\"T_e9366872_0a8a_11ec_8690_0242ac1c0002row16_col0\" class=\"data row16 col0\" >0.51</td>\n",
              "            </tr>\n",
              "    </tbody></table>"
            ],
            "text/plain": [
              "<pandas.io.formats.style.Styler at 0x7f468e47d090>"
            ]
          },
          "metadata": {},
          "execution_count": 651
        }
      ]
    },
    {
      "cell_type": "markdown",
      "metadata": {
        "id": "kFM5vqJOIjIv"
      },
      "source": [
        "تغییرات مشابه با آزمون\n",
        "ابتدا بیایید ستون ها را رها کرده و تمام قطعات گم شده را در حین تمرین پر کنیم"
      ]
    },
    {
      "cell_type": "code",
      "metadata": {
        "id": "FdSaBZu_IrZX"
      },
      "source": [
        "test_data = test_data.drop('MSSubClass', 1)\n",
        "test_data = test_data.drop('Street', 1)\n",
        "test_data = test_data.drop('Utilities', 1)\n",
        "test_data = test_data.drop('Condition2', 1)\n",
        "test_data = test_data.drop(['MoSold', 'YrSold', 'SaleType', 'SaleCondition'], 1)\n",
        "\n",
        "test_data['LotFrontage'].fillna(train['LotFrontage'].mean(), inplace = True)\n",
        "test_data['Alley'].fillna(0, inplace = True)\n",
        "test_data['MasVnrType'].fillna('None', inplace = True)\n",
        "test_data['MasVnrArea'].fillna(value, inplace = True)\n",
        "# for col in bsmt_cols:\n",
        "#     test_data[col].fillna('None', inplace = True)\n",
        "for col in garage_cols:\n",
        "    test_data[col].fillna('None', inplace = True)\n",
        "test_data['Electrical'].fillna('None', inplace = True)\n",
        "test_data['FireplaceQu'].fillna('None', inplace = True)\n",
        "test_data['PoolQC'].fillna('None', inplace = True)\n",
        "test_data['Fence'].fillna('None', inplace = True)\n",
        "test_data['MiscFeature'].fillna('None', inplace = True)"
      ],
      "execution_count": 652,
      "outputs": []
    },
    {
      "cell_type": "markdown",
      "metadata": {
        "id": "OEbLgx9xJR33"
      },
      "source": [
        "آیا اطلاعات مفقوده ای باقی مانده است؟"
      ]
    },
    {
      "cell_type": "code",
      "metadata": {
        "colab": {
          "base_uri": "https://localhost:8080/",
          "height": 545
        },
        "id": "fIGs45EFJX5k",
        "outputId": "52cbbcc6-8dcf-493a-d534-e160caa40079"
      },
      "source": [
        "missing_test = pd.concat([test_data.isna().sum().sort_values(ascending = False), test_data.dtypes], axis=1, keys=['Total', 'Type'])\n",
        "missing_test[missing_test['Total'] > 0]"
      ],
      "execution_count": 653,
      "outputs": [
        {
          "output_type": "execute_result",
          "data": {
            "text/html": [
              "<div>\n",
              "<style scoped>\n",
              "    .dataframe tbody tr th:only-of-type {\n",
              "        vertical-align: middle;\n",
              "    }\n",
              "\n",
              "    .dataframe tbody tr th {\n",
              "        vertical-align: top;\n",
              "    }\n",
              "\n",
              "    .dataframe thead th {\n",
              "        text-align: right;\n",
              "    }\n",
              "</style>\n",
              "<table border=\"1\" class=\"dataframe\">\n",
              "  <thead>\n",
              "    <tr style=\"text-align: right;\">\n",
              "      <th></th>\n",
              "      <th>Total</th>\n",
              "      <th>Type</th>\n",
              "    </tr>\n",
              "  </thead>\n",
              "  <tbody>\n",
              "    <tr>\n",
              "      <th>BsmtCond</th>\n",
              "      <td>45</td>\n",
              "      <td>object</td>\n",
              "    </tr>\n",
              "    <tr>\n",
              "      <th>BsmtExposure</th>\n",
              "      <td>44</td>\n",
              "      <td>object</td>\n",
              "    </tr>\n",
              "    <tr>\n",
              "      <th>BsmtQual</th>\n",
              "      <td>44</td>\n",
              "      <td>object</td>\n",
              "    </tr>\n",
              "    <tr>\n",
              "      <th>BsmtFinType2</th>\n",
              "      <td>42</td>\n",
              "      <td>object</td>\n",
              "    </tr>\n",
              "    <tr>\n",
              "      <th>BsmtFinType1</th>\n",
              "      <td>42</td>\n",
              "      <td>object</td>\n",
              "    </tr>\n",
              "    <tr>\n",
              "      <th>MSZoning</th>\n",
              "      <td>4</td>\n",
              "      <td>object</td>\n",
              "    </tr>\n",
              "    <tr>\n",
              "      <th>Functional</th>\n",
              "      <td>2</td>\n",
              "      <td>object</td>\n",
              "    </tr>\n",
              "    <tr>\n",
              "      <th>BsmtFullBath</th>\n",
              "      <td>2</td>\n",
              "      <td>float64</td>\n",
              "    </tr>\n",
              "    <tr>\n",
              "      <th>BsmtHalfBath</th>\n",
              "      <td>2</td>\n",
              "      <td>float64</td>\n",
              "    </tr>\n",
              "    <tr>\n",
              "      <th>BsmtFinSF2</th>\n",
              "      <td>1</td>\n",
              "      <td>float64</td>\n",
              "    </tr>\n",
              "    <tr>\n",
              "      <th>KitchenQual</th>\n",
              "      <td>1</td>\n",
              "      <td>object</td>\n",
              "    </tr>\n",
              "    <tr>\n",
              "      <th>Exterior2nd</th>\n",
              "      <td>1</td>\n",
              "      <td>object</td>\n",
              "    </tr>\n",
              "    <tr>\n",
              "      <th>BsmtUnfSF</th>\n",
              "      <td>1</td>\n",
              "      <td>float64</td>\n",
              "    </tr>\n",
              "    <tr>\n",
              "      <th>Exterior1st</th>\n",
              "      <td>1</td>\n",
              "      <td>object</td>\n",
              "    </tr>\n",
              "    <tr>\n",
              "      <th>BsmtFinSF1</th>\n",
              "      <td>1</td>\n",
              "      <td>float64</td>\n",
              "    </tr>\n",
              "    <tr>\n",
              "      <th>TotalBsmtSF</th>\n",
              "      <td>1</td>\n",
              "      <td>float64</td>\n",
              "    </tr>\n",
              "  </tbody>\n",
              "</table>\n",
              "</div>"
            ],
            "text/plain": [
              "              Total     Type\n",
              "BsmtCond         45   object\n",
              "BsmtExposure     44   object\n",
              "BsmtQual         44   object\n",
              "BsmtFinType2     42   object\n",
              "BsmtFinType1     42   object\n",
              "MSZoning          4   object\n",
              "Functional        2   object\n",
              "BsmtFullBath      2  float64\n",
              "BsmtHalfBath      2  float64\n",
              "BsmtFinSF2        1  float64\n",
              "KitchenQual       1   object\n",
              "Exterior2nd       1   object\n",
              "BsmtUnfSF         1  float64\n",
              "Exterior1st       1   object\n",
              "BsmtFinSF1        1  float64\n",
              "TotalBsmtSF       1  float64"
            ]
          },
          "metadata": {},
          "execution_count": 653
        }
      ]
    },
    {
      "cell_type": "markdown",
      "metadata": {
        "id": "3ZSH2041J_U7"
      },
      "source": [
        "فقط چند مقدار ، آنها تأثیر کمی بر نتایج دارند. همه آنها را به محبوب ترین مقادیر در ستون های مربوطه تغییر دهید."
      ]
    },
    {
      "cell_type": "code",
      "metadata": {
        "id": "JIyqrqoWKAJP"
      },
      "source": [
        "test_data['MSZoning'].fillna('RL', inplace = True)\n",
        "test_data['BsmtFullBath'].fillna('0.0', inplace = True)\n",
        "test_data['Functional'].fillna('Typ', inplace = True)\n",
        "test_data['BsmtHalfBath'].fillna('0.0', inplace = True)\n",
        "test_data['KitchenQual'].fillna('TA', inplace = True)\n",
        "test_data['Exterior1st'].fillna('VinylSd', inplace = True)\n",
        "test_data['Exterior2nd'].fillna('VinylSd', inplace = True)"
      ],
      "execution_count": 654,
      "outputs": []
    },
    {
      "cell_type": "code",
      "metadata": {
        "id": "5E7Y1XIMKntj"
      },
      "source": [
        "test_data['MSZoning'] = test_data['MSZoning'].apply(lambda x: msz.loc[msz['MSZoning'] == x, 'normalized'].item())\n",
        "test_data['MSZoning'] = test_data['MSZoning'].astype(float)\n",
        "test_data['Alley'] = test_data['Alley'].replace('Grvl', '1', regex = True)\n",
        "test_data['Alley'] = test_data['Alley'].replace('Pave', '1', regex = True)\n",
        "test_data['Alley'] = test_data['Alley'].astype(int)\n",
        "test_data['LotShape'] = test_data['LotShape'].apply(lambda x: lshp.loc[lshp['LotShape'] == x, 'normalized'].item())\n",
        "test_data['LotShape'] = test_data['LotShape'].astype(float)\n",
        "test_data['LandContour'] = test_data['LandContour'].apply(lambda x: lctr.loc[lctr['LandContour'] == x, 'normalized'].item())\n",
        "test_data['LandContour'] = test_data['LandContour'].astype(float)\n",
        "test_data['LotConfig'] = test_data['LotConfig'].apply(lambda x: lcfg.loc[lcfg['LotConfig'] == x, 'normalized'].item())\n",
        "test_data['LotConfig'] = test_data['LotConfig'].astype(float)\n",
        "test_data['LandSlope'] = test_data['LandSlope'].apply(lambda x: lslp.loc[lslp['LandSlope'] == x, 'normalized'].item())\n",
        "test_data['LandSlope'] = test_data['LandSlope'].astype(float)\n",
        "test_data['Neighborhood'] = test_data['Neighborhood'].apply(lambda x: ngbh.loc[ngbh['Neighborhood'] == x, 'normalized'].item())\n",
        "test_data['Neighborhood'] = test_data['Neighborhood'].astype(float)\n",
        "test_data['Condition1'] = test_data['Condition1'].apply(lambda x: cond1.loc[cond1['Condition1'] == x, 'normalized'].item())\n",
        "test_data['Condition1'] = test_data['Condition1'].astype(float)\n",
        "test_data['BldgType'] = test_data['BldgType'].apply(lambda x: bldg.loc[bldg['BldgType'] == x, 'normalized'].item())\n",
        "test_data['BldgType'] = test_data['BldgType'].astype(float)\n",
        "test_data['HouseStyle'] = test_data['HouseStyle'].apply(lambda x: hstl.loc[hstl['HouseStyle'] == x, 'normalized'].item())\n",
        "test_data['HouseStyle'] = test_data['HouseStyle'].astype(float)\n",
        "test_data['RoofStyle'] = test_data['RoofStyle'].apply(lambda x: rfst.loc[rfst['RoofStyle'] == x, 'normalized'].item())\n",
        "test_data['RoofStyle'] = test_data['RoofStyle'].astype(float)\n",
        "test_data['RoofMatl'] = test_data['RoofMatl'].apply(lambda x: rfmt.loc[rfmt['RoofMatl'] == x, 'normalized'].item())\n",
        "test_data['RoofMatl'] = test_data['RoofMatl'].astype(float)\n",
        "test_data['Exterior1st'] = test_data['Exterior1st'].apply(lambda x: ext1.loc[ext1['Exterior1st'] == x, 'normalized'].item())\n",
        "test_data['Exterior1st'] = test_data['Exterior1st'].astype(float)\n",
        "test_data['Exterior2nd'] = test_data['Exterior2nd'].apply(lambda x: ext2.loc[ext2['Exterior2nd'] == x, 'normalized'].item())\n",
        "test_data['Exterior2nd'] = test_data['Exterior2nd'].astype(float)\n",
        "test_data['MasVnrType'] = test_data['MasVnrType'].apply(lambda x: mvtp.loc[mvtp['MasVnrType'] == x, 'normalized'].item())\n",
        "test_data['MasVnrType'] = test_data['MasVnrType'].astype(float)\n",
        "test_data['ExterQual'] = test_data['ExterQual'].apply(lambda x: exql.loc[exql['ExterQual'] == x, 'normalized'].item())\n",
        "test_data['ExterQual'] = test_data['ExterQual'].astype(float)\n",
        "test_data['ExterCond'] = test_data['ExterCond'].apply(lambda x: excn.loc[excn['ExterCond'] == x, 'normalized'].item())\n",
        "test_data['ExterCond'] = test_data['ExterCond'].astype(float)\n",
        "test_data['Foundation'] = test_data['Foundation'].apply(lambda x: fndt.loc[fndt['Foundation'] == x, 'normalized'].item())\n",
        "test_data['Foundation'] = test_data['Foundation'].astype(float)\n",
        "test_data['Heating'] = test_data['Heating'].apply(lambda x: heat.loc[heat['Heating'] == x, 'normalized'].item())\n",
        "test_data['Heating'] = test_data['Heating'].astype(float)\n",
        "test_data['HeatingQC'] = test_data['HeatingQC'].apply(lambda x: htqc.loc[htqc['HeatingQC'] == x, 'normalized'].item())\n",
        "test_data['HeatingQC'] = test_data['HeatingQC'].astype(float)\n",
        "test_data['CentralAir'] = test_data['CentralAir'].replace('Y', '1', regex = True)\n",
        "test_data['CentralAir'] = test_data['CentralAir'].replace('N', '0', regex = True)\n",
        "test_data['CentralAir'] = test_data['CentralAir'].astype(int)\n",
        "test_data['Electrical'] = test_data['Electrical'].apply(lambda x: elec.loc[elec['Electrical'] == x, 'normalized'].item())\n",
        "test_data['Electrical'] = test_data['Electrical'].astype(float)\n",
        "test_data['KitchenQual'] = test_data['KitchenQual'].apply(lambda x: kchq.loc[kchq['KitchenQual'] == x, 'normalized'].item())\n",
        "test_data['KitchenQual'] = test_data['KitchenQual'].astype(float)\n",
        "test_data['Functional'] = test_data['Functional'].apply(lambda x: func.loc[func['Functional'] == x, 'normalized'].item())\n",
        "test_data['Functional'] = test_data['Functional'].astype(float)\n",
        "test_data['FireplaceQu'] = test_data['FireplaceQu'].apply(lambda x: frpq.loc[frpq['FireplaceQu'] == x, 'normalized'].item())\n",
        "test_data['FireplaceQu'] = test_data['FireplaceQu'].astype(float)\n",
        "test_data['GarageYrBlt'] = test_data['GarageYrBlt'].replace('None', 0, regex = True)\n",
        "test_data['GarageCars'] = test_data['GarageCars'].replace('None', 0, regex = True)\n",
        "test_data['GarageArea'] = test_data['GarageArea'].replace('None', 0, regex = True)\n",
        "test_data['GarageType'] = test_data['GarageType'].apply(lambda x: grtp.loc[grtp['GarageType'] == x, 'normalized'].item())\n",
        "test_data['GarageType'] = test_data['GarageType'].astype(float)\n",
        "test_data['GarageFinish'] = test_data['GarageFinish'].apply(lambda x: grfn.loc[grfn['GarageFinish'] == x, 'normalized'].item())\n",
        "test_data['GarageFinish'] = test_data['GarageFinish'].astype(float)\n",
        "test_data['GarageQual'] = test_data['GarageQual'].apply(lambda x: grqu.loc[grqu['GarageQual'] == x, 'normalized'].item())\n",
        "test_data['GarageQual'] = test_data['GarageQual'].astype(float)\n",
        "test_data['GarageCond'] = test_data['GarageCond'].apply(lambda x: grcn.loc[grcn['GarageCond'] == x, 'normalized'].item())\n",
        "test_data['GarageCond'] = test_data['GarageCond'].astype(float)\n",
        "test_data['PavedDrive'] = test_data['PavedDrive'].apply(lambda x: pvdr.loc[pvdr['PavedDrive'] == x, 'normalized'].item())\n",
        "test_data['PavedDrive'] = test_data['PavedDrive'].astype(float)\n",
        "test_data['Fence'] = test_data['Fence'].apply(lambda x: fenc.loc[fenc['Fence'] == x, 'normalized'].item())\n",
        "test_data['Fence'] = test_data['Fence'].astype(float)\n",
        "test_data['MiscFeature'] = test_data['MiscFeature'].apply(lambda x: misc.loc[misc['MiscFeature'] == x, 'normalized'].item())\n",
        "test_data['MiscFeature'] = test_data['MiscFeature'].astype(float)\n",
        "\n",
        "test_data = test_data.replace('None', 0, regex = True)"
      ],
      "execution_count": 655,
      "outputs": []
    },
    {
      "cell_type": "markdown",
      "metadata": {
        "id": "K2lLpsZdgT3I"
      },
      "source": [
        "در اینجا نقاط دور حذف می شوند"
      ]
    },
    {
      "cell_type": "code",
      "metadata": {
        "colab": {
          "base_uri": "https://localhost:8080/",
          "height": 439
        },
        "id": "iPBpx-_3gXIW",
        "outputId": "4118230f-8154-4b2e-fe5c-43678e0aed6a"
      },
      "source": [
        "train_data"
      ],
      "execution_count": 656,
      "outputs": [
        {
          "output_type": "execute_result",
          "data": {
            "text/html": [
              "<div>\n",
              "<style scoped>\n",
              "    .dataframe tbody tr th:only-of-type {\n",
              "        vertical-align: middle;\n",
              "    }\n",
              "\n",
              "    .dataframe tbody tr th {\n",
              "        vertical-align: top;\n",
              "    }\n",
              "\n",
              "    .dataframe thead th {\n",
              "        text-align: right;\n",
              "    }\n",
              "</style>\n",
              "<table border=\"1\" class=\"dataframe\">\n",
              "  <thead>\n",
              "    <tr style=\"text-align: right;\">\n",
              "      <th></th>\n",
              "      <th>Id</th>\n",
              "      <th>MSZoning</th>\n",
              "      <th>LotFrontage</th>\n",
              "      <th>LotArea</th>\n",
              "      <th>Street</th>\n",
              "      <th>Alley</th>\n",
              "      <th>LotShape</th>\n",
              "      <th>LandContour</th>\n",
              "      <th>LotConfig</th>\n",
              "      <th>LandSlope</th>\n",
              "      <th>Neighborhood</th>\n",
              "      <th>Condition1</th>\n",
              "      <th>BldgType</th>\n",
              "      <th>HouseStyle</th>\n",
              "      <th>OverallQual</th>\n",
              "      <th>OverallCond</th>\n",
              "      <th>YearBuilt</th>\n",
              "      <th>YearRemodAdd</th>\n",
              "      <th>RoofStyle</th>\n",
              "      <th>RoofMatl</th>\n",
              "      <th>Exterior1st</th>\n",
              "      <th>Exterior2nd</th>\n",
              "      <th>MasVnrType</th>\n",
              "      <th>MasVnrArea</th>\n",
              "      <th>ExterQual</th>\n",
              "      <th>ExterCond</th>\n",
              "      <th>Foundation</th>\n",
              "      <th>BsmtQual</th>\n",
              "      <th>BsmtCond</th>\n",
              "      <th>BsmtExposure</th>\n",
              "      <th>BsmtFinType1</th>\n",
              "      <th>BsmtFinSF1</th>\n",
              "      <th>BsmtFinType2</th>\n",
              "      <th>BsmtFinSF2</th>\n",
              "      <th>BsmtUnfSF</th>\n",
              "      <th>TotalBsmtSF</th>\n",
              "      <th>Heating</th>\n",
              "      <th>HeatingQC</th>\n",
              "      <th>CentralAir</th>\n",
              "      <th>Electrical</th>\n",
              "      <th>1stFlrSF</th>\n",
              "      <th>2ndFlrSF</th>\n",
              "      <th>LowQualFinSF</th>\n",
              "      <th>GrLivArea</th>\n",
              "      <th>BsmtFullBath</th>\n",
              "      <th>BsmtHalfBath</th>\n",
              "      <th>FullBath</th>\n",
              "      <th>HalfBath</th>\n",
              "      <th>BedroomAbvGr</th>\n",
              "      <th>KitchenAbvGr</th>\n",
              "      <th>KitchenQual</th>\n",
              "      <th>TotRmsAbvGrd</th>\n",
              "      <th>Functional</th>\n",
              "      <th>Fireplaces</th>\n",
              "      <th>FireplaceQu</th>\n",
              "      <th>GarageType</th>\n",
              "      <th>GarageYrBlt</th>\n",
              "      <th>GarageFinish</th>\n",
              "      <th>GarageCars</th>\n",
              "      <th>GarageArea</th>\n",
              "      <th>GarageQual</th>\n",
              "      <th>GarageCond</th>\n",
              "      <th>PavedDrive</th>\n",
              "      <th>WoodDeckSF</th>\n",
              "      <th>OpenPorchSF</th>\n",
              "      <th>EnclosedPorch</th>\n",
              "      <th>3SsnPorch</th>\n",
              "      <th>ScreenPorch</th>\n",
              "      <th>PoolArea</th>\n",
              "      <th>Fence</th>\n",
              "      <th>MiscFeature</th>\n",
              "      <th>MiscVal</th>\n",
              "      <th>SalePrice</th>\n",
              "    </tr>\n",
              "  </thead>\n",
              "  <tbody>\n",
              "    <tr>\n",
              "      <th>0</th>\n",
              "      <td>1</td>\n",
              "      <td>0.835</td>\n",
              "      <td>65.0</td>\n",
              "      <td>8450</td>\n",
              "      <td>Pave</td>\n",
              "      <td>0</td>\n",
              "      <td>0.000</td>\n",
              "      <td>0.419</td>\n",
              "      <td>0.000</td>\n",
              "      <td>0.0</td>\n",
              "      <td>0.420</td>\n",
              "      <td>0.544</td>\n",
              "      <td>1.0</td>\n",
              "      <td>0.909</td>\n",
              "      <td>7</td>\n",
              "      <td>5</td>\n",
              "      <td>2003</td>\n",
              "      <td>2003</td>\n",
              "      <td>0.297</td>\n",
              "      <td>0.169</td>\n",
              "      <td>0.747</td>\n",
              "      <td>0.511</td>\n",
              "      <td>0.489</td>\n",
              "      <td>196.0</td>\n",
              "      <td>0.514</td>\n",
              "      <td>0.861</td>\n",
              "      <td>1.000</td>\n",
              "      <td>Gd</td>\n",
              "      <td>TA</td>\n",
              "      <td>No</td>\n",
              "      <td>GLQ</td>\n",
              "      <td>706</td>\n",
              "      <td>Unf</td>\n",
              "      <td>0</td>\n",
              "      <td>150</td>\n",
              "      <td>856</td>\n",
              "      <td>1.0</td>\n",
              "      <td>1.000</td>\n",
              "      <td>1</td>\n",
              "      <td>1.000</td>\n",
              "      <td>856</td>\n",
              "      <td>854</td>\n",
              "      <td>0</td>\n",
              "      <td>1710</td>\n",
              "      <td>1</td>\n",
              "      <td>0</td>\n",
              "      <td>2</td>\n",
              "      <td>1</td>\n",
              "      <td>3</td>\n",
              "      <td>1</td>\n",
              "      <td>0.478</td>\n",
              "      <td>8</td>\n",
              "      <td>1.000</td>\n",
              "      <td>0</td>\n",
              "      <td>0.056</td>\n",
              "      <td>0.658</td>\n",
              "      <td>2003.0</td>\n",
              "      <td>0.722</td>\n",
              "      <td>2</td>\n",
              "      <td>548</td>\n",
              "      <td>0.62</td>\n",
              "      <td>1.0</td>\n",
              "      <td>1.0</td>\n",
              "      <td>0</td>\n",
              "      <td>61</td>\n",
              "      <td>0</td>\n",
              "      <td>0</td>\n",
              "      <td>0</td>\n",
              "      <td>0</td>\n",
              "      <td>1.000</td>\n",
              "      <td>0.564</td>\n",
              "      <td>0</td>\n",
              "      <td>208500</td>\n",
              "    </tr>\n",
              "    <tr>\n",
              "      <th>1</th>\n",
              "      <td>2</td>\n",
              "      <td>0.835</td>\n",
              "      <td>80.0</td>\n",
              "      <td>9600</td>\n",
              "      <td>Pave</td>\n",
              "      <td>0</td>\n",
              "      <td>0.000</td>\n",
              "      <td>0.419</td>\n",
              "      <td>0.021</td>\n",
              "      <td>0.0</td>\n",
              "      <td>0.592</td>\n",
              "      <td>0.081</td>\n",
              "      <td>1.0</td>\n",
              "      <td>0.599</td>\n",
              "      <td>6</td>\n",
              "      <td>8</td>\n",
              "      <td>1976</td>\n",
              "      <td>1976</td>\n",
              "      <td>0.297</td>\n",
              "      <td>0.169</td>\n",
              "      <td>0.411</td>\n",
              "      <td>0.209</td>\n",
              "      <td>0.083</td>\n",
              "      <td>0.0</td>\n",
              "      <td>0.202</td>\n",
              "      <td>0.861</td>\n",
              "      <td>0.360</td>\n",
              "      <td>Gd</td>\n",
              "      <td>TA</td>\n",
              "      <td>Gd</td>\n",
              "      <td>ALQ</td>\n",
              "      <td>978</td>\n",
              "      <td>Unf</td>\n",
              "      <td>0</td>\n",
              "      <td>284</td>\n",
              "      <td>1262</td>\n",
              "      <td>1.0</td>\n",
              "      <td>1.000</td>\n",
              "      <td>1</td>\n",
              "      <td>1.000</td>\n",
              "      <td>1262</td>\n",
              "      <td>0</td>\n",
              "      <td>0</td>\n",
              "      <td>1262</td>\n",
              "      <td>0</td>\n",
              "      <td>1</td>\n",
              "      <td>2</td>\n",
              "      <td>0</td>\n",
              "      <td>3</td>\n",
              "      <td>1</td>\n",
              "      <td>0.154</td>\n",
              "      <td>6</td>\n",
              "      <td>1.000</td>\n",
              "      <td>1</td>\n",
              "      <td>0.365</td>\n",
              "      <td>0.658</td>\n",
              "      <td>1976.0</td>\n",
              "      <td>0.722</td>\n",
              "      <td>2</td>\n",
              "      <td>460</td>\n",
              "      <td>0.62</td>\n",
              "      <td>1.0</td>\n",
              "      <td>1.0</td>\n",
              "      <td>298</td>\n",
              "      <td>0</td>\n",
              "      <td>0</td>\n",
              "      <td>0</td>\n",
              "      <td>0</td>\n",
              "      <td>0</td>\n",
              "      <td>1.000</td>\n",
              "      <td>0.564</td>\n",
              "      <td>0</td>\n",
              "      <td>181500</td>\n",
              "    </tr>\n",
              "    <tr>\n",
              "      <th>2</th>\n",
              "      <td>3</td>\n",
              "      <td>0.835</td>\n",
              "      <td>68.0</td>\n",
              "      <td>11250</td>\n",
              "      <td>Pave</td>\n",
              "      <td>0</td>\n",
              "      <td>0.551</td>\n",
              "      <td>0.419</td>\n",
              "      <td>0.000</td>\n",
              "      <td>0.0</td>\n",
              "      <td>0.420</td>\n",
              "      <td>0.544</td>\n",
              "      <td>1.0</td>\n",
              "      <td>0.909</td>\n",
              "      <td>7</td>\n",
              "      <td>5</td>\n",
              "      <td>2001</td>\n",
              "      <td>2002</td>\n",
              "      <td>0.297</td>\n",
              "      <td>0.169</td>\n",
              "      <td>0.747</td>\n",
              "      <td>0.511</td>\n",
              "      <td>0.489</td>\n",
              "      <td>162.0</td>\n",
              "      <td>0.514</td>\n",
              "      <td>0.861</td>\n",
              "      <td>1.000</td>\n",
              "      <td>Gd</td>\n",
              "      <td>TA</td>\n",
              "      <td>Mn</td>\n",
              "      <td>GLQ</td>\n",
              "      <td>486</td>\n",
              "      <td>Unf</td>\n",
              "      <td>0</td>\n",
              "      <td>434</td>\n",
              "      <td>920</td>\n",
              "      <td>1.0</td>\n",
              "      <td>1.000</td>\n",
              "      <td>1</td>\n",
              "      <td>1.000</td>\n",
              "      <td>920</td>\n",
              "      <td>866</td>\n",
              "      <td>0</td>\n",
              "      <td>1786</td>\n",
              "      <td>1</td>\n",
              "      <td>0</td>\n",
              "      <td>2</td>\n",
              "      <td>1</td>\n",
              "      <td>3</td>\n",
              "      <td>1</td>\n",
              "      <td>0.478</td>\n",
              "      <td>6</td>\n",
              "      <td>1.000</td>\n",
              "      <td>1</td>\n",
              "      <td>0.365</td>\n",
              "      <td>0.658</td>\n",
              "      <td>2001.0</td>\n",
              "      <td>0.722</td>\n",
              "      <td>2</td>\n",
              "      <td>608</td>\n",
              "      <td>0.62</td>\n",
              "      <td>1.0</td>\n",
              "      <td>1.0</td>\n",
              "      <td>0</td>\n",
              "      <td>42</td>\n",
              "      <td>0</td>\n",
              "      <td>0</td>\n",
              "      <td>0</td>\n",
              "      <td>0</td>\n",
              "      <td>1.000</td>\n",
              "      <td>0.564</td>\n",
              "      <td>0</td>\n",
              "      <td>223500</td>\n",
              "    </tr>\n",
              "    <tr>\n",
              "      <th>3</th>\n",
              "      <td>4</td>\n",
              "      <td>0.835</td>\n",
              "      <td>60.0</td>\n",
              "      <td>9550</td>\n",
              "      <td>Pave</td>\n",
              "      <td>0</td>\n",
              "      <td>0.551</td>\n",
              "      <td>0.419</td>\n",
              "      <td>0.100</td>\n",
              "      <td>0.0</td>\n",
              "      <td>0.473</td>\n",
              "      <td>0.544</td>\n",
              "      <td>1.0</td>\n",
              "      <td>0.909</td>\n",
              "      <td>7</td>\n",
              "      <td>5</td>\n",
              "      <td>1915</td>\n",
              "      <td>1970</td>\n",
              "      <td>0.297</td>\n",
              "      <td>0.169</td>\n",
              "      <td>0.413</td>\n",
              "      <td>0.263</td>\n",
              "      <td>0.083</td>\n",
              "      <td>0.0</td>\n",
              "      <td>0.202</td>\n",
              "      <td>0.861</td>\n",
              "      <td>0.211</td>\n",
              "      <td>TA</td>\n",
              "      <td>Gd</td>\n",
              "      <td>No</td>\n",
              "      <td>ALQ</td>\n",
              "      <td>216</td>\n",
              "      <td>Unf</td>\n",
              "      <td>0</td>\n",
              "      <td>540</td>\n",
              "      <td>756</td>\n",
              "      <td>1.0</td>\n",
              "      <td>0.546</td>\n",
              "      <td>1</td>\n",
              "      <td>1.000</td>\n",
              "      <td>961</td>\n",
              "      <td>756</td>\n",
              "      <td>0</td>\n",
              "      <td>1717</td>\n",
              "      <td>1</td>\n",
              "      <td>0</td>\n",
              "      <td>1</td>\n",
              "      <td>0</td>\n",
              "      <td>3</td>\n",
              "      <td>1</td>\n",
              "      <td>0.478</td>\n",
              "      <td>7</td>\n",
              "      <td>1.000</td>\n",
              "      <td>1</td>\n",
              "      <td>0.464</td>\n",
              "      <td>0.203</td>\n",
              "      <td>1998.0</td>\n",
              "      <td>0.284</td>\n",
              "      <td>3</td>\n",
              "      <td>642</td>\n",
              "      <td>0.62</td>\n",
              "      <td>1.0</td>\n",
              "      <td>1.0</td>\n",
              "      <td>0</td>\n",
              "      <td>35</td>\n",
              "      <td>272</td>\n",
              "      <td>0</td>\n",
              "      <td>0</td>\n",
              "      <td>0</td>\n",
              "      <td>1.000</td>\n",
              "      <td>0.564</td>\n",
              "      <td>0</td>\n",
              "      <td>140000</td>\n",
              "    </tr>\n",
              "    <tr>\n",
              "      <th>4</th>\n",
              "      <td>5</td>\n",
              "      <td>0.835</td>\n",
              "      <td>84.0</td>\n",
              "      <td>14260</td>\n",
              "      <td>Pave</td>\n",
              "      <td>0</td>\n",
              "      <td>0.551</td>\n",
              "      <td>0.419</td>\n",
              "      <td>0.021</td>\n",
              "      <td>0.0</td>\n",
              "      <td>1.000</td>\n",
              "      <td>0.544</td>\n",
              "      <td>1.0</td>\n",
              "      <td>0.909</td>\n",
              "      <td>8</td>\n",
              "      <td>5</td>\n",
              "      <td>2000</td>\n",
              "      <td>2000</td>\n",
              "      <td>0.297</td>\n",
              "      <td>0.169</td>\n",
              "      <td>0.747</td>\n",
              "      <td>0.511</td>\n",
              "      <td>0.489</td>\n",
              "      <td>350.0</td>\n",
              "      <td>0.514</td>\n",
              "      <td>0.861</td>\n",
              "      <td>1.000</td>\n",
              "      <td>Gd</td>\n",
              "      <td>TA</td>\n",
              "      <td>Av</td>\n",
              "      <td>GLQ</td>\n",
              "      <td>655</td>\n",
              "      <td>Unf</td>\n",
              "      <td>0</td>\n",
              "      <td>490</td>\n",
              "      <td>1145</td>\n",
              "      <td>1.0</td>\n",
              "      <td>1.000</td>\n",
              "      <td>1</td>\n",
              "      <td>1.000</td>\n",
              "      <td>1145</td>\n",
              "      <td>1053</td>\n",
              "      <td>0</td>\n",
              "      <td>2198</td>\n",
              "      <td>1</td>\n",
              "      <td>0</td>\n",
              "      <td>2</td>\n",
              "      <td>1</td>\n",
              "      <td>4</td>\n",
              "      <td>1</td>\n",
              "      <td>0.478</td>\n",
              "      <td>9</td>\n",
              "      <td>1.000</td>\n",
              "      <td>1</td>\n",
              "      <td>0.365</td>\n",
              "      <td>0.658</td>\n",
              "      <td>2000.0</td>\n",
              "      <td>0.722</td>\n",
              "      <td>3</td>\n",
              "      <td>836</td>\n",
              "      <td>0.62</td>\n",
              "      <td>1.0</td>\n",
              "      <td>1.0</td>\n",
              "      <td>192</td>\n",
              "      <td>84</td>\n",
              "      <td>0</td>\n",
              "      <td>0</td>\n",
              "      <td>0</td>\n",
              "      <td>0</td>\n",
              "      <td>1.000</td>\n",
              "      <td>0.564</td>\n",
              "      <td>0</td>\n",
              "      <td>250000</td>\n",
              "    </tr>\n",
              "    <tr>\n",
              "      <th>...</th>\n",
              "      <td>...</td>\n",
              "      <td>...</td>\n",
              "      <td>...</td>\n",
              "      <td>...</td>\n",
              "      <td>...</td>\n",
              "      <td>...</td>\n",
              "      <td>...</td>\n",
              "      <td>...</td>\n",
              "      <td>...</td>\n",
              "      <td>...</td>\n",
              "      <td>...</td>\n",
              "      <td>...</td>\n",
              "      <td>...</td>\n",
              "      <td>...</td>\n",
              "      <td>...</td>\n",
              "      <td>...</td>\n",
              "      <td>...</td>\n",
              "      <td>...</td>\n",
              "      <td>...</td>\n",
              "      <td>...</td>\n",
              "      <td>...</td>\n",
              "      <td>...</td>\n",
              "      <td>...</td>\n",
              "      <td>...</td>\n",
              "      <td>...</td>\n",
              "      <td>...</td>\n",
              "      <td>...</td>\n",
              "      <td>...</td>\n",
              "      <td>...</td>\n",
              "      <td>...</td>\n",
              "      <td>...</td>\n",
              "      <td>...</td>\n",
              "      <td>...</td>\n",
              "      <td>...</td>\n",
              "      <td>...</td>\n",
              "      <td>...</td>\n",
              "      <td>...</td>\n",
              "      <td>...</td>\n",
              "      <td>...</td>\n",
              "      <td>...</td>\n",
              "      <td>...</td>\n",
              "      <td>...</td>\n",
              "      <td>...</td>\n",
              "      <td>...</td>\n",
              "      <td>...</td>\n",
              "      <td>...</td>\n",
              "      <td>...</td>\n",
              "      <td>...</td>\n",
              "      <td>...</td>\n",
              "      <td>...</td>\n",
              "      <td>...</td>\n",
              "      <td>...</td>\n",
              "      <td>...</td>\n",
              "      <td>...</td>\n",
              "      <td>...</td>\n",
              "      <td>...</td>\n",
              "      <td>...</td>\n",
              "      <td>...</td>\n",
              "      <td>...</td>\n",
              "      <td>...</td>\n",
              "      <td>...</td>\n",
              "      <td>...</td>\n",
              "      <td>...</td>\n",
              "      <td>...</td>\n",
              "      <td>...</td>\n",
              "      <td>...</td>\n",
              "      <td>...</td>\n",
              "      <td>...</td>\n",
              "      <td>...</td>\n",
              "      <td>...</td>\n",
              "      <td>...</td>\n",
              "      <td>...</td>\n",
              "      <td>...</td>\n",
              "    </tr>\n",
              "    <tr>\n",
              "      <th>1455</th>\n",
              "      <td>1456</td>\n",
              "      <td>0.835</td>\n",
              "      <td>62.0</td>\n",
              "      <td>7917</td>\n",
              "      <td>Pave</td>\n",
              "      <td>0</td>\n",
              "      <td>0.000</td>\n",
              "      <td>0.419</td>\n",
              "      <td>0.000</td>\n",
              "      <td>0.0</td>\n",
              "      <td>0.398</td>\n",
              "      <td>0.544</td>\n",
              "      <td>1.0</td>\n",
              "      <td>0.909</td>\n",
              "      <td>6</td>\n",
              "      <td>5</td>\n",
              "      <td>1999</td>\n",
              "      <td>2000</td>\n",
              "      <td>0.297</td>\n",
              "      <td>0.169</td>\n",
              "      <td>0.747</td>\n",
              "      <td>0.511</td>\n",
              "      <td>0.083</td>\n",
              "      <td>0.0</td>\n",
              "      <td>0.202</td>\n",
              "      <td>0.861</td>\n",
              "      <td>1.000</td>\n",
              "      <td>Gd</td>\n",
              "      <td>TA</td>\n",
              "      <td>No</td>\n",
              "      <td>Unf</td>\n",
              "      <td>0</td>\n",
              "      <td>Unf</td>\n",
              "      <td>0</td>\n",
              "      <td>953</td>\n",
              "      <td>953</td>\n",
              "      <td>1.0</td>\n",
              "      <td>1.000</td>\n",
              "      <td>1</td>\n",
              "      <td>1.000</td>\n",
              "      <td>953</td>\n",
              "      <td>694</td>\n",
              "      <td>0</td>\n",
              "      <td>1647</td>\n",
              "      <td>0</td>\n",
              "      <td>0</td>\n",
              "      <td>2</td>\n",
              "      <td>1</td>\n",
              "      <td>3</td>\n",
              "      <td>1</td>\n",
              "      <td>0.154</td>\n",
              "      <td>7</td>\n",
              "      <td>1.000</td>\n",
              "      <td>1</td>\n",
              "      <td>0.365</td>\n",
              "      <td>0.658</td>\n",
              "      <td>1999.0</td>\n",
              "      <td>0.722</td>\n",
              "      <td>2</td>\n",
              "      <td>460</td>\n",
              "      <td>0.62</td>\n",
              "      <td>1.0</td>\n",
              "      <td>1.0</td>\n",
              "      <td>0</td>\n",
              "      <td>40</td>\n",
              "      <td>0</td>\n",
              "      <td>0</td>\n",
              "      <td>0</td>\n",
              "      <td>0</td>\n",
              "      <td>1.000</td>\n",
              "      <td>0.564</td>\n",
              "      <td>0</td>\n",
              "      <td>175000</td>\n",
              "    </tr>\n",
              "    <tr>\n",
              "      <th>1456</th>\n",
              "      <td>1457</td>\n",
              "      <td>0.835</td>\n",
              "      <td>85.0</td>\n",
              "      <td>13175</td>\n",
              "      <td>Pave</td>\n",
              "      <td>0</td>\n",
              "      <td>0.000</td>\n",
              "      <td>0.419</td>\n",
              "      <td>0.000</td>\n",
              "      <td>0.0</td>\n",
              "      <td>0.382</td>\n",
              "      <td>0.544</td>\n",
              "      <td>1.0</td>\n",
              "      <td>0.599</td>\n",
              "      <td>6</td>\n",
              "      <td>6</td>\n",
              "      <td>1978</td>\n",
              "      <td>1988</td>\n",
              "      <td>0.297</td>\n",
              "      <td>0.169</td>\n",
              "      <td>0.549</td>\n",
              "      <td>0.295</td>\n",
              "      <td>1.000</td>\n",
              "      <td>119.0</td>\n",
              "      <td>0.202</td>\n",
              "      <td>0.861</td>\n",
              "      <td>0.360</td>\n",
              "      <td>Gd</td>\n",
              "      <td>TA</td>\n",
              "      <td>No</td>\n",
              "      <td>ALQ</td>\n",
              "      <td>790</td>\n",
              "      <td>Rec</td>\n",
              "      <td>163</td>\n",
              "      <td>589</td>\n",
              "      <td>1542</td>\n",
              "      <td>1.0</td>\n",
              "      <td>0.433</td>\n",
              "      <td>1</td>\n",
              "      <td>1.000</td>\n",
              "      <td>2073</td>\n",
              "      <td>0</td>\n",
              "      <td>0</td>\n",
              "      <td>2073</td>\n",
              "      <td>1</td>\n",
              "      <td>0</td>\n",
              "      <td>2</td>\n",
              "      <td>0</td>\n",
              "      <td>3</td>\n",
              "      <td>1</td>\n",
              "      <td>0.154</td>\n",
              "      <td>7</td>\n",
              "      <td>0.621</td>\n",
              "      <td>2</td>\n",
              "      <td>0.365</td>\n",
              "      <td>0.658</td>\n",
              "      <td>1978.0</td>\n",
              "      <td>0.284</td>\n",
              "      <td>2</td>\n",
              "      <td>500</td>\n",
              "      <td>0.62</td>\n",
              "      <td>1.0</td>\n",
              "      <td>1.0</td>\n",
              "      <td>349</td>\n",
              "      <td>0</td>\n",
              "      <td>0</td>\n",
              "      <td>0</td>\n",
              "      <td>0</td>\n",
              "      <td>0</td>\n",
              "      <td>0.271</td>\n",
              "      <td>0.564</td>\n",
              "      <td>0</td>\n",
              "      <td>210000</td>\n",
              "    </tr>\n",
              "    <tr>\n",
              "      <th>1457</th>\n",
              "      <td>1458</td>\n",
              "      <td>0.835</td>\n",
              "      <td>66.0</td>\n",
              "      <td>9042</td>\n",
              "      <td>Pave</td>\n",
              "      <td>0</td>\n",
              "      <td>0.000</td>\n",
              "      <td>0.419</td>\n",
              "      <td>0.000</td>\n",
              "      <td>0.0</td>\n",
              "      <td>0.473</td>\n",
              "      <td>0.544</td>\n",
              "      <td>1.0</td>\n",
              "      <td>0.909</td>\n",
              "      <td>7</td>\n",
              "      <td>9</td>\n",
              "      <td>1941</td>\n",
              "      <td>2006</td>\n",
              "      <td>0.297</td>\n",
              "      <td>0.169</td>\n",
              "      <td>0.841</td>\n",
              "      <td>0.585</td>\n",
              "      <td>0.083</td>\n",
              "      <td>0.0</td>\n",
              "      <td>1.000</td>\n",
              "      <td>0.740</td>\n",
              "      <td>0.497</td>\n",
              "      <td>TA</td>\n",
              "      <td>Gd</td>\n",
              "      <td>No</td>\n",
              "      <td>GLQ</td>\n",
              "      <td>275</td>\n",
              "      <td>Unf</td>\n",
              "      <td>0</td>\n",
              "      <td>877</td>\n",
              "      <td>1152</td>\n",
              "      <td>1.0</td>\n",
              "      <td>1.000</td>\n",
              "      <td>1</td>\n",
              "      <td>1.000</td>\n",
              "      <td>1188</td>\n",
              "      <td>1152</td>\n",
              "      <td>0</td>\n",
              "      <td>2340</td>\n",
              "      <td>0</td>\n",
              "      <td>0</td>\n",
              "      <td>2</td>\n",
              "      <td>0</td>\n",
              "      <td>4</td>\n",
              "      <td>1</td>\n",
              "      <td>0.478</td>\n",
              "      <td>9</td>\n",
              "      <td>1.000</td>\n",
              "      <td>2</td>\n",
              "      <td>0.464</td>\n",
              "      <td>0.658</td>\n",
              "      <td>1941.0</td>\n",
              "      <td>0.722</td>\n",
              "      <td>1</td>\n",
              "      <td>252</td>\n",
              "      <td>0.62</td>\n",
              "      <td>1.0</td>\n",
              "      <td>1.0</td>\n",
              "      <td>0</td>\n",
              "      <td>60</td>\n",
              "      <td>0</td>\n",
              "      <td>0</td>\n",
              "      <td>0</td>\n",
              "      <td>0</td>\n",
              "      <td>0.837</td>\n",
              "      <td>0.367</td>\n",
              "      <td>2500</td>\n",
              "      <td>266500</td>\n",
              "    </tr>\n",
              "    <tr>\n",
              "      <th>1458</th>\n",
              "      <td>1459</td>\n",
              "      <td>0.835</td>\n",
              "      <td>68.0</td>\n",
              "      <td>9717</td>\n",
              "      <td>Pave</td>\n",
              "      <td>0</td>\n",
              "      <td>0.000</td>\n",
              "      <td>0.419</td>\n",
              "      <td>0.000</td>\n",
              "      <td>0.0</td>\n",
              "      <td>0.200</td>\n",
              "      <td>0.544</td>\n",
              "      <td>1.0</td>\n",
              "      <td>0.599</td>\n",
              "      <td>5</td>\n",
              "      <td>6</td>\n",
              "      <td>1950</td>\n",
              "      <td>1996</td>\n",
              "      <td>0.920</td>\n",
              "      <td>0.169</td>\n",
              "      <td>0.411</td>\n",
              "      <td>0.209</td>\n",
              "      <td>0.083</td>\n",
              "      <td>0.0</td>\n",
              "      <td>0.202</td>\n",
              "      <td>0.861</td>\n",
              "      <td>0.360</td>\n",
              "      <td>TA</td>\n",
              "      <td>TA</td>\n",
              "      <td>Mn</td>\n",
              "      <td>GLQ</td>\n",
              "      <td>49</td>\n",
              "      <td>Rec</td>\n",
              "      <td>1029</td>\n",
              "      <td>0</td>\n",
              "      <td>1078</td>\n",
              "      <td>1.0</td>\n",
              "      <td>0.546</td>\n",
              "      <td>1</td>\n",
              "      <td>0.461</td>\n",
              "      <td>1078</td>\n",
              "      <td>0</td>\n",
              "      <td>0</td>\n",
              "      <td>1078</td>\n",
              "      <td>1</td>\n",
              "      <td>0</td>\n",
              "      <td>1</td>\n",
              "      <td>0</td>\n",
              "      <td>2</td>\n",
              "      <td>1</td>\n",
              "      <td>0.478</td>\n",
              "      <td>5</td>\n",
              "      <td>1.000</td>\n",
              "      <td>0</td>\n",
              "      <td>0.056</td>\n",
              "      <td>0.658</td>\n",
              "      <td>1950.0</td>\n",
              "      <td>0.284</td>\n",
              "      <td>1</td>\n",
              "      <td>240</td>\n",
              "      <td>0.62</td>\n",
              "      <td>1.0</td>\n",
              "      <td>1.0</td>\n",
              "      <td>366</td>\n",
              "      <td>0</td>\n",
              "      <td>112</td>\n",
              "      <td>0</td>\n",
              "      <td>0</td>\n",
              "      <td>0</td>\n",
              "      <td>1.000</td>\n",
              "      <td>0.564</td>\n",
              "      <td>0</td>\n",
              "      <td>142125</td>\n",
              "    </tr>\n",
              "    <tr>\n",
              "      <th>1459</th>\n",
              "      <td>1460</td>\n",
              "      <td>0.835</td>\n",
              "      <td>75.0</td>\n",
              "      <td>9937</td>\n",
              "      <td>Pave</td>\n",
              "      <td>0</td>\n",
              "      <td>0.000</td>\n",
              "      <td>0.419</td>\n",
              "      <td>0.000</td>\n",
              "      <td>0.0</td>\n",
              "      <td>0.125</td>\n",
              "      <td>0.544</td>\n",
              "      <td>1.0</td>\n",
              "      <td>0.599</td>\n",
              "      <td>5</td>\n",
              "      <td>6</td>\n",
              "      <td>1965</td>\n",
              "      <td>1965</td>\n",
              "      <td>0.297</td>\n",
              "      <td>0.169</td>\n",
              "      <td>0.482</td>\n",
              "      <td>0.293</td>\n",
              "      <td>0.083</td>\n",
              "      <td>0.0</td>\n",
              "      <td>0.514</td>\n",
              "      <td>0.861</td>\n",
              "      <td>0.360</td>\n",
              "      <td>TA</td>\n",
              "      <td>TA</td>\n",
              "      <td>No</td>\n",
              "      <td>BLQ</td>\n",
              "      <td>830</td>\n",
              "      <td>LwQ</td>\n",
              "      <td>290</td>\n",
              "      <td>136</td>\n",
              "      <td>1256</td>\n",
              "      <td>1.0</td>\n",
              "      <td>0.546</td>\n",
              "      <td>1</td>\n",
              "      <td>1.000</td>\n",
              "      <td>1256</td>\n",
              "      <td>0</td>\n",
              "      <td>0</td>\n",
              "      <td>1256</td>\n",
              "      <td>1</td>\n",
              "      <td>0</td>\n",
              "      <td>1</td>\n",
              "      <td>1</td>\n",
              "      <td>3</td>\n",
              "      <td>1</td>\n",
              "      <td>0.154</td>\n",
              "      <td>6</td>\n",
              "      <td>1.000</td>\n",
              "      <td>0</td>\n",
              "      <td>0.056</td>\n",
              "      <td>0.658</td>\n",
              "      <td>1965.0</td>\n",
              "      <td>1.000</td>\n",
              "      <td>1</td>\n",
              "      <td>276</td>\n",
              "      <td>0.62</td>\n",
              "      <td>1.0</td>\n",
              "      <td>1.0</td>\n",
              "      <td>736</td>\n",
              "      <td>68</td>\n",
              "      <td>0</td>\n",
              "      <td>0</td>\n",
              "      <td>0</td>\n",
              "      <td>0</td>\n",
              "      <td>1.000</td>\n",
              "      <td>0.564</td>\n",
              "      <td>0</td>\n",
              "      <td>147500</td>\n",
              "    </tr>\n",
              "  </tbody>\n",
              "</table>\n",
              "<p>1460 rows × 73 columns</p>\n",
              "</div>"
            ],
            "text/plain": [
              "        Id  MSZoning  LotFrontage  ...  MiscFeature MiscVal  SalePrice\n",
              "0        1     0.835         65.0  ...        0.564       0     208500\n",
              "1        2     0.835         80.0  ...        0.564       0     181500\n",
              "2        3     0.835         68.0  ...        0.564       0     223500\n",
              "3        4     0.835         60.0  ...        0.564       0     140000\n",
              "4        5     0.835         84.0  ...        0.564       0     250000\n",
              "...    ...       ...          ...  ...          ...     ...        ...\n",
              "1455  1456     0.835         62.0  ...        0.564       0     175000\n",
              "1456  1457     0.835         85.0  ...        0.564       0     210000\n",
              "1457  1458     0.835         66.0  ...        0.367    2500     266500\n",
              "1458  1459     0.835         68.0  ...        0.564       0     142125\n",
              "1459  1460     0.835         75.0  ...        0.564       0     147500\n",
              "\n",
              "[1460 rows x 73 columns]"
            ]
          },
          "metadata": {},
          "execution_count": 656
        }
      ]
    },
    {
      "cell_type": "code",
      "metadata": {
        "id": "8si5aCeNgpTd"
      },
      "source": [
        "train_data =train_data.drop('GrLivArea',1)\n",
        "test_data = test_data.drop('BsmtQual',1)\n",
        "test_data = test_data.drop('BsmtCond',1)\n",
        "test_data = test_data.drop('BsmtExposure',1)\n",
        "test_data = test_data.drop('BsmtFinType1',1)\n",
        "test_data = test_data.drop('BsmtFinType2',1)\n",
        "test_data = test_data.drop('PoolQC',1)"
      ],
      "execution_count": 657,
      "outputs": []
    },
    {
      "cell_type": "markdown",
      "metadata": {
        "id": "8GZQM1I3iGb_"
      },
      "source": [
        "تقسیم داده ها برای مدل های مختلف"
      ]
    },
    {
      "cell_type": "code",
      "metadata": {
        "id": "60jiPsgRiQ0e"
      },
      "source": [
        "list_to_remove = corr_matrix[corr_matrix['SalePrice'] < 0.5].index.values.tolist()\n",
        "list_to_remove.remove('Id')"
      ],
      "execution_count": 658,
      "outputs": []
    },
    {
      "cell_type": "code",
      "metadata": {
        "id": "NzqYGlgyqSfv"
      },
      "source": [
        "train_data =train_data.drop('Street',1)\n",
        "train_data = train_data.drop('BsmtQual',1)"
      ],
      "execution_count": 659,
      "outputs": []
    },
    {
      "cell_type": "code",
      "metadata": {
        "id": "Jy08dre3iaaR"
      },
      "source": [
        "train_short = train_data.drop(list_to_remove, 1)\n",
        "test_short = test_data.drop(list_to_remove, 1)"
      ],
      "execution_count": 660,
      "outputs": []
    },
    {
      "cell_type": "code",
      "metadata": {
        "id": "nHNHRn9CiiFX",
        "colab": {
          "base_uri": "https://localhost:8080/",
          "height": 439
        },
        "outputId": "c698fe30-8df9-4776-8845-068ceb390e0d"
      },
      "source": [
        "X_train = train_data.drop(columns = ['SalePrice'])\n",
        "Y_train = train_data['SalePrice']\n",
        "X_test = test_data\n",
        "X_train_short = train_short.drop(columns = ['SalePrice'])\n",
        "Y_train_short = train_short['SalePrice']\n",
        "X_test = test_short\n",
        "X_test = X_test.drop('Id',1)\n",
        "X_train_short"
      ],
      "execution_count": 666,
      "outputs": [
        {
          "output_type": "execute_result",
          "data": {
            "text/html": [
              "<div>\n",
              "<style scoped>\n",
              "    .dataframe tbody tr th:only-of-type {\n",
              "        vertical-align: middle;\n",
              "    }\n",
              "\n",
              "    .dataframe tbody tr th {\n",
              "        vertical-align: top;\n",
              "    }\n",
              "\n",
              "    .dataframe thead th {\n",
              "        text-align: right;\n",
              "    }\n",
              "</style>\n",
              "<table border=\"1\" class=\"dataframe\">\n",
              "  <thead>\n",
              "    <tr style=\"text-align: right;\">\n",
              "      <th></th>\n",
              "      <th>Id</th>\n",
              "      <th>Neighborhood</th>\n",
              "      <th>OverallQual</th>\n",
              "      <th>YearBuilt</th>\n",
              "      <th>YearRemodAdd</th>\n",
              "      <th>ExterQual</th>\n",
              "      <th>Foundation</th>\n",
              "      <th>BsmtCond</th>\n",
              "      <th>BsmtExposure</th>\n",
              "      <th>BsmtFinType1</th>\n",
              "      <th>BsmtFinType2</th>\n",
              "      <th>TotalBsmtSF</th>\n",
              "      <th>1stFlrSF</th>\n",
              "      <th>FullBath</th>\n",
              "      <th>KitchenQual</th>\n",
              "      <th>TotRmsAbvGrd</th>\n",
              "      <th>FireplaceQu</th>\n",
              "      <th>GarageFinish</th>\n",
              "      <th>GarageCars</th>\n",
              "      <th>GarageArea</th>\n",
              "    </tr>\n",
              "  </thead>\n",
              "  <tbody>\n",
              "    <tr>\n",
              "      <th>0</th>\n",
              "      <td>1</td>\n",
              "      <td>0.420</td>\n",
              "      <td>7</td>\n",
              "      <td>2003</td>\n",
              "      <td>2003</td>\n",
              "      <td>0.514</td>\n",
              "      <td>1.000</td>\n",
              "      <td>TA</td>\n",
              "      <td>No</td>\n",
              "      <td>GLQ</td>\n",
              "      <td>Unf</td>\n",
              "      <td>856</td>\n",
              "      <td>856</td>\n",
              "      <td>2</td>\n",
              "      <td>0.478</td>\n",
              "      <td>8</td>\n",
              "      <td>0.056</td>\n",
              "      <td>0.722</td>\n",
              "      <td>2</td>\n",
              "      <td>548</td>\n",
              "    </tr>\n",
              "    <tr>\n",
              "      <th>1</th>\n",
              "      <td>2</td>\n",
              "      <td>0.592</td>\n",
              "      <td>6</td>\n",
              "      <td>1976</td>\n",
              "      <td>1976</td>\n",
              "      <td>0.202</td>\n",
              "      <td>0.360</td>\n",
              "      <td>TA</td>\n",
              "      <td>Gd</td>\n",
              "      <td>ALQ</td>\n",
              "      <td>Unf</td>\n",
              "      <td>1262</td>\n",
              "      <td>1262</td>\n",
              "      <td>2</td>\n",
              "      <td>0.154</td>\n",
              "      <td>6</td>\n",
              "      <td>0.365</td>\n",
              "      <td>0.722</td>\n",
              "      <td>2</td>\n",
              "      <td>460</td>\n",
              "    </tr>\n",
              "    <tr>\n",
              "      <th>2</th>\n",
              "      <td>3</td>\n",
              "      <td>0.420</td>\n",
              "      <td>7</td>\n",
              "      <td>2001</td>\n",
              "      <td>2002</td>\n",
              "      <td>0.514</td>\n",
              "      <td>1.000</td>\n",
              "      <td>TA</td>\n",
              "      <td>Mn</td>\n",
              "      <td>GLQ</td>\n",
              "      <td>Unf</td>\n",
              "      <td>920</td>\n",
              "      <td>920</td>\n",
              "      <td>2</td>\n",
              "      <td>0.478</td>\n",
              "      <td>6</td>\n",
              "      <td>0.365</td>\n",
              "      <td>0.722</td>\n",
              "      <td>2</td>\n",
              "      <td>608</td>\n",
              "    </tr>\n",
              "    <tr>\n",
              "      <th>3</th>\n",
              "      <td>4</td>\n",
              "      <td>0.473</td>\n",
              "      <td>7</td>\n",
              "      <td>1915</td>\n",
              "      <td>1970</td>\n",
              "      <td>0.202</td>\n",
              "      <td>0.211</td>\n",
              "      <td>Gd</td>\n",
              "      <td>No</td>\n",
              "      <td>ALQ</td>\n",
              "      <td>Unf</td>\n",
              "      <td>756</td>\n",
              "      <td>961</td>\n",
              "      <td>1</td>\n",
              "      <td>0.478</td>\n",
              "      <td>7</td>\n",
              "      <td>0.464</td>\n",
              "      <td>0.284</td>\n",
              "      <td>3</td>\n",
              "      <td>642</td>\n",
              "    </tr>\n",
              "    <tr>\n",
              "      <th>4</th>\n",
              "      <td>5</td>\n",
              "      <td>1.000</td>\n",
              "      <td>8</td>\n",
              "      <td>2000</td>\n",
              "      <td>2000</td>\n",
              "      <td>0.514</td>\n",
              "      <td>1.000</td>\n",
              "      <td>TA</td>\n",
              "      <td>Av</td>\n",
              "      <td>GLQ</td>\n",
              "      <td>Unf</td>\n",
              "      <td>1145</td>\n",
              "      <td>1145</td>\n",
              "      <td>2</td>\n",
              "      <td>0.478</td>\n",
              "      <td>9</td>\n",
              "      <td>0.365</td>\n",
              "      <td>0.722</td>\n",
              "      <td>3</td>\n",
              "      <td>836</td>\n",
              "    </tr>\n",
              "    <tr>\n",
              "      <th>...</th>\n",
              "      <td>...</td>\n",
              "      <td>...</td>\n",
              "      <td>...</td>\n",
              "      <td>...</td>\n",
              "      <td>...</td>\n",
              "      <td>...</td>\n",
              "      <td>...</td>\n",
              "      <td>...</td>\n",
              "      <td>...</td>\n",
              "      <td>...</td>\n",
              "      <td>...</td>\n",
              "      <td>...</td>\n",
              "      <td>...</td>\n",
              "      <td>...</td>\n",
              "      <td>...</td>\n",
              "      <td>...</td>\n",
              "      <td>...</td>\n",
              "      <td>...</td>\n",
              "      <td>...</td>\n",
              "      <td>...</td>\n",
              "    </tr>\n",
              "    <tr>\n",
              "      <th>1455</th>\n",
              "      <td>1456</td>\n",
              "      <td>0.398</td>\n",
              "      <td>6</td>\n",
              "      <td>1999</td>\n",
              "      <td>2000</td>\n",
              "      <td>0.202</td>\n",
              "      <td>1.000</td>\n",
              "      <td>TA</td>\n",
              "      <td>No</td>\n",
              "      <td>Unf</td>\n",
              "      <td>Unf</td>\n",
              "      <td>953</td>\n",
              "      <td>953</td>\n",
              "      <td>2</td>\n",
              "      <td>0.154</td>\n",
              "      <td>7</td>\n",
              "      <td>0.365</td>\n",
              "      <td>0.722</td>\n",
              "      <td>2</td>\n",
              "      <td>460</td>\n",
              "    </tr>\n",
              "    <tr>\n",
              "      <th>1456</th>\n",
              "      <td>1457</td>\n",
              "      <td>0.382</td>\n",
              "      <td>6</td>\n",
              "      <td>1978</td>\n",
              "      <td>1988</td>\n",
              "      <td>0.202</td>\n",
              "      <td>0.360</td>\n",
              "      <td>TA</td>\n",
              "      <td>No</td>\n",
              "      <td>ALQ</td>\n",
              "      <td>Rec</td>\n",
              "      <td>1542</td>\n",
              "      <td>2073</td>\n",
              "      <td>2</td>\n",
              "      <td>0.154</td>\n",
              "      <td>7</td>\n",
              "      <td>0.365</td>\n",
              "      <td>0.284</td>\n",
              "      <td>2</td>\n",
              "      <td>500</td>\n",
              "    </tr>\n",
              "    <tr>\n",
              "      <th>1457</th>\n",
              "      <td>1458</td>\n",
              "      <td>0.473</td>\n",
              "      <td>7</td>\n",
              "      <td>1941</td>\n",
              "      <td>2006</td>\n",
              "      <td>1.000</td>\n",
              "      <td>0.497</td>\n",
              "      <td>Gd</td>\n",
              "      <td>No</td>\n",
              "      <td>GLQ</td>\n",
              "      <td>Unf</td>\n",
              "      <td>1152</td>\n",
              "      <td>1188</td>\n",
              "      <td>2</td>\n",
              "      <td>0.478</td>\n",
              "      <td>9</td>\n",
              "      <td>0.464</td>\n",
              "      <td>0.722</td>\n",
              "      <td>1</td>\n",
              "      <td>252</td>\n",
              "    </tr>\n",
              "    <tr>\n",
              "      <th>1458</th>\n",
              "      <td>1459</td>\n",
              "      <td>0.200</td>\n",
              "      <td>5</td>\n",
              "      <td>1950</td>\n",
              "      <td>1996</td>\n",
              "      <td>0.202</td>\n",
              "      <td>0.360</td>\n",
              "      <td>TA</td>\n",
              "      <td>Mn</td>\n",
              "      <td>GLQ</td>\n",
              "      <td>Rec</td>\n",
              "      <td>1078</td>\n",
              "      <td>1078</td>\n",
              "      <td>1</td>\n",
              "      <td>0.478</td>\n",
              "      <td>5</td>\n",
              "      <td>0.056</td>\n",
              "      <td>0.284</td>\n",
              "      <td>1</td>\n",
              "      <td>240</td>\n",
              "    </tr>\n",
              "    <tr>\n",
              "      <th>1459</th>\n",
              "      <td>1460</td>\n",
              "      <td>0.125</td>\n",
              "      <td>5</td>\n",
              "      <td>1965</td>\n",
              "      <td>1965</td>\n",
              "      <td>0.514</td>\n",
              "      <td>0.360</td>\n",
              "      <td>TA</td>\n",
              "      <td>No</td>\n",
              "      <td>BLQ</td>\n",
              "      <td>LwQ</td>\n",
              "      <td>1256</td>\n",
              "      <td>1256</td>\n",
              "      <td>1</td>\n",
              "      <td>0.154</td>\n",
              "      <td>6</td>\n",
              "      <td>0.056</td>\n",
              "      <td>1.000</td>\n",
              "      <td>1</td>\n",
              "      <td>276</td>\n",
              "    </tr>\n",
              "  </tbody>\n",
              "</table>\n",
              "<p>1460 rows × 20 columns</p>\n",
              "</div>"
            ],
            "text/plain": [
              "        Id  Neighborhood  OverallQual  ...  GarageFinish  GarageCars  GarageArea\n",
              "0        1         0.420            7  ...         0.722           2         548\n",
              "1        2         0.592            6  ...         0.722           2         460\n",
              "2        3         0.420            7  ...         0.722           2         608\n",
              "3        4         0.473            7  ...         0.284           3         642\n",
              "4        5         1.000            8  ...         0.722           3         836\n",
              "...    ...           ...          ...  ...           ...         ...         ...\n",
              "1455  1456         0.398            6  ...         0.722           2         460\n",
              "1456  1457         0.382            6  ...         0.284           2         500\n",
              "1457  1458         0.473            7  ...         0.722           1         252\n",
              "1458  1459         0.200            5  ...         0.284           1         240\n",
              "1459  1460         0.125            5  ...         1.000           1         276\n",
              "\n",
              "[1460 rows x 20 columns]"
            ]
          },
          "metadata": {},
          "execution_count": 666
        }
      ]
    },
    {
      "cell_type": "code",
      "metadata": {
        "id": "7SS8dCvuhnbe"
      },
      "source": [
        " X_train_short =X_train_short.drop('BsmtCond',1)\n",
        "X_train_short =X_train_short.drop('BsmtExposure',1)\n",
        "X_train_short =X_train_short.drop('BsmtFinType1',1)\n",
        "X_train_short =X_train_short.drop('BsmtFinType2',1)\n",
        "X_train_short = X_train_short.drop('Id',1)"
      ],
      "execution_count": 667,
      "outputs": []
    },
    {
      "cell_type": "code",
      "metadata": {
        "id": "lAFXpFyG1K8p"
      },
      "source": [
        "X_train_short = np.array(X_train_short)\n",
        "Y_train_short =np.array(Y_train_short)\n",
        "X_test_short = np.array(X_test)\n",
        "X_train_short = X_train_short.astype('float32')\n",
        "Y_train_short = Y_train_short.astype('float32')\n",
        "X_train_short = X_train_short.astype('float32')"
      ],
      "execution_count": 668,
      "outputs": []
    },
    {
      "cell_type": "code",
      "metadata": {
        "id": "aWoV9qspvEaj"
      },
      "source": [
        "import numpy as np\n",
        "import pandas as pd\n",
        "import matplotlib.pyplot as plt\n",
        "import tensorflow as tf\n",
        "from tensorflow.keras import losses,models,layers,optimizers\n",
        "from  tensorflow.keras.optimizers import  SGD,Adam"
      ],
      "execution_count": 669,
      "outputs": []
    },
    {
      "cell_type": "code",
      "metadata": {
        "id": "zK___X0rvMsk"
      },
      "source": [
        "model = models.Sequential([\n",
        "                      layers.Dense(30,input_dim = 15, activation='relu'),\n",
        "                      layers.Dense(20, activation='relu'),\n",
        "                      layers.Dense(100, activation='relu'),\n",
        "                      layers.Dense(10, activation='relu'),\n",
        "                      layers.Dense(1, activation='softmax')\n",
        "])"
      ],
      "execution_count": 675,
      "outputs": []
    },
    {
      "cell_type": "code",
      "metadata": {
        "id": "jHhm386L3bD0"
      },
      "source": [
        "mean = X_train_short.mean(axis=0)\n",
        "X_train_short-=mean\n",
        "std = X_train_short.std(axis=0)\n",
        "X_train_short/=std\n",
        "mean = Y_train_short.mean(axis=0)\n",
        "Y_train_short-=mean\n",
        "std = Y_train_short.std(axis=0)\n",
        "Y_train_short/=std\n",
        "mean = X_test.mean(axis=0)\n",
        "X_test-=mean\n",
        "std = X_test.std(axis=0)\n",
        "X_test/=std\n"
      ],
      "execution_count": 672,
      "outputs": []
    },
    {
      "cell_type": "code",
      "metadata": {
        "id": "RJta0fDNvUYY"
      },
      "source": [
        "model.compile(optimizer=optimizers.RMSprop(learning_rate=0.00001),\n",
        "loss=losses.mean_squared_logarithmic_error)"
      ],
      "execution_count": 679,
      "outputs": []
    },
    {
      "cell_type": "code",
      "metadata": {
        "colab": {
          "base_uri": "https://localhost:8080/"
        },
        "id": "w0J9RMSuvZeH",
        "outputId": "f029b6df-7566-446a-863c-aaf50a0463f1"
      },
      "source": [
        "output=model.fit(X_train_short, Y_train_short,epochs=300)"
      ],
      "execution_count": 680,
      "outputs": [
        {
          "output_type": "stream",
          "name": "stdout",
          "text": [
            "Epoch 1/300\n",
            "46/46 [==============================] - 1s 2ms/step - loss: 0.3662\n",
            "Epoch 2/300\n",
            "46/46 [==============================] - 0s 2ms/step - loss: 0.3662\n",
            "Epoch 3/300\n",
            "46/46 [==============================] - 0s 2ms/step - loss: 0.3662\n",
            "Epoch 4/300\n",
            "46/46 [==============================] - 0s 2ms/step - loss: 0.3662\n",
            "Epoch 5/300\n",
            "46/46 [==============================] - 0s 2ms/step - loss: 0.3662\n",
            "Epoch 6/300\n",
            "46/46 [==============================] - 0s 2ms/step - loss: 0.3662\n",
            "Epoch 7/300\n",
            "46/46 [==============================] - 0s 2ms/step - loss: 0.3662\n",
            "Epoch 8/300\n",
            "46/46 [==============================] - 0s 2ms/step - loss: 0.3662\n",
            "Epoch 9/300\n",
            "46/46 [==============================] - 0s 2ms/step - loss: 0.3662\n",
            "Epoch 10/300\n",
            "46/46 [==============================] - 0s 2ms/step - loss: 0.3662\n",
            "Epoch 11/300\n",
            "46/46 [==============================] - 0s 2ms/step - loss: 0.3662\n",
            "Epoch 12/300\n",
            "46/46 [==============================] - 0s 2ms/step - loss: 0.3662\n",
            "Epoch 13/300\n",
            "46/46 [==============================] - 0s 2ms/step - loss: 0.3662\n",
            "Epoch 14/300\n",
            "46/46 [==============================] - 0s 2ms/step - loss: 0.3662\n",
            "Epoch 15/300\n",
            "46/46 [==============================] - 0s 2ms/step - loss: 0.3662\n",
            "Epoch 16/300\n",
            "46/46 [==============================] - 0s 2ms/step - loss: 0.3662\n",
            "Epoch 17/300\n",
            "46/46 [==============================] - 0s 2ms/step - loss: 0.3662\n",
            "Epoch 18/300\n",
            "46/46 [==============================] - 0s 2ms/step - loss: 0.3662\n",
            "Epoch 19/300\n",
            "46/46 [==============================] - 0s 2ms/step - loss: 0.3662\n",
            "Epoch 20/300\n",
            "46/46 [==============================] - 0s 2ms/step - loss: 0.3662\n",
            "Epoch 21/300\n",
            "46/46 [==============================] - 0s 2ms/step - loss: 0.3662\n",
            "Epoch 22/300\n",
            "46/46 [==============================] - 0s 2ms/step - loss: 0.3662\n",
            "Epoch 23/300\n",
            "46/46 [==============================] - 0s 2ms/step - loss: 0.3662\n",
            "Epoch 24/300\n",
            "46/46 [==============================] - 0s 2ms/step - loss: 0.3662\n",
            "Epoch 25/300\n",
            "46/46 [==============================] - 0s 2ms/step - loss: 0.3662\n",
            "Epoch 26/300\n",
            "46/46 [==============================] - 0s 2ms/step - loss: 0.3662\n",
            "Epoch 27/300\n",
            "46/46 [==============================] - 0s 2ms/step - loss: 0.3662\n",
            "Epoch 28/300\n",
            "46/46 [==============================] - 0s 1ms/step - loss: 0.3662\n",
            "Epoch 29/300\n",
            "46/46 [==============================] - 0s 2ms/step - loss: 0.3662\n",
            "Epoch 30/300\n",
            "46/46 [==============================] - 0s 2ms/step - loss: 0.3662\n",
            "Epoch 31/300\n",
            "46/46 [==============================] - 0s 2ms/step - loss: 0.3662\n",
            "Epoch 32/300\n",
            "46/46 [==============================] - 0s 1ms/step - loss: 0.3662\n",
            "Epoch 33/300\n",
            "46/46 [==============================] - 0s 2ms/step - loss: 0.3662\n",
            "Epoch 34/300\n",
            "46/46 [==============================] - 0s 2ms/step - loss: 0.3662\n",
            "Epoch 35/300\n",
            "46/46 [==============================] - 0s 2ms/step - loss: 0.3662\n",
            "Epoch 36/300\n",
            "46/46 [==============================] - 0s 2ms/step - loss: 0.3662\n",
            "Epoch 37/300\n",
            "46/46 [==============================] - 0s 2ms/step - loss: 0.3662\n",
            "Epoch 38/300\n",
            "46/46 [==============================] - 0s 2ms/step - loss: 0.3662\n",
            "Epoch 39/300\n",
            "46/46 [==============================] - 0s 2ms/step - loss: 0.3662\n",
            "Epoch 40/300\n",
            "46/46 [==============================] - 0s 2ms/step - loss: 0.3662\n",
            "Epoch 41/300\n",
            "46/46 [==============================] - 0s 2ms/step - loss: 0.3662\n",
            "Epoch 42/300\n",
            "46/46 [==============================] - 0s 2ms/step - loss: 0.3662\n",
            "Epoch 43/300\n",
            "46/46 [==============================] - 0s 2ms/step - loss: 0.3662\n",
            "Epoch 44/300\n",
            "46/46 [==============================] - 0s 1ms/step - loss: 0.3662\n",
            "Epoch 45/300\n",
            "46/46 [==============================] - 0s 2ms/step - loss: 0.3662\n",
            "Epoch 46/300\n",
            "46/46 [==============================] - 0s 2ms/step - loss: 0.3662\n",
            "Epoch 47/300\n",
            "46/46 [==============================] - 0s 1ms/step - loss: 0.3662\n",
            "Epoch 48/300\n",
            "46/46 [==============================] - 0s 2ms/step - loss: 0.3662\n",
            "Epoch 49/300\n",
            "46/46 [==============================] - 0s 2ms/step - loss: 0.3662\n",
            "Epoch 50/300\n",
            "46/46 [==============================] - 0s 2ms/step - loss: 0.3662\n",
            "Epoch 51/300\n",
            "46/46 [==============================] - 0s 2ms/step - loss: 0.3662\n",
            "Epoch 52/300\n",
            "46/46 [==============================] - 0s 2ms/step - loss: 0.3662\n",
            "Epoch 53/300\n",
            "46/46 [==============================] - 0s 2ms/step - loss: 0.3662\n",
            "Epoch 54/300\n",
            "46/46 [==============================] - 0s 2ms/step - loss: 0.3662\n",
            "Epoch 55/300\n",
            "46/46 [==============================] - 0s 2ms/step - loss: 0.3662\n",
            "Epoch 56/300\n",
            "46/46 [==============================] - 0s 2ms/step - loss: 0.3662\n",
            "Epoch 57/300\n",
            "46/46 [==============================] - 0s 2ms/step - loss: 0.3662\n",
            "Epoch 58/300\n",
            "46/46 [==============================] - 0s 2ms/step - loss: 0.3662\n",
            "Epoch 59/300\n",
            "46/46 [==============================] - 0s 2ms/step - loss: 0.3662\n",
            "Epoch 60/300\n",
            "46/46 [==============================] - 0s 2ms/step - loss: 0.3662\n",
            "Epoch 61/300\n",
            "46/46 [==============================] - 0s 2ms/step - loss: 0.3662\n",
            "Epoch 62/300\n",
            "46/46 [==============================] - 0s 2ms/step - loss: 0.3662\n",
            "Epoch 63/300\n",
            "46/46 [==============================] - 0s 2ms/step - loss: 0.3662\n",
            "Epoch 64/300\n",
            "46/46 [==============================] - 0s 2ms/step - loss: 0.3662\n",
            "Epoch 65/300\n",
            "46/46 [==============================] - 0s 2ms/step - loss: 0.3662\n",
            "Epoch 66/300\n",
            "46/46 [==============================] - 0s 2ms/step - loss: 0.3662\n",
            "Epoch 67/300\n",
            "46/46 [==============================] - 0s 2ms/step - loss: 0.3662\n",
            "Epoch 68/300\n",
            "46/46 [==============================] - 0s 2ms/step - loss: 0.3662\n",
            "Epoch 69/300\n",
            "46/46 [==============================] - 0s 2ms/step - loss: 0.3662\n",
            "Epoch 70/300\n",
            "46/46 [==============================] - 0s 2ms/step - loss: 0.3662\n",
            "Epoch 71/300\n",
            "46/46 [==============================] - 0s 2ms/step - loss: 0.3662\n",
            "Epoch 72/300\n",
            "46/46 [==============================] - 0s 2ms/step - loss: 0.3662\n",
            "Epoch 73/300\n",
            "46/46 [==============================] - 0s 2ms/step - loss: 0.3662\n",
            "Epoch 74/300\n",
            "46/46 [==============================] - 0s 2ms/step - loss: 0.3662\n",
            "Epoch 75/300\n",
            "46/46 [==============================] - 0s 2ms/step - loss: 0.3662\n",
            "Epoch 76/300\n",
            "46/46 [==============================] - 0s 2ms/step - loss: 0.3662\n",
            "Epoch 77/300\n",
            "46/46 [==============================] - 0s 2ms/step - loss: 0.3662\n",
            "Epoch 78/300\n",
            "46/46 [==============================] - 0s 2ms/step - loss: 0.3662\n",
            "Epoch 79/300\n",
            "46/46 [==============================] - 0s 2ms/step - loss: 0.3662\n",
            "Epoch 80/300\n",
            "46/46 [==============================] - 0s 2ms/step - loss: 0.3662\n",
            "Epoch 81/300\n",
            "46/46 [==============================] - 0s 2ms/step - loss: 0.3662\n",
            "Epoch 82/300\n",
            "46/46 [==============================] - 0s 2ms/step - loss: 0.3662\n",
            "Epoch 83/300\n",
            "46/46 [==============================] - 0s 2ms/step - loss: 0.3662\n",
            "Epoch 84/300\n",
            "46/46 [==============================] - 0s 2ms/step - loss: 0.3662\n",
            "Epoch 85/300\n",
            "46/46 [==============================] - 0s 2ms/step - loss: 0.3662\n",
            "Epoch 86/300\n",
            "46/46 [==============================] - 0s 2ms/step - loss: 0.3662\n",
            "Epoch 87/300\n",
            "46/46 [==============================] - 0s 2ms/step - loss: 0.3662\n",
            "Epoch 88/300\n",
            "46/46 [==============================] - 0s 2ms/step - loss: 0.3662\n",
            "Epoch 89/300\n",
            "46/46 [==============================] - 0s 2ms/step - loss: 0.3662\n",
            "Epoch 90/300\n",
            "46/46 [==============================] - 0s 2ms/step - loss: 0.3662\n",
            "Epoch 91/300\n",
            "46/46 [==============================] - 0s 2ms/step - loss: 0.3662\n",
            "Epoch 92/300\n",
            "46/46 [==============================] - 0s 2ms/step - loss: 0.3662\n",
            "Epoch 93/300\n",
            "46/46 [==============================] - 0s 2ms/step - loss: 0.3662\n",
            "Epoch 94/300\n",
            "46/46 [==============================] - 0s 2ms/step - loss: 0.3662\n",
            "Epoch 95/300\n",
            "46/46 [==============================] - 0s 2ms/step - loss: 0.3662\n",
            "Epoch 96/300\n",
            "46/46 [==============================] - 0s 2ms/step - loss: 0.3662\n",
            "Epoch 97/300\n",
            "46/46 [==============================] - 0s 2ms/step - loss: 0.3662\n",
            "Epoch 98/300\n",
            "46/46 [==============================] - 0s 2ms/step - loss: 0.3662\n",
            "Epoch 99/300\n",
            "46/46 [==============================] - 0s 2ms/step - loss: 0.3662\n",
            "Epoch 100/300\n",
            "46/46 [==============================] - 0s 2ms/step - loss: 0.3662\n",
            "Epoch 101/300\n",
            "46/46 [==============================] - 0s 2ms/step - loss: 0.3662\n",
            "Epoch 102/300\n",
            "46/46 [==============================] - 0s 2ms/step - loss: 0.3662\n",
            "Epoch 103/300\n",
            "46/46 [==============================] - 0s 2ms/step - loss: 0.3662\n",
            "Epoch 104/300\n",
            "46/46 [==============================] - 0s 2ms/step - loss: 0.3662\n",
            "Epoch 105/300\n",
            "46/46 [==============================] - 0s 2ms/step - loss: 0.3662\n",
            "Epoch 106/300\n",
            "46/46 [==============================] - 0s 2ms/step - loss: 0.3662\n",
            "Epoch 107/300\n",
            "46/46 [==============================] - 0s 2ms/step - loss: 0.3662\n",
            "Epoch 108/300\n",
            "46/46 [==============================] - 0s 2ms/step - loss: 0.3662\n",
            "Epoch 109/300\n",
            "46/46 [==============================] - 0s 2ms/step - loss: 0.3662\n",
            "Epoch 110/300\n",
            "46/46 [==============================] - 0s 1ms/step - loss: 0.3662\n",
            "Epoch 111/300\n",
            "46/46 [==============================] - 0s 2ms/step - loss: 0.3662\n",
            "Epoch 112/300\n",
            "46/46 [==============================] - 0s 2ms/step - loss: 0.3662\n",
            "Epoch 113/300\n",
            "46/46 [==============================] - 0s 2ms/step - loss: 0.3662\n",
            "Epoch 114/300\n",
            "46/46 [==============================] - 0s 2ms/step - loss: 0.3662\n",
            "Epoch 115/300\n",
            "46/46 [==============================] - 0s 2ms/step - loss: 0.3662\n",
            "Epoch 116/300\n",
            "46/46 [==============================] - 0s 2ms/step - loss: 0.3662\n",
            "Epoch 117/300\n",
            "46/46 [==============================] - 0s 2ms/step - loss: 0.3662\n",
            "Epoch 118/300\n",
            "46/46 [==============================] - 0s 2ms/step - loss: 0.3662\n",
            "Epoch 119/300\n",
            "46/46 [==============================] - 0s 2ms/step - loss: 0.3662\n",
            "Epoch 120/300\n",
            "46/46 [==============================] - 0s 2ms/step - loss: 0.3662\n",
            "Epoch 121/300\n",
            "46/46 [==============================] - 0s 2ms/step - loss: 0.3662\n",
            "Epoch 122/300\n",
            "46/46 [==============================] - 0s 2ms/step - loss: 0.3662\n",
            "Epoch 123/300\n",
            "46/46 [==============================] - 0s 2ms/step - loss: 0.3662\n",
            "Epoch 124/300\n",
            "46/46 [==============================] - 0s 2ms/step - loss: 0.3662\n",
            "Epoch 125/300\n",
            "46/46 [==============================] - 0s 2ms/step - loss: 0.3662\n",
            "Epoch 126/300\n",
            "46/46 [==============================] - 0s 2ms/step - loss: 0.3662\n",
            "Epoch 127/300\n",
            "46/46 [==============================] - 0s 2ms/step - loss: 0.3662\n",
            "Epoch 128/300\n",
            "46/46 [==============================] - 0s 2ms/step - loss: 0.3662\n",
            "Epoch 129/300\n",
            "46/46 [==============================] - 0s 2ms/step - loss: 0.3662\n",
            "Epoch 130/300\n",
            "46/46 [==============================] - 0s 2ms/step - loss: 0.3662\n",
            "Epoch 131/300\n",
            "46/46 [==============================] - 0s 2ms/step - loss: 0.3662\n",
            "Epoch 132/300\n",
            "46/46 [==============================] - 0s 2ms/step - loss: 0.3662\n",
            "Epoch 133/300\n",
            "46/46 [==============================] - 0s 2ms/step - loss: 0.3662\n",
            "Epoch 134/300\n",
            "46/46 [==============================] - 0s 2ms/step - loss: 0.3662\n",
            "Epoch 135/300\n",
            "46/46 [==============================] - 0s 2ms/step - loss: 0.3662\n",
            "Epoch 136/300\n",
            "46/46 [==============================] - 0s 2ms/step - loss: 0.3662\n",
            "Epoch 137/300\n",
            "46/46 [==============================] - 0s 2ms/step - loss: 0.3662\n",
            "Epoch 138/300\n",
            "46/46 [==============================] - 0s 2ms/step - loss: 0.3662\n",
            "Epoch 139/300\n",
            "46/46 [==============================] - 0s 2ms/step - loss: 0.3662\n",
            "Epoch 140/300\n",
            "46/46 [==============================] - 0s 2ms/step - loss: 0.3662\n",
            "Epoch 141/300\n",
            "46/46 [==============================] - 0s 2ms/step - loss: 0.3662\n",
            "Epoch 142/300\n",
            "46/46 [==============================] - 0s 2ms/step - loss: 0.3662\n",
            "Epoch 143/300\n",
            "46/46 [==============================] - 0s 2ms/step - loss: 0.3662\n",
            "Epoch 144/300\n",
            "46/46 [==============================] - 0s 2ms/step - loss: 0.3662\n",
            "Epoch 145/300\n",
            "46/46 [==============================] - 0s 2ms/step - loss: 0.3662\n",
            "Epoch 146/300\n",
            "46/46 [==============================] - 0s 2ms/step - loss: 0.3662\n",
            "Epoch 147/300\n",
            "46/46 [==============================] - 0s 2ms/step - loss: 0.3662\n",
            "Epoch 148/300\n",
            "46/46 [==============================] - 0s 2ms/step - loss: 0.3662\n",
            "Epoch 149/300\n",
            "46/46 [==============================] - 0s 2ms/step - loss: 0.3662\n",
            "Epoch 150/300\n",
            "46/46 [==============================] - 0s 2ms/step - loss: 0.3662\n",
            "Epoch 151/300\n",
            "46/46 [==============================] - 0s 2ms/step - loss: 0.3662\n",
            "Epoch 152/300\n",
            "46/46 [==============================] - 0s 2ms/step - loss: 0.3662\n",
            "Epoch 153/300\n",
            "46/46 [==============================] - 0s 2ms/step - loss: 0.3662\n",
            "Epoch 154/300\n",
            "46/46 [==============================] - 0s 2ms/step - loss: 0.3662\n",
            "Epoch 155/300\n",
            "46/46 [==============================] - 0s 2ms/step - loss: 0.3662\n",
            "Epoch 156/300\n",
            "46/46 [==============================] - 0s 2ms/step - loss: 0.3662\n",
            "Epoch 157/300\n",
            "46/46 [==============================] - 0s 2ms/step - loss: 0.3662\n",
            "Epoch 158/300\n",
            "46/46 [==============================] - 0s 2ms/step - loss: 0.3662\n",
            "Epoch 159/300\n",
            "46/46 [==============================] - 0s 2ms/step - loss: 0.3662\n",
            "Epoch 160/300\n",
            "46/46 [==============================] - 0s 2ms/step - loss: 0.3662\n",
            "Epoch 161/300\n",
            "46/46 [==============================] - 0s 2ms/step - loss: 0.3662\n",
            "Epoch 162/300\n",
            "46/46 [==============================] - 0s 2ms/step - loss: 0.3662\n",
            "Epoch 163/300\n",
            "46/46 [==============================] - 0s 2ms/step - loss: 0.3662\n",
            "Epoch 164/300\n",
            "46/46 [==============================] - 0s 2ms/step - loss: 0.3662\n",
            "Epoch 165/300\n",
            "46/46 [==============================] - 0s 2ms/step - loss: 0.3662\n",
            "Epoch 166/300\n",
            "46/46 [==============================] - 0s 2ms/step - loss: 0.3662\n",
            "Epoch 167/300\n",
            "46/46 [==============================] - 0s 2ms/step - loss: 0.3662\n",
            "Epoch 168/300\n",
            "46/46 [==============================] - 0s 2ms/step - loss: 0.3662\n",
            "Epoch 169/300\n",
            "46/46 [==============================] - 0s 2ms/step - loss: 0.3662\n",
            "Epoch 170/300\n",
            "46/46 [==============================] - 0s 2ms/step - loss: 0.3662\n",
            "Epoch 171/300\n",
            "46/46 [==============================] - 0s 2ms/step - loss: 0.3662\n",
            "Epoch 172/300\n",
            "46/46 [==============================] - 0s 2ms/step - loss: 0.3662\n",
            "Epoch 173/300\n",
            "46/46 [==============================] - 0s 2ms/step - loss: 0.3662\n",
            "Epoch 174/300\n",
            "46/46 [==============================] - 0s 2ms/step - loss: 0.3662\n",
            "Epoch 175/300\n",
            "46/46 [==============================] - 0s 2ms/step - loss: 0.3662\n",
            "Epoch 176/300\n",
            "46/46 [==============================] - 0s 2ms/step - loss: 0.3662\n",
            "Epoch 177/300\n",
            "46/46 [==============================] - 0s 2ms/step - loss: 0.3662\n",
            "Epoch 178/300\n",
            "46/46 [==============================] - 0s 2ms/step - loss: 0.3662\n",
            "Epoch 179/300\n",
            "46/46 [==============================] - 0s 2ms/step - loss: 0.3662\n",
            "Epoch 180/300\n",
            "46/46 [==============================] - 0s 2ms/step - loss: 0.3662\n",
            "Epoch 181/300\n",
            "46/46 [==============================] - 0s 2ms/step - loss: 0.3662\n",
            "Epoch 182/300\n",
            "46/46 [==============================] - 0s 2ms/step - loss: 0.3662\n",
            "Epoch 183/300\n",
            "46/46 [==============================] - 0s 2ms/step - loss: 0.3662\n",
            "Epoch 184/300\n",
            "46/46 [==============================] - 0s 2ms/step - loss: 0.3662\n",
            "Epoch 185/300\n",
            "46/46 [==============================] - 0s 2ms/step - loss: 0.3662\n",
            "Epoch 186/300\n",
            "46/46 [==============================] - 0s 2ms/step - loss: 0.3662\n",
            "Epoch 187/300\n",
            "46/46 [==============================] - 0s 2ms/step - loss: 0.3662\n",
            "Epoch 188/300\n",
            "46/46 [==============================] - 0s 2ms/step - loss: 0.3662\n",
            "Epoch 189/300\n",
            "46/46 [==============================] - 0s 2ms/step - loss: 0.3662\n",
            "Epoch 190/300\n",
            "46/46 [==============================] - 0s 2ms/step - loss: 0.3662\n",
            "Epoch 191/300\n",
            "46/46 [==============================] - 0s 2ms/step - loss: 0.3662\n",
            "Epoch 192/300\n",
            "46/46 [==============================] - 0s 2ms/step - loss: 0.3662\n",
            "Epoch 193/300\n",
            "46/46 [==============================] - 0s 2ms/step - loss: 0.3662\n",
            "Epoch 194/300\n",
            "46/46 [==============================] - 0s 2ms/step - loss: 0.3662\n",
            "Epoch 195/300\n",
            "46/46 [==============================] - 0s 2ms/step - loss: 0.3662\n",
            "Epoch 196/300\n",
            "46/46 [==============================] - 0s 2ms/step - loss: 0.3662\n",
            "Epoch 197/300\n",
            "46/46 [==============================] - 0s 2ms/step - loss: 0.3662\n",
            "Epoch 198/300\n",
            "46/46 [==============================] - 0s 2ms/step - loss: 0.3662\n",
            "Epoch 199/300\n",
            "46/46 [==============================] - 0s 2ms/step - loss: 0.3662\n",
            "Epoch 200/300\n",
            "46/46 [==============================] - 0s 2ms/step - loss: 0.3662\n",
            "Epoch 201/300\n",
            "46/46 [==============================] - 0s 2ms/step - loss: 0.3662\n",
            "Epoch 202/300\n",
            "46/46 [==============================] - 0s 2ms/step - loss: 0.3662\n",
            "Epoch 203/300\n",
            "46/46 [==============================] - 0s 2ms/step - loss: 0.3662\n",
            "Epoch 204/300\n",
            "46/46 [==============================] - 0s 2ms/step - loss: 0.3662\n",
            "Epoch 205/300\n",
            "46/46 [==============================] - 0s 2ms/step - loss: 0.3662\n",
            "Epoch 206/300\n",
            "46/46 [==============================] - 0s 2ms/step - loss: 0.3662\n",
            "Epoch 207/300\n",
            "46/46 [==============================] - 0s 2ms/step - loss: 0.3662\n",
            "Epoch 208/300\n",
            "46/46 [==============================] - 0s 2ms/step - loss: 0.3662\n",
            "Epoch 209/300\n",
            "46/46 [==============================] - 0s 2ms/step - loss: 0.3662\n",
            "Epoch 210/300\n",
            "46/46 [==============================] - 0s 2ms/step - loss: 0.3662\n",
            "Epoch 211/300\n",
            "46/46 [==============================] - 0s 2ms/step - loss: 0.3662\n",
            "Epoch 212/300\n",
            "46/46 [==============================] - 0s 2ms/step - loss: 0.3662\n",
            "Epoch 213/300\n",
            "46/46 [==============================] - 0s 2ms/step - loss: 0.3662\n",
            "Epoch 214/300\n",
            "46/46 [==============================] - 0s 2ms/step - loss: 0.3662\n",
            "Epoch 215/300\n",
            "46/46 [==============================] - 0s 2ms/step - loss: 0.3662\n",
            "Epoch 216/300\n",
            "46/46 [==============================] - 0s 2ms/step - loss: 0.3662\n",
            "Epoch 217/300\n",
            "46/46 [==============================] - 0s 2ms/step - loss: 0.3662\n",
            "Epoch 218/300\n",
            "46/46 [==============================] - 0s 2ms/step - loss: 0.3662\n",
            "Epoch 219/300\n",
            "46/46 [==============================] - 0s 2ms/step - loss: 0.3662\n",
            "Epoch 220/300\n",
            "46/46 [==============================] - 0s 2ms/step - loss: 0.3662\n",
            "Epoch 221/300\n",
            "46/46 [==============================] - 0s 1ms/step - loss: 0.3662\n",
            "Epoch 222/300\n",
            "46/46 [==============================] - 0s 2ms/step - loss: 0.3662\n",
            "Epoch 223/300\n",
            "46/46 [==============================] - 0s 2ms/step - loss: 0.3662\n",
            "Epoch 224/300\n",
            "46/46 [==============================] - 0s 2ms/step - loss: 0.3662\n",
            "Epoch 225/300\n",
            "46/46 [==============================] - 0s 2ms/step - loss: 0.3662\n",
            "Epoch 226/300\n",
            "46/46 [==============================] - 0s 2ms/step - loss: 0.3662\n",
            "Epoch 227/300\n",
            "46/46 [==============================] - 0s 2ms/step - loss: 0.3662\n",
            "Epoch 228/300\n",
            "46/46 [==============================] - 0s 2ms/step - loss: 0.3662\n",
            "Epoch 229/300\n",
            "46/46 [==============================] - 0s 2ms/step - loss: 0.3662\n",
            "Epoch 230/300\n",
            "46/46 [==============================] - 0s 2ms/step - loss: 0.3662\n",
            "Epoch 231/300\n",
            "46/46 [==============================] - 0s 2ms/step - loss: 0.3662\n",
            "Epoch 232/300\n",
            "46/46 [==============================] - 0s 2ms/step - loss: 0.3662\n",
            "Epoch 233/300\n",
            "46/46 [==============================] - 0s 2ms/step - loss: 0.3662\n",
            "Epoch 234/300\n",
            "46/46 [==============================] - 0s 2ms/step - loss: 0.3662\n",
            "Epoch 235/300\n",
            "46/46 [==============================] - 0s 2ms/step - loss: 0.3662\n",
            "Epoch 236/300\n",
            "46/46 [==============================] - 0s 2ms/step - loss: 0.3662\n",
            "Epoch 237/300\n",
            "46/46 [==============================] - 0s 2ms/step - loss: 0.3662\n",
            "Epoch 238/300\n",
            "46/46 [==============================] - 0s 2ms/step - loss: 0.3662\n",
            "Epoch 239/300\n",
            "46/46 [==============================] - 0s 2ms/step - loss: 0.3662\n",
            "Epoch 240/300\n",
            "46/46 [==============================] - 0s 2ms/step - loss: 0.3662\n",
            "Epoch 241/300\n",
            "46/46 [==============================] - 0s 2ms/step - loss: 0.3662\n",
            "Epoch 242/300\n",
            "46/46 [==============================] - 0s 2ms/step - loss: 0.3662\n",
            "Epoch 243/300\n",
            "46/46 [==============================] - 0s 2ms/step - loss: 0.3662\n",
            "Epoch 244/300\n",
            "46/46 [==============================] - 0s 2ms/step - loss: 0.3662\n",
            "Epoch 245/300\n",
            "46/46 [==============================] - 0s 2ms/step - loss: 0.3662\n",
            "Epoch 246/300\n",
            "46/46 [==============================] - 0s 2ms/step - loss: 0.3662\n",
            "Epoch 247/300\n",
            "46/46 [==============================] - 0s 2ms/step - loss: 0.3662\n",
            "Epoch 248/300\n",
            "46/46 [==============================] - 0s 2ms/step - loss: 0.3662\n",
            "Epoch 249/300\n",
            "46/46 [==============================] - 0s 2ms/step - loss: 0.3662\n",
            "Epoch 250/300\n",
            "46/46 [==============================] - 0s 2ms/step - loss: 0.3662\n",
            "Epoch 251/300\n",
            "46/46 [==============================] - 0s 2ms/step - loss: 0.3662\n",
            "Epoch 252/300\n",
            "46/46 [==============================] - 0s 2ms/step - loss: 0.3662\n",
            "Epoch 253/300\n",
            "46/46 [==============================] - 0s 2ms/step - loss: 0.3662\n",
            "Epoch 254/300\n",
            "46/46 [==============================] - 0s 2ms/step - loss: 0.3662\n",
            "Epoch 255/300\n",
            "46/46 [==============================] - 0s 2ms/step - loss: 0.3662\n",
            "Epoch 256/300\n",
            "46/46 [==============================] - 0s 2ms/step - loss: 0.3662\n",
            "Epoch 257/300\n",
            "46/46 [==============================] - 0s 2ms/step - loss: 0.3662\n",
            "Epoch 258/300\n",
            "46/46 [==============================] - 0s 2ms/step - loss: 0.3662\n",
            "Epoch 259/300\n",
            "46/46 [==============================] - 0s 2ms/step - loss: 0.3662\n",
            "Epoch 260/300\n",
            "46/46 [==============================] - 0s 2ms/step - loss: 0.3662\n",
            "Epoch 261/300\n",
            "46/46 [==============================] - 0s 2ms/step - loss: 0.3662\n",
            "Epoch 262/300\n",
            "46/46 [==============================] - 0s 2ms/step - loss: 0.3662\n",
            "Epoch 263/300\n",
            "46/46 [==============================] - 0s 2ms/step - loss: 0.3662\n",
            "Epoch 264/300\n",
            "46/46 [==============================] - 0s 2ms/step - loss: 0.3662\n",
            "Epoch 265/300\n",
            "46/46 [==============================] - 0s 2ms/step - loss: 0.3662\n",
            "Epoch 266/300\n",
            "46/46 [==============================] - 0s 2ms/step - loss: 0.3662\n",
            "Epoch 267/300\n",
            "46/46 [==============================] - 0s 2ms/step - loss: 0.3662\n",
            "Epoch 268/300\n",
            "46/46 [==============================] - 0s 2ms/step - loss: 0.3662\n",
            "Epoch 269/300\n",
            "46/46 [==============================] - 0s 2ms/step - loss: 0.3662\n",
            "Epoch 270/300\n",
            "46/46 [==============================] - 0s 2ms/step - loss: 0.3662\n",
            "Epoch 271/300\n",
            "46/46 [==============================] - 0s 2ms/step - loss: 0.3662\n",
            "Epoch 272/300\n",
            "46/46 [==============================] - 0s 2ms/step - loss: 0.3662\n",
            "Epoch 273/300\n",
            "46/46 [==============================] - 0s 2ms/step - loss: 0.3662\n",
            "Epoch 274/300\n",
            "46/46 [==============================] - 0s 2ms/step - loss: 0.3662\n",
            "Epoch 275/300\n",
            "46/46 [==============================] - 0s 2ms/step - loss: 0.3662\n",
            "Epoch 276/300\n",
            "46/46 [==============================] - 0s 2ms/step - loss: 0.3662\n",
            "Epoch 277/300\n",
            "46/46 [==============================] - 0s 2ms/step - loss: 0.3662\n",
            "Epoch 278/300\n",
            "46/46 [==============================] - 0s 2ms/step - loss: 0.3662\n",
            "Epoch 279/300\n",
            "46/46 [==============================] - 0s 2ms/step - loss: 0.3662\n",
            "Epoch 280/300\n",
            "46/46 [==============================] - 0s 2ms/step - loss: 0.3662\n",
            "Epoch 281/300\n",
            "46/46 [==============================] - 0s 2ms/step - loss: 0.3662\n",
            "Epoch 282/300\n",
            "46/46 [==============================] - 0s 2ms/step - loss: 0.3662\n",
            "Epoch 283/300\n",
            "46/46 [==============================] - 0s 2ms/step - loss: 0.3662\n",
            "Epoch 284/300\n",
            "46/46 [==============================] - 0s 2ms/step - loss: 0.3662\n",
            "Epoch 285/300\n",
            "46/46 [==============================] - 0s 2ms/step - loss: 0.3662\n",
            "Epoch 286/300\n",
            "46/46 [==============================] - 0s 2ms/step - loss: 0.3662\n",
            "Epoch 287/300\n",
            "46/46 [==============================] - 0s 2ms/step - loss: 0.3662\n",
            "Epoch 288/300\n",
            "46/46 [==============================] - 0s 2ms/step - loss: 0.3662\n",
            "Epoch 289/300\n",
            "46/46 [==============================] - 0s 2ms/step - loss: 0.3662\n",
            "Epoch 290/300\n",
            "46/46 [==============================] - 0s 2ms/step - loss: 0.3662\n",
            "Epoch 291/300\n",
            "46/46 [==============================] - 0s 2ms/step - loss: 0.3662\n",
            "Epoch 292/300\n",
            "46/46 [==============================] - 0s 2ms/step - loss: 0.3662\n",
            "Epoch 293/300\n",
            "46/46 [==============================] - 0s 2ms/step - loss: 0.3662\n",
            "Epoch 294/300\n",
            "46/46 [==============================] - 0s 2ms/step - loss: 0.3662\n",
            "Epoch 295/300\n",
            "46/46 [==============================] - 0s 2ms/step - loss: 0.3662\n",
            "Epoch 296/300\n",
            "46/46 [==============================] - 0s 2ms/step - loss: 0.3662\n",
            "Epoch 297/300\n",
            "46/46 [==============================] - 0s 2ms/step - loss: 0.3662\n",
            "Epoch 298/300\n",
            "46/46 [==============================] - 0s 2ms/step - loss: 0.3662\n",
            "Epoch 299/300\n",
            "46/46 [==============================] - 0s 2ms/step - loss: 0.3662\n",
            "Epoch 300/300\n",
            "46/46 [==============================] - 0s 2ms/step - loss: 0.3662\n"
          ]
        }
      ]
    },
    {
      "cell_type": "code",
      "metadata": {
        "colab": {
          "base_uri": "https://localhost:8080/",
          "height": 290
        },
        "id": "SiSkSHO0z4No",
        "outputId": "ccbdd576-bc80-4d1e-847f-85c001732caa"
      },
      "source": [
        "plt.plot(output.history['loss'])\n",
        "plt.xlabel('epochs')\n",
        "plt.ylabel('loss')\n",
        "plt.show()"
      ],
      "execution_count": 681,
      "outputs": [
        {
          "output_type": "display_data",
          "data": {
            "image/png": "[encoded data removed]",
            "text/plain": [
              "<Figure size 432x288 with 1 Axes>"
            ]
          },
          "metadata": {
            "needs_background": "light"
          }
        }
      ]
    },
    {
      "cell_type": "code",
      "metadata": {
        "id": "ZmszWEZP7ExK"
      },
      "source": [
        "# # A = []\n",
        "# prob =output.history.predict(X_test[1])"
      ],
      "execution_count": null,
      "outputs": []
    },
    {
      "cell_type": "code",
      "metadata": {
        "colab": {
          "base_uri": "https://localhost:8080/"
        },
        "id": "yRDsARca1t-H",
        "outputId": "a73f4403-0de5-4755-e54d-b876dc0adabe"
      },
      "source": [
        "from sklearn.linear_model import LinearRegression\n",
        "lm = LinearRegression()\n",
        "lm.fit(X_train_short, Y_train_short)\n",
        "print(lm.score(X_train_short, Y_train_short))"
      ],
      "execution_count": 682,
      "outputs": [
        {
          "output_type": "stream",
          "name": "stdout",
          "text": [
            "0.8038976624335109\n"
          ]
        }
      ]
    },
    {
      "cell_type": "code",
      "metadata": {
        "id": "yzvwKDf0PTI4"
      },
      "source": [
        ""
      ],
      "execution_count": null,
      "outputs": []
    }
  ]
}