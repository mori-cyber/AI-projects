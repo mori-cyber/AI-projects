{
 "cells": [
  {
   "cell_type": "code",
   "execution_count": 1,
   "metadata": {
    "executionInfo": {
     "elapsed": 1836,
     "status": "ok",
     "timestamp": 1631428666179,
     "user": {
      "displayName": "M. dehghani",
      "photoUrl": "https://lh3.googleusercontent.com/a-/AOh14Gi3pIlEuIhuA0QP4lXlo_3iiNupJy0O2ICOtw_5=s64",
      "userId": "17974684348231269790"
     },
     "user_tz": -270
    },
    "id": "jLDSQIsT--dS"
   },
   "outputs": [],
   "source": [
    "import numpy as np\n",
    "import pandas as pd\n",
    "import matplotlib.pyplot as plt\n",
    "import tensorflow as tf\n",
    "from tensorflow.keras import datasets, layers, models\n"
   ]
  },
  {
   "cell_type": "code",
   "execution_count": 2,
   "metadata": {
    "colab": {
     "base_uri": "https://localhost:8080/"
    },
    "executionInfo": {
     "elapsed": 881,
     "status": "ok",
     "timestamp": 1631428667042,
     "user": {
      "displayName": "M. dehghani",
      "photoUrl": "https://lh3.googleusercontent.com/a-/AOh14Gi3pIlEuIhuA0QP4lXlo_3iiNupJy0O2ICOtw_5=s64",
      "userId": "17974684348231269790"
     },
     "user_tz": -270
    },
    "id": "N8pf31qC_VdT",
    "outputId": "9c18e5e3-04ef-4aa8-f061-796c6c628315"
   },
   "outputs": [
    {
     "name": "stdout",
     "output_type": "stream",
     "text": [
      "Downloading data from https://storage.googleapis.com/tensorflow/tf-keras-datasets/mnist.npz\n",
      "11493376/11490434 [==============================] - 0s 0us/step\n",
      "11501568/11490434 [==============================] - 0s 0us/step\n"
     ]
    }
   ],
   "source": [
    "(train_images, train_labels), (test_images, test_labels) = datasets.mnist.load_data()\n",
    "\n",
    "# Normalize pixel values to be between 0 and 1\n",
    "train_images, test_images = train_images.astype('float32') / 255.0, test_images.astype('float32') / 255.0"
   ]
  },
  {
   "cell_type": "code",
   "execution_count": 3,
   "metadata": {
    "colab": {
     "base_uri": "https://localhost:8080/"
    },
    "executionInfo": {
     "elapsed": 17,
     "status": "ok",
     "timestamp": 1631428667043,
     "user": {
      "displayName": "M. dehghani",
      "photoUrl": "https://lh3.googleusercontent.com/a-/AOh14Gi3pIlEuIhuA0QP4lXlo_3iiNupJy0O2ICOtw_5=s64",
      "userId": "17974684348231269790"
     },
     "user_tz": -270
    },
    "id": "wFxPCqWH_Xll",
    "outputId": "86a9e559-f0e4-4622-832f-d4ea7b63ef46"
   },
   "outputs": [
    {
     "data": {
      "text/plain": [
       "(60000, 784)"
      ]
     },
     "execution_count": 3,
     "metadata": {},
     "output_type": "execute_result"
    }
   ],
   "source": [
    "\n",
    "train_images=train_images.reshape(60000,784)\n",
    "test_images = test_images.reshape(10000,784)\n",
    "train_images.shape"
   ]
  },
  {
   "cell_type": "code",
   "execution_count": 4,
   "metadata": {
    "executionInfo": {
     "elapsed": 14,
     "status": "ok",
     "timestamp": 1631428667045,
     "user": {
      "displayName": "M. dehghani",
      "photoUrl": "https://lh3.googleusercontent.com/a-/AOh14Gi3pIlEuIhuA0QP4lXlo_3iiNupJy0O2ICOtw_5=s64",
      "userId": "17974684348231269790"
     },
     "user_tz": -270
    },
    "id": "ANF4WcwQAy4J"
   },
   "outputs": [],
   "source": [
    "model = models.Sequential()\n",
    "model.add(layers.Dense(512, activation='relu',input_shape=(784,)))\n",
    "model.add(layers.Dense(10,activation='softmax'))\n"
   ]
  },
  {
   "cell_type": "code",
   "execution_count": 5,
   "metadata": {
    "executionInfo": {
     "elapsed": 13,
     "status": "ok",
     "timestamp": 1631428667046,
     "user": {
      "displayName": "M. dehghani",
      "photoUrl": "https://lh3.googleusercontent.com/a-/AOh14Gi3pIlEuIhuA0QP4lXlo_3iiNupJy0O2ICOtw_5=s64",
      "userId": "17974684348231269790"
     },
     "user_tz": -270
    },
    "id": "IZ4X9GlqD-2G"
   },
   "outputs": [],
   "source": [
    "model.compile(optimizer='rmsprop',loss = 'categorical_crossentropy',metrics=['accuracy'])"
   ]
  },
  {
   "cell_type": "code",
   "execution_count": 6,
   "metadata": {
    "executionInfo": {
     "elapsed": 12,
     "status": "ok",
     "timestamp": 1631428667047,
     "user": {
      "displayName": "M. dehghani",
      "photoUrl": "https://lh3.googleusercontent.com/a-/AOh14Gi3pIlEuIhuA0QP4lXlo_3iiNupJy0O2ICOtw_5=s64",
      "userId": "17974684348231269790"
     },
     "user_tz": -270
    },
    "id": "ncsnbtbIEZKB"
   },
   "outputs": [],
   "source": [
    "from tensorflow.keras.utils import to_categorical\n",
    "\n",
    "train_labels = to_categorical(train_labels)\n",
    "test_labels = to_categorical(test_labels)"
   ]
  },
  {
   "cell_type": "code",
   "execution_count": 7,
   "metadata": {
    "colab": {
     "base_uri": "https://localhost:8080/"
    },
    "executionInfo": {
     "elapsed": 82895,
     "status": "ok",
     "timestamp": 1631428749932,
     "user": {
      "displayName": "M. dehghani",
      "photoUrl": "https://lh3.googleusercontent.com/a-/AOh14Gi3pIlEuIhuA0QP4lXlo_3iiNupJy0O2ICOtw_5=s64",
      "userId": "17974684348231269790"
     },
     "user_tz": -270
    },
    "id": "v__Dtuvf_nXd",
    "outputId": "7af114b5-2ef5-4525-980b-40a510d12e12"
   },
   "outputs": [
    {
     "name": "stdout",
     "output_type": "stream",
     "text": [
      "Epoch 1/10\n",
      "469/469 [==============================] - 5s 10ms/step - loss: 0.2559 - accuracy: 0.9253\n",
      "Epoch 2/10\n",
      "469/469 [==============================] - 5s 10ms/step - loss: 0.1038 - accuracy: 0.9695\n",
      "Epoch 3/10\n",
      "469/469 [==============================] - 5s 10ms/step - loss: 0.0683 - accuracy: 0.9793\n",
      "Epoch 4/10\n",
      "469/469 [==============================] - 5s 10ms/step - loss: 0.0491 - accuracy: 0.9853\n",
      "Epoch 5/10\n",
      "469/469 [==============================] - 5s 10ms/step - loss: 0.0369 - accuracy: 0.9888\n",
      "Epoch 6/10\n",
      "469/469 [==============================] - 4s 9ms/step - loss: 0.0284 - accuracy: 0.9918\n",
      "Epoch 7/10\n",
      "469/469 [==============================] - 5s 10ms/step - loss: 0.0212 - accuracy: 0.9934\n",
      "Epoch 8/10\n",
      "469/469 [==============================] - 4s 10ms/step - loss: 0.0170 - accuracy: 0.9950\n",
      "Epoch 9/10\n",
      "469/469 [==============================] - 4s 10ms/step - loss: 0.0127 - accuracy: 0.9966\n",
      "Epoch 10/10\n",
      "469/469 [==============================] - 4s 9ms/step - loss: 0.0097 - accuracy: 0.9974\n"
     ]
    }
   ],
   "source": [
    "output = model.fit(train_images,train_labels,epochs=10,batch_size=128)"
   ]
  },
  {
   "cell_type": "code",
   "execution_count": 8,
   "metadata": {
    "colab": {
     "base_uri": "https://localhost:8080/"
    },
    "executionInfo": {
     "elapsed": 1169,
     "status": "ok",
     "timestamp": 1631428751087,
     "user": {
      "displayName": "M. dehghani",
      "photoUrl": "https://lh3.googleusercontent.com/a-/AOh14Gi3pIlEuIhuA0QP4lXlo_3iiNupJy0O2ICOtw_5=s64",
      "userId": "17974684348231269790"
     },
     "user_tz": -270
    },
    "id": "SMHSANbEIK9q",
    "outputId": "a18c0754-c587-422e-ab20-542925f15451"
   },
   "outputs": [
    {
     "name": "stdout",
     "output_type": "stream",
     "text": [
      "313/313 [==============================] - 1s 2ms/step - loss: 0.0796 - accuracy: 0.9803\n",
      "\n"
     ]
    }
   ],
   "source": [
    "test_loss, test_acc = output.model.evaluate(test_images,test_labels)\n",
    "print()"
   ]
  },
  {
   "cell_type": "markdown",
   "metadata": {
    "id": "2_TpYonY06k-"
   },
   "source": [
    "MNIST with CNN"
   ]
  },
  {
   "cell_type": "code",
   "execution_count": 9,
   "metadata": {
    "executionInfo": {
     "elapsed": 12,
     "status": "ok",
     "timestamp": 1631428751090,
     "user": {
      "displayName": "M. dehghani",
      "photoUrl": "https://lh3.googleusercontent.com/a-/AOh14Gi3pIlEuIhuA0QP4lXlo_3iiNupJy0O2ICOtw_5=s64",
      "userId": "17974684348231269790"
     },
     "user_tz": -270
    },
    "id": "xhAUgeZt0Duv"
   },
   "outputs": [],
   "source": [
    "model = models.Sequential()\n",
    "model.add(layers.Conv2D(32, (3, 3), activation='relu', input_shape=(28, 28, 1)))\n",
    "model.add(layers.Conv2D(64, (3, 3), activation='relu'))\n",
    "model.add(layers.Conv2D(64, (3, 3), activation='relu'))\n",
    "model.add(layers.Flatten())\n",
    "model.add(layers.Dense(64, activation='relu'))\n",
    "model.add(layers.Dense(10, activation='softmax'))"
   ]
  },
  {
   "cell_type": "code",
   "execution_count": 10,
   "metadata": {
    "colab": {
     "base_uri": "https://localhost:8080/"
    },
    "executionInfo": {
     "elapsed": 586,
     "status": "ok",
     "timestamp": 1631428751666,
     "user": {
      "displayName": "M. dehghani",
      "photoUrl": "https://lh3.googleusercontent.com/a-/AOh14Gi3pIlEuIhuA0QP4lXlo_3iiNupJy0O2ICOtw_5=s64",
      "userId": "17974684348231269790"
     },
     "user_tz": -270
    },
    "id": "iaJ8curKCZDq",
    "outputId": "54132e59-2892-4867-fccc-d18a4affee21"
   },
   "outputs": [
    {
     "name": "stdout",
     "output_type": "stream",
     "text": [
      "Model: \"sequential_1\"\n",
      "_________________________________________________________________\n",
      "Layer (type)                 Output Shape              Param #   \n",
      "=================================================================\n",
      "conv2d (Conv2D)              (None, 26, 26, 32)        320       \n",
      "_________________________________________________________________\n",
      "conv2d_1 (Conv2D)            (None, 24, 24, 64)        18496     \n",
      "_________________________________________________________________\n",
      "conv2d_2 (Conv2D)            (None, 22, 22, 64)        36928     \n",
      "_________________________________________________________________\n",
      "flatten (Flatten)            (None, 30976)             0         \n",
      "_________________________________________________________________\n",
      "dense_2 (Dense)              (None, 64)                1982528   \n",
      "_________________________________________________________________\n",
      "dense_3 (Dense)              (None, 10)                650       \n",
      "=================================================================\n",
      "Total params: 2,038,922\n",
      "Trainable params: 2,038,922\n",
      "Non-trainable params: 0\n",
      "_________________________________________________________________\n"
     ]
    }
   ],
   "source": [
    "model.summary()"
   ]
  },
  {
   "cell_type": "code",
   "execution_count": 13,
   "metadata": {
    "executionInfo": {
     "elapsed": 354,
     "status": "ok",
     "timestamp": 1631428956982,
     "user": {
      "displayName": "M. dehghani",
      "photoUrl": "https://lh3.googleusercontent.com/a-/AOh14Gi3pIlEuIhuA0QP4lXlo_3iiNupJy0O2ICOtw_5=s64",
      "userId": "17974684348231269790"
     },
     "user_tz": -270
    },
    "id": "0DxfkQ0su9_E"
   },
   "outputs": [],
   "source": [
    "train_images = train_images.reshape(-1,28,28,1)\n",
    "# train_labels = train_labels.reshape(-1,28,28,1)"
   ]
  },
  {
   "cell_type": "code",
   "execution_count": 14,
   "metadata": {
    "colab": {
     "base_uri": "https://localhost:8080/"
    },
    "executionInfo": {
     "elapsed": 607,
     "status": "ok",
     "timestamp": 1631428969824,
     "user": {
      "displayName": "M. dehghani",
      "photoUrl": "https://lh3.googleusercontent.com/a-/AOh14Gi3pIlEuIhuA0QP4lXlo_3iiNupJy0O2ICOtw_5=s64",
      "userId": "17974684348231269790"
     },
     "user_tz": -270
    },
    "id": "v6ALHOs6vk_W",
    "outputId": "608c352c-e914-41ac-a10b-c0b9f3815184"
   },
   "outputs": [
    {
     "data": {
      "text/plain": [
       "(60000, 10)"
      ]
     },
     "execution_count": 14,
     "metadata": {},
     "output_type": "execute_result"
    }
   ],
   "source": [
    "train_labels.shape"
   ]
  },
  {
   "cell_type": "code",
   "execution_count": null,
   "metadata": {
    "id": "OFezCqIevoEf"
   },
   "outputs": [],
   "source": []
  },
  {
   "cell_type": "code",
   "execution_count": 16,
   "metadata": {
    "colab": {
     "base_uri": "https://localhost:8080/"
    },
    "executionInfo": {
     "elapsed": 1583099,
     "status": "ok",
     "timestamp": 1631432250115,
     "user": {
      "displayName": "M. dehghani",
      "photoUrl": "https://lh3.googleusercontent.com/a-/AOh14Gi3pIlEuIhuA0QP4lXlo_3iiNupJy0O2ICOtw_5=s64",
      "userId": "17974684348231269790"
     },
     "user_tz": -270
    },
    "id": "stDVpLWzCkpD",
    "outputId": "7fdec0f5-e3c4-4845-88be-fb46c2385df8"
   },
   "outputs": [
    {
     "name": "stdout",
     "output_type": "stream",
     "text": [
      "Epoch 1/5\n",
      "938/938 [==============================] - 310s 330ms/step - loss: 0.0104 - accuracy: 0.9971\n",
      "Epoch 2/5\n",
      "938/938 [==============================] - 310s 330ms/step - loss: 0.0082 - accuracy: 0.9979\n",
      "Epoch 3/5\n",
      "938/938 [==============================] - 307s 327ms/step - loss: 0.0070 - accuracy: 0.9984\n",
      "Epoch 4/5\n",
      "938/938 [==============================] - 307s 327ms/step - loss: 0.0040 - accuracy: 0.9990\n",
      "Epoch 5/5\n",
      "938/938 [==============================] - 306s 327ms/step - loss: 0.0039 - accuracy: 0.9991\n"
     ]
    },
    {
     "data": {
      "text/plain": [
       "<keras.callbacks.History at 0x7fdcc4b69450>"
      ]
     },
     "execution_count": 16,
     "metadata": {},
     "output_type": "execute_result"
    }
   ],
   "source": [
    "model.compile(optimizer='rmsprop',\n",
    "              loss='categorical_crossentropy',\n",
    "              metrics=['accuracy'])\n",
    "model.fit(train_images, train_labels, epochs=5, batch_size=64)"
   ]
  },
  {
   "cell_type": "markdown",
   "metadata": {
    "id": "4Raxa2kN2MIk"
   },
   "source": [
    "# fashion_mnist"
   ]
  },
  {
   "cell_type": "code",
   "execution_count": 26,
   "metadata": {
    "executionInfo": {
     "elapsed": 785,
     "status": "ok",
     "timestamp": 1631432496122,
     "user": {
      "displayName": "M. dehghani",
      "photoUrl": "https://lh3.googleusercontent.com/a-/AOh14Gi3pIlEuIhuA0QP4lXlo_3iiNupJy0O2ICOtw_5=s64",
      "userId": "17974684348231269790"
     },
     "user_tz": -270
    },
    "id": "wmfLHdjnCcOs"
   },
   "outputs": [],
   "source": [
    "(train_images, train_labels), (test_images, test_labels) = datasets.fashion_mnist.load_data()\n",
    "\n",
    "# Normalize pixel values to be between 0 and 1\n",
    "train_images, test_images = train_images.astype('float32') / 255.0, test_images.astype('float32') / 255.0"
   ]
  },
  {
   "cell_type": "code",
   "execution_count": 27,
   "metadata": {
    "colab": {
     "base_uri": "https://localhost:8080/"
    },
    "executionInfo": {
     "elapsed": 342,
     "status": "ok",
     "timestamp": 1631432503451,
     "user": {
      "displayName": "M. dehghani",
      "photoUrl": "https://lh3.googleusercontent.com/a-/AOh14Gi3pIlEuIhuA0QP4lXlo_3iiNupJy0O2ICOtw_5=s64",
      "userId": "17974684348231269790"
     },
     "user_tz": -270
    },
    "id": "Q5vZTcP58YCL",
    "outputId": "5742dd65-a3ce-45fc-8c33-127512a9f173"
   },
   "outputs": [
    {
     "data": {
      "text/plain": [
       "(60000, 28, 28)"
      ]
     },
     "execution_count": 27,
     "metadata": {},
     "output_type": "execute_result"
    }
   ],
   "source": [
    "train_images.shape"
   ]
  },
  {
   "cell_type": "code",
   "execution_count": 29,
   "metadata": {
    "colab": {
     "base_uri": "https://localhost:8080/",
     "height": 282
    },
    "executionInfo": {
     "elapsed": 351,
     "status": "ok",
     "timestamp": 1631432568399,
     "user": {
      "displayName": "M. dehghani",
      "photoUrl": "https://lh3.googleusercontent.com/a-/AOh14Gi3pIlEuIhuA0QP4lXlo_3iiNupJy0O2ICOtw_5=s64",
      "userId": "17974684348231269790"
     },
     "user_tz": -270
    },
    "id": "NVhAGzMN9LII",
    "outputId": "17694e8a-f495-47ca-95b7-317973bfcfdd"
   },
   "outputs": [
    {
     "name": "stdout",
     "output_type": "stream",
     "text": [
      "4\n"
     ]
    },
    {
     "data": {
      "image/png": "[encoded data removed]",
      "text/plain": [
       "<Figure size 432x288 with 1 Axes>"
      ]
     },
     "metadata": {
      "needs_background": "light"
     },
     "output_type": "display_data"
    }
   ],
   "source": [
    "plt.imshow(train_images[22],cmap = 'gray')\n",
    "print(train_labels[22])"
   ]
  },
  {
   "cell_type": "code",
   "execution_count": 30,
   "metadata": {
    "executionInfo": {
     "elapsed": 543,
     "status": "ok",
     "timestamp": 1631432578237,
     "user": {
      "displayName": "M. dehghani",
      "photoUrl": "https://lh3.googleusercontent.com/a-/AOh14Gi3pIlEuIhuA0QP4lXlo_3iiNupJy0O2ICOtw_5=s64",
      "userId": "17974684348231269790"
     },
     "user_tz": -270
    },
    "id": "fHdYKoXm8efA"
   },
   "outputs": [],
   "source": [
    "train_images=train_images.reshape(60000,784)"
   ]
  },
  {
   "cell_type": "code",
   "execution_count": 31,
   "metadata": {
    "executionInfo": {
     "elapsed": 340,
     "status": "ok",
     "timestamp": 1631432610826,
     "user": {
      "displayName": "M. dehghani",
      "photoUrl": "https://lh3.googleusercontent.com/a-/AOh14Gi3pIlEuIhuA0QP4lXlo_3iiNupJy0O2ICOtw_5=s64",
      "userId": "17974684348231269790"
     },
     "user_tz": -270
    },
    "id": "hh2qPLLT8nLp"
   },
   "outputs": [],
   "source": [
    "train_labels = train_labels.reshape(-1,1)"
   ]
  },
  {
   "cell_type": "code",
   "execution_count": 33,
   "metadata": {
    "executionInfo": {
     "elapsed": 9,
     "status": "ok",
     "timestamp": 1631432990892,
     "user": {
      "displayName": "M. dehghani",
      "photoUrl": "https://lh3.googleusercontent.com/a-/AOh14Gi3pIlEuIhuA0QP4lXlo_3iiNupJy0O2ICOtw_5=s64",
      "userId": "17974684348231269790"
     },
     "user_tz": -270
    },
    "id": "CVBHvJCD8qj2"
   },
   "outputs": [],
   "source": [
    "from keras.layers import Dense\n",
    "net = models.Sequential([\n",
    "                         Dense(64,input_dim = 784, activation = 'relu'),\n",
    "                         Dense(32, activation = 'relu'),\n",
    "                         Dense(10,activation = 'softmax')\n",
    "])"
   ]
  },
  {
   "cell_type": "code",
   "execution_count": 36,
   "metadata": {
    "executionInfo": {
     "elapsed": 502,
     "status": "ok",
     "timestamp": 1631433295915,
     "user": {
      "displayName": "M. dehghani",
      "photoUrl": "https://lh3.googleusercontent.com/a-/AOh14Gi3pIlEuIhuA0QP4lXlo_3iiNupJy0O2ICOtw_5=s64",
      "userId": "17974684348231269790"
     },
     "user_tz": -270
    },
    "id": "kkRyFlS0-S4R"
   },
   "outputs": [],
   "source": [
    "net.compile(optimizer='rmsprop',loss='sparse_categorical_crossentropy', metrics=['accuracy'])"
   ]
  },
  {
   "cell_type": "code",
   "execution_count": 37,
   "metadata": {
    "colab": {
     "base_uri": "https://localhost:8080/"
    },
    "executionInfo": {
     "elapsed": 36225,
     "status": "ok",
     "timestamp": 1631433426960,
     "user": {
      "displayName": "M. dehghani",
      "photoUrl": "https://lh3.googleusercontent.com/a-/AOh14Gi3pIlEuIhuA0QP4lXlo_3iiNupJy0O2ICOtw_5=s64",
      "userId": "17974684348231269790"
     },
     "user_tz": -270
    },
    "id": "MIXUs5neAJP1",
    "outputId": "e98b1624-4111-4335-e88a-b7d69fd8aad8"
   },
   "outputs": [
    {
     "name": "stdout",
     "output_type": "stream",
     "text": [
      "Epoch 1/10\n",
      "1875/1875 [==============================] - 4s 2ms/step - loss: 0.5283 - accuracy: 0.8111\n",
      "Epoch 2/10\n",
      "1875/1875 [==============================] - 4s 2ms/step - loss: 0.3894 - accuracy: 0.8611\n",
      "Epoch 3/10\n",
      "1875/1875 [==============================] - 3s 2ms/step - loss: 0.3538 - accuracy: 0.8734\n",
      "Epoch 4/10\n",
      "1875/1875 [==============================] - 3s 2ms/step - loss: 0.3361 - accuracy: 0.8793\n",
      "Epoch 5/10\n",
      "1875/1875 [==============================] - 4s 2ms/step - loss: 0.3242 - accuracy: 0.8833\n",
      "Epoch 6/10\n",
      "1875/1875 [==============================] - 3s 2ms/step - loss: 0.3156 - accuracy: 0.8861\n",
      "Epoch 7/10\n",
      "1875/1875 [==============================] - 4s 2ms/step - loss: 0.3085 - accuracy: 0.8916\n",
      "Epoch 8/10\n",
      "1875/1875 [==============================] - 4s 2ms/step - loss: 0.3063 - accuracy: 0.8933\n",
      "Epoch 9/10\n",
      "1875/1875 [==============================] - 4s 2ms/step - loss: 0.3018 - accuracy: 0.8943\n",
      "Epoch 10/10\n",
      "1875/1875 [==============================] - 3s 2ms/step - loss: 0.2974 - accuracy: 0.8948\n"
     ]
    }
   ],
   "source": [
    "out_net = net.fit(train_images,train_labels,epochs=10)"
   ]
  },
  {
   "cell_type": "code",
   "execution_count": 38,
   "metadata": {
    "colab": {
     "base_uri": "https://localhost:8080/"
    },
    "executionInfo": {
     "elapsed": 385,
     "status": "ok",
     "timestamp": 1631433461761,
     "user": {
      "displayName": "M. dehghani",
      "photoUrl": "https://lh3.googleusercontent.com/a-/AOh14Gi3pIlEuIhuA0QP4lXlo_3iiNupJy0O2ICOtw_5=s64",
      "userId": "17974684348231269790"
     },
     "user_tz": -270
    },
    "id": "2Xin4oZwAq8L",
    "outputId": "2a0b8dc6-0463-4a62-ed10-de4d6a570794"
   },
   "outputs": [
    {
     "data": {
      "text/plain": [
       "(10000, 28, 28)"
      ]
     },
     "execution_count": 38,
     "metadata": {},
     "output_type": "execute_result"
    }
   ],
   "source": [
    "test_images.shape"
   ]
  },
  {
   "cell_type": "code",
   "execution_count": 40,
   "metadata": {
    "executionInfo": {
     "elapsed": 388,
     "status": "ok",
     "timestamp": 1631433493337,
     "user": {
      "displayName": "M. dehghani",
      "photoUrl": "https://lh3.googleusercontent.com/a-/AOh14Gi3pIlEuIhuA0QP4lXlo_3iiNupJy0O2ICOtw_5=s64",
      "userId": "17974684348231269790"
     },
     "user_tz": -270
    },
    "id": "mRb2xgjMAwyc"
   },
   "outputs": [],
   "source": [
    "# test_images=test_images.reshape(-1,784)"
   ]
  },
  {
   "cell_type": "code",
   "execution_count": 41,
   "metadata": {
    "colab": {
     "base_uri": "https://localhost:8080/"
    },
    "executionInfo": {
     "elapsed": 841,
     "status": "ok",
     "timestamp": 1631433531780,
     "user": {
      "displayName": "M. dehghani",
      "photoUrl": "https://lh3.googleusercontent.com/a-/AOh14Gi3pIlEuIhuA0QP4lXlo_3iiNupJy0O2ICOtw_5=s64",
      "userId": "17974684348231269790"
     },
     "user_tz": -270
    },
    "id": "uSXyeFwxA4f9",
    "outputId": "9e26eaf6-253e-4f94-a52c-a6ec02cf5562"
   },
   "outputs": [
    {
     "name": "stdout",
     "output_type": "stream",
     "text": [
      "313/313 [==============================] - 1s 1ms/step - loss: 0.3909 - accuracy: 0.8780\n"
     ]
    }
   ],
   "source": [
    "test_loss, test_acc = net.evaluate(test_images,test_labels)"
   ]
  },
  {
   "cell_type": "code",
   "execution_count": 44,
   "metadata": {
    "executionInfo": {
     "elapsed": 365,
     "status": "ok",
     "timestamp": 1631433638349,
     "user": {
      "displayName": "M. dehghani",
      "photoUrl": "https://lh3.googleusercontent.com/a-/AOh14Gi3pIlEuIhuA0QP4lXlo_3iiNupJy0O2ICOtw_5=s64",
      "userId": "17974684348231269790"
     },
     "user_tz": -270
    },
    "id": "8AdPQ0UiBSdY"
   },
   "outputs": [],
   "source": [
    "train_images = train_images.reshape(-1,28,28,1)"
   ]
  },
  {
   "cell_type": "code",
   "execution_count": 51,
   "metadata": {
    "executionInfo": {
     "elapsed": 477,
     "status": "ok",
     "timestamp": 1631433911808,
     "user": {
      "displayName": "M. dehghani",
      "photoUrl": "https://lh3.googleusercontent.com/a-/AOh14Gi3pIlEuIhuA0QP4lXlo_3iiNupJy0O2ICOtw_5=s64",
      "userId": "17974684348231269790"
     },
     "user_tz": -270
    },
    "id": "vdukmxnwBtF2"
   },
   "outputs": [],
   "source": [
    "from keras.layers import Dense,Conv2D,Flatten"
   ]
  },
  {
   "cell_type": "code",
   "execution_count": 52,
   "metadata": {
    "executionInfo": {
     "elapsed": 378,
     "status": "ok",
     "timestamp": 1631433914676,
     "user": {
      "displayName": "M. dehghani",
      "photoUrl": "https://lh3.googleusercontent.com/a-/AOh14Gi3pIlEuIhuA0QP4lXlo_3iiNupJy0O2ICOtw_5=s64",
      "userId": "17974684348231269790"
     },
     "user_tz": -270
    },
    "id": "07aNLb1OBcfU"
   },
   "outputs": [],
   "source": [
    "f_cnn_model = models.Sequential([\n",
    "              Conv2D(32, (3, 3), activation='relu', input_shape=(28, 28, 1)),\n",
    "              Conv2D(64, (3, 3), activation='relu'),\n",
    "              Conv2D(64, (3, 3), activation='relu'),\n",
    "              Flatten(),\n",
    "              Dense(64, activation='relu'),\n",
    "              Dense(10, activation='softmax')\n",
    "])"
   ]
  },
  {
   "cell_type": "code",
   "execution_count": 54,
   "metadata": {
    "executionInfo": {
     "elapsed": 423,
     "status": "ok",
     "timestamp": 1631433940241,
     "user": {
      "displayName": "M. dehghani",
      "photoUrl": "https://lh3.googleusercontent.com/a-/AOh14Gi3pIlEuIhuA0QP4lXlo_3iiNupJy0O2ICOtw_5=s64",
      "userId": "17974684348231269790"
     },
     "user_tz": -270
    },
    "id": "dXCass4YBkR0"
   },
   "outputs": [],
   "source": [
    "f_cnn_model.compile(optimizer='rmsprop',loss='sparse_categorical_crossentropy', metrics=['accuracy'])"
   ]
  },
  {
   "cell_type": "code",
   "execution_count": 57,
   "metadata": {
    "colab": {
     "base_uri": "https://localhost:8080/"
    },
    "executionInfo": {
     "elapsed": 1582347,
     "status": "ok",
     "timestamp": 1631435993187,
     "user": {
      "displayName": "M. dehghani",
      "photoUrl": "https://lh3.googleusercontent.com/a-/AOh14Gi3pIlEuIhuA0QP4lXlo_3iiNupJy0O2ICOtw_5=s64",
      "userId": "17974684348231269790"
     },
     "user_tz": -270
    },
    "id": "TBR3MzldCmSl",
    "outputId": "b44a0aa3-7932-42ba-dc38-f58bcb5f2fbd"
   },
   "outputs": [
    {
     "name": "stdout",
     "output_type": "stream",
     "text": [
      "Epoch 1/5\n",
      "1000/1000 [==============================] - 307s 307ms/step - loss: 0.2201 - accuracy: 0.9196\n",
      "Epoch 2/5\n",
      "1000/1000 [==============================] - 307s 307ms/step - loss: 0.1703 - accuracy: 0.9392\n",
      "Epoch 3/5\n",
      "1000/1000 [==============================] - 307s 307ms/step - loss: 0.1361 - accuracy: 0.9517\n",
      "Epoch 4/5\n",
      "1000/1000 [==============================] - 306s 306ms/step - loss: 0.1082 - accuracy: 0.9626\n",
      "Epoch 5/5\n",
      "1000/1000 [==============================] - 306s 306ms/step - loss: 0.0856 - accuracy: 0.9699\n"
     ]
    }
   ],
   "source": [
    "f_output = f_cnn_model.fit(train_images,train_labels,epochs=5,batch_size=60)"
   ]
  },
  {
   "cell_type": "code",
   "execution_count": 64,
   "metadata": {
    "executionInfo": {
     "elapsed": 368,
     "status": "ok",
     "timestamp": 1631436228943,
     "user": {
      "displayName": "M. dehghani",
      "photoUrl": "https://lh3.googleusercontent.com/a-/AOh14Gi3pIlEuIhuA0QP4lXlo_3iiNupJy0O2ICOtw_5=s64",
      "userId": "17974684348231269790"
     },
     "user_tz": -270
    },
    "id": "yZn8qw0vKh-G"
   },
   "outputs": [],
   "source": [
    "test_images = test_images.reshape(-1,28,28,1)"
   ]
  },
  {
   "cell_type": "code",
   "execution_count": 65,
   "metadata": {
    "colab": {
     "base_uri": "https://localhost:8080/"
    },
    "executionInfo": {
     "elapsed": 351,
     "status": "ok",
     "timestamp": 1631436241282,
     "user": {
      "displayName": "M. dehghani",
      "photoUrl": "https://lh3.googleusercontent.com/a-/AOh14Gi3pIlEuIhuA0QP4lXlo_3iiNupJy0O2ICOtw_5=s64",
      "userId": "17974684348231269790"
     },
     "user_tz": -270
    },
    "id": "20WiVN-DLUX2",
    "outputId": "1944b09c-2f7c-4dc1-9a39-bd4165b745e2"
   },
   "outputs": [
    {
     "data": {
      "text/plain": [
       "(10000, 28, 28, 1)"
      ]
     },
     "execution_count": 65,
     "metadata": {},
     "output_type": "execute_result"
    }
   ],
   "source": [
    "test_images.shape"
   ]
  },
  {
   "cell_type": "code",
   "execution_count": null,
   "metadata": {
    "id": "Tbu3-UQcLXZf"
   },
   "outputs": [],
   "source": []
  },
  {
   "cell_type": "code",
   "execution_count": 67,
   "metadata": {
    "colab": {
     "base_uri": "https://localhost:8080/"
    },
    "executionInfo": {
     "elapsed": 41912,
     "status": "ok",
     "timestamp": 1631436346891,
     "user": {
      "displayName": "M. dehghani",
      "photoUrl": "https://lh3.googleusercontent.com/a-/AOh14Gi3pIlEuIhuA0QP4lXlo_3iiNupJy0O2ICOtw_5=s64",
      "userId": "17974684348231269790"
     },
     "user_tz": -270
    },
    "id": "Z8O2cWMiJ7Fy",
    "outputId": "98f85a9b-6c91-4681-a798-2fee66150e1f"
   },
   "outputs": [
    {
     "name": "stdout",
     "output_type": "stream",
     "text": [
      "313/313 [==============================] - 35s 113ms/step - loss: 0.2961 - accuracy: 0.9201\n"
     ]
    }
   ],
   "source": [
    "test_loss, test_acc = f_cnn_model.evaluate(test_images,test_labels)"
   ]
  },
  {
   "cell_type": "markdown",
   "metadata": {
    "id": "bj66XbZqM8sH"
   },
   "source": [
    "# cfar 10"
   ]
  },
  {
   "cell_type": "code",
   "execution_count": 42,
   "metadata": {
    "executionInfo": {
     "elapsed": 1778,
     "status": "ok",
     "timestamp": 1631440818155,
     "user": {
      "displayName": "M. dehghani",
      "photoUrl": "https://lh3.googleusercontent.com/a-/AOh14Gi3pIlEuIhuA0QP4lXlo_3iiNupJy0O2ICOtw_5=s64",
      "userId": "17974684348231269790"
     },
     "user_tz": -270
    },
    "id": "NGmmLnuWM3UJ"
   },
   "outputs": [],
   "source": [
    "import numpy as np\n",
    "import pandas as pd\n",
    "import matplotlib.pyplot as plt\n",
    "import tensorflow as tf\n",
    "from tensorflow.keras import datasets, layers, models\n",
    "from keras.layers import Dense\n",
    "\n",
    "(train_images, train_labels), (test_images, test_labels) = datasets.cifar10.load_data()\n",
    "\n",
    "# Normalize pixel values to be between 0 and 1\n",
    "train_images, test_images = train_images.astype('float32') / 255.0, test_images.astype('float32') / 255.0"
   ]
  },
  {
   "cell_type": "code",
   "execution_count": 8,
   "metadata": {
    "colab": {
     "base_uri": "https://localhost:8080/"
    },
    "executionInfo": {
     "elapsed": 391,
     "status": "ok",
     "timestamp": 1631437937462,
     "user": {
      "displayName": "M. dehghani",
      "photoUrl": "https://lh3.googleusercontent.com/a-/AOh14Gi3pIlEuIhuA0QP4lXlo_3iiNupJy0O2ICOtw_5=s64",
      "userId": "17974684348231269790"
     },
     "user_tz": -270
    },
    "id": "4mSKX8TtNPm1",
    "outputId": "21f1a2ed-a995-4b4b-a8c9-b72e77d26d04"
   },
   "outputs": [
    {
     "data": {
      "text/plain": [
       "(50000, 32, 32, 3)"
      ]
     },
     "execution_count": 8,
     "metadata": {},
     "output_type": "execute_result"
    }
   ],
   "source": [
    "train_images.shape"
   ]
  },
  {
   "cell_type": "code",
   "execution_count": 9,
   "metadata": {
    "executionInfo": {
     "elapsed": 1145,
     "status": "ok",
     "timestamp": 1631437940062,
     "user": {
      "displayName": "M. dehghani",
      "photoUrl": "https://lh3.googleusercontent.com/a-/AOh14Gi3pIlEuIhuA0QP4lXlo_3iiNupJy0O2ICOtw_5=s64",
      "userId": "17974684348231269790"
     },
     "user_tz": -270
    },
    "id": "yT_k_iIENTBN"
   },
   "outputs": [],
   "source": [
    "train_images = train_images.reshape(50000,32*32*3)"
   ]
  },
  {
   "cell_type": "code",
   "execution_count": 10,
   "metadata": {
    "colab": {
     "base_uri": "https://localhost:8080/"
    },
    "executionInfo": {
     "elapsed": 345,
     "status": "ok",
     "timestamp": 1631437945062,
     "user": {
      "displayName": "M. dehghani",
      "photoUrl": "https://lh3.googleusercontent.com/a-/AOh14Gi3pIlEuIhuA0QP4lXlo_3iiNupJy0O2ICOtw_5=s64",
      "userId": "17974684348231269790"
     },
     "user_tz": -270
    },
    "id": "ubmgxUS3OHd_",
    "outputId": "089f58c6-4c85-46c0-92b6-6ddf9a00468b"
   },
   "outputs": [
    {
     "data": {
      "text/plain": [
       "(50000, 3072)"
      ]
     },
     "execution_count": 10,
     "metadata": {},
     "output_type": "execute_result"
    }
   ],
   "source": [
    "train_images.shape"
   ]
  },
  {
   "cell_type": "code",
   "execution_count": 11,
   "metadata": {
    "colab": {
     "base_uri": "https://localhost:8080/"
    },
    "executionInfo": {
     "elapsed": 14,
     "status": "ok",
     "timestamp": 1631437946636,
     "user": {
      "displayName": "M. dehghani",
      "photoUrl": "https://lh3.googleusercontent.com/a-/AOh14Gi3pIlEuIhuA0QP4lXlo_3iiNupJy0O2ICOtw_5=s64",
      "userId": "17974684348231269790"
     },
     "user_tz": -270
    },
    "id": "uBOqX6UCKzu6",
    "outputId": "bed80a59-4f8a-486f-e5d8-8ed35ba4e92c"
   },
   "outputs": [
    {
     "data": {
      "text/plain": [
       "(50000, 1)"
      ]
     },
     "execution_count": 11,
     "metadata": {},
     "output_type": "execute_result"
    }
   ],
   "source": [
    "train_labels.shape"
   ]
  },
  {
   "cell_type": "code",
   "execution_count": 12,
   "metadata": {
    "executionInfo": {
     "elapsed": 987,
     "status": "ok",
     "timestamp": 1631437961166,
     "user": {
      "displayName": "M. dehghani",
      "photoUrl": "https://lh3.googleusercontent.com/a-/AOh14Gi3pIlEuIhuA0QP4lXlo_3iiNupJy0O2ICOtw_5=s64",
      "userId": "17974684348231269790"
     },
     "user_tz": -270
    },
    "id": "qLxCfLm4Nig5"
   },
   "outputs": [],
   "source": [
    "cfar_net = models.Sequential([\n",
    "                         Dense(64,input_dim = 3072, activation = 'relu'),\n",
    "                         Dense(32, activation = 'relu'),\n",
    "                         Dense(10,activation = 'softmax')\n",
    "])"
   ]
  },
  {
   "cell_type": "code",
   "execution_count": 13,
   "metadata": {
    "executionInfo": {
     "elapsed": 333,
     "status": "ok",
     "timestamp": 1631437962897,
     "user": {
      "displayName": "M. dehghani",
      "photoUrl": "https://lh3.googleusercontent.com/a-/AOh14Gi3pIlEuIhuA0QP4lXlo_3iiNupJy0O2ICOtw_5=s64",
      "userId": "17974684348231269790"
     },
     "user_tz": -270
    },
    "id": "KiHH3MqJOgZT"
   },
   "outputs": [],
   "source": [
    "cfar_net.compile(optimizer='rmsprop',loss='sparse_categorical_crossentropy', metrics=['accuracy'])"
   ]
  },
  {
   "cell_type": "code",
   "execution_count": 14,
   "metadata": {
    "colab": {
     "base_uri": "https://localhost:8080/"
    },
    "executionInfo": {
     "elapsed": 52606,
     "status": "ok",
     "timestamp": 1631438016608,
     "user": {
      "displayName": "M. dehghani",
      "photoUrl": "https://lh3.googleusercontent.com/a-/AOh14Gi3pIlEuIhuA0QP4lXlo_3iiNupJy0O2ICOtw_5=s64",
      "userId": "17974684348231269790"
     },
     "user_tz": -270
    },
    "id": "XTma44WHOqXc",
    "outputId": "79782746-55c9-4cb8-9a45-81caea806651"
   },
   "outputs": [
    {
     "name": "stdout",
     "output_type": "stream",
     "text": [
      "Epoch 1/10\n",
      "1000/1000 [==============================] - 6s 5ms/step - loss: 1.9776 - accuracy: 0.2803\n",
      "Epoch 2/10\n",
      "1000/1000 [==============================] - 5s 5ms/step - loss: 1.7908 - accuracy: 0.3610\n",
      "Epoch 3/10\n",
      "1000/1000 [==============================] - 5s 5ms/step - loss: 1.7301 - accuracy: 0.3829\n",
      "Epoch 4/10\n",
      "1000/1000 [==============================] - 5s 5ms/step - loss: 1.6905 - accuracy: 0.3978\n",
      "Epoch 5/10\n",
      "1000/1000 [==============================] - 5s 5ms/step - loss: 1.6583 - accuracy: 0.4093\n",
      "Epoch 6/10\n",
      "1000/1000 [==============================] - 5s 5ms/step - loss: 1.6384 - accuracy: 0.4163\n",
      "Epoch 7/10\n",
      "1000/1000 [==============================] - 5s 5ms/step - loss: 1.6218 - accuracy: 0.4194\n",
      "Epoch 8/10\n",
      "1000/1000 [==============================] - 5s 5ms/step - loss: 1.6103 - accuracy: 0.4259\n",
      "Epoch 9/10\n",
      "1000/1000 [==============================] - 5s 5ms/step - loss: 1.6007 - accuracy: 0.4294\n",
      "Epoch 10/10\n",
      "1000/1000 [==============================] - 5s 5ms/step - loss: 1.5911 - accuracy: 0.4305\n"
     ]
    }
   ],
   "source": [
    "cfar_out = cfar_net.fit(train_images,train_labels,epochs=10, batch_size=50)"
   ]
  },
  {
   "cell_type": "code",
   "execution_count": 16,
   "metadata": {
    "colab": {
     "base_uri": "https://localhost:8080/"
    },
    "executionInfo": {
     "elapsed": 326,
     "status": "ok",
     "timestamp": 1631438054805,
     "user": {
      "displayName": "M. dehghani",
      "photoUrl": "https://lh3.googleusercontent.com/a-/AOh14Gi3pIlEuIhuA0QP4lXlo_3iiNupJy0O2ICOtw_5=s64",
      "userId": "17974684348231269790"
     },
     "user_tz": -270
    },
    "id": "VDSpTnKqSO9D",
    "outputId": "82e4a778-0b2d-4443-9137-effc7372e8c7"
   },
   "outputs": [
    {
     "data": {
      "text/plain": [
       "(10000, 32, 32, 3)"
      ]
     },
     "execution_count": 16,
     "metadata": {},
     "output_type": "execute_result"
    }
   ],
   "source": [
    "test_images.shape"
   ]
  },
  {
   "cell_type": "code",
   "execution_count": 17,
   "metadata": {
    "executionInfo": {
     "elapsed": 320,
     "status": "ok",
     "timestamp": 1631438100017,
     "user": {
      "displayName": "M. dehghani",
      "photoUrl": "https://lh3.googleusercontent.com/a-/AOh14Gi3pIlEuIhuA0QP4lXlo_3iiNupJy0O2ICOtw_5=s64",
      "userId": "17974684348231269790"
     },
     "user_tz": -270
    },
    "id": "F-Fe9379SSJ5"
   },
   "outputs": [],
   "source": [
    "test_images = test_images.reshape(10000,3072)"
   ]
  },
  {
   "cell_type": "code",
   "execution_count": 18,
   "metadata": {
    "colab": {
     "base_uri": "https://localhost:8080/"
    },
    "executionInfo": {
     "elapsed": 1009,
     "status": "ok",
     "timestamp": 1631438102914,
     "user": {
      "displayName": "M. dehghani",
      "photoUrl": "https://lh3.googleusercontent.com/a-/AOh14Gi3pIlEuIhuA0QP4lXlo_3iiNupJy0O2ICOtw_5=s64",
      "userId": "17974684348231269790"
     },
     "user_tz": -270
    },
    "id": "PnixDcLzQSUB",
    "outputId": "ce1abaed-3307-4e16-bedc-39b35e17721f"
   },
   "outputs": [
    {
     "name": "stdout",
     "output_type": "stream",
     "text": [
      "313/313 [==============================] - 1s 3ms/step - loss: 1.6278 - accuracy: 0.4192\n"
     ]
    }
   ],
   "source": [
    "test_loss, test_acc = cfar_net.evaluate(test_images,test_labels)"
   ]
  },
  {
   "cell_type": "code",
   "execution_count": 23,
   "metadata": {
    "executionInfo": {
     "elapsed": 439,
     "status": "ok",
     "timestamp": 1631438281343,
     "user": {
      "displayName": "M. dehghani",
      "photoUrl": "https://lh3.googleusercontent.com/a-/AOh14Gi3pIlEuIhuA0QP4lXlo_3iiNupJy0O2ICOtw_5=s64",
      "userId": "17974684348231269790"
     },
     "user_tz": -270
    },
    "id": "RZNPDA8eQaMQ"
   },
   "outputs": [],
   "source": [
    "train_images = train_images.reshape(50000,32,32,3)"
   ]
  },
  {
   "cell_type": "code",
   "execution_count": 32,
   "metadata": {
    "executionInfo": {
     "elapsed": 497,
     "status": "ok",
     "timestamp": 1631438812281,
     "user": {
      "displayName": "M. dehghani",
      "photoUrl": "https://lh3.googleusercontent.com/a-/AOh14Gi3pIlEuIhuA0QP4lXlo_3iiNupJy0O2ICOtw_5=s64",
      "userId": "17974684348231269790"
     },
     "user_tz": -270
    },
    "id": "ddR6iB30SlPY"
   },
   "outputs": [],
   "source": [
    "from keras.layers import Dense,Conv2D,Flatten\n",
    "cfar_cnn_model = models.Sequential([\n",
    "              Conv2D(32, (3, 3), activation='relu', input_shape=(32, 32, 3)),\n",
    "              Conv2D(64, (3, 3), activation='relu'),\n",
    "              Conv2D(64, (3, 3), activation='relu'),\n",
    "              Flatten(),\n",
    "              Dense(64, activation='relu'),\n",
    "              Dense(10, activation='softmax')\n",
    "])"
   ]
  },
  {
   "cell_type": "code",
   "execution_count": 33,
   "metadata": {
    "executionInfo": {
     "elapsed": 315,
     "status": "ok",
     "timestamp": 1631438816949,
     "user": {
      "displayName": "M. dehghani",
      "photoUrl": "https://lh3.googleusercontent.com/a-/AOh14Gi3pIlEuIhuA0QP4lXlo_3iiNupJy0O2ICOtw_5=s64",
      "userId": "17974684348231269790"
     },
     "user_tz": -270
    },
    "id": "Siath1pZS3dX"
   },
   "outputs": [],
   "source": [
    "cfar_cnn_model.compile(optimizer='rmsprop',loss='sparse_categorical_crossentropy', metrics=['accuracy'])"
   ]
  },
  {
   "cell_type": "code",
   "execution_count": 34,
   "metadata": {
    "colab": {
     "base_uri": "https://localhost:8080/"
    },
    "executionInfo": {
     "elapsed": 351,
     "status": "ok",
     "timestamp": 1631438820721,
     "user": {
      "displayName": "M. dehghani",
      "photoUrl": "https://lh3.googleusercontent.com/a-/AOh14Gi3pIlEuIhuA0QP4lXlo_3iiNupJy0O2ICOtw_5=s64",
      "userId": "17974684348231269790"
     },
     "user_tz": -270
    },
    "id": "T81jxvuTTppa",
    "outputId": "6df8c950-97c3-4d9e-9037-38ac9762a37d"
   },
   "outputs": [
    {
     "data": {
      "text/plain": [
       "(50000, 32, 32, 3)"
      ]
     },
     "execution_count": 34,
     "metadata": {},
     "output_type": "execute_result"
    }
   ],
   "source": [
    "train_images.shape"
   ]
  },
  {
   "cell_type": "code",
   "execution_count": 35,
   "metadata": {
    "colab": {
     "base_uri": "https://localhost:8080/"
    },
    "executionInfo": {
     "elapsed": 439,
     "status": "ok",
     "timestamp": 1631438822450,
     "user": {
      "displayName": "M. dehghani",
      "photoUrl": "https://lh3.googleusercontent.com/a-/AOh14Gi3pIlEuIhuA0QP4lXlo_3iiNupJy0O2ICOtw_5=s64",
      "userId": "17974684348231269790"
     },
     "user_tz": -270
    },
    "id": "sJc73ywnTsdi",
    "outputId": "917d732c-cf42-49f4-b244-58f6c0b50e60"
   },
   "outputs": [
    {
     "data": {
      "text/plain": [
       "(50000, 1)"
      ]
     },
     "execution_count": 35,
     "metadata": {},
     "output_type": "execute_result"
    }
   ],
   "source": [
    "train_labels.shape"
   ]
  },
  {
   "cell_type": "code",
   "execution_count": null,
   "metadata": {
    "id": "-_kd8TwJTvPK"
   },
   "outputs": [],
   "source": []
  },
  {
   "cell_type": "code",
   "execution_count": 36,
   "metadata": {
    "colab": {
     "base_uri": "https://localhost:8080/"
    },
    "executionInfo": {
     "elapsed": 1822942,
     "status": "ok",
     "timestamp": 1631440646742,
     "user": {
      "displayName": "M. dehghani",
      "photoUrl": "https://lh3.googleusercontent.com/a-/AOh14Gi3pIlEuIhuA0QP4lXlo_3iiNupJy0O2ICOtw_5=s64",
      "userId": "17974684348231269790"
     },
     "user_tz": -270
    },
    "id": "nLdxd-i9S-U3",
    "outputId": "ebbb07c5-9cf3-43b0-db57-03abbe5df101"
   },
   "outputs": [
    {
     "name": "stdout",
     "output_type": "stream",
     "text": [
      "Epoch 1/5\n",
      "834/834 [==============================] - 354s 423ms/step - loss: 1.5325 - accuracy: 0.4671\n",
      "Epoch 2/5\n",
      "834/834 [==============================] - 354s 425ms/step - loss: 1.0123 - accuracy: 0.6475\n",
      "Epoch 3/5\n",
      "834/834 [==============================] - 354s 424ms/step - loss: 0.7911 - accuracy: 0.7244\n",
      "Epoch 4/5\n",
      "834/834 [==============================] - 353s 423ms/step - loss: 0.6065 - accuracy: 0.7913\n",
      "Epoch 5/5\n",
      "834/834 [==============================] - 354s 424ms/step - loss: 0.4334 - accuracy: 0.8531\n"
     ]
    }
   ],
   "source": [
    "cfar_cnn_output = cfar_cnn_model.fit(train_images,train_labels,epochs=5,batch_size=60)"
   ]
  },
  {
   "cell_type": "code",
   "execution_count": 44,
   "metadata": {
    "colab": {
     "base_uri": "https://localhost:8080/"
    },
    "executionInfo": {
     "elapsed": 322,
     "status": "ok",
     "timestamp": 1631440863822,
     "user": {
      "displayName": "M. dehghani",
      "photoUrl": "https://lh3.googleusercontent.com/a-/AOh14Gi3pIlEuIhuA0QP4lXlo_3iiNupJy0O2ICOtw_5=s64",
      "userId": "17974684348231269790"
     },
     "user_tz": -270
    },
    "id": "FUVMMRSIc8qJ",
    "outputId": "9e2c113f-b288-4608-eada-8edc2be432f6"
   },
   "outputs": [
    {
     "data": {
      "text/plain": [
       "(10000, 32, 32, 3)"
      ]
     },
     "execution_count": 44,
     "metadata": {},
     "output_type": "execute_result"
    }
   ],
   "source": [
    "test_images.shape"
   ]
  },
  {
   "cell_type": "code",
   "execution_count": 45,
   "metadata": {
    "colab": {
     "base_uri": "https://localhost:8080/"
    },
    "executionInfo": {
     "elapsed": 20086,
     "status": "ok",
     "timestamp": 1631440940788,
     "user": {
      "displayName": "M. dehghani",
      "photoUrl": "https://lh3.googleusercontent.com/a-/AOh14Gi3pIlEuIhuA0QP4lXlo_3iiNupJy0O2ICOtw_5=s64",
      "userId": "17974684348231269790"
     },
     "user_tz": -270
    },
    "id": "q-US8_kJcOKs",
    "outputId": "8c61ca7e-926d-40c7-b74d-4f029301c8de"
   },
   "outputs": [
    {
     "name": "stdout",
     "output_type": "stream",
     "text": [
      "313/313 [==============================] - 20s 62ms/step - loss: 1.3556 - accuracy: 0.6499\n"
     ]
    }
   ],
   "source": [
    "test_loss, test_acc = cfar_cnn_model.evaluate(test_images,test_labels)"
   ]
  },
  {
   "cell_type": "markdown",
   "metadata": {
    "id": "DIckKuv-dTxx"
   },
   "source": [
    "# cfar 100"
   ]
  },
  {
   "cell_type": "code",
   "execution_count": 46,
   "metadata": {
    "colab": {
     "base_uri": "https://localhost:8080/"
    },
    "executionInfo": {
     "elapsed": 6336,
     "status": "ok",
     "timestamp": 1631440998901,
     "user": {
      "displayName": "M. dehghani",
      "photoUrl": "https://lh3.googleusercontent.com/a-/AOh14Gi3pIlEuIhuA0QP4lXlo_3iiNupJy0O2ICOtw_5=s64",
      "userId": "17974684348231269790"
     },
     "user_tz": -270
    },
    "id": "xZzipY4DdWjF",
    "outputId": "29f8f8bb-de7b-4b15-f365-438bf3b9e46a"
   },
   "outputs": [
    {
     "name": "stdout",
     "output_type": "stream",
     "text": [
      "Downloading data from https://www.cs.toronto.edu/~kriz/cifar-100-python.tar.gz\n",
      "169009152/169001437 [==============================] - 2s 0us/step\n",
      "169017344/169001437 [==============================] - 2s 0us/step\n"
     ]
    }
   ],
   "source": [
    "(train_images, train_labels), (test_images, test_labels) = datasets.cifar100.load_data()\n",
    "\n",
    "# Normalize pixel values to be between 0 and 1\n",
    "train_images, test_images = train_images.astype('float32') / 255.0, test_images.astype('float32') / 255.0"
   ]
  },
  {
   "cell_type": "code",
   "execution_count": 47,
   "metadata": {
    "colab": {
     "base_uri": "https://localhost:8080/"
    },
    "executionInfo": {
     "elapsed": 372,
     "status": "ok",
     "timestamp": 1631441009937,
     "user": {
      "displayName": "M. dehghani",
      "photoUrl": "https://lh3.googleusercontent.com/a-/AOh14Gi3pIlEuIhuA0QP4lXlo_3iiNupJy0O2ICOtw_5=s64",
      "userId": "17974684348231269790"
     },
     "user_tz": -270
    },
    "id": "m395RCF0dg4E",
    "outputId": "94a681d6-fc25-4f0e-a080-71448c79c6a2"
   },
   "outputs": [
    {
     "data": {
      "text/plain": [
       "(50000, 32, 32, 3)"
      ]
     },
     "execution_count": 47,
     "metadata": {},
     "output_type": "execute_result"
    }
   ],
   "source": [
    "train_images.shape"
   ]
  },
  {
   "cell_type": "code",
   "execution_count": 53,
   "metadata": {
    "executionInfo": {
     "elapsed": 764,
     "status": "ok",
     "timestamp": 1631441192588,
     "user": {
      "displayName": "M. dehghani",
      "photoUrl": "https://lh3.googleusercontent.com/a-/AOh14Gi3pIlEuIhuA0QP4lXlo_3iiNupJy0O2ICOtw_5=s64",
      "userId": "17974684348231269790"
     },
     "user_tz": -270
    },
    "id": "MuQi8dWieCON"
   },
   "outputs": [],
   "source": [
    "train_images = train_images.reshape(-1,3072)"
   ]
  },
  {
   "cell_type": "code",
   "execution_count": 54,
   "metadata": {
    "colab": {
     "base_uri": "https://localhost:8080/"
    },
    "executionInfo": {
     "elapsed": 336,
     "status": "ok",
     "timestamp": 1631441195855,
     "user": {
      "displayName": "M. dehghani",
      "photoUrl": "https://lh3.googleusercontent.com/a-/AOh14Gi3pIlEuIhuA0QP4lXlo_3iiNupJy0O2ICOtw_5=s64",
      "userId": "17974684348231269790"
     },
     "user_tz": -270
    },
    "id": "mJCVnmTfdjhE",
    "outputId": "4ad5e88d-4b51-485e-fbd6-f650c0dd470f"
   },
   "outputs": [
    {
     "data": {
      "text/plain": [
       "(50000, 1)"
      ]
     },
     "execution_count": 54,
     "metadata": {},
     "output_type": "execute_result"
    }
   ],
   "source": [
    "train_labels.shape"
   ]
  },
  {
   "cell_type": "code",
   "execution_count": 58,
   "metadata": {
    "executionInfo": {
     "elapsed": 362,
     "status": "ok",
     "timestamp": 1631441314062,
     "user": {
      "displayName": "M. dehghani",
      "photoUrl": "https://lh3.googleusercontent.com/a-/AOh14Gi3pIlEuIhuA0QP4lXlo_3iiNupJy0O2ICOtw_5=s64",
      "userId": "17974684348231269790"
     },
     "user_tz": -270
    },
    "id": "46mGPh-jdwnY"
   },
   "outputs": [],
   "source": [
    "cfar100_net = models.Sequential([\n",
    "                         Dense(64,input_dim = 3072, activation = 'relu'),\n",
    "                         Dense(32, activation = 'relu'),\n",
    "                         Dense(100,activation = 'softmax')\n",
    "])"
   ]
  },
  {
   "cell_type": "code",
   "execution_count": 65,
   "metadata": {
    "executionInfo": {
     "elapsed": 892,
     "status": "ok",
     "timestamp": 1631441601830,
     "user": {
      "displayName": "M. dehghani",
      "photoUrl": "https://lh3.googleusercontent.com/a-/AOh14Gi3pIlEuIhuA0QP4lXlo_3iiNupJy0O2ICOtw_5=s64",
      "userId": "17974684348231269790"
     },
     "user_tz": -270
    },
    "id": "bCMtm9WAd7QZ"
   },
   "outputs": [],
   "source": [
    "cfar100_net.compile(optimizer='rmsprop',loss='sparse_categorical_crossentropy', metrics=['accuracy'])"
   ]
  },
  {
   "cell_type": "code",
   "execution_count": 66,
   "metadata": {
    "colab": {
     "base_uri": "https://localhost:8080/"
    },
    "executionInfo": {
     "elapsed": 82873,
     "status": "ok",
     "timestamp": 1631441687199,
     "user": {
      "displayName": "M. dehghani",
      "photoUrl": "https://lh3.googleusercontent.com/a-/AOh14Gi3pIlEuIhuA0QP4lXlo_3iiNupJy0O2ICOtw_5=s64",
      "userId": "17974684348231269790"
     },
     "user_tz": -270
    },
    "id": "uRjbknDdeSJT",
    "outputId": "382735d2-ca78-4ba5-d03b-099f70f24e82"
   },
   "outputs": [
    {
     "name": "stdout",
     "output_type": "stream",
     "text": [
      "Epoch 1/10\n",
      "1000/1000 [==============================] - 6s 6ms/step - loss: 3.4489 - accuracy: 0.1736\n",
      "Epoch 2/10\n",
      "1000/1000 [==============================] - 5s 5ms/step - loss: 3.4421 - accuracy: 0.1759\n",
      "Epoch 3/10\n",
      "1000/1000 [==============================] - 6s 6ms/step - loss: 3.4420 - accuracy: 0.1744\n",
      "Epoch 4/10\n",
      "1000/1000 [==============================] - 5s 5ms/step - loss: 3.4395 - accuracy: 0.1752\n",
      "Epoch 5/10\n",
      "1000/1000 [==============================] - 5s 5ms/step - loss: 3.4365 - accuracy: 0.1758\n",
      "Epoch 6/10\n",
      "1000/1000 [==============================] - 5s 5ms/step - loss: 3.4330 - accuracy: 0.1763\n",
      "Epoch 7/10\n",
      "1000/1000 [==============================] - 6s 6ms/step - loss: 3.4367 - accuracy: 0.1759\n",
      "Epoch 8/10\n",
      "1000/1000 [==============================] - 6s 6ms/step - loss: 3.4349 - accuracy: 0.1772\n",
      "Epoch 9/10\n",
      "1000/1000 [==============================] - 5s 5ms/step - loss: 3.4352 - accuracy: 0.1761\n",
      "Epoch 10/10\n",
      "1000/1000 [==============================] - 5s 5ms/step - loss: 3.4336 - accuracy: 0.1772\n"
     ]
    }
   ],
   "source": [
    "cfar100_output = cfar100_net.fit(train_images,train_labels,epochs=10,batch_size=50)"
   ]
  },
  {
   "cell_type": "code",
   "execution_count": 68,
   "metadata": {
    "colab": {
     "base_uri": "https://localhost:8080/"
    },
    "executionInfo": {
     "elapsed": 317,
     "status": "ok",
     "timestamp": 1631441740223,
     "user": {
      "displayName": "M. dehghani",
      "photoUrl": "https://lh3.googleusercontent.com/a-/AOh14Gi3pIlEuIhuA0QP4lXlo_3iiNupJy0O2ICOtw_5=s64",
      "userId": "17974684348231269790"
     },
     "user_tz": -270
    },
    "id": "BkMWqPyIgTUo",
    "outputId": "e219c6b1-600e-4461-d618-1ad93b5e9b06"
   },
   "outputs": [
    {
     "data": {
      "text/plain": [
       "(10000, 32, 32, 3)"
      ]
     },
     "execution_count": 68,
     "metadata": {},
     "output_type": "execute_result"
    }
   ],
   "source": [
    "test_images.shape"
   ]
  },
  {
   "cell_type": "code",
   "execution_count": 69,
   "metadata": {
    "executionInfo": {
     "elapsed": 339,
     "status": "ok",
     "timestamp": 1631441777076,
     "user": {
      "displayName": "M. dehghani",
      "photoUrl": "https://lh3.googleusercontent.com/a-/AOh14Gi3pIlEuIhuA0QP4lXlo_3iiNupJy0O2ICOtw_5=s64",
      "userId": "17974684348231269790"
     },
     "user_tz": -270
    },
    "id": "gmbl95ZagV6f"
   },
   "outputs": [],
   "source": [
    "test_images = test_images.reshape(10000,3072)"
   ]
  },
  {
   "cell_type": "code",
   "execution_count": 70,
   "metadata": {
    "colab": {
     "base_uri": "https://localhost:8080/"
    },
    "executionInfo": {
     "elapsed": 991,
     "status": "ok",
     "timestamp": 1631441779331,
     "user": {
      "displayName": "M. dehghani",
      "photoUrl": "https://lh3.googleusercontent.com/a-/AOh14Gi3pIlEuIhuA0QP4lXlo_3iiNupJy0O2ICOtw_5=s64",
      "userId": "17974684348231269790"
     },
     "user_tz": -270
    },
    "id": "ha3RmbDJf5t-",
    "outputId": "697a72ae-e8cc-464f-b47c-b07b2cd7e139"
   },
   "outputs": [
    {
     "name": "stdout",
     "output_type": "stream",
     "text": [
      "313/313 [==============================] - 1s 3ms/step - loss: 3.5207 - accuracy: 0.1702\n"
     ]
    }
   ],
   "source": [
    "test_loss, test_acc = cfar100_net.evaluate(test_images,test_labels)"
   ]
  },
  {
   "cell_type": "markdown",
   "metadata": {
    "id": "QBm7I6GCgJ-b"
   },
   "source": [
    "# cfar100_cnn"
   ]
  },
  {
   "cell_type": "code",
   "execution_count": 71,
   "metadata": {
    "executionInfo": {
     "elapsed": 324,
     "status": "ok",
     "timestamp": 1631441819237,
     "user": {
      "displayName": "M. dehghani",
      "photoUrl": "https://lh3.googleusercontent.com/a-/AOh14Gi3pIlEuIhuA0QP4lXlo_3iiNupJy0O2ICOtw_5=s64",
      "userId": "17974684348231269790"
     },
     "user_tz": -270
    },
    "id": "NEVasPtAgNhM"
   },
   "outputs": [],
   "source": [
    "train_images =train_images.reshape(-1,32,32,3)"
   ]
  },
  {
   "cell_type": "code",
   "execution_count": 72,
   "metadata": {
    "executionInfo": {
     "elapsed": 338,
     "status": "ok",
     "timestamp": 1631441852599,
     "user": {
      "displayName": "M. dehghani",
      "photoUrl": "https://lh3.googleusercontent.com/a-/AOh14Gi3pIlEuIhuA0QP4lXlo_3iiNupJy0O2ICOtw_5=s64",
      "userId": "17974684348231269790"
     },
     "user_tz": -270
    },
    "id": "PWqu9AAygI0g"
   },
   "outputs": [],
   "source": [
    "test_images = test_images.reshape(-1,32,32,3)"
   ]
  },
  {
   "cell_type": "code",
   "execution_count": 74,
   "metadata": {
    "executionInfo": {
     "elapsed": 348,
     "status": "ok",
     "timestamp": 1631441890866,
     "user": {
      "displayName": "M. dehghani",
      "photoUrl": "https://lh3.googleusercontent.com/a-/AOh14Gi3pIlEuIhuA0QP4lXlo_3iiNupJy0O2ICOtw_5=s64",
      "userId": "17974684348231269790"
     },
     "user_tz": -270
    },
    "id": "Xg6XObC6g2jX"
   },
   "outputs": [],
   "source": [
    "from keras.layers import Dense,Conv2D,Flatten\n",
    "cfar100_cnn_model = models.Sequential([\n",
    "              Conv2D(32, (3, 3), activation='relu', input_shape=(32, 32, 3)),\n",
    "              Conv2D(64, (3, 3), activation='relu'),\n",
    "              Conv2D(64, (3, 3), activation='relu'),\n",
    "              Flatten(),\n",
    "              Dense(64, activation='relu'),\n",
    "              Dense(100, activation='softmax')\n",
    "])"
   ]
  },
  {
   "cell_type": "code",
   "execution_count": 76,
   "metadata": {
    "executionInfo": {
     "elapsed": 359,
     "status": "ok",
     "timestamp": 1631441992663,
     "user": {
      "displayName": "M. dehghani",
      "photoUrl": "https://lh3.googleusercontent.com/a-/AOh14Gi3pIlEuIhuA0QP4lXlo_3iiNupJy0O2ICOtw_5=s64",
      "userId": "17974684348231269790"
     },
     "user_tz": -270
    },
    "id": "u28TPrKcg_ds"
   },
   "outputs": [],
   "source": [
    "cfar100_cnn_model.compile(optimizer='rmsprop',loss='sparse_categorical_crossentropy', metrics=['accuracy'])"
   ]
  },
  {
   "cell_type": "code",
   "execution_count": 78,
   "metadata": {
    "colab": {
     "base_uri": "https://localhost:8080/"
    },
    "executionInfo": {
     "elapsed": 1822762,
     "status": "ok",
     "timestamp": 1631443879117,
     "user": {
      "displayName": "M. dehghani",
      "photoUrl": "https://lh3.googleusercontent.com/a-/AOh14Gi3pIlEuIhuA0QP4lXlo_3iiNupJy0O2ICOtw_5=s64",
      "userId": "17974684348231269790"
     },
     "user_tz": -270
    },
    "id": "YoNu74GVhDEE",
    "outputId": "7afcf877-06aa-495a-9ea3-cf238ca8f466"
   },
   "outputs": [
    {
     "name": "stdout",
     "output_type": "stream",
     "text": [
      "Epoch 1/5\n",
      "1000/1000 [==============================] - 361s 361ms/step - loss: 3.6347 - accuracy: 0.1593\n",
      "Epoch 2/5\n",
      "1000/1000 [==============================] - 364s 364ms/step - loss: 2.8535 - accuracy: 0.2983\n",
      "Epoch 3/5\n",
      "1000/1000 [==============================] - 361s 361ms/step - loss: 2.3470 - accuracy: 0.3989\n",
      "Epoch 4/5\n",
      "1000/1000 [==============================] - 362s 362ms/step - loss: 1.8898 - accuracy: 0.5007\n",
      "Epoch 5/5\n",
      "1000/1000 [==============================] - 367s 367ms/step - loss: 1.4029 - accuracy: 0.6176\n"
     ]
    }
   ],
   "source": [
    "cfar100_cnn_output = cfar100_cnn_model.fit(train_images,train_labels,epochs=5,batch_size=50)"
   ]
  },
  {
   "cell_type": "code",
   "execution_count": 79,
   "metadata": {
    "colab": {
     "base_uri": "https://localhost:8080/"
    },
    "executionInfo": {
     "elapsed": 19760,
     "status": "ok",
     "timestamp": 1631443959834,
     "user": {
      "displayName": "M. dehghani",
      "photoUrl": "https://lh3.googleusercontent.com/a-/AOh14Gi3pIlEuIhuA0QP4lXlo_3iiNupJy0O2ICOtw_5=s64",
      "userId": "17974684348231269790"
     },
     "user_tz": -270
    },
    "id": "BAk6QC0Gog6w",
    "outputId": "9c9342cf-de52-4025-d8e1-37ae20ea6842"
   },
   "outputs": [
    {
     "name": "stdout",
     "output_type": "stream",
     "text": [
      "313/313 [==============================] - 20s 62ms/step - loss: 3.4834 - accuracy: 0.2946\n"
     ]
    }
   ],
   "source": [
    "test_loss, test_acc = cfar100_cnn_model.evaluate(test_images,test_labels)"
   ]
  }
 ],
 "metadata": {
  "colab": {
   "authorship_tag": "ABX9TyNeRLDIJFLBHfi8qUC//QF1",
   "collapsed_sections": [],
   "name": "Assignment_41.ipynb",
   "provenance": []
  },
  "kernelspec": {
   "display_name": "Python 3",
   "language": "python",
   "name": "python3"
  },
  "language_info": {
   "codemirror_mode": {
    "name": "ipython",
    "version": 3
   },
   "file_extension": ".py",
   "mimetype": "text/x-python",
   "name": "python",
   "nbconvert_exporter": "python",
   "pygments_lexer": "ipython3",
   "version": "3.6.9"
  }
 },
 "nbformat": 4,
 "nbformat_minor": 1
}
