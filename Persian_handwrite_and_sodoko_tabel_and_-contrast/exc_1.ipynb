{
 "cells": [
  {
   "cell_type": "code",
   "execution_count": 65,
   "id": "ac0918c7",
   "metadata": {},
   "outputs": [],
   "source": [
    "import os\n",
    "import shutil\n",
    "basePath = \"MNIST_persian\"\n",
    "Regular = \"Regular_folder\""
   ]
  },
  {
   "cell_type": "code",
   "execution_count": 66,
   "id": "e57e0823",
   "metadata": {},
   "outputs": [],
   "source": [
    "target_folders = os.listdir(basePath)\n"
   ]
  },
  {
   "cell_type": "code",
   "execution_count": 67,
   "id": "6037a50e",
   "metadata": {},
   "outputs": [],
   "source": [
    "for folder in target_folders :\n",
    "    if folder == \".DS_Store\" :\n",
    "            target_folders.remove(folder)\n"
   ]
  },
  {
   "cell_type": "code",
   "execution_count": 68,
   "id": "607bbef1",
   "metadata": {},
   "outputs": [],
   "source": [
    "for folder in target_folders :\n",
    "    Avail_Folder_Path = basePath + \"\\\\\" + folder\n",
    "    handwrite_Files = os.listdir(Avail_Folder_Path)\n",
    "    for file in handwrite_Files:\n",
    "        Avail_File = Avail_Folder_Path + \"\\\\\" + file\n",
    "        splite_names = file.split(\".\")\n",
    "        storage_folder = Regular + \"\\\\\" + splite_names[0]\n",
    "        save_hand_write_File = storage_folder + \"\\\\\" + splite_names[0] + \"-\" + folder + \".jpg\"\n",
    "        if os.path.isdir(storage_folder) == False:\n",
    "            os.mkdir(storage_folder)\n",
    "        shutil.copy2(Avail_File, save_hand_write_File)"
   ]
  },
  {
   "cell_type": "code",
   "execution_count": null,
   "id": "8ff11e59",
   "metadata": {},
   "outputs": [],
   "source": []
  }
 ],
 "metadata": {
  "kernelspec": {
   "display_name": "Python 3",
   "language": "python",
   "name": "python3"
  },
  "language_info": {
   "codemirror_mode": {
    "name": "ipython",
    "version": 3
   },
   "file_extension": ".py",
   "mimetype": "text/x-python",
   "name": "python",
   "nbconvert_exporter": "python",
   "pygments_lexer": "ipython3",
   "version": "3.7.9"
  }
 },
 "nbformat": 4,
 "nbformat_minor": 5
}
