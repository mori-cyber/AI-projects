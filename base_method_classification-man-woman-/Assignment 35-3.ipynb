{
 "cells": [
  {
   "cell_type": "code",
   "execution_count": 33,
   "id": "5829e438",
   "metadata": {},
   "outputs": [],
   "source": [
    "import numpy as np\n",
    "import matplotlib.pyplot as plt\n",
    "from numpy.linalg import inv\n",
    "import pandas as pd"
   ]
  },
  {
   "cell_type": "code",
   "execution_count": 264,
   "id": "5652afdc-aa4a-411c-ad16-08990941e454",
   "metadata": {},
   "outputs": [],
   "source": [
    "N=100\n",
    "std =0.2\n",
    "h_vl = np.random.normal(8,std,N)\n",
    "\n",
    "h_vs =np.random.normal(2,std,N)\n",
    "\n",
    "s = np.concatenate((h_vs,h_vl))\n",
    "\n",
    "X = np.array([s]).T\n",
    "\n",
    "woman_label = np.zeros(N,dtype = 'int')\n",
    "man_label = np.ones(N,dtype = 'int')\n",
    "\n",
    "Y = np.concatenate((woman_label,man_label))\n"
   ]
  },
  {
   "cell_type": "code",
   "execution_count": 265,
   "id": "11d6d15a-8e49-496a-8bf6-5d0e229a4e83",
   "metadata": {},
   "outputs": [
    {
     "data": {
      "text/plain": [
       "(200, 1)"
      ]
     },
     "execution_count": 265,
     "metadata": {},
     "output_type": "execute_result"
    }
   ],
   "source": [
    "X.shape"
   ]
  },
  {
   "cell_type": "code",
   "execution_count": 267,
   "id": "e38766a9-cbfc-4ae7-b4ba-58823f01e4ce",
   "metadata": {},
   "outputs": [
    {
     "data": {
      "text/plain": [
       "(200, 1)"
      ]
     },
     "execution_count": 267,
     "metadata": {},
     "output_type": "execute_result"
    }
   ],
   "source": [
    "Y = Y.reshape(200,1)\n",
    "Y.shape"
   ]
  },
  {
   "cell_type": "code",
   "execution_count": 268,
   "id": "1720e3cc-1ab2-4ee3-8701-a881fa1af8bc",
   "metadata": {},
   "outputs": [
    {
     "data": {
      "text/plain": [
       "<matplotlib.collections.PathCollection at 0x7f359a1e7940>"
      ]
     },
     "execution_count": 268,
     "metadata": {},
     "output_type": "execute_result"
    },
    {
     "data": {
      "image/png": "[encoded data removed]",
      "text/plain": [
       "<Figure size 432x288 with 1 Axes>"
      ]
     },
     "metadata": {
      "needs_background": "light"
     },
     "output_type": "display_data"
    }
   ],
   "source": [
    "plt.scatter(X[0:100,0],Y[0:100,0],c='orange')\n",
    "plt.scatter(X[100:,0],Y[100:,0], c='red')\n",
    "plt.xlabel('MAN')\n",
    "plt.ylabel('WOMAN')"
   ]
  },
  {
   "cell_type": "code",
   "execution_count": 269,
   "id": "5758a2b8",
   "metadata": {},
   "outputs": [
    {
     "data": {
      "text/plain": [
       "array([[0.10587367]])"
      ]
     },
     "execution_count": 269,
     "metadata": {},
     "output_type": "execute_result"
    }
   ],
   "source": [
    "m = np.matmul(inv(np.matmul(X.T,X)), np.matmul(X.T,Y))*0.9\n",
    "m"
   ]
  },
  {
   "cell_type": "code",
   "execution_count": 273,
   "id": "3ce80abc",
   "metadata": {},
   "outputs": [
    {
     "data": {
      "text/plain": [
       "Text(0, 0.5, 'WOMAN')"
      ]
     },
     "execution_count": 273,
     "metadata": {},
     "output_type": "execute_result"
    },
    {
     "data": {
      "image/png": "[encoded data removed]",
      "text/plain": [
       "<Figure size 432x288 with 1 Axes>"
      ]
     },
     "metadata": {
      "needs_background": "light"
     },
     "output_type": "display_data"
    }
   ],
   "source": [
    "Y_pred = np.matmul(X,m)\n",
    "plt.scatter(X[0:100,0],Y[0:100,0],c='orange')\n",
    "plt.scatter(X[100:,0],Y[100:,0], c='red')\n",
    "plt.plot(X,Y_pred,c='black',lw=1)\n",
    "plt.xlabel('MAN')\n",
    "plt.ylabel('WOMAN')"
   ]
  }
 ],
 "metadata": {
  "kernelspec": {
   "display_name": "Python 3",
   "language": "python",
   "name": "python3"
  },
  "language_info": {
   "codemirror_mode": {
    "name": "ipython",
    "version": 3
   },
   "file_extension": ".py",
   "mimetype": "text/x-python",
   "name": "python",
   "nbconvert_exporter": "python",
   "pygments_lexer": "ipython3",
   "version": "3.6.9"
  }
 },
 "nbformat": 4,
 "nbformat_minor": 5
}
