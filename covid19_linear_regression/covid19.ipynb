{
 "cells": [
  {
   "cell_type": "code",
   "execution_count": 161,
   "id": "ef6db9f8",
   "metadata": {},
   "outputs": [],
   "source": [
    "import numpy as np\n",
    "import matplotlib.pyplot as plt\n",
    "import pandas as pd\n",
    "from sklearn.model_selection import train_test_split\n",
    "from sklearn.model_selection import cross_validate\n",
    "from sklearn.linear_model import LinearRegression\n",
    "import seaborn as sns\n",
    "%matplotlib inline"
   ]
  },
  {
   "cell_type": "code",
   "execution_count": 162,
   "id": "d389e346",
   "metadata": {},
   "outputs": [],
   "source": [
    "data = pd.read_csv(r'covid19train.csv')"
   ]
  },
  {
   "cell_type": "code",
   "execution_count": 163,
   "id": "acef91cf",
   "metadata": {},
   "outputs": [
    {
     "data": {
      "text/html": [
       "<div>\n",
       "<style scoped>\n",
       "    .dataframe tbody tr th:only-of-type {\n",
       "        vertical-align: middle;\n",
       "    }\n",
       "\n",
       "    .dataframe tbody tr th {\n",
       "        vertical-align: top;\n",
       "    }\n",
       "\n",
       "    .dataframe thead th {\n",
       "        text-align: right;\n",
       "    }\n",
       "</style>\n",
       "<table border=\"1\" class=\"dataframe\">\n",
       "  <thead>\n",
       "    <tr style=\"text-align: right;\">\n",
       "      <th></th>\n",
       "      <th>Unnamed: 0</th>\n",
       "      <th>Unnamed: 1</th>\n",
       "      <th>Unnamed: 2</th>\n",
       "    </tr>\n",
       "  </thead>\n",
       "  <tbody>\n",
       "    <tr>\n",
       "      <th>0</th>\n",
       "      <td>NaN</td>\n",
       "      <td>NaN</td>\n",
       "      <td>NaN</td>\n",
       "    </tr>\n",
       "    <tr>\n",
       "      <th>1</th>\n",
       "      <td>1.0</td>\n",
       "      <td>20.0</td>\n",
       "      <td>3822.0</td>\n",
       "    </tr>\n",
       "    <tr>\n",
       "      <th>2</th>\n",
       "      <td>2.0</td>\n",
       "      <td>21.0</td>\n",
       "      <td>4206.0</td>\n",
       "    </tr>\n",
       "    <tr>\n",
       "      <th>3</th>\n",
       "      <td>3.0</td>\n",
       "      <td>22.0</td>\n",
       "      <td>4108.0</td>\n",
       "    </tr>\n",
       "    <tr>\n",
       "      <th>4</th>\n",
       "      <td>4.0</td>\n",
       "      <td>23.0</td>\n",
       "      <td>4830.0</td>\n",
       "    </tr>\n",
       "  </tbody>\n",
       "</table>\n",
       "</div>"
      ],
      "text/plain": [
       "   Unnamed: 0  Unnamed: 1  Unnamed: 2\n",
       "0         NaN         NaN         NaN\n",
       "1         1.0        20.0      3822.0\n",
       "2         2.0        21.0      4206.0\n",
       "3         3.0        22.0      4108.0\n",
       "4         4.0        23.0      4830.0"
      ]
     },
     "execution_count": 163,
     "metadata": {},
     "output_type": "execute_result"
    }
   ],
   "source": [
    "data.head()"
   ]
  },
  {
   "cell_type": "code",
   "execution_count": 164,
   "id": "85699bf5",
   "metadata": {},
   "outputs": [],
   "source": [
    "data = np.array(data)"
   ]
  },
  {
   "cell_type": "code",
   "execution_count": 165,
   "id": "34bf3655",
   "metadata": {},
   "outputs": [],
   "source": [
    "my_df = pd.DataFrame(data,columns=['Radif','Day','Number_of_patients'])"
   ]
  },
  {
   "cell_type": "code",
   "execution_count": 166,
   "id": "61b20fdc",
   "metadata": {},
   "outputs": [
    {
     "data": {
      "text/html": [
       "<div>\n",
       "<style scoped>\n",
       "    .dataframe tbody tr th:only-of-type {\n",
       "        vertical-align: middle;\n",
       "    }\n",
       "\n",
       "    .dataframe tbody tr th {\n",
       "        vertical-align: top;\n",
       "    }\n",
       "\n",
       "    .dataframe thead th {\n",
       "        text-align: right;\n",
       "    }\n",
       "</style>\n",
       "<table border=\"1\" class=\"dataframe\">\n",
       "  <thead>\n",
       "    <tr style=\"text-align: right;\">\n",
       "      <th></th>\n",
       "      <th>Radif</th>\n",
       "      <th>Day</th>\n",
       "      <th>Number_of_patients</th>\n",
       "    </tr>\n",
       "  </thead>\n",
       "  <tbody>\n",
       "    <tr>\n",
       "      <th>0</th>\n",
       "      <td>NaN</td>\n",
       "      <td>NaN</td>\n",
       "      <td>NaN</td>\n",
       "    </tr>\n",
       "    <tr>\n",
       "      <th>1</th>\n",
       "      <td>1.0</td>\n",
       "      <td>20.0</td>\n",
       "      <td>3822.0</td>\n",
       "    </tr>\n",
       "    <tr>\n",
       "      <th>2</th>\n",
       "      <td>2.0</td>\n",
       "      <td>21.0</td>\n",
       "      <td>4206.0</td>\n",
       "    </tr>\n",
       "    <tr>\n",
       "      <th>3</th>\n",
       "      <td>3.0</td>\n",
       "      <td>22.0</td>\n",
       "      <td>4108.0</td>\n",
       "    </tr>\n",
       "    <tr>\n",
       "      <th>4</th>\n",
       "      <td>4.0</td>\n",
       "      <td>23.0</td>\n",
       "      <td>4830.0</td>\n",
       "    </tr>\n",
       "  </tbody>\n",
       "</table>\n",
       "</div>"
      ],
      "text/plain": [
       "   Radif   Day  Number_of_patients\n",
       "0    NaN   NaN                 NaN\n",
       "1    1.0  20.0              3822.0\n",
       "2    2.0  21.0              4206.0\n",
       "3    3.0  22.0              4108.0\n",
       "4    4.0  23.0              4830.0"
      ]
     },
     "execution_count": 166,
     "metadata": {},
     "output_type": "execute_result"
    }
   ],
   "source": [
    "my_df.head()"
   ]
  },
  {
   "cell_type": "code",
   "execution_count": 167,
   "id": "8d9670d7",
   "metadata": {},
   "outputs": [],
   "source": [
    "dataset=my_df.dropna(axis=0)"
   ]
  },
  {
   "cell_type": "code",
   "execution_count": 168,
   "id": "10d6d359",
   "metadata": {},
   "outputs": [
    {
     "data": {
      "text/html": [
       "<div>\n",
       "<style scoped>\n",
       "    .dataframe tbody tr th:only-of-type {\n",
       "        vertical-align: middle;\n",
       "    }\n",
       "\n",
       "    .dataframe tbody tr th {\n",
       "        vertical-align: top;\n",
       "    }\n",
       "\n",
       "    .dataframe thead th {\n",
       "        text-align: right;\n",
       "    }\n",
       "</style>\n",
       "<table border=\"1\" class=\"dataframe\">\n",
       "  <thead>\n",
       "    <tr style=\"text-align: right;\">\n",
       "      <th></th>\n",
       "      <th>Radif</th>\n",
       "      <th>Day</th>\n",
       "      <th>Number_of_patients</th>\n",
       "    </tr>\n",
       "  </thead>\n",
       "  <tbody>\n",
       "    <tr>\n",
       "      <th>1</th>\n",
       "      <td>1.0</td>\n",
       "      <td>20.0</td>\n",
       "      <td>3822.0</td>\n",
       "    </tr>\n",
       "    <tr>\n",
       "      <th>2</th>\n",
       "      <td>2.0</td>\n",
       "      <td>21.0</td>\n",
       "      <td>4206.0</td>\n",
       "    </tr>\n",
       "    <tr>\n",
       "      <th>3</th>\n",
       "      <td>3.0</td>\n",
       "      <td>22.0</td>\n",
       "      <td>4108.0</td>\n",
       "    </tr>\n",
       "    <tr>\n",
       "      <th>4</th>\n",
       "      <td>4.0</td>\n",
       "      <td>23.0</td>\n",
       "      <td>4830.0</td>\n",
       "    </tr>\n",
       "    <tr>\n",
       "      <th>5</th>\n",
       "      <td>5.0</td>\n",
       "      <td>24.0</td>\n",
       "      <td>4616.0</td>\n",
       "    </tr>\n",
       "  </tbody>\n",
       "</table>\n",
       "</div>"
      ],
      "text/plain": [
       "   Radif   Day  Number_of_patients\n",
       "1    1.0  20.0              3822.0\n",
       "2    2.0  21.0              4206.0\n",
       "3    3.0  22.0              4108.0\n",
       "4    4.0  23.0              4830.0\n",
       "5    5.0  24.0              4616.0"
      ]
     },
     "execution_count": 168,
     "metadata": {},
     "output_type": "execute_result"
    }
   ],
   "source": [
    "dataset.head()"
   ]
  },
  {
   "cell_type": "code",
   "execution_count": 169,
   "id": "dee772bd",
   "metadata": {},
   "outputs": [],
   "source": [
    "dataset = pd.get_dummies(dataset)"
   ]
  },
  {
   "cell_type": "code",
   "execution_count": 170,
   "id": "18b19edd",
   "metadata": {},
   "outputs": [],
   "source": [
    "X = dataset.iloc[:,1].values\n",
    "y = dataset.iloc[:,-1].values"
   ]
  },
  {
   "cell_type": "code",
   "execution_count": 171,
   "id": "9dc1b07e",
   "metadata": {},
   "outputs": [
    {
     "name": "stdout",
     "output_type": "stream",
     "text": [
      "[20. 21. 22. 23. 24. 25. 26. 27. 28. 29. 30.  1.  2.  3.  4.  5.  6.  7.\n",
      "  8.  9. 10. 11. 12. 13. 14. 15. 16. 17. 18. 19. 20.]\n"
     ]
    }
   ],
   "source": [
    "print(X)"
   ]
  },
  {
   "cell_type": "code",
   "execution_count": 172,
   "id": "2f10f996",
   "metadata": {},
   "outputs": [
    {
     "data": {
      "text/plain": [
       "Text(0.5, 1.0, 'covid19')"
      ]
     },
     "execution_count": 172,
     "metadata": {},
     "output_type": "execute_result"
    },
    {
     "data": {
      "image/png": "[encoded data removed]",
      "text/plain": [
       "<Figure size 432x288 with 1 Axes>"
      ]
     },
     "metadata": {
      "needs_background": "light"
     },
     "output_type": "display_data"
    }
   ],
   "source": [
    "plt.scatter(X, y)\n",
    "plt.xlabel('Day')\n",
    "plt.ylabel('Number_of_patients')\n",
    "plt.title('covid19')"
   ]
  },
  {
   "cell_type": "code",
   "execution_count": 173,
   "id": "4d5cbd47",
   "metadata": {},
   "outputs": [
    {
     "data": {
      "text/html": [
       "<div>\n",
       "<style scoped>\n",
       "    .dataframe tbody tr th:only-of-type {\n",
       "        vertical-align: middle;\n",
       "    }\n",
       "\n",
       "    .dataframe tbody tr th {\n",
       "        vertical-align: top;\n",
       "    }\n",
       "\n",
       "    .dataframe thead th {\n",
       "        text-align: right;\n",
       "    }\n",
       "</style>\n",
       "<table border=\"1\" class=\"dataframe\">\n",
       "  <thead>\n",
       "    <tr style=\"text-align: right;\">\n",
       "      <th></th>\n",
       "      <th>Radif</th>\n",
       "      <th>Day</th>\n",
       "      <th>Number_of_patients</th>\n",
       "    </tr>\n",
       "  </thead>\n",
       "  <tbody>\n",
       "    <tr>\n",
       "      <th>count</th>\n",
       "      <td>31.000000</td>\n",
       "      <td>31.000000</td>\n",
       "      <td>31.000000</td>\n",
       "    </tr>\n",
       "    <tr>\n",
       "      <th>mean</th>\n",
       "      <td>16.000000</td>\n",
       "      <td>15.645161</td>\n",
       "      <td>6678.548387</td>\n",
       "    </tr>\n",
       "    <tr>\n",
       "      <th>std</th>\n",
       "      <td>9.092121</td>\n",
       "      <td>8.693095</td>\n",
       "      <td>2075.576110</td>\n",
       "    </tr>\n",
       "    <tr>\n",
       "      <th>min</th>\n",
       "      <td>1.000000</td>\n",
       "      <td>1.000000</td>\n",
       "      <td>3822.000000</td>\n",
       "    </tr>\n",
       "    <tr>\n",
       "      <th>25%</th>\n",
       "      <td>8.500000</td>\n",
       "      <td>8.500000</td>\n",
       "      <td>4723.000000</td>\n",
       "    </tr>\n",
       "    <tr>\n",
       "      <th>50%</th>\n",
       "      <td>16.000000</td>\n",
       "      <td>16.000000</td>\n",
       "      <td>6191.000000</td>\n",
       "    </tr>\n",
       "    <tr>\n",
       "      <th>75%</th>\n",
       "      <td>23.500000</td>\n",
       "      <td>22.500000</td>\n",
       "      <td>8372.500000</td>\n",
       "    </tr>\n",
       "    <tr>\n",
       "      <th>max</th>\n",
       "      <td>31.000000</td>\n",
       "      <td>30.000000</td>\n",
       "      <td>10463.000000</td>\n",
       "    </tr>\n",
       "  </tbody>\n",
       "</table>\n",
       "</div>"
      ],
      "text/plain": [
       "           Radif        Day  Number_of_patients\n",
       "count  31.000000  31.000000           31.000000\n",
       "mean   16.000000  15.645161         6678.548387\n",
       "std     9.092121   8.693095         2075.576110\n",
       "min     1.000000   1.000000         3822.000000\n",
       "25%     8.500000   8.500000         4723.000000\n",
       "50%    16.000000  16.000000         6191.000000\n",
       "75%    23.500000  22.500000         8372.500000\n",
       "max    31.000000  30.000000        10463.000000"
      ]
     },
     "execution_count": 173,
     "metadata": {},
     "output_type": "execute_result"
    }
   ],
   "source": [
    "dataset.describe()"
   ]
  },
  {
   "cell_type": "code",
   "execution_count": null,
   "id": "3533d07b",
   "metadata": {},
   "outputs": [],
   "source": []
  },
  {
   "cell_type": "code",
   "execution_count": 174,
   "id": "c04cb81a",
   "metadata": {},
   "outputs": [],
   "source": [
    "X_train, X_test, y_train, y_test = train_test_split(X, y, test_size = 1/3)"
   ]
  },
  {
   "cell_type": "code",
   "execution_count": 175,
   "id": "0489dc98",
   "metadata": {},
   "outputs": [],
   "source": [
    "X_train = X_train.reshape(-1,1)"
   ]
  },
  {
   "cell_type": "code",
   "execution_count": 176,
   "id": "96176d99",
   "metadata": {},
   "outputs": [],
   "source": [
    "y_train = y_train.reshape(-1,1)"
   ]
  },
  {
   "cell_type": "code",
   "execution_count": 177,
   "id": "6c9f5ca9",
   "metadata": {},
   "outputs": [],
   "source": [
    "X_test = X_test.reshape(-1,1)"
   ]
  },
  {
   "cell_type": "code",
   "execution_count": 178,
   "id": "012aa202",
   "metadata": {},
   "outputs": [
    {
     "data": {
      "text/plain": [
       "LinearRegression()"
      ]
     },
     "execution_count": 178,
     "metadata": {},
     "output_type": "execute_result"
    }
   ],
   "source": [
    "regressor = LinearRegression()\n",
    "regressor.fit(X_train, y_train)"
   ]
  },
  {
   "cell_type": "code",
   "execution_count": 179,
   "id": "7ef29869",
   "metadata": {},
   "outputs": [],
   "source": [
    "y_pred = regressor.predict(X_test)"
   ]
  },
  {
   "cell_type": "code",
   "execution_count": 182,
   "id": "a6be4b18",
   "metadata": {},
   "outputs": [
    {
     "data": {
      "text/plain": [
       "Text(0, 0.5, 'Number_of_patients')"
      ]
     },
     "execution_count": 182,
     "metadata": {},
     "output_type": "execute_result"
    },
    {
     "data": {
      "image/png": "[encoded data removed]",
      "text/plain": [
       "<Figure size 432x288 with 1 Axes>"
      ]
     },
     "metadata": {
      "needs_background": "light"
     },
     "output_type": "display_data"
    }
   ],
   "source": [
    "plt.scatter(X_train, y_train, color = 'red')\n",
    "plt.plot(X_train, regressor.predict(X_train), color = 'green', lw=0.5)\n",
    "plt.title('covid19')\n",
    "plt.xlabel('Day')\n",
    "plt.ylabel('Number_of_patients')"
   ]
  },
  {
   "cell_type": "code",
   "execution_count": 25,
   "id": "18e768aa",
   "metadata": {},
   "outputs": [],
   "source": [
    "#  Y_train,Y_test = train_test_split(X,Y, test_size = 0.3,random_state = 42)\n",
    "class Regresion:\n",
    "    def __init__(self,learning_rate, n_iters):\n",
    "        self.lr=learning_rate\n",
    "        self.n_iters=n_iters\n",
    "        self.w = np.random.rand(1,1)\n",
    "        self.b = np.random.rand(1,1)\n",
    "        self.Error = []\n",
    "    def fit(self, X_train, Y_train):\n",
    "        self.X_train = X_train\n",
    "        self.Y_train = Y_train\n",
    "        \n",
    "        for j in range(self.n_iters):\n",
    "            \n",
    "            for i in range(self.X_train.shape[0]):\n",
    "                y_pred = np.matmul(self.X_train[i], self.w) + self.b\n",
    "                e = np.mean(self.Y_train[i] - y_pred)\n",
    "                \n",
    "                self.w += self.lr * self.X_train[i]* e\n",
    "                self.b += self.lr*e\n",
    "\n",
    "                self.Error.append(np.abs(e))\n",
    "                \n",
    "        np.save('weight', self.w)\n",
    "        np.save('baias', self.b)\n",
    "                \n",
    "        return self.Error, self.w\n",
    "            \n",
    "    def predict(self,X_test):\n",
    "        w = np.load('weight.npy')\n",
    "        b = np.load('baias.npy')\n",
    "        y_predict = np.matmul(X_test, w)+b\n",
    "                    \n",
    "        return y_predict\n",
    "    \n",
    "\n",
    "    \n",
    "    def evaluate(self,X_test,Y_test):\n",
    "        w = np.load('weight.npy')\n",
    "        b = np.load('baias.npy')\n",
    "        Y_pred = np.matmul(X_test, w) + b\n",
    "        absolute_error = np.abs(Y_pred - Y_test)\n",
    "        evaluation = np.mean(absolute_error)\n",
    "        return evaluation\n",
    "    "
   ]
  },
  {
   "cell_type": "code",
   "execution_count": 26,
   "id": "776ca254",
   "metadata": {},
   "outputs": [],
   "source": [
    "model = Regresion(learning_rate=0.001, n_iters=100)\n",
    "w,Error= model.fit(X, t)"
   ]
  },
  {
   "cell_type": "code",
   "execution_count": 27,
   "id": "fcf13513",
   "metadata": {},
   "outputs": [
    {
     "name": "stdout",
     "output_type": "stream",
     "text": [
      "[3809.4298376751703, 2589.0626318138193, 1215.5407923304128, 1190.105454397196, 160.07908446257898, 185.39892440353287, 702.816601748038, 606.2139347402845, 47.4858414824439, 647.0434562195378, 509.3026061531318, 5276.4917633194655, 5738.452949915359, 5187.797949388483, 5295.393840269135, 4735.664439998019, 5358.151137371539, 4721.3646112780325, 5626.711894424425, 4606.377439841735, 3623.5989113710366, 2706.3238538051737, 2466.091213731698, 2241.8537632665784, 841.9403001147693, 445.49257339406176, 120.4566243920035, 58.839842131994374, 810.1165808062069, 140.4131135178286, 576.8424771704431, 6862.528643825097, 4120.293278826142, 2704.2361119045463, 918.3008654885007, 872.099754731019, 638.4661500891007, 877.3926402189763, 663.1919142306879, 33.05027340198467, 645.292491370441, 510.42941397580125, 5236.883292303671, 5700.332960346757, 5151.354064252024, 5260.909230123749, 4703.498842805394, 5328.715448272176, 4695.088259376195, 5604.003511281842, 4587.580919832722, 3608.9486929121467, 2695.9047965046057, 2459.809380146078, 2239.4242762781787, 842.8968899725551, 449.220386850011, 114.66754217879134, 51.72742476468193, 802.3765462877636, 148.18853438410042, 569.4785940879028, 6858.117677858654, 4115.483442623361, 2699.485562274772, 913.8921834923985, 868.1669249419938, 635.0362017524221, 874.4292269135531, 660.631167851473, 35.27609865369595, 647.2431444218346, 512.1531488417077, 5197.503172558948, 5662.434800599077, 5115.124391380131, 5226.629539076238, 4671.526710365546, 5299.459255797818, 4668.9747477002875, 5581.438671448361, 4568.9063095657175, 3594.396987156738, 2685.5599165577487, 2453.577472759409, 2237.0216755578876, 843.8596452793881, 452.93691469177793, 108.90326221651048, 44.64910581935328, 794.675812325293, 155.92304410872748, 562.1544182683956, 6853.730496542768, 4110.700189542662, 2694.761623897951, 909.5083987148364, 864.2564166329221, 631.6257794734856, 871.4827122740062, 658.085036296302, 37.48921594820149, 649.1826591305153, 513.8670407294885, 5158.347925447717, 5624.753051036357, 5079.1016011186375, 5192.545595641557, 4639.737148667191, 5270.370125210049, 4643.0103522342215, 5559.002683813815, 4550.33833708671, 3579.9283761326133, 2675.274109068907, 2447.381151488429, 2234.632794430676, 844.8169029579303, 456.63222001427675, 103.17189807010618, 37.611206258121456, 787.0190519289117, 163.61338739705752, 554.8720657521444, 6849.368367385534, 4105.94425031265, 2690.0646606666087, 905.1496467007883, 860.3682385327375, 628.234831757929, 868.5530231420989, 655.5534439378353, 39.68969566016767, 651.1110986118347, 515.5711457658253, 5119.416266877576, 5587.286475889125, 5043.284512103203, 5158.6562820393865, 4608.129115173775, 5241.447102532446, 4617.194221476739, 5536.694812590559, 4531.876393459105, 3565.5423853412594, 2665.0470367141806, 2441.2202131235827, 2232.257554551711, 845.7686943997978, 460.30642400331817, 97.47326178120238, 30.613495274703382, 779.4060139966386, 171.25981645260435, 547.6312977154976, 6845.031147331583, 4101.215468962939, 2685.3945185444163, 900.8157845054948, 856.5022631290758, 624.863247399996, 865.6400634389938, 653.0363077527782, 41.877609954091895, 653.0285261087583, 517.2655198366574, 5080.7069200889755, 5550.033846445082, 5007.671949716252, 5124.960486873336, 4576.701573303242, 5212.689239237595, 4591.525508790615, 5514.514326194361, 4513.51987322545, 3551.2385429956576, 2654.8783640978327, 2435.0944556175564, 2229.8958780252615, 846.7150508188879, 463.9596471540244, 91.80716646363908, 23.65574337991893, 771.8364488597199, 178.86258203918624, 540.4318766982451, 6840.718694142248, 4096.513690413643, 2680.751044374563, 896.506670000409, 852.6583636376918, 621.5109158289397, 862.7437376344951, 650.5335451919163, 44.05303058238951, 654.9350045031133, 518.9502185088004, 5042.218615613054, 5512.993941008261, 4972.262746047635, 5091.457105093432, 4545.453492392742, 5184.095592214467, 4566.003372373179, 5492.460497218557, 4495.268174385639, 3537.016380002834, 2644.767757739336, 2429.003678076793, 2227.5476874003925, 847.6560032508551, 467.5920092734541, 86.17342629843188, 16.73772239504615, 764.3101082750763, 186.42193348868204, 533.2735665961482, 6836.430866391092, 4091.838760470446, 2676.1340858748117, 892.2221618685853, 848.836413998315, 618.177727105407, 859.8639507439075, 648.0450741774257, 46.21602888774305, 656.8305963176545, 520.6252970317682, 5003.950091230012, 5476.165544858947, 4937.055739856331, 5058.1450379598755, 4514.383847664826, 5155.665223737486, 4540.626975228719, 5470.532602410201, 4477.120698377175, 3522.875429948489, 2634.7148860624493, 2422.9476807549017, 2225.2129056684525, 848.591582554137, 471.2036294845384, 80.57185652767112, 9.85920544432156, 756.8267454171764, 193.9381187092058, 526.156132653201, 6832.167523459268, 4087.1905258195256, 2671.5434916325084, 887.9621196000417, 845.0362888705167, 614.8635719178337, 857.00060832493, 645.5708131001629, 48.36667580544872, 658.7153637181118, 522.2908103395766, 4965.900091927713, 5439.547450213858, 4902.049776532361, 5025.023193007013, 4483.49162019384, 5127.397201435779, 4515.395485141018, 5448.729922646344, 4459.076850055536, 3508.815229081688, 2624.719419384326, 2416.9262650460987, 2222.8914562605223, 849.5218194109548, 474.7946262299647, 75.00227344849009, 3.0199669475350674, 749.3861148699452, 201.41138419324852, 519.0793414539166, 6827.928525530899, 4082.5688340225206, 2666.9791110996084, 883.7264034871478, 841.2578636296057, 611.568341578858, 854.1536164745567, 643.1106808170061, 50.50504186574199, 660.5893685152278, 523.9468130525574, 4928.067369860527, 5403.138456186521, 4867.24370805893, 4992.0904840075045, 4452.775796872512, 5099.290598262599, 4490.308074646079, 5427.051742910449, 4441.13603767466, 3494.8353162996564, 2614.7810299047133, 2410.939233478708, 2220.5832630449213, 850.4467443283256, 478.3651172760892, 69.46449440700235, 3.7802173874115397, 741.9879726187082, 208.84197502573807, 512.0429609157018, 6823.713733588505, 4077.9735335115547, 2662.440794587743, 879.514874620053, 837.5010143625286, 608.2919280217529, 851.3228818259959, 640.664596648181, 52.63119719610859, 662.4526721667899, 525.5933594791413, 4890.450684308407, 5366.9373687478965, 4832.636392974768, 4959.345830936706, 4422.235370378721, 5071.344492464921, 4465.363921004975, 5405.497352268947, 4423.297672867536, 3480.935233132661, 2604.8993916951968, 2404.9863897086716, 2218.2882503246974, 851.3663876390619, 481.9152197167841, 63.958337792346356, 10.541570571827833, 734.6320760421804, 216.23013489210825, 505.04676028120593, 6819.523009408442, 4073.4044735842326, 2657.9283932633107, 875.3273948821197, 833.7656178638226, 605.0342237968916, 848.50831154561, 638.2324803746187, 54.74521152358102, 664.3053357796371, 527.2305036176404, 4853.0488016362015, 5330.943000687223, 4798.226696336705, 4926.788159937246, 4391.869339142472, 5043.557967553215, 4440.562206176874, 5384.06604384792, 4405.561170626912, 3467.1145237289693, 2595.074180688518, 2399.06753851312, 2216.0063428351614, 852.2807795027693, 485.4450499772702, 58.4836230307028, 17.264314343567094, 727.3181839045283, 223.5761060862642, 498.0905101107819, 6815.3562155563595, 4068.861504398734, 2653.4417591425954, 871.1638269454024, 830.05155163156, 601.7951220682135, 845.7098133298705, 635.8142522353291, 56.84715417703319, 666.147420111678, 528.8582991580224, 4815.860495253195, 5295.154171573072, 4764.013489682444, 4894.416403283809, 4361.676707313038, 5015.930112271388, 4415.902116792207, 5362.757114809912, 4387.925949286104, 3453.3727348399043, 2585.3050746679355, 2393.182485783963, 2213.7374657413948, 853.1899499068268, 488.9547238179566, 53.04017057939927, 23.94866917428226, 720.0460563474498, 230.88012951853852, 491.1739822749605, 6811.213215382699, 4064.3444769688704, 2648.9807450869166, 867.0240342661373, 826.358693863338, 598.5745166097258, 842.9272954023272, 633.4098329247818, 58.93709408944869, 667.9789855738654, 530.4767994836639, 4778.884545572886, 5259.56970771465, 4729.995650993556, 4862.229499348121, 4331.656484726311, 4988.460020566902, 4391.382844126001, 5341.569866330893, 4370.391430499931, 3439.709415804982, 2575.5917532566755, 2387.3310385215336, 2211.4815446358252, 854.0939286673829, 492.44435633821377, 47.62780192098944, 30.594854276670958, 712.8154548822968, 238.14244472359314, 484.2969499469491, 6807.093873018222, 4059.853243159214, 2644.545204797797, 862.9078810802694, 822.6869234522856, 595.37230180202, 840.1606665106083, 631.0191435903025, 61.01509980017909, 669.8000922321953, 532.0860576731093, 4742.119739972984, 5224.188442123294, 4696.172064658687, 4830.226392564135, 4301.807686872322, 4961.146791561057, 4367.003584071347, 5320.50360357733, 4352.957039225735, 3426.1241185371246, 2565.9338979074037, 2381.513004828247, 2209.238505535759, 854.9927454303252, 495.9140619801692, 42.24633955743229, 37.20308761166234, 705.6261423822834, 245.3632898682772, 477.4591875952174, 6802.998053369536, 4055.387655680235, 2640.13499281217, 858.8152323989989, 819.0361199830841, 592.1883726288052, 837.409835923414, 628.6421058294945, 63.081239457201264, 671.6107998096613, 533.6861265018106, 4705.564872755649, 5189.00921447421, 4662.541621436964, 4798.4060333934085, 4272.12933486296, 4933.989529519448, 4342.763537113037, 5299.557635683403, 4335.622203704532, 3412.616397507969, 2556.3311918917943, 2375.728193902314, 2207.008274880971, 855.8864296722459, 499.3639545324404, 36.89560700424954, 43.77358589555115, 698.4778830746727, 252.54290175942333, 470.6604709760868, 6798.925622114677, 4050.947568083475, 2635.7499644976115, 854.7459540043546, 815.4061637280302, 589.0226246734683, 834.6747134275511, 626.278641687657, 65.13558081934116, 673.4111676882249, 535.2770584438476, 4669.218745107947, 5154.030871068417, 4629.103218421623, 4766.7673782906895, 4242.620455399869, 4906.987343822593, 4318.661908301343, 5278.731275728352, 4318.386355442259, 3399.1858097332624, 2546.7833202901393, 2369.976416031487, 2204.7907795312885, 856.7750107014299, 502.79414713388906, 31.575428784739415, 50.306564607128166, 691.3704425330725, 259.6815158516383, 463.9005771263728, 6794.876445698697, 4046.5328347567374, 2631.389976047586, 850.6999124447866, 811.7969356430985, 585.8749541156458, 831.9552093249758, 623.9286736552422, 67.17819125850292, 675.2012549107567, 536.8589056736664, 4633.080165062536, 5119.252264794906, 4595.855759003836, 4735.309389669691, 4213.280080742521, 4880.139348936717, 4294.69790722594, 5258.023840713944, 4301.248929191126, 3385.8319147583215, 2537.289969981015, 2364.257482586825, 2202.5859467641876, 857.6585176587923, 506.2047522773064, 26.285630424230476, 56.80223799471969, 684.3035876697377, 266.7793662549957, 457.17928435609065, 6790.850391329299, 4042.1433109193185, 2627.0548844767436, 846.6769750307994, 808.2083173640412, 582.74525772782, 829.2512344298393, 621.592124665297, 69.20913776187444, 676.9811201829743, 538.431720067776, 4597.147947458575, 5084.672255093032, 4562.798152836754, 4704.031035869064, 4184.107248676491, 4853.44466438472, 4270.870747989996, 5237.434651542077, 4284.209362931086, 3372.5542746436004, 2527.8508296310247, 2358.571206016526, 2200.3937042724183, 858.5369795188544, 509.5958818131221, 21.026038444357255, 63.26081908323977, 677.2770867279196, 273.83668574273906, 450.4963722411612, 6786.847326972456, 4037.778852617257, 2622.744547616223, 842.6770098305915, 804.6401912025121, 579.6334328719349, 826.5627000655777, 619.268918090952, 71.22848693412925, 678.7508218753683, 539.9955532064532, 4561.420913902855, 5050.289707915098, 4529.92931579974, 4672.931291118562, 4155.101002481892, 4826.902414717297, 4247.179649184388, 5216.963032992509, 4267.267097851396, 3359.3524539503196, 2518.4655896845725, 2352.917399839759, 2198.213980161622, 859.4104250906721, 512.9676469530677, 15.796480357364999, 69.68251968115692, 670.2907092742789, 280.85370575889647, 443.8516216162061, 6782.867121348108, 4033.4393167186117, 2618.4588241089905, 838.6998856657383, 801.0924401421926, 576.5393774960303, 823.8895180619984, 616.9589777428955, 73.23630499960564, 680.5104180251137, 541.5504563754375, 4525.89789273116, 5016.1034956891735, 4497.248169962825, 4642.009135505406, 4126.260390902002, 4800.5117294842275, 4223.623833862083, 5196.608313700717, 4250.4215783323025, 3346.226019726195, 2509.1339423537283, 2347.2958786405625, 2196.0467029479823, 860.2788830188038, 516.3201582738129, 10.596784660461708, 76.0675503874536, 663.3442261913206, 287.8306564258892, 437.2448145673425, 6778.909643925837, 4029.1245609087728, 2614.1975734052094, 834.7454721068798, 797.5649478349733, 573.4629901308945, 821.2316007523814, 614.6622278668847, 75.23265780448128, 682.2599663379779, 543.096480567614, 4490.577718969834, 4982.112497282109, 4464.75364355135, 4611.263554940833, 4097.5844681120725, 4774.271743205831, 4200.202529512653, 5176.36982613587, 4233.672251926801, 3333.1745414912257, 2499.8555816081216, 2341.70645806175, 2193.8918015558756, 861.1423817842297, 519.6535257206087, 5.426780830184725, 82.41612059851832, 656.4374096698793, 294.7677665520623, 430.67573442504363, 6774.9747649206, 4024.834443685786, 2609.9606557576135, 830.8136394694484, 794.0575985971209, 570.4041698867313, 818.588860970618, 612.3785931412549, 77.21761081893055, 683.9995241902088, 544.6336764846756, 4455.459234297583, 4948.315597962773, 4432.444670910818, 4580.693541126837, 4069.072293688301, 4748.181595344584, 4176.914968036945, 5156.24690657895, 4217.018569342539, 3320.1975912235885, 2490.6302031649075, 2336.1489547988767, 2191.749205315541, 862.0009497052988, 522.9678586108803, 0.2862993168182584, 88.72843851503603, 649.5700332016495, 301.66526363919, 424.144165757034, 6771.0623552884645, 4020.5688243557197, 2605.74793221695, 826.9042588094162, 790.5702774054953, 567.3628164498632, 815.9612120483398, 610.107998674448, 79.19122913927458, 685.7291486304202, 546.1620945387995, 4420.541287007482, 4914.711689365489, 4400.320192471953, 4550.298091523109, 4040.722932576999, 4722.240430276895, 4153.760385721886, 5136.238895100975, 4200.459984423787, 3307.2947433455984, 2481.457504478798, 2330.6231865942236, 2189.6188439607686, 862.8546149386566, 526.2632656378173, 4.8248284611800045, 95.00471114878746, 642.7418715717595, 308.5233738899551, 417.64989436122596, 6767.1722867223725, 4016.327563028046, 2601.5592646274035, 823.0172019190659, 787.1028698937753, 564.3388300794295, 813.3485678120842, 607.8503700025658, 81.1535774901131, 687.4488963814574, 547.6817848542905, 4385.822731969212, 4881.299669453696, 4368.3791547159435, 4520.076209314151, 4012.5354550639213, 4696.44739726505, 4130.738023215445, 5116.345135541365, 4183.995954133537, 3294.4655747097477, 2472.337184732126, 2325.1289722308156, 2187.500647626586, 863.7034054801607, 529.5398548739413, 9.90677012269225, 101.24514432945944, 635.9527008513851, 315.34232221533784, 411.1927072586823, 6763.304431647952, 4012.1105206110587, 2597.3945156220743, 819.152341322786, 783.6552623487023, 561.3321116041261, 810.7508425804635, 605.6056330869196, 83.10472022644899, 689.1588238422637, 549.1927972692283, 4351.302430591498, 4848.0784424837975, 4336.620510139894, 4490.026903376591, 3984.5089367437777, 4670.80165042931, 4107.847125501719, 5096.564975486416, 4167.62593853569, 3281.7096645848333, 2463.2689448249876, 2319.6661315264855, 2185.3945468469747, 864.5473491658067, 532.7977337746397, 14.959692329448444, 107.44994271138785, 629.2022983904026, 322.12233224201736, 404.7723926866511, 6759.458663219302, 4007.9175588073012, 2593.2535486184606, 815.3095502728866, 780.2273417063598, 558.3425624189413, 808.167951161362, 603.3737143116014, 85.0447213357993, 690.8589870897258, 550.6951813371033, 4316.979250784772, 4815.046918969232, 4305.043217222476, 4460.149188246674, 3956.6424584899178, 4645.302348720167, 4085.0869418761868, 5076.89776624791, 4151.349400777344, 3269.026594642156, 2454.2524873654293, 2314.234485327959, 2183.3004725525825, 865.3864736726355, 536.0370091817022, 19.98376079148875, 113.61930978026248, 622.4904428100926, 328.8636263196913, 398.38874009160645, 6755.634855314873, 4003.748540109049, 2589.1362278140004, 811.4887027454533, 776.8189955484604, 555.3700844819341, 805.5998088491287, 601.1545404810768, 86.97364444028972, 692.5494418805147, 552.1889863284387, 4282.852066924051, 4782.204015644743, 4273.646240389769, 4430.442084087954, 3928.935106424188, 4619.948655890767, 4062.4567259210735, 5057.342862841836, 4135.165807071199, 3256.4159489418016, 2445.2875166597023, 2308.833855504986, 2181.218356068469, 866.2208065196455, 539.2577873268165, 24.97914027259685, 119.75344785981724, 615.81691399587, 335.56642552837366, 392.0415401223472, 6751.832882533288, 3999.6033277937786, 2585.042418181599, 807.6896734361981, 773.4301120986565, 552.4145803110068, 803.0463314218159, 598.9480388177799, 88.8915527987474, 694.2302436529135, 553.6742612324078, 4248.919759812013, 4749.548655430852, 4242.4285499812995, 4400.904616659145, 3901.385971886961, 4594.739740469487, 4039.955735480886, 5037.899623967245, 4119.074626678039, 3243.8773139190034, 2436.3737387025576, 2303.464064944492, 2179.1481291118507, 867.050375068693, 542.4601738350557, 29.94599459570236, 125.85255811844581, 609.1814930900782, 342.2309496856433, 385.7305846231411, 6748.052620189261, 3995.481785919699, 2580.971985465211, 803.9123377563692, 770.060580218882, 549.4759529807225, 800.5074351384073, 596.7541369597238, 90.79850930876819, 695.901447528634, 555.1510547584421, 4215.181216642301, 4717.079767398538, 4211.389122216271, 4371.535817282185, 3873.994151407336, 4569.674775732657, 4017.583232638064, 5018.56741198521, 4103.0753318893385, 3231.4102783705757, 2427.510861167604, 2298.1249375447705, 2177.089723789856, 867.8752065253884, 545.6442737283396, 34.88448664826319, 131.9168405758155, 602.5839624848049, 348.8574173538509, 379.4556666268727, 6744.2939443094965, 3991.3837793212897, 2576.9247961754354, 800.1565718286447, 766.7102894056998, 546.5541061191116, 797.9830367360701, 594.5727629581352, 92.6945765087894, 697.5631083146282, 556.6194153378265, 4181.635330963023, 4684.796286734114, 4180.526939159992, 4342.334722810461, 3846.7587466735104, 4544.752939677459, 3995.338483688787, 4999.345592897921, 4087.167398009946, 3219.01443344143, 2418.698593397732, 2292.816298209719, 2175.0430725973038, 868.6953279399922, 548.8101914288836, 39.79477838759158, 137.94649410941565, 596.0241058147403, 355.4460458472913, 373.2165803482876, 6740.556731628625, 3987.3091736048664, 2572.900717585133, 796.4222524830893, 763.3791297866865, 543.6489439045217, 795.4730534274322, 592.4038452750883, 94.57981658012613, 699.2152805048836, 558.0793911252858, 4148.281002640473, 4652.697154704308, 4149.840988690494, 4313.300375597224, 3819.678864503318, 4519.973414994962, 3973.220759118909, 4980.233536327891, 4071.350303340883, 3206.6893726111675, 2409.936646395565, 2287.53797284308, 2173.0081084144913, 869.5107662082955, 551.9580307626129, 44.67703084617642, 143.94171646108225, 589.501707950094, 361.9970512393229, 367.01312117722046, 6736.840859585154, 3983.257835144169, 2568.899617725081, 792.7092572530983, 760.0669921168183, 540.7603710624717, 792.97740289786, 590.24731278116, 96.45429134902679, 700.8580182822079, 559.5310300005722, 4115.117137823044, 4620.781318621541, 4119.330264465332, 4284.431823464183, 3792.753616814939, 4495.335389043323, 3951.2293335800323, 4961.230615497283, 4055.623529162234, 3194.4346916807444, 2401.2247328139965, 2282.2897883427413, 2170.984764504983, 870.3215480725112, 555.0878949625858, 49.53140413696201, 149.90270424349364, 583.01655498953, 368.510648369469, 360.8450856718955, 6733.146206317466, 3979.229631075994, 2564.9213653796396, 789.0174643713972, 756.7737677748974, 537.8882928625253, 790.4960033027646, 588.1030947531017, 98.31806228868845, 702.4913755200105, 560.9743795700233, 4082.14264890536, 4589.047731809405, 4088.993765888595, 4255.728119670281, 3765.9821205977755, 4470.838053821135, 3929.363485865727, 4942.336207207355, 4039.9865597161324, 3182.2499887592203, 2392.562566946757, 2277.071572595056, 2168.9729745134355, 871.1277001221406, 558.199886672357, 54.358057458597614, 155.82965294659516, 576.5684342531549, 374.9870508504391, 354.71227155225824, 6729.4726506598, 3975.2244292958185, 2560.9658300824503, 785.3467527660323, 753.4993487599877, 535.0326151151867, 788.0287732649122, 585.9711208715125, 100.17119052127782, 704.1154057840649, 562.4094871681345, 4049.3564544926085, 4557.495353568339, 4058.8304980780763, 4227.18832288064, 3739.363497883491, 4446.480605940925, 3907.6224988878703, 4923.549691818021, 4024.438882189849, 3170.1348642505727, 2383.949864719051, 2271.883154469202, 2166.972672463414, 871.9292487948551, 561.2941079493612, 59.15714910065799, 161.72275694403106, 570.1571342755451, 381.4264710751613, 348.61447769332153, 6725.820072138302, 3971.242098453484, 2557.032882112163, 781.6970020564158, 750.2436276878689, 532.1932441688132, 785.5756318717613, 583.8513212185371, 102.01373681993664, 705.7301623342692, 563.836399859104, 4016.7574793650747, 4526.123149141496, 4028.8394718326563, 4198.811497135701, 3712.896875717221, 4422.262246602815, 3886.005659653135, 4904.8704532275315, 4008.9799866989733, 3158.088920840599, 2375.386343678234, 2266.724363811565, 2164.9837927552235, 872.7262203773535, 564.3706602682505, 63.92883644883659, 167.58220949951647, 563.7824447988041, 387.8291202237233, 342.5515041185972, 6722.188350967041, 3967.2825079488775, 2553.1223924881688, 778.0680925493616, 747.00649778752, 529.3700869065397, 783.1364986728022, 581.7436262755773, 103.84576161077166, 707.3356981263923, 565.2551644383802, 3984.344654442877, 4494.930089680808, 3999.019703599859, 4170.596711820515, 3686.5813861289403, 4398.182181568316, 3864.5122592396074, 4886.297878852269, 3993.6093662706944, 3146.1117634838847, 2366.8717229845606, 2261.5950314401625, 2163.0062701637753, 873.5186410062397, 567.4296445242308, 68.67327599010969, 173.40820277316743, 557.4441567656813, 394.1952082703174, 336.5231519935205, 6718.577368044118, 3963.345527927657, 2549.2342329663825, 774.4599052351759, 743.7878528976125, 526.563050743227, 780.7112936769236, 579.647966921003, 105.66732497483918, 708.9320658138058, 566.6658274341953, 3952.116916750915, 4463.915152213251, 3969.370215443596, 4142.543041634241, 3660.416166105002, 4374.23962113429, 3843.1415927735343, 4867.8313596066555, 3978.326516827168, 3134.20299939084, 2358.4057234019574, 2256.494989139089, 2161.040039836422, 874.3065366688588, 570.4711610363574, 73.39062331785863, 179.20092782780193, 551.1420623126996, 400.5249439901163, 330.5292236189307, 6714.9870049477395, 3959.431029276985, 2545.368276035031, 770.8723217837442, 740.5875874630365, 523.7720436224281, 778.2999373497914, 577.5642744278912, 107.47848665011406, 710.5193177492165, 568.0684351090895, 3920.0732093839997, 4433.077319607289, 3939.8900350120953, 4114.649566559781, 3634.4003575598317, 4350.433780107044, 3821.8929594062097, 4849.470289883182, 3963.130937168992, 3122.362238014831, 2349.988067288881, 2251.424069653007, 2159.0850372908553, 875.0899332041627, 573.4953095508372, 78.08103313697939, 184.9605746352172, 544.8759547633545, 406.818534966118, 324.5695224245901, 6711.417143932331, 3955.5388836213006, 2541.5243949104743, 767.3052245406516, 737.4055965314292, 520.9969740133638, 775.9023506112326, 575.4924804617704, 109.27930603344703, 712.0975059863804, 569.4630334614312, 3888.212481472199, 4402.415580539523, 3910.5781955060147, 4086.9153718336265, 3608.5331073077914, 4326.763877776587, 3800.765662290992, 4831.2140675325445, 3948.0221289587703, 3110.5890910393628, 2341.6184785892065, 2246.382106681661, 2157.141198412978, 875.8688563035603, 576.5021892442983, 82.74465926896119, 190.68733208240883, 538.6456286213179, 413.0761875959615, 318.64385296274486, 6707.867667924684, 3951.6689633181068, 2537.7024635330436, 763.7584965233309, 734.2417757497424, 518.2377509079242, 773.5184548326488, 573.4325170783823, 111.06984218251728, 713.6666822818106, 570.8496682269233, 3856.533688146371, 4371.928929461521, 3881.433735646734, 4059.339547915846, 3582.8135670351935, 4303.2291378910195, 3779.7590085604456, 4813.062093843895, 3932.9995967047616, 3098.8831723653484, 2333.296682823172, 2241.3689348744138, 2155.2084594547996, 876.6433315117474, 579.4918987270321, 87.38165465691782, 196.38138797777174, 532.4508795637212, 419.2981070986971, 312.7520209016984, 6704.338460520117, 3947.8211414537827, 2533.9023565629122, 760.2320214172178, 731.0960213608141, 515.4942838176867, 771.1481718344348, 571.3843167214482, 112.85015381776338, 715.2268980964764, 572.2283848801026, 3825.035790503902, 4341.616366566846, 3852.4556996448305, 4031.921190460266, 3557.2408932724848, 4279.828788631081, 3758.8723093036247, 4795.013773525212, 3918.0628477446407, 3087.2440980984447, 2325.0224070783834, 2236.3843898248388, 2153.286757032358, 877.413384227556, 582.4645360462409, 91.99217137061169, 202.0429290572538, 526.2915044344318, 425.48449752149463, 306.8938330194578, 6700.829405978655, 3943.995291839422, 2530.1239493759786, 756.725683571939, 727.9682301999655, 512.7664827709414, 768.7914238834146, 569.347812220457, 114.62029932431506, 716.7782045974864, 573.5992286358342, 3793.7177555746284, 4311.476897758261, 3823.643137168734, 4004.659400284805, 3531.814247366583, 4256.562062584838, 3738.1048795434763, 4777.068514683775, 3903.211392229333, 3075.6714865364665, 2316.795380000857, 2231.4283080653177, 2151.3760281236273, 878.1790397047835, 585.4201986892485, 96.57636061144512, 207.67214099048942, 520.1673012374049, 431.63556174637233, 301.0690971973763, 6697.34038922123, 3940.191289006705, 2526.3671180597903, 753.2393679975248, 724.8582996916266, 510.05425830974855, 766.4481336902936, 567.3229367884642, 116.38033675390398, 718.3206526597696, 574.9622444507895, 3762.5785562869687, 4281.50953461513, 3794.9951033135603, 3977.5532833419893, 3506.5327954533727, 4233.428196722515, 3717.456038214377, 4759.225728806752, 3888.444743106954, 3064.1649581568618, 2308.615331786128, 2226.500527061681, 2149.4762100664593, 878.9403230530188, 588.3589835866896, 101.13437271741168, 213.2692083868733, 514.0780691300606, 437.7515014968103, 295.27762241387245, 6693.871295825911, 3936.4090082037637, 2522.631739409464, 749.7729603606303, 721.7661278459573, 507.35752148699794, 764.1182244071206, 565.3096240198984, 118.13032382676647, 719.8542928677443, 576.3174770249288, 3731.617171434233, 4251.713294361008, 3766.5106585701233, 3950.6019506896328, 3481.3957084303606, 4210.4264323714715, 3696.925108139798, 4741.484830741901, 3873.762416106835, 3052.7241356042705, 2300.4819941703927, 2221.600885207884, 2147.587240556525, 879.6972592384645, 591.2809871156987, 105.66635716802557, 218.83431480163017, 508.0236084166827, 443.8325173443991, 289.5192187381581, 6690.422012024155, 3932.6483253911074, 2518.917690923663, 746.3263469807907, 718.691613255517, 504.6761838634975, 761.8016196247736, 563.3078078883836, 119.87031793354072, 721.3791755169768, 577.6649708029563, 3700.832585641141, 4222.087199831402, 3738.188868794126, 3923.8045184616826, 3456.4021619294854, 4187.556015191323, 3676.5114160101, 4723.84523867838, 3859.1639297236434, 3041.3486436781513, 2292.3951004217215, 2216.729221820696, 2145.709057645272, 880.4498730847645, 594.1863051030678, 110.17246258922933, 224.36764274182678, 502.00372054188847, 449.8788087153971, 283.79369732399755, 6686.992424697075, 3928.9091172375483, 2515.224850800563, 742.8994148266902, 715.6346550919297, 502.01015750506576, 759.4982433704463, 561.3174227445752, 121.60037613714758, 722.8953506158296, 579.0047699757843, 3670.2237893305164, 4192.630279441734, 3710.0288051755215, 3897.160107839236, 3431.551336290081, 4164.816195149201, 3656.214292360448, 4706.306374127669, 3844.648805201592, 3030.0381093204696, 2284.354385331306, 2211.8853771344457, 2143.841599737896, 881.1981892738077, 597.0750328283866, 114.65283675826504, 229.8693736723526, 496.01820808409866, 455.8905738972808, 278.10087040353756, 6683.582421371719, 3925.191261116158, 2511.5530979338746, 739.4920515124577, 712.5951531025821, 499.3593549796569, 757.2080201051649, 559.3384033140073, 123.32055517465778, 724.4028678871, 580.3369184819849, 3639.789778690179, 4163.341567155472, 3682.029544208057, 3870.667845021714, 3406.8424165319966, 4142.2062264951555, 3636.0330715488553, 4688.867661904591, 3830.216566518734, 3018.792161603471, 2276.3595852047583, 2207.069192295763, 2141.9848055913144, 881.9422323465415, 599.94726502717, 119.10762660852015, 235.33968802188429, 490.06687474907994, 461.8680100452366, 272.4405512811318, 6680.191890217398, 3921.4946351002454, 2507.9023119088542, 736.1041452939835, 709.5730076073341, 496.72368935448685, 754.9308747213017, 557.3706846949508, 125.03091145915732, 725.9017767696569, 581.6614600092225, 3609.529555640028, 4134.220102452449, 3654.1901676589823, 3844.3268611982116, 3382.2745923288685, 4119.725367737699, 3615.96709173436, 4671.528530108458, 3815.8667403713553, 3007.6104317175095, 2268.410437853471, 2202.2805093583893, 2140.1386143121645, 882.6820267037792, 602.8030958939653, 123.53697823434959, 240.77876518879202, 484.14952536349483, 467.8113131886439, 266.81255432722355, 6676.820720042007, 3917.819117959357, 2504.272372998369, 732.7355850652448, 706.5681194952485, 494.10307419318815, 752.6667325401204, 555.4142023562845, 126.73150108159825, 727.3921264200535, 582.9784379956973, 3579.442127799307, 4105.264930297367, 3626.5097625389435, 3818.1362925190006, 3357.847057981548, 4097.372881619491, 3596.0156948553154, 4654.288410104308, 3801.5988561584527, 2996.4925529589573, 2260.5066825860113, 2197.5191712779815, 2138.302965354801, 883.4175966069988, 605.6426190854363, 127.94103689586154, 246.1867835470257, 478.26596586850974, 473.7206782374906, 261.21669497225776, 6673.468800288383, 3914.1645891553053, 2500.663162158965, 729.3862603546722, 703.5803902213447, 491.4974235529653, 750.4155193093211, 553.4688921353809, 128.42237981263315, 728.8739657141477, 584.2878956315562, 3549.526508454059, 4076.475101108471, 3598.9874210720327, 3792.0952800672, 3333.5590123916763, 4075.148035093153, 3576.1782266078076, 4637.1467365042645, 3787.412445966299, 2985.4381607181786, 2252.6480601995772, 2192.785021906968, 2136.4777985193123, 884.1489661791338, 608.4659277234414, 132.31994702368866, 251.56392045196662, 472.41600331342124, 479.596298988763, 255.65278970063082, 6670.1360210306775, 3910.5309288382123, 2497.074561026957, 726.0560613215239, 700.6097218033619, 488.90665198178704, 748.1771612006087, 551.5346902360016, 130.10360310444685, 730.347343248699, 585.5898758603253, 3519.7817165247684, 4047.849670726415, 3571.622240666026, 3766.2029698306105, 3309.409659035413, 4053.050099297238, 3556.454036424202, 4620.102947148986, 3773.307044553102, 2974.4468924675703, 2244.834312971494, 2188.077905989432, 2134.6630539495527, 884.8761594053713, 611.2731143980818, 136.67385222371195, 256.91035224623556, 466.59944584934055, 485.4383681328145, 250.12065604466807, 6666.822272970756, 3906.918017842577, 2493.506451914559, 722.744878752279, 697.6560168185497, 486.3306745155787, 745.9515848072697, 549.6115332262034, 131.77522609257812, 731.8123073429651, 586.8844213803031, 3490.2067765341876, 4019.3877003832904, 3544.413323882779, 3740.4585126737074, 3285.3982059373166, 4031.078349532321, 3536.842477451806, 4603.156483089235, 3759.2821893337386, 2963.518387749673, 2237.065184650761, 2183.397669156013, 2132.858672131166, 885.5992001339364, 614.0642711707433, 141.00289528178837, 262.2262542654935, 460.8161027228889, 491.24707725967164, 244.62011257864106, 6663.527447434606, 3903.3257376833744, 2489.958717806019, 719.4526040570636, 694.7191784004699, 483.7694066754384, 743.7387171417668, 547.6993580362587, 133.43730359772235, 733.2689060402854, 588.1715746459722, 3460.800718575345, 3991.0882566718465, 3517.359778408796, 3714.8610643097904, 3261.523865644367, 4009.232065237235, 3517.342906531655, 4586.306788567548, 3745.3374203645935, 2952.652288165352, 2229.340420449653, 2178.744157918849, 2131.064593889645, 886.3181120768686, 616.8394895771125, 145.3072181684165, 267.51180084416956, 455.06578426995657, 497.0226168653244, 239.15097891281948, 6660.251436368777, 3899.753970552163, 2486.431242353776, 716.179129266081, 691.7991102358246, 481.22276446486103, 741.5384856333421, 545.7981019565887, 135.08989012753045, 734.717187109658, 589.4513778693845, 3431.5625782797347, 3962.9504115148725, 3490.460717025966, 3689.4097852732957, 3237.785855200146, 3987.510529965438, 3497.95468417742, 4569.553311000011, 3731.4722803284712, 2941.848237362041, 2221.6597670353594, 2174.117219666542, 2129.2807603883894, 887.0329188108117, 619.5988606301789, 149.5869620434023, 272.76716532119826, 449.34830190946013, 502.76517635797427, 233.71307568755583, 6656.994132336846, 3896.2025993132247, 2482.923909874655, 712.9243470260817, 688.8957165612919, 478.69066436698904, 739.350818125642, 543.9077026357045, 136.73303987840245, 736.1571980473036, 590.7238730215486, 3402.491396785695, 3934.9732421347667, 3463.7152575824666, 3664.1038408922686, 3214.1833961191574, 3965.9130313615206, 3478.6771745544365, 4552.895500958126, 3717.686314519595, 2931.1058810220566, 2214.0229725216786, 2169.5167026591444, 2127.5071131267705, 887.7436437777724, 622.3424748232155, 153.84226726048473, 277.99252004568916, 443.66346813718883, 508.474944064239, 228.30622456739547, 6653.755428515869, 3892.671507499719, 2479.4366053460635, 709.6881505968295, 686.0089021603899, 476.1730233418748, 737.1756428743447, 542.0280980781636, 138.3668067372564, 737.5889860782263, 591.9891018338085, 3373.5862207069604, 3907.155831023273, 3437.122522963837, 3638.942401260988, 3190.7157143612962, 3944.438861137841, 3459.5097454588526, 4536.332812150809, 3703.9790708287, 2920.4248668509817, 2206.429786460758, 2164.942456023202, 2125.743593938216, 888.4503102858998, 625.0704221327569, 158.07327337194147, 283.1880363825894, 438.01109651962906, 514.1521072353353, 222.93024823524138, 6650.53521869291, 3889.160579309877, 2475.9692144022256, 706.4704338476131, 683.1385723603489, 473.66975882375027, 735.0128885448121, 540.1592266425378, 139.99124428329924, 739.0125981577612, 593.2471057992034, 3344.8461021013923, 3879.4972659113887, 3410.6816410642086, 3613.924641212751, 3167.3820403064674, 3923.0873150513, 3440.451768296895, 4519.8647014064645, 3690.350099728208, 2909.8048445661034, 2198.879959834875, 2160.394329746785, 2123.9901449883037, 889.1529415102477, 627.7827920215404, 162.28011913316004, 288.3538847182954, 432.39100168786354, 519.7968520532213, 217.58497038652786, 6647.333397261529, 3885.669699603178, 2472.521623330428, 703.271091253755, 680.284633029014, 471.18078871832586, 732.8624842097479, 538.3010270393897, 141.60640578978746, 740.4280809731126, 594.497926173839, 3316.270098439895, 3851.9966397394483, 3384.391744757705, 3589.049740292809, 3144.181608729341, 3901.8576928802413, 3421.502618064254, 4503.490628655173, 3676.798954257478, 2899.2454658849374, 2191.373245048282, 2155.872174674585, 2122.2467087728674, 889.8515604935301, 630.4796734414449, 166.46294250719802, 293.4902344662514, 426.8029993314849, 525.4093636366924, 212.27021572344165, 6644.149859218342, 3882.198753896603, 2469.093719067293, 700.0900178931643, 677.4469905717524, 468.7060314000946, 730.7243593468756, 536.453438329263, 143.21234422576708, 741.8354809448865, 595.7416039782365, 3287.8572725755066, 3824.653050627378, 3358.2519718700087, 3564.3168827314657, 3121.113658774263, 3880.749298401492, 3402.6616733255883, 4487.210056910982, 3663.3251900081523, 2888.7463845137954, 2183.909395919074, 2151.37584250301, 2120.5132281161013, 890.5461901468825, 633.1611548364071, 170.62188066929593, 298.59725407249425, 421.2469061925549, 530.9898260474656, 206.98580994917938, 6640.984500159559, 3878.747628360863, 2465.6853891950695, 696.9271094428786, 674.6255519283832, 466.24540570965564, 728.5984438366195, 534.6163999206838, 144.8091122578171, 743.2348442286138, 596.9781799986749, 3259.6066927126635, 3797.465601845119, 3332.261465150084, 3539.725257417323, 3098.1774339302997, 3859.7614393675312, 3383.9283161941466, 4471.022452254294, 3649.9283651095866, 2878.3072561364343, 2176.4881676711248, 2146.9051857753348, 2118.789646168695, 891.236853250608, 635.8273241453207, 174.75707001137926, 303.67511102117714, 415.7225400596053, 536.5384222962002, 201.73157976221955, 6637.83721627757, 3875.316209816663, 2462.2965219379475, 693.7822621756568, 671.8202245701323, 463.7988309510565, 726.4846679598104, 532.7898515681773, 146.3967622517739, 744.6262167162631, 598.2076947885289, 3231.5174323766396, 3770.433401783214, 3306.419372242059, 3515.274057870674, 3075.3721820064247, 3838.893427483778, 3365.301932311496, 4454.927283814358, 3636.608040214347, 2867.9277384027628, 2169.1093169260503, 2142.4600578768514, 2117.075906405964, 891.923572454929, 638.4782688049181, 178.86864614654405, 308.7239718400742, 410.22971976163717, 542.0553343485153, 196.50735285065093, 6634.707904357538, 3871.9043857310044, 2458.9270061583866, 690.6553729565712, 669.0309164965911, 461.3662268891403, 724.3829623953934, 530.9737333702869, 147.97534627444657, 746.0096440377438, 599.4301886696085, 3203.588570383167, 3743.5555639235736, 3280.7248456572815, 3490.962482217062, 3052.6971551068577, 3818.144578386031, 3346.7819108273825, 4438.924023751857, 3623.3637784838147, 2857.607490917616, 2161.7726016952347, 2138.0403130300674, 2115.3719526259974, 892.6063702807296, 641.1140757526464, 182.95674391348075, 313.744002106032, 404.76826516220353, 547.5407431309468, 191.31295788651187, 6631.596461774019, 3868.512044213483, 2455.5767313534843, 687.5463392396287, 666.2575362326988, 458.94751374691987, 722.2932582181629, 529.1679857676099, 149.54491609532852, 747.3851715624096, 600.6457017334642, 3175.819190808224, 3716.8312068103987, 3255.1770427465176, 3466.7897331609834, 3030.1516096065334, 3797.514211618018, 3328.367644379698, 4423.012147241601, 3610.1951455738526, 2847.346175229588, 2154.4777813718956, 2133.6458062899283, 2113.677728947814, 893.2852691202879, 643.7348314295114, 187.02149738091975, 318.7353664504044, 399.33799715348687, 552.9948285368846, 186.14822452018052, 6628.502786487588, 3865.1390740126217, 2452.245587651336, 684.4550590644003, 663.4999928257494, 456.54261220295666, 720.2154868964953, 527.3725495408489, 151.10552318829286, 748.7528444005329, 601.8542738427186, 3148.2083829579974, 3690.2594540212763, 3229.7751256723222, 3442.7550179597347, 3007.7348061267153, 3777.0016506090833, 3310.0585290745553, 4407.191132455314, 3597.1017096205624, 2837.143454819935, 2147.2246167231806, 2129.2763935390576, 2111.9931798095295, 893.9602912380215, 646.3406217829115, 191.06303985200975, 323.69822856444625, 393.93873765043463, 558.4177694324717, 181.0129833747833, 6625.426777041497, 3861.7853645122314, 2448.933465807444, 681.3814310526877, 660.7581958424062, 454.15144338876325, 718.1495802901036, 525.5873658088667, 152.6572187332822, 750.1127074048, 603.0559446323623, 3120.7552413390194, 3663.8394341384364, 3204.5182613815623, 3418.85754839742, 2985.446009510748, 3756.6062226519985, 3291.8539644664925, 4391.46046054452, 3584.083041226124, 2826.9989950915424, 2140.012869882343, 2124.9319314830373, 2110.31824996654, 894.6314587712077, 648.9315322694601, 195.0815038687033, 328.63275120468643, 388.57030958491123, 563.8097436624739, 175.90706604063962, 6622.368332558344, 3858.4508057277653, 2445.6402572011284, 678.3253544051913, 658.0320553657311, 451.7739288862176, 716.0954706478024, 523.8123760267554, 154.20005361798394, 751.4648051717704, 604.2507535110617, 3093.458865628464, 3637.570280720169, 3179.4056215780906, 3395.0965407590975, 2963.284488799944, 3736.327258880897, 3273.7533535387697, 4375.819615623526, 3571.138713444703, 2816.9124633579413, 2132.842304340915, 2120.6122776456978, 2108.6528844896984, 895.2987937307098, 651.5076478577903, 199.07702121609327, 333.539096198263, 383.23253689989724, 569.1709280561026, 170.83030506973955, 6619.327352736775, 3855.1352883027303, 2442.365853831968, 675.2867288982043, 655.3214819922387, 449.4099907249856, 714.0530906052891, 522.0475219839154, 155.7340784395019, 752.8091820433465, 605.4387396624443, 3066.3183606446305, 3611.4511322724193, 3154.4363826955896, 3371.47121580508, 2941.2495172096196, 3716.164094249347, 3255.756102683803, 4360.268084752508, 3558.2683017684703, 2806.8835288324135, 2125.712684940975, 2116.31729036446, 2106.997028763524, 895.9623180017097, 654.0690530313332, 203.0497229267421, 338.41742444823285, 377.9252445437123, 574.5014984328245, 165.78253397025037, 6616.303737848182, 3851.8387035050855, 2439.1101483162574, 672.265454880333, 652.6263868289698, 447.0595513799726, 712.0223731829283, 520.2927458021477, 157.25934350601528, 754.1458821082197, 606.6199420463872, 3039.3328363175783, 3585.481132220523, 3129.6097258705586, 3347.9807987453796, 2919.340372105253, 3696.1160675085357, 3237.861621683687, 4344.805357920684, 3545.4713841136563, 2796.9118626171303, 2118.623777867422, 2112.0468287856775, 2105.350628484406, 896.622053344412, 656.6158317910958, 206.99973928497639, 343.26789593884314, 372.6482584642745, 579.8016296081187, 160.76358720107055, 6613.297388733441, 3848.5609432236906, 2435.873033883483, 669.2614332692192, 649.9466814905672, 444.7225337687705, 710.0032517835607, 518.5479899337588, 158.77589883842847, 755.4749492033288, 607.7943994002962, 3012.5014076599446, 3559.6594288811266, 3104.92483691546, 3324.6245192142987, 2897.556334978791, 3676.1825211855844, 3220.069323690846, 4329.4309280295965, 3532.7475408067276, 2786.9971376923713, 2111.5753506403125, 2107.800752860023, 2103.713629658827, 897.278021394769, 659.148067658416, 210.9271998311524, 348.09066974078814, 367.40140560339205, 585.0714953992192, 155.7733001663746, 6610.308206799658, 3845.30189996475, 2432.6544043728263, 666.2745655482995, 647.2822780963834, 442.3988612491394, 707.9956601903186, 516.8131971596658, 160.28379417200858, 756.7964269152835, 608.9621502403743, 2985.8231947379168, 3533.985175434251, 3080.380906292021, 3301.401611245166, 2875.8966914250823, 3656.3628015619893, 3202.378625208783, 4314.144290876469, 3520.0963545706127, 2777.139028905801, 2104.567172107236, 2103.578923337893, 2102.0859786015844, 897.9302436651806, 661.6658436776943, 214.83223336592164, 352.8859040164134, 362.18451389109396, 590.3112686308068, 150.811509210238, 6607.336094016933, 3842.0614668482913, 2429.454154229681, 663.3047537635675, 644.633089267596, 440.0884576164899, 705.9995325644522, 515.0883105875264, 161.7830789580221, 758.1103585818046, 610.123232862883, 2959.297322642372, 3508.457529895516, 3055.9771290846757, 3278.311313245212, 2854.3607311184464, 3636.656258652177, 3184.788946072944, 4298.944945137683, 3507.517410511019, 2767.337212961802, 2097.5990124357277, 2099.3812017648434, 2100.467621934038, 898.5787415452069, 664.1692424191215, 218.71496795443454, 357.65375602490894, 356.99741223997444, 595.5211211406786, 145.87805161126016, 6604.380952915144, 3838.8395376046574, 2426.272178502186, 660.3519005203652, 641.9990281243427, 437.7912471013833, 704.0148034431695, 513.3732736498732, 163.27380236535146, 759.4167872931375, 611.2776853454016, 2932.9229214601933, 3483.075655088537, 3031.712704974181, 3255.3528679706037, 2832.9477477893856, 3617.0622461821963, 3167.299709431697, 4283.832392352332, 3495.0102961028315, 2757.5913684108755, 2090.6706431057446, 2095.207450477048, 2098.8585065823554, 899.2235363022628, 666.6583459813955, 222.57553093055685, 362.3943821274697, 351.839930539596, 600.7012237853869, 140.97276557723308, 6601.442686580762, 3835.636006571025, 2423.1083728377907, 657.4159089801888, 639.3800082828711, 435.5071543670474, 702.0414077374926, 511.6680301022525, 164.75601328210996, 760.7157558934741, 612.425545548077, 2906.699126245732, 3457.8387186174614, 3007.58683821136, 3232.525522501598, 2811.6570392014164, 3597.580121568518, 3149.91034172741, 4268.806136905875, 3482.5746011765814, 2747.9011756391, 2083.781836902159, 2091.05753259678, 2097.2585797757692, 899.8646490823267, 669.1332359943935, 226.4140489010315, 367.10793779241794, 346.7118996509016, 605.85174644584, 136.09549023982618, 6598.521198653656, 3832.450768687944, 2419.9626334798286, 654.4966828575125, 636.7759438527082, 433.2361045069083, 700.0792807301241, 509.97252402138656, 166.22976031724738, 762.0073069823466, 613.5668511148606, 2880.625076992451, 3432.7458928396777, 2983.5987375910117, 3209.828528217861, 2790.487907128045, 3578.2092458969637, 3132.620272677642, 4253.865686013882, 3470.209917904991, 2738.2663168576482, 2076.932367907316, 2086.931312027933, 2095.6677890448564, 900.5021009106222, 671.593993621871, 230.23064774964223, 371.7945776003053, 341.6131514006702, 610.9728580328738, 131.2460656493222, 6595.616393323944, 3829.2837194958756, 2416.834857264117, 651.5941264166295, 634.1867494338421, 430.9780230421293, 698.1283580733161, 508.28669980333507, 167.6950918021348, 763.2914829160345, 614.7016394747443, 2854.699918604709, 3407.796354838664, 2959.747616425957, 3187.2611407739064, 2769.4396573298627, 3558.9489839017506, 3115.428935256439, 4239.010549705875, 3457.9158407896048, 2728.6864760923618, 2070.122011493615, 2082.8286534515446, 2094.0860822198038, 901.1359126923126, 674.0406995641106, 234.02545264134278, 376.45445524897696, 336.54351857599977, 616.0647264927975, 126.4243327693639, 6592.728175328848, 3826.134755131783, 2413.724941615572, 648.7081444685127, 631.6123401139193, 428.7328359191706, 696.1885757867749, 506.6105021616768, 169.1520557921649, 764.5683258089521, 615.8299478429908, 2828.9228008697323, 3382.9892863970103, 2936.0326925212485, 3164.822620074696, 2748.5115995317865, 3539.7987039446616, 3098.3357656757435, 4224.24024080926, 3445.691966647488, 2719.1613391733954, 2063.3505443161503, 2078.7494223213707, 2092.513407428707, 901.7661052131862, 676.4734340605664, 237.7985880263459, 381.0877235586195, 331.50283491883056, 621.1275188128784, 121.6301334717391, 6589.8564499495715, 3823.0037723257237, 2410.632784544843, 645.8386423676975, 629.0526314654635, 426.5004695073658, 694.259870255546, 504.9438761256879, 170.60070006831165, 765.8378775350211, 616.9518132223511, 2803.292878429718, 3358.323873969577, 2912.453188148508, 3142.512230251357, 2727.7030474004123, 3520.7577779943276, 3081.3402033668976, 4209.554274933345, 3433.537894598003, 2709.6905937249094, 2056.6177443053875, 2074.6934848594656, 2090.9497130958644, 902.3926991403423, 678.8922768925049, 241.55017764422155, 385.6945344767719, 326.4909351204824, 626.1614010268531, 116.8633105311983, 6587.001123008187, 3819.890668397449, 2407.5582846449734, 642.9855260091699, 626.5075395431068, 424.28085059649675, 692.3421782279402, 503.2867670385476, 172.04107213870884, 767.1001797290555, 618.0672724042815, 2777.8093107541185, 3333.7993086568185, 2889.0083300204287, 3120.329239637058, 2707.0133185215127, 3501.8255816056308, 3064.441690962266, 4194.95217045346, 3421.4532260496653, 2700.273929154826, 2049.923390659874, 2070.660708051795, 2089.394947940089, 903.0157150228579, 681.2973073856192, 245.28034452794964, 390.2750390832971, 321.5076548162433, 631.1665382203446, 112.12370762029968, 6584.16210086456, 3816.7953412530514, 2404.5013410880692, 640.1487018252847, 623.9769808808314, 422.0739063944002, 690.4354368134536, 501.63912055554283, 173.47321924020434, 768.35527378812, 619.1763619701433, 2752.471262112078, 3309.4147861782576, 2865.697349265414, 3098.272920743011, 2686.4417343776586, 3483.0014938992304, 3047.6396742769543, 4180.433448495163, 3409.437564687073, 2690.9110366446457, 2043.2672638390013, 2066.650959643879, 2087.849060973027, 903.6351732924722, 683.6886044126204, 248.9892110079454, 394.8293875953532, 316.5528305799726, 636.1430945362863, 107.41116930427052, 6581.339290413256, 3813.717689381612, 2401.461853621997, 637.3280767827018, 621.4608724892405, 419.8795645245791, 688.5395834807068, 500.0008826422845, 174.8971883399081, 769.603200872888, 620.2791182924102, 2727.2779015450187, 3285.169506846105, 2842.519481402359, 3076.342550234613, 2665.9876203259637, 3464.2848975411976, 3030.933602290635, 4165.997632918531, 3397.490516457906, 2681.6016091393158, 2036.6491455558098, 2062.6641081364523, 2086.3120014974793, 904.2510942642548, 686.0662463958442, 252.67689871609218, 399.3577293723083, 311.62629991873837, 641.091233180312, 102.72554103592665, 6578.532599080521, 3810.6576118518688, 2398.439722567091, 634.5235583793237, 618.9591318528292, 417.6977530238264, 686.654556055395, 498.37199957293615, 176.31302613673324, 770.8440019089949, 621.3755775358568, 2702.228402839396, 3261.062675539038, 2819.473966315586, 3054.537408907727, 2645.6503055759604, 3445.675178722771, 3014.322927129477, 4151.644250302546, 3385.6116895600026, 2672.3453413371644, 2030.0688187698215, 2058.700022781146, 2084.783719105748, 904.8634981372652, 688.4303113097958, 256.3435285897067, 403.8602129206429, 306.7279012675044, 646.0111164260888, 98.06666915059577, 6575.741934821208, 3807.6150083089087, 2395.434848812889, 631.7350546412727, 616.4716769272836, 415.52840033987195, 684.7802927182456, 496.7524179284537, 177.72077906292634, 772.0777175883759, 622.4657756587476, 2677.321944499593, 3237.093501676116, 2796.560048229905, 3032.856781665086, 2625.4291231675993, 3427.171727140223, 2997.807104048175, 4137.372829929569, 3373.8006944285144, 2663.141929679885, 2023.526067679928, 2054.7585735762077, 2083.2641636779754, 905.4724049952238, 690.7808766837352, 259.98922087552455, 408.3369858988208, 301.85747398381136, 650.9029056206637, 93.43440086107512, 6572.9672061157835, 3804.589778970876, 2392.4471338148805, 628.9624741198677, 613.9984261367863, 413.3714353290252, 682.9167320029956, 495.1420845948296, 179.12049328559533, 773.304388370605, 623.5497484140105, 2652.557709720993, 3213.2611991908643, 2773.776975685841, 3011.2999574928567, 2605.3234099493807, 3408.773935974852, 2981.3855914120895, 4123.182903769906, 3362.0571437231256, 2653.9910723425837, 2017.0206777173116, 2050.839631262237, 2081.753285380505, 906.0778348071635, 693.1180196041978, 263.61409513363105, 412.7881951221316, 297.014858342518, 655.7667611897323, 88.82858425262384, 6570.20832196732, 3801.5818246256986, 2389.4764795912733, 626.2057258886316, 611.5392983713436, 411.2267872538532, 681.0638127943694, 493.5409467613563, 180.51221470821474, 774.5240544842181, 624.6275313504157, 2627.9348863631817, 3189.564986505489, 2751.1240015149842, 2989.866229437312, 2585.3325065566064, 3390.48120187308, 2965.0578506794827, 4109.074006466459, 3350.380652315358, 2644.8924692238797, 2010.5524355384096, 2046.9430673179431, 2080.251034664245, 906.6798074280923, 695.4418167175336, 267.2182702413829, 417.21398656749807, 292.19989553057167, 660.6028426429166, 84.24906827798259, 6567.465191898511, 3798.59104662784, 2386.5227887197825, 623.4647195403004, 609.0942129841269, 409.09438578085246, 679.2214743260829, 491.9489519188919, 181.89598897214182, 775.7367559280337, 625.6991598137392, 2603.452666923319, 3166.0040865052474, 2728.6003828154853, 2968.554894581648, 2565.4557573897514, 3372.29292492666, 2948.823346383856, 4095.0456753194585, 3338.7708372759334, 2635.8458219360637, 2004.1211290179172, 2043.0687539559294, 2078.757362263046, 907.2783425996367, 697.7523442324218, 270.80186439732097, 421.6145053782784, 287.4124276417824, 665.4113085789868, 79.69570275241495, 6564.737725948698, 3795.6173468950574, 2383.585964334434, 620.7393651838665, 606.6630897888226, 406.97416097814494, 677.389656178846, 490.36604785813597, 183.2718614581031, 776.9425324724652, 626.7646689479207, 2579.1102485096567, 3142.577726512962, 2706.2053809276954, 2947.3652540229336, 2545.6925105929677, 3354.2085086530096, 2932.681546116389, 4081.097450271296, 3327.227317862217, 2626.850833795311, 1997.7265472418267, 2039.2165641185074, 2077.272219192084, 907.8734599506924, 700.0496779223604, 274.3649951250245, 425.98989586901007, 282.6522976716569, 670.1923166910656, 75.16833834879435, 6562.025834670929, 3792.6606279051866, 2380.665910122387, 618.0295734416286, 604.245849057008, 404.86604331318904, 675.5682982783774, 488.79218266792213, 184.63987728768825, 778.1414236608252, 627.8240936962184, 2554.906832815202, 3119.2851382636777, 2683.938261409938, 2926.296612849188, 2526.0421180327044, 3336.2273599756427, 2916.631920508479, 4067.2288738914312, 3315.7497155057326, 2617.907209811955, 1991.3684805005196, 2035.3863714735244, 2075.7955567462486, 908.465178998069, 702.3338931281614, 277.9077792769858, 430.34030153015556, 277.9193495122454, 674.9460237717976, 70.666826592691, 6559.329429129022, 3789.7207926929495, 2377.7625303207806, 615.3352554462581, 601.842411515534, 402.76996365048944, 673.7573408934413, 487.2273047335093, 186.0000813248298, 779.3334688106197, 628.8774688023514, 2530.8416260915424, 3096.125557879471, 2661.7982940144266, 2905.3482801165915, 2506.503935276453, 3318.3488892047253, 2900.673943214383, 4053.439491361396, 3304.3376537997456, 2609.014656680809, 1985.0467202818818, 2031.5780504102268, 2074.3273264985546, 909.0535191471308, 704.6050647604161, 281.4303330384264, 434.66586503280087, 273.21342794702105, 679.6725857185011, 66.19101985750967, 6556.6484208946495, 3786.7977448467664, 2374.8757297135826, 612.6563228378845, 599.4526983439246, 400.6858532493434, 671.9567246338847, 485.6713627348945, 187.35251817727203, 780.5187070148422, 629.9248288116432, 2506.9138391228175, 3073.0982258443987, 2639.784752663315, 2884.51956882683, 2487.0773215716144, 3300.572510017735, 2884.8070908939544, 4039.7288504598755, 3292.9907584869234, 2600.1728827715524, 1978.761059264467, 2027.791476035134, 2072.8674802985515, 909.6384996924271, 706.8632673019547, 284.93277193112044, 438.9667282333303, 268.5343786457943, 684.3721575382551, 61.7407713596549, 6553.982722044433, 3783.8913885055936, 2372.0054136284825, 609.9926877612033, 597.0766311717925, 398.61364376157326, 670.1663904486932, 484.1243056451267, 188.69723219803518, 781.6971771432518, 630.9662080721546, 2483.1226871998297, 3050.2023869795858, 2617.896915424885, 2863.809795904558, 2467.761639824484, 3282.897639440229, 2869.03084319548, 4026.096501547878, 3281.708657447054, 2591.381598119162, 1972.5112913106987, 2024.02652416795, 2071.4159702707366, 910.2201398183333, 709.1085748102851, 288.4152108171711, 443.2430321780921, 263.8820481596449, 689.0448933530206, 57.315935153699684, 6551.332245157066, 3781.0016283557943, 2369.151487933772, 607.344262862589, 594.714132076273, 396.5532672292902, 668.3862796240483, 482.58608272863603, 190.03426748687252, 782.8689178436498, 632.0016407358034, 2459.4673900943117, 3027.437290418461, 2596.134064489869, 2843.218282175002, 2448.5562565793584, 3265.3236978267296, 2853.344682738615, 4012.541997553988, 3270.490980684851, 2582.640514414401, 1966.2972114601107, 2020.2830713374806, 2069.9727488129993, 910.7984585996728, 711.3410609200255, 291.8777639027885, 447.4949171080152, 259.2562839159, 693.6909464046603, 52.916366127621586, 6548.696903310445, 3778.1283696279897, 2366.3138590352637, 604.71096128723, 592.3651235794623, 394.5046560826686, 666.6163337814078, 481.05664353956854, 191.36366789171188, 784.033967543146, 633.0311607594922, 2435.947172033342, 3004.802189582134, 2574.495486147917, 2822.7443523416878, 2429.4605419977624, 3247.850108841715, 2837.7480950974154, 3999.0648939597068, 3259.3373603178106, 2573.9493449943748, 1960.1186159226236, 2016.5609947775956, 2068.5377685950443, 911.3734750023523, 713.5607988453203, 295.3205447420296, 451.7225224632075, 254.65693421311698, 698.3104690599866, 48.54191999802606, 6546.076610078817, 3775.271518093974, 2363.4924338732244, 602.0926966762881, 590.0295286458786, 392.46774313772767, 664.8564948755884, 479.53593792012816, 192.6854770100963, 785.1923644494182, 634.0548019062226, 2412.5612616739054, 2982.296342154911, 2552.980470764181, 2802.387334964291, 2410.4738698377923, 3230.476299440715, 2822.24056878347, 3985.664748784873, 3248.2474305641545, 2565.3078048331145, 1953.97530207186, 2012.8601724231921, 2067.110982556849, 911.9452078839677, 715.7678613822318, 298.7436662405198, 455.9259868875306, 250.08384821611617, 702.9036128157477, 44.19245330542617, 6543.471279529949, 3772.4309800636056, 2360.687119919321, 599.4893831640557, 587.7072706799372, 390.44246159412614, 663.106705192863, 478.02391599893963, 193.99973819061233, 786.3441465519709, 635.0725977461934, 2389.308892077586, 2959.919010059949, 2531.5883127560483, 2782.1465624366183, 2391.5956174335797, 3213.201699851523, 2806.821595229123, 3972.3411225731707, 3237.220827730832, 2556.7156105322447, 1947.8670684385052, 2009.180482906202, 2065.6923439071215, 912.513675994438, 717.9623209111396, 302.14724065916016, 460.1054482331474, 245.53687595103656, 707.4705283035964, 39.86782340952777, 6540.8808262223065, 3769.606662381746, 2357.8978251735834, 596.9009353751453, 585.3982735234395, 388.4287450329739, 661.3669073490664, 476.52052818940683, 195.30649453431533, 787.4893516233724, 636.0845816579094, 2366.1893006854284, 2937.6694594350515, 2510.31831057, 2762.021370964714, 2372.825165674869, 3196.025743555503, 2791.490668770797, 3959.0935783777095, 3226.2571902015898, 2548.172480311676, 1941.7937147036955, 2005.5218055516034, 2064.2818061217604, 913.0788979766176, 720.1442493991071, 305.53137961780703, 464.2610435650422, 241.01586830041197, 712.0113652950367, 35.56788848455835, 6538.305165202251, 3766.7984724252037, 2355.124458161389, 594.3272684216918, 583.1024614530706, 386.4265274146519, 659.637044287716, 475.0257251880885, 196.60578889613862, 788.6280172204997, 637.0907868292752, 2343.201729292922, 2915.5469606086012, 2489.169766658606, 2742.0111005450917, 2354.161898986717, 3178.94786726902, 2776.2472866324106, 3945.921681746707, 3215.356158425114, 2539.6781340003718, 1935.7550416924478, 2001.8840203734653, 2062.8793229423272, 913.6408923668969, 722.3137184022453, 308.896194098932, 468.3929091655191, 236.5206769982833, 716.5262727063237, 31.292507514617682, 6535.7442120012565, 3764.0063180996876, 2352.3669279304686, 591.7682979005622, 580.8197591779244, 384.4357430766504, 657.9170592781402, 473.53945797308006, 197.8976638863005, 789.7601806857701, 638.0912462586803, 2320.3454240251385, 2893.5507880756313, 2468.1419874576445, 2722.1150949430867, 2335.6052053093003, 3161.967510924959, 2761.0909489088854, 3932.8250007092283, 3204.517374903243, 2531.232293027161, 1929.750851367131, 1998.2670080710159, 2061.484848374541, 914.1996775958232, 724.4707990680581, 312.2417944512672, 472.5011805386621, 232.0511546253365, 721.0153986033674, 27.04154028904668, 6533.197882633138, 3761.2301078368, 2349.625144047912, 589.2239398905986, 578.5500918370217, 382.45632673141154, 656.206895913615, 472.0616778024096, 199.1821618717022, 790.8858791483608, 639.0859927560832, 2297.619635312007, 2871.680220474031, 2447.234283363361, 2702.3327016713374, 2317.1544760778497, 3145.084117654361, 2746.0211585497586, 3919.8031057610315, 3193.7404841792377, 2522.834680411599, 1923.7809468209716, 1994.6706500247255, 2060.0983366867567, 914.7552719886962, 726.6155621377702, 315.5682903934139, 476.5859924147917, 227.6071546040639, 725.4788902065629, 22.814847397830817, 6530.6660935913005, 3758.4697505910244, 2346.8990165972145, 586.6941109498512, 576.2933849968686, 380.48821346418845, 654.5064981095147, 470.59233621243493, 200.459324977317, 792.0051495254329, 640.0750589440904, 2275.023617863736, 2849.934540560894, 2426.445968709854, 2682.6632719683894, 2298.8091062026874, 3128.2971337681647, 2731.037421342881, 3906.855569850475, 3183.0251328261284, 2514.4850207548843, 1917.8451322715919, 1991.094828292421, 2058.7197424084734, 915.3076937661763, 728.7480779486577, 318.87579101744814, 480.6474787548723, 223.1885311939659, 729.9168938956391, 18.612290227032645]\n"
     ]
    }
   ],
   "source": [
    "print(w)"
   ]
  },
  {
   "cell_type": "code",
   "execution_count": 191,
   "id": "cdb74922",
   "metadata": {},
   "outputs": [],
   "source": [
    "data_test=pd.read_csv('covid19test.csv')"
   ]
  },
  {
   "cell_type": "code",
   "execution_count": 192,
   "id": "78933bae",
   "metadata": {},
   "outputs": [
    {
     "data": {
      "text/html": [
       "<div>\n",
       "<style scoped>\n",
       "    .dataframe tbody tr th:only-of-type {\n",
       "        vertical-align: middle;\n",
       "    }\n",
       "\n",
       "    .dataframe tbody tr th {\n",
       "        vertical-align: top;\n",
       "    }\n",
       "\n",
       "    .dataframe thead th {\n",
       "        text-align: right;\n",
       "    }\n",
       "</style>\n",
       "<table border=\"1\" class=\"dataframe\">\n",
       "  <thead>\n",
       "    <tr style=\"text-align: right;\">\n",
       "      <th></th>\n",
       "      <th>32</th>\n",
       "      <th>21</th>\n",
       "      <th>11780</th>\n",
       "    </tr>\n",
       "  </thead>\n",
       "  <tbody>\n",
       "    <tr>\n",
       "      <th>0</th>\n",
       "      <td>33</td>\n",
       "      <td>22</td>\n",
       "      <td>11517</td>\n",
       "    </tr>\n",
       "    <tr>\n",
       "      <th>1</th>\n",
       "      <td>34</td>\n",
       "      <td>23</td>\n",
       "      <td>11737</td>\n",
       "    </tr>\n",
       "    <tr>\n",
       "      <th>2</th>\n",
       "      <td>35</td>\n",
       "      <td>24</td>\n",
       "      <td>11203</td>\n",
       "    </tr>\n",
       "    <tr>\n",
       "      <th>3</th>\n",
       "      <td>36</td>\n",
       "      <td>25</td>\n",
       "      <td>12543</td>\n",
       "    </tr>\n",
       "    <tr>\n",
       "      <th>4</th>\n",
       "      <td>37</td>\n",
       "      <td>26</td>\n",
       "      <td>13053</td>\n",
       "    </tr>\n",
       "  </tbody>\n",
       "</table>\n",
       "</div>"
      ],
      "text/plain": [
       "   32  21  11780\n",
       "0  33  22  11517\n",
       "1  34  23  11737\n",
       "2  35  24  11203\n",
       "3  36  25  12543\n",
       "4  37  26  13053"
      ]
     },
     "execution_count": 192,
     "metadata": {},
     "output_type": "execute_result"
    }
   ],
   "source": [
    "data_test.head()"
   ]
  },
  {
   "cell_type": "code",
   "execution_count": 193,
   "id": "dabd52f9",
   "metadata": {},
   "outputs": [],
   "source": [
    "my_df = pd.DataFrame(data,columns=['radif','Day','Number_of_patients'])"
   ]
  },
  {
   "cell_type": "code",
   "execution_count": 281,
   "id": "fa9dfd05",
   "metadata": {},
   "outputs": [
    {
     "data": {
      "text/html": [
       "<div>\n",
       "<style scoped>\n",
       "    .dataframe tbody tr th:only-of-type {\n",
       "        vertical-align: middle;\n",
       "    }\n",
       "\n",
       "    .dataframe tbody tr th {\n",
       "        vertical-align: top;\n",
       "    }\n",
       "\n",
       "    .dataframe thead th {\n",
       "        text-align: right;\n",
       "    }\n",
       "</style>\n",
       "<table border=\"1\" class=\"dataframe\">\n",
       "  <thead>\n",
       "    <tr style=\"text-align: right;\">\n",
       "      <th></th>\n",
       "      <th>radif</th>\n",
       "      <th>Day</th>\n",
       "      <th>Number_of_patients</th>\n",
       "    </tr>\n",
       "  </thead>\n",
       "  <tbody>\n",
       "    <tr>\n",
       "      <th>0</th>\n",
       "      <td>NaN</td>\n",
       "      <td>NaN</td>\n",
       "      <td>NaN</td>\n",
       "    </tr>\n",
       "    <tr>\n",
       "      <th>1</th>\n",
       "      <td>1.0</td>\n",
       "      <td>20.0</td>\n",
       "      <td>3822.0</td>\n",
       "    </tr>\n",
       "    <tr>\n",
       "      <th>2</th>\n",
       "      <td>2.0</td>\n",
       "      <td>21.0</td>\n",
       "      <td>4206.0</td>\n",
       "    </tr>\n",
       "    <tr>\n",
       "      <th>3</th>\n",
       "      <td>3.0</td>\n",
       "      <td>22.0</td>\n",
       "      <td>4108.0</td>\n",
       "    </tr>\n",
       "    <tr>\n",
       "      <th>4</th>\n",
       "      <td>4.0</td>\n",
       "      <td>23.0</td>\n",
       "      <td>4830.0</td>\n",
       "    </tr>\n",
       "    <tr>\n",
       "      <th>5</th>\n",
       "      <td>5.0</td>\n",
       "      <td>24.0</td>\n",
       "      <td>4616.0</td>\n",
       "    </tr>\n",
       "    <tr>\n",
       "      <th>6</th>\n",
       "      <td>6.0</td>\n",
       "      <td>25.0</td>\n",
       "      <td>4552.0</td>\n",
       "    </tr>\n",
       "    <tr>\n",
       "      <th>7</th>\n",
       "      <td>7.0</td>\n",
       "      <td>26.0</td>\n",
       "      <td>4103.0</td>\n",
       "    </tr>\n",
       "    <tr>\n",
       "      <th>8</th>\n",
       "      <td>8.0</td>\n",
       "      <td>27.0</td>\n",
       "      <td>3890.0</td>\n",
       "    </tr>\n",
       "    <tr>\n",
       "      <th>9</th>\n",
       "      <td>9.0</td>\n",
       "      <td>28.0</td>\n",
       "      <td>4251.0</td>\n",
       "    </tr>\n",
       "    <tr>\n",
       "      <th>10</th>\n",
       "      <td>10.0</td>\n",
       "      <td>29.0</td>\n",
       "      <td>5039.0</td>\n",
       "    </tr>\n",
       "    <tr>\n",
       "      <th>11</th>\n",
       "      <td>11.0</td>\n",
       "      <td>30.0</td>\n",
       "      <td>5616.0</td>\n",
       "    </tr>\n",
       "    <tr>\n",
       "      <th>12</th>\n",
       "      <td>12.0</td>\n",
       "      <td>1.0</td>\n",
       "      <td>5471.0</td>\n",
       "    </tr>\n",
       "    <tr>\n",
       "      <th>13</th>\n",
       "      <td>13.0</td>\n",
       "      <td>2.0</td>\n",
       "      <td>6134.0</td>\n",
       "    </tr>\n",
       "    <tr>\n",
       "      <th>14</th>\n",
       "      <td>14.0</td>\n",
       "      <td>3.0</td>\n",
       "      <td>5814.0</td>\n",
       "    </tr>\n",
       "    <tr>\n",
       "      <th>15</th>\n",
       "      <td>15.0</td>\n",
       "      <td>4.0</td>\n",
       "      <td>6191.0</td>\n",
       "    </tr>\n",
       "    <tr>\n",
       "      <th>16</th>\n",
       "      <td>16.0</td>\n",
       "      <td>5.0</td>\n",
       "      <td>5960.0</td>\n",
       "    </tr>\n",
       "    <tr>\n",
       "      <th>17</th>\n",
       "      <td>17.0</td>\n",
       "      <td>6.0</td>\n",
       "      <td>6968.0</td>\n",
       "    </tr>\n",
       "    <tr>\n",
       "      <th>18</th>\n",
       "      <td>18.0</td>\n",
       "      <td>7.0</td>\n",
       "      <td>6824.0</td>\n",
       "    </tr>\n",
       "    <tr>\n",
       "      <th>19</th>\n",
       "      <td>19.0</td>\n",
       "      <td>8.0</td>\n",
       "      <td>8293.0</td>\n",
       "    </tr>\n",
       "  </tbody>\n",
       "</table>\n",
       "</div>"
      ],
      "text/plain": [
       "    radif   Day  Number_of_patients\n",
       "0     NaN   NaN                 NaN\n",
       "1     1.0  20.0              3822.0\n",
       "2     2.0  21.0              4206.0\n",
       "3     3.0  22.0              4108.0\n",
       "4     4.0  23.0              4830.0\n",
       "5     5.0  24.0              4616.0\n",
       "6     6.0  25.0              4552.0\n",
       "7     7.0  26.0              4103.0\n",
       "8     8.0  27.0              3890.0\n",
       "9     9.0  28.0              4251.0\n",
       "10   10.0  29.0              5039.0\n",
       "11   11.0  30.0              5616.0\n",
       "12   12.0   1.0              5471.0\n",
       "13   13.0   2.0              6134.0\n",
       "14   14.0   3.0              5814.0\n",
       "15   15.0   4.0              6191.0\n",
       "16   16.0   5.0              5960.0\n",
       "17   17.0   6.0              6968.0\n",
       "18   18.0   7.0              6824.0\n",
       "19   19.0   8.0              8293.0"
      ]
     },
     "execution_count": 281,
     "metadata": {},
     "output_type": "execute_result"
    }
   ],
   "source": [
    "my_df.head(20)"
   ]
  },
  {
   "cell_type": "code",
   "execution_count": 225,
   "id": "18372d48",
   "metadata": {},
   "outputs": [],
   "source": [
    "test_dataset=my_df.dropna(axis=0)"
   ]
  },
  {
   "cell_type": "code",
   "execution_count": 226,
   "id": "505c8af7",
   "metadata": {},
   "outputs": [],
   "source": [
    "test_dataset = dataset.astype('int')"
   ]
  },
  {
   "cell_type": "code",
   "execution_count": 227,
   "id": "999ed37d",
   "metadata": {},
   "outputs": [
    {
     "data": {
      "text/html": [
       "<div>\n",
       "<style scoped>\n",
       "    .dataframe tbody tr th:only-of-type {\n",
       "        vertical-align: middle;\n",
       "    }\n",
       "\n",
       "    .dataframe tbody tr th {\n",
       "        vertical-align: top;\n",
       "    }\n",
       "\n",
       "    .dataframe thead th {\n",
       "        text-align: right;\n",
       "    }\n",
       "</style>\n",
       "<table border=\"1\" class=\"dataframe\">\n",
       "  <thead>\n",
       "    <tr style=\"text-align: right;\">\n",
       "      <th></th>\n",
       "      <th>Radif</th>\n",
       "      <th>Day</th>\n",
       "      <th>Number_of_patients</th>\n",
       "    </tr>\n",
       "  </thead>\n",
       "  <tbody>\n",
       "    <tr>\n",
       "      <th>1</th>\n",
       "      <td>1</td>\n",
       "      <td>20</td>\n",
       "      <td>3822</td>\n",
       "    </tr>\n",
       "    <tr>\n",
       "      <th>2</th>\n",
       "      <td>2</td>\n",
       "      <td>21</td>\n",
       "      <td>4206</td>\n",
       "    </tr>\n",
       "    <tr>\n",
       "      <th>3</th>\n",
       "      <td>3</td>\n",
       "      <td>22</td>\n",
       "      <td>4108</td>\n",
       "    </tr>\n",
       "    <tr>\n",
       "      <th>4</th>\n",
       "      <td>4</td>\n",
       "      <td>23</td>\n",
       "      <td>4830</td>\n",
       "    </tr>\n",
       "    <tr>\n",
       "      <th>5</th>\n",
       "      <td>5</td>\n",
       "      <td>24</td>\n",
       "      <td>4616</td>\n",
       "    </tr>\n",
       "  </tbody>\n",
       "</table>\n",
       "</div>"
      ],
      "text/plain": [
       "   Radif  Day  Number_of_patients\n",
       "1      1   20                3822\n",
       "2      2   21                4206\n",
       "3      3   22                4108\n",
       "4      4   23                4830\n",
       "5      5   24                4616"
      ]
     },
     "execution_count": 227,
     "metadata": {},
     "output_type": "execute_result"
    }
   ],
   "source": [
    "test_dataset.head()"
   ]
  },
  {
   "cell_type": "code",
   "execution_count": 228,
   "id": "6cb233ca",
   "metadata": {},
   "outputs": [],
   "source": [
    "X = dataset.iloc[:,1].values\n",
    "T = dataset.iloc[:,-1].values"
   ]
  },
  {
   "cell_type": "code",
   "execution_count": 229,
   "id": "6ccc6d1e",
   "metadata": {},
   "outputs": [],
   "source": [
    "X_train, X_test, T_train, T_test = train_test_split(X, T, test_size = 1/3)"
   ]
  },
  {
   "cell_type": "code",
   "execution_count": 230,
   "id": "70140e9b",
   "metadata": {},
   "outputs": [
    {
     "data": {
      "text/plain": [
       "(20,)"
      ]
     },
     "execution_count": 230,
     "metadata": {},
     "output_type": "execute_result"
    }
   ],
   "source": [
    "X_train.shape"
   ]
  },
  {
   "cell_type": "code",
   "execution_count": 231,
   "id": "1f039a8a",
   "metadata": {},
   "outputs": [],
   "source": [
    "X_train = X_train.reshape(-1,1)\n",
    "X_test = X_test.reshape(-1,1)\n",
    "T_test = T_test.reshape(-1,1)"
   ]
  },
  {
   "cell_type": "code",
   "execution_count": 232,
   "id": "b550242b",
   "metadata": {},
   "outputs": [
    {
     "data": {
      "text/plain": [
       "(20, 1)"
      ]
     },
     "execution_count": 232,
     "metadata": {},
     "output_type": "execute_result"
    }
   ],
   "source": [
    "X_train.shape"
   ]
  },
  {
   "cell_type": "code",
   "execution_count": 233,
   "id": "12adac89",
   "metadata": {},
   "outputs": [
    {
     "data": {
      "image/png": "[encoded data removed]",
      "text/plain": [
       "<Figure size 432x288 with 1 Axes>"
      ]
     },
     "metadata": {
      "needs_background": "light"
     },
     "output_type": "display_data"
    }
   ],
   "source": [
    "plt.scatter(X_train,T_train)\n",
    "plt.xlabel('Day')\n",
    "plt.ylabel('predicted Number_of_patients ')\n",
    "plt.show()"
   ]
  },
  {
   "cell_type": "code",
   "execution_count": 234,
   "id": "d678c4ed",
   "metadata": {},
   "outputs": [],
   "source": [
    "reg_test = LinearRegression()"
   ]
  },
  {
   "cell_type": "code",
   "execution_count": 235,
   "id": "612076f0",
   "metadata": {},
   "outputs": [],
   "source": [
    "my_model =reg_test.fit(X_test,T_test)"
   ]
  },
  {
   "cell_type": "code",
   "execution_count": 236,
   "id": "d725ade5",
   "metadata": {},
   "outputs": [],
   "source": [
    "yhat_test=reg_test.predict(T_test)"
   ]
  },
  {
   "cell_type": "code",
   "execution_count": 237,
   "id": "c966d3fe",
   "metadata": {},
   "outputs": [
    {
     "data": {
      "text/plain": [
       "Text(0, 0.5, 'Number_of_patients')"
      ]
     },
     "execution_count": 237,
     "metadata": {},
     "output_type": "execute_result"
    },
    {
     "data": {
      "image/png": "[encoded data removed]",
      "text/plain": [
       "<Figure size 432x288 with 1 Axes>"
      ]
     },
     "metadata": {
      "needs_background": "light"
     },
     "output_type": "display_data"
    }
   ],
   "source": [
    "plt.scatter(X_test, T_test, color = 'red')\n",
    "plt.plot(X_train , regressor.predict(X_train), color = 'green', lw=0.5)\n",
    "plt.title('covid19')\n",
    "plt.xlabel('Day')\n",
    "plt.ylabel('Number_of_patients')"
   ]
  },
  {
   "cell_type": "code",
   "execution_count": 238,
   "id": "633a69ae",
   "metadata": {},
   "outputs": [],
   "source": [
    "from sklearn.metrics import mean_squared_error"
   ]
  },
  {
   "cell_type": "code",
   "execution_count": 239,
   "id": "a5d4e3fb",
   "metadata": {},
   "outputs": [],
   "source": [
    "y_pred = reg_test.predict(X_test)"
   ]
  },
  {
   "cell_type": "code",
   "execution_count": 272,
   "id": "c08d5ff4",
   "metadata": {},
   "outputs": [
    {
     "data": {
      "text/plain": [
       "3812809.349414256"
      ]
     },
     "execution_count": 272,
     "metadata": {},
     "output_type": "execute_result"
    }
   ],
   "source": [
    "mean_squared_error(T_test,y_pred)"
   ]
  }
 ],
 "metadata": {
  "kernelspec": {
   "display_name": "Python 3",
   "language": "python",
   "name": "python3"
  },
  "language_info": {
   "codemirror_mode": {
    "name": "ipython",
    "version": 3
   },
   "file_extension": ".py",
   "mimetype": "text/x-python",
   "name": "python",
   "nbconvert_exporter": "python",
   "pygments_lexer": "ipython3",
   "version": "3.7.9"
  }
 },
 "nbformat": 4,
 "nbformat_minor": 5
}
